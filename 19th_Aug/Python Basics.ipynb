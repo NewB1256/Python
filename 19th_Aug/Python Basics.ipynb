{
 "cells": [
  {
   "cell_type": "markdown",
   "id": "3c34dffb",
   "metadata": {},
   "source": [
    "TOPIC: Python Basics Variable"
   ]
  },
  {
   "cell_type": "code",
   "execution_count": 1,
   "id": "5cc42e97",
   "metadata": {},
   "outputs": [
    {
     "name": "stdout",
     "output_type": "stream",
     "text": [
      "20 10\n"
     ]
    }
   ],
   "source": [
    "\"\"\"1. Declare two variables, `x` and `y`, and assign them integer values.\n",
    "Swap the values of these variables without using any \n",
    "temporary variable.\"\"\"\n",
    "\n",
    "x = 10\n",
    "y = 20\n",
    "x,y = y,x\n",
    "print(x,y)"
   ]
  },
  {
   "cell_type": "code",
   "execution_count": 2,
   "id": "96a41be1",
   "metadata": {},
   "outputs": [
    {
     "name": "stdout",
     "output_type": "stream",
     "text": [
      "Enter width of the rectangle: 89\n",
      "Enter length of the rectangle: 67\n",
      "Area of rectangle: 5963\n"
     ]
    }
   ],
   "source": [
    "\"\"\"2. Create a program that calculates the area of a rectangle. Take \n",
    "the length and width as inputs from the user and store them in \n",
    "variables. Calculate and display the area.\"\"\"\n",
    "\n",
    "a = int(input(\"Enter width of the rectangle: \"))\n",
    "b = int(input(\"Enter length of the rectangle: \"))\n",
    "c = a*b\n",
    "print(f\"Area of rectangle: {c}\")"
   ]
  },
  {
   "cell_type": "code",
   "execution_count": 3,
   "id": "76cd75ff",
   "metadata": {},
   "outputs": [
    {
     "name": "stdout",
     "output_type": "stream",
     "text": [
      "Enter temperature in Celsius: 127.68\n",
      "127.68 degrees Celsius is equal to 261.824 degrees Fahrenheit\n"
     ]
    }
   ],
   "source": [
    "\"\"\"3. Write a Python program that converts temperatures from Celsius \n",
    "to Fahrenheit. Take the temperature in Celsius as input, store it in a \n",
    "variable, convert it to Fahrenheit, and display the result.\"\"\"\n",
    "\n",
    "\n",
    "celsius = float(input(\"Enter temperature in Celsius: \"))\n",
    "fahrenheit = (celsius * 9/5) + 32\n",
    "print(f\"{celsius} degrees Celsius is equal to {fahrenheit} degrees Fahrenheit\")"
   ]
  },
  {
   "cell_type": "markdown",
   "id": "45653c42",
   "metadata": {},
   "source": [
    "TOPIC: String Based Questions"
   ]
  },
  {
   "cell_type": "code",
   "execution_count": 4,
   "id": "c2f2891b",
   "metadata": {},
   "outputs": [
    {
     "name": "stdout",
     "output_type": "stream",
     "text": [
      "Enter an string: PwSkills\n",
      "The length of the string is 8\n"
     ]
    }
   ],
   "source": [
    "\"\"\"1. Write a Python program that takes a string as input and prints \n",
    "the length of the string.\"\"\"\n",
    "\n",
    "string = input(\"Enter an string: \")\n",
    "print(f\"The length of the string is {len(string)}\")"
   ]
  },
  {
   "cell_type": "code",
   "execution_count": 5,
   "id": "11cb3401",
   "metadata": {},
   "outputs": [
    {
     "name": "stdout",
     "output_type": "stream",
     "text": [
      "Enter a sentence: Hey! It's NewB here.\n",
      "The number of vowels in the sentence is: 5\n"
     ]
    }
   ],
   "source": [
    "\"\"\"2. Create a program that takes a sentence from the user and counts \n",
    "the number of vowels (a, e, i, o, u) in the string.\"\"\"\n",
    "\n",
    "sentence = input(\"Enter a sentence: \")\n",
    "sentence = sentence.lower()\n",
    "vowel = [\"a\",\"e\",\"i\",\"o\",\"u\"]\n",
    "vowel_count = 0\n",
    "for char in sentence:\n",
    "    if char in vowel:\n",
    "        vowel_count += 1\n",
    "\n",
    "print(f\"The number of vowels in the sentence is: {vowel_count}\")"
   ]
  },
  {
   "cell_type": "code",
   "execution_count": 6,
   "id": "41c1e21e",
   "metadata": {},
   "outputs": [
    {
     "name": "stdout",
     "output_type": "stream",
     "text": [
      "Enter a string: Hey! It's NewB here.\n",
      "Reversed string: .ereh BweN s'tI !yeH\n"
     ]
    }
   ],
   "source": [
    "\"\"\"3. Given a string, reverse the order of characters using string \n",
    "slicing and print the reversed string.\"\"\"\n",
    "\n",
    "string = input(\"Enter a string: \")\n",
    "reversed_string = string[::-1]\n",
    "print(\"Reversed string:\", reversed_string)"
   ]
  },
  {
   "cell_type": "code",
   "execution_count": 7,
   "id": "07558136",
   "metadata": {},
   "outputs": [
    {
     "name": "stdout",
     "output_type": "stream",
     "text": [
      "Enter a string: Malayalam\n",
      "The input string is a palindrome.\n"
     ]
    }
   ],
   "source": [
    "\"\"\"4. Write a program that takes a string as input and checks \n",
    "if it is a palindrome (reads the same forwards and backwards).\"\"\"\n",
    "\n",
    "string = input(\"Enter a string: \")\n",
    "str = string.lower()\n",
    "reversed_string = str[::-1]\n",
    "if str == reversed_string:\n",
    "    print(\"The input string is a palindrome.\")\n",
    "else:\n",
    "    print(\"The input string is not a palindrome.\")"
   ]
  },
  {
   "cell_type": "code",
   "execution_count": 8,
   "id": "7c14c1fa",
   "metadata": {},
   "outputs": [
    {
     "name": "stdout",
     "output_type": "stream",
     "text": [
      "Enter a string: Hey! It's NewB here.\n",
      "Modified string: Hey!It'sNewBhere.\n"
     ]
    }
   ],
   "source": [
    "\"\"\"5. Create a program that takes a string as input and removes all \n",
    "the spaces from it. Print the modified string without spaces.\"\"\"\n",
    "\n",
    "input_string = input(\"Enter a string: \")\n",
    "modified_string = input_string.replace(\" \", \"\")\n",
    "print(\"Modified string:\", modified_string)"
   ]
  }
 ],
 "metadata": {
  "kernelspec": {
   "display_name": "Python 3 (ipykernel)",
   "language": "python",
   "name": "python3"
  },
  "language_info": {
   "codemirror_mode": {
    "name": "ipython",
    "version": 3
   },
   "file_extension": ".py",
   "mimetype": "text/x-python",
   "name": "python",
   "nbconvert_exporter": "python",
   "pygments_lexer": "ipython3",
   "version": "3.11.4"
  }
 },
 "nbformat": 4,
 "nbformat_minor": 5
}
