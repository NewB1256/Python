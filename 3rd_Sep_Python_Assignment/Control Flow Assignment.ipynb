{
 "cells": [
  {
   "cell_type": "markdown",
   "id": "39a41c1d",
   "metadata": {},
   "source": [
    "Basic If-Else Statements:"
   ]
  },
  {
   "cell_type": "code",
   "execution_count": 1,
   "id": "5932d9b5",
   "metadata": {},
   "outputs": [
    {
     "name": "stdout",
     "output_type": "stream",
     "text": [
      "Enter a number: 34\n",
      "It's Positive Number\n"
     ]
    }
   ],
   "source": [
    "# 1. Write a Python program to check if a given number is positive or negative.\n",
    "\n",
    "n = int(input(\"Enter a number: \"))\n",
    "if n>=0:\n",
    "    print(\"It's Positive Number\")\n",
    "else:\n",
    "    print(\"It's Negative Number\")"
   ]
  },
  {
   "cell_type": "code",
   "execution_count": 2,
   "id": "e04f9e04",
   "metadata": {},
   "outputs": [
    {
     "name": "stdout",
     "output_type": "stream",
     "text": [
      "Enter your age: 25\n",
      "Your Eligible to vote\n"
     ]
    }
   ],
   "source": [
    "# 2. Create a program that determines if a person is eligible to vote based on their age.\n",
    "\n",
    "n = int(input(\"Enter your age: \"))\n",
    "if n>=18:\n",
    "    print(\"Your Eligible to vote\")\n",
    "else:\n",
    "    print(\"Your not Eligible to vote\")"
   ]
  },
  {
   "cell_type": "code",
   "execution_count": 3,
   "id": "e5656ad3",
   "metadata": {},
   "outputs": [
    {
     "name": "stdout",
     "output_type": "stream",
     "text": [
      "Enter first number: 23\n",
      "Enter second number: 45\n",
      "45 is the largest number\n"
     ]
    }
   ],
   "source": [
    "# 3. Develop a program to find the maximum of two numbers using if-else statements.\n",
    "\n",
    "x = int(input(\"Enter first number: \"))\n",
    "y = int(input(\"Enter second number: \"))\n",
    "if x>y:\n",
    "    print(f\"{x} is the largest number\")\n",
    "else:\n",
    "    print(f\"{y} is the largest number\")"
   ]
  },
  {
   "cell_type": "code",
   "execution_count": 4,
   "id": "f680e290",
   "metadata": {},
   "outputs": [
    {
     "name": "stdout",
     "output_type": "stream",
     "text": [
      "Enter year to check: 2004\n",
      "2004 is a leap year\n"
     ]
    }
   ],
   "source": [
    "# 4. Write a Python script to classify a given year as a leap year or not.\n",
    "\n",
    "year = int(input(\"Enter year to check: \"))\n",
    "if ((year % 400 == 0) and (year % 100 == 0)) or ((year % 4 ==0) and (year % 100 != 0)):\n",
    "    print(\"{} is a leap year\".format(year))\n",
    "\n",
    "else: \n",
    "    print(\"{} is not a leap year\".format(year))"
   ]
  },
  {
   "cell_type": "code",
   "execution_count": 5,
   "id": "e22da625",
   "metadata": {},
   "outputs": [
    {
     "name": "stdout",
     "output_type": "stream",
     "text": [
      "Enter a character: Hello! BrO\n",
      "hello! bro is a consonant\n"
     ]
    }
   ],
   "source": [
    "# 5. Create a program that checks whether a character is a vowel or a consonant.\n",
    "\n",
    "vow = [\"a\",\"e\",\"i\",\"o\",\"u\"]\n",
    "char = input(\"Enter a character: \").lower()\n",
    "if char in vow:\n",
    "    print(f\"{char} is a vowel\")\n",
    "else:\n",
    "    print(f\"{char} is a consonant\")"
   ]
  },
  {
   "cell_type": "code",
   "execution_count": 6,
   "id": "d3efa737",
   "metadata": {},
   "outputs": [
    {
     "name": "stdout",
     "output_type": "stream",
     "text": [
      "Enter a number: 34\n",
      "34 is a even number\n"
     ]
    }
   ],
   "source": [
    "# 6. Implement a program to determine whether a given number is even or odd.\n",
    "\n",
    "x = int(input(\"Enter a number: \"))\n",
    "\n",
    "if x%2==0:\n",
    "    print(f\"{x} is a even number\")\n",
    "else:\n",
    "    print(f\"{y} is a odd number\")"
   ]
  },
  {
   "cell_type": "code",
   "execution_count": 7,
   "id": "4a663db9",
   "metadata": {},
   "outputs": [
    {
     "name": "stdout",
     "output_type": "stream",
     "text": [
      "Enter a number: 45\n",
      "The absolute value of 45 is 45\n"
     ]
    }
   ],
   "source": [
    "# 7. Write a Python function to calculate the absolute value of a number without using the `abs()` function.\n",
    "\n",
    "x = int(input(\"Enter a number: \"))\n",
    "\n",
    "if x >= 0:\n",
    "    abs_value = x\n",
    "else:\n",
    "    abs_value = -x\n",
    "\n",
    "print(f\"The absolute value of {x} is {abs_value}\")"
   ]
  },
  {
   "cell_type": "code",
   "execution_count": 8,
   "id": "fd6c0c60",
   "metadata": {},
   "outputs": [
    {
     "name": "stdout",
     "output_type": "stream",
     "text": [
      "Enter first number: 34\n",
      "Enter second number: 55\n",
      "Enter third number: 67\n",
      "67 is the largest number\n"
     ]
    }
   ],
   "source": [
    "# 8. Develop a program that determines the largest of three given numbers using if-else statements.\n",
    "\n",
    "x = int(input(\"Enter first number: \"))\n",
    "y = int(input(\"Enter second number: \"))\n",
    "z = int (input(\"Enter third number: \"))\n",
    "if x>y and x>z:\n",
    "    print(f\"{x} is the largest number\")\n",
    "    \n",
    "else:\n",
    "    if y>x and y>z:\n",
    "        print(f\"{y} is the largest number\")\n",
    "    else:\n",
    "        print(f\"{z} is the largest number\")"
   ]
  },
  {
   "cell_type": "code",
   "execution_count": 9,
   "id": "9919f2bd",
   "metadata": {},
   "outputs": [
    {
     "name": "stdout",
     "output_type": "stream",
     "text": [
      "Enter an string: PwSkills\n",
      "pwskills is not a palindrome\n"
     ]
    }
   ],
   "source": [
    "# 9. Create a program that checks if a given string is a palindrome.\n",
    "\n",
    "strr = input(\"Enter an string: \").lower()\n",
    "if strr[::-1] == strr:\n",
    "    print(f\"{strr} is a palindrome\")\n",
    "else:\n",
    "    print(f\"{strr} is not a palindrome\")"
   ]
  },
  {
   "cell_type": "code",
   "execution_count": 10,
   "id": "d3b8ac37",
   "metadata": {},
   "outputs": [
    {
     "name": "stdout",
     "output_type": "stream",
     "text": [
      "Enter the student's score: 87.34\n",
      "The student's grade is: B\n"
     ]
    }
   ],
   "source": [
    "# 10. Write a Python program to calculate the grade based on a student's score.\n",
    "\n",
    "score = float(input(\"Enter the student's score: \"))\n",
    "\n",
    "if 90 <= score <= 100:\n",
    "    grade = \"A\"\n",
    "if 80 <= score < 90:\n",
    "    grade = \"B\"\n",
    "if 70 <= score < 80:\n",
    "    grade = \"C\"\n",
    "if 60 <= score < 70:\n",
    "    grade = \"D\"\n",
    "if 0 <= score < 60:\n",
    "    grade = \"F\"\n",
    "if score < 0:\n",
    "    grade = \"Invalid score (score should be between 0 and 100)\"\n",
    "\n",
    "print(f\"The student's grade is: {grade}\")"
   ]
  },
  {
   "cell_type": "markdown",
   "id": "e1f8bd35",
   "metadata": {},
   "source": [
    "Nested If-Else Statements:"
   ]
  },
  {
   "cell_type": "code",
   "execution_count": 11,
   "id": "0d2409a6",
   "metadata": {},
   "outputs": [
    {
     "name": "stdout",
     "output_type": "stream",
     "text": [
      "Enter first number: 34\n",
      "Enter second number: 56\n",
      "Enter third number: 74\n",
      "74 is the largest number\n"
     ]
    }
   ],
   "source": [
    "# 11. Write a program to find the largest among three numbers using nested if-else statements.\n",
    "\n",
    "x = int(input(\"Enter first number: \"))\n",
    "y = int(input(\"Enter second number: \"))\n",
    "z = int (input(\"Enter third number: \"))\n",
    "\n",
    "if x>y and x>z:\n",
    "    print(f\"{x} is the largest number\")\n",
    "if y>x and y>z:\n",
    "    print(f\"{y} is the largest number\")\n",
    "else:\n",
    "    print(f\"{z} is the largest number\")"
   ]
  },
  {
   "cell_type": "code",
   "execution_count": 12,
   "id": "fb81ff0b",
   "metadata": {},
   "outputs": [
    {
     "name": "stdout",
     "output_type": "stream",
     "text": [
      "Enter the length of the first side: 23.5\n",
      "Enter the length of the second side: 65.78\n",
      "Enter the length of the third side: 87.23\n",
      "The triangle with side lengths 23.5, 65.78, and 87.23 is a Scalene triangle.\n"
     ]
    }
   ],
   "source": [
    "# 12. Implement a program to determine if a triangle is equilateral, isosceles, or scalene.\n",
    "\n",
    "side1 = float(input(\"Enter the length of the first side: \"))\n",
    "side2 = float(input(\"Enter the length of the second side: \"))\n",
    "side3 = float(input(\"Enter the length of the third side: \"))\n",
    "\n",
    "if side1 == side2 == side3:\n",
    "    triangle_type = \"Equilateral\"\n",
    "if side1 == side2 or side1 == side3 or side2 == side3:\n",
    "    triangle_type = \"Isosceles\"\n",
    "else:\n",
    "    triangle_type = \"Scalene\"\n",
    "    \n",
    "print(f\"The triangle with side lengths {side1}, {side2}, and {side3} is a {triangle_type} triangle.\")"
   ]
  },
  {
   "cell_type": "code",
   "execution_count": 13,
   "id": "0313dfc4",
   "metadata": {},
   "outputs": [
    {
     "name": "stdout",
     "output_type": "stream",
     "text": [
      "Enter year to check: 2004\n",
      "2004 is a leap year\n",
      "it's is not a century year!\n"
     ]
    }
   ],
   "source": [
    "# 13. Develop a program that checks if a year is a leap year and also if it is a century year.\n",
    "\n",
    "year = int(input(\"Enter year to check: \"))\n",
    "if (year % 400 == 0) and (year % 100 == 0):\n",
    "    print(\"{} is a leap year\".format(year))\n",
    "\n",
    "if (year % 4 ==0) and (year % 100 != 0):\n",
    "    print(\"{} is a leap year\".format(year))\n",
    "    \n",
    "else:\n",
    "    print(\"{} is not a leap year\".format(year))\n",
    "    \n",
    "if year % 100 == 0:\n",
    "    print(f\"it's an century year too\")\n",
    "    \n",
    "else:\n",
    "    print(f\"it's is not a century year!\")\n",
    "    "
   ]
  },
  {
   "cell_type": "code",
   "execution_count": 14,
   "id": "12e6abc5",
   "metadata": {},
   "outputs": [
    {
     "name": "stdout",
     "output_type": "stream",
     "text": [
      "Enter a number: 4567\n",
      "It's Positive Number\n",
      "It's Negative Number\n"
     ]
    }
   ],
   "source": [
    "# 14. Write a Python script to determine if a number is positive, negative, or zero.\n",
    "\n",
    "n = int(input(\"Enter a number: \"))\n",
    "if n>0:\n",
    "    print(\"It's Positive Number\")\n",
    "if n==0:\n",
    "    print(\"It's ZERO!\")\n",
    "else:\n",
    "    print(\"It's Negative Number\")"
   ]
  },
  {
   "cell_type": "code",
   "execution_count": 15,
   "id": "027d788c",
   "metadata": {},
   "outputs": [
    {
     "name": "stdout",
     "output_type": "stream",
     "text": [
      "Enter your age: 24\n",
      "Your not a teenager\n"
     ]
    }
   ],
   "source": [
    "# 15. Create a program to check if a person is a teenager (between 13 and 19 years old).\n",
    "\n",
    "n = int(input(\"Enter your age: \"))\n",
    "if n>=13 and n<=19:\n",
    "    print(\"Your a teenager\")\n",
    "else:\n",
    "    print(\"Your not a teenager\")"
   ]
  },
  {
   "cell_type": "code",
   "execution_count": 16,
   "id": "2a295c8e",
   "metadata": {},
   "outputs": [
    {
     "name": "stdout",
     "output_type": "stream",
     "text": [
      "Enter the angle measure in degrees: 54.78\n",
      "The angle with a measure of 54.78 degrees is a Obtuse angle.\n"
     ]
    }
   ],
   "source": [
    "# 16. Develop a program that determines the type of angle based on its measure (acute, obtuse, or right).\n",
    "\n",
    "angle_measure = float(input(\"Enter the angle measure in degrees: \"))\n",
    "\n",
    "if angle_measure < 90:\n",
    "    angle_type = \"Acute\"\n",
    "if angle_measure == 90:\n",
    "    angle_type = \"Right\"\n",
    "else:\n",
    "    angle_type = \"Obtuse\"\n",
    "\n",
    "print(f\"The angle with a measure of {angle_measure} degrees is a {angle_type} angle.\")"
   ]
  },
  {
   "cell_type": "code",
   "execution_count": 17,
   "id": "54cda7ff",
   "metadata": {},
   "outputs": [
    {
     "name": "stdout",
     "output_type": "stream",
     "text": [
      "Enter the coefficient a: 1\n",
      "Enter the coefficient b: 2\n",
      "Enter the coefficient c: 3\n",
      "The roots are complex: -1.0 + 1.4142135623730951i and -1.0 - 1.4142135623730951i\n"
     ]
    }
   ],
   "source": [
    "# 17. Write a Python program to calculate the roots of a quadratic equation.\n",
    "\n",
    "import math\n",
    "\n",
    "a = float(input(\"Enter the coefficient a: \"))\n",
    "b = float(input(\"Enter the coefficient b: \"))\n",
    "c = float(input(\"Enter the coefficient c: \"))\n",
    "\n",
    "discriminant = b**2 - 4*a*c\n",
    "\n",
    "if discriminant > 0:\n",
    "    root1 = (-b + math.sqrt(discriminant)) / (2*a)\n",
    "    root2 = (-b - math.sqrt(discriminant)) / (2*a)\n",
    "    print(f\"The roots are real and distinct: {root1} and {root2}\")\n",
    "    \n",
    "if discriminant == 0:\n",
    "    root1 = -b / (2*a)\n",
    "    print(f\"There is one real root (repeated root): {root1}\")\n",
    "    \n",
    "else:\n",
    "    real_part = -b / (2*a)\n",
    "    imaginary_part = math.sqrt(abs(discriminant)) / (2*a)\n",
    "    print(f\"The roots are complex: {real_part} + {imaginary_part}i and {real_part} - {imaginary_part}i\")"
   ]
  },
  {
   "cell_type": "code",
   "execution_count": 18,
   "id": "571a656b",
   "metadata": {},
   "outputs": [
    {
     "name": "stdout",
     "output_type": "stream",
     "text": [
      "Enter a number: 8\n",
      "Invalid input. Please enter a number between 1 and 7.\n"
     ]
    }
   ],
   "source": [
    "# 18. Implement a program to determine the day of the week based on a user-provided number (1 for Monday, 2 for Tuesday, etc.).\n",
    "\n",
    "n = int(input(\"Enter a number: \"))\n",
    "days_of_week = [\"Monday\", \"Tuesday\", \"Wednesday\", \"Thursday\", \"Friday\", \"Saturday\", \"Sunday\"]\n",
    "\n",
    "if n>=1 and n<=7:\n",
    "    day = days_of_week[n - 1]\n",
    "    print(f\"The day of the week for number {n} is {day}.\")\n",
    "else:\n",
    "    print(\"Invalid input. Please enter a number between 1 and 7.\")"
   ]
  },
  {
   "cell_type": "code",
   "execution_count": 19,
   "id": "a4f86819",
   "metadata": {},
   "outputs": [
    {
     "name": "stdout",
     "output_type": "stream",
     "text": [
      "Enter year to check: 2000\n",
      "2000 is a leap year\n",
      "2000 is not a leap year\n",
      "It's is evenly divisible by 400\n"
     ]
    }
   ],
   "source": [
    "# 19. Create a program that determines if a year is a leap year and also if it is evenly divisible by 400.\n",
    "\n",
    "year = int(input(\"Enter year to check: \"))\n",
    "if (year % 400 == 0) and (year % 100 == 0):\n",
    "    print(\"{} is a leap year\".format(year))\n",
    "\n",
    "if (year % 4 ==0) and (year % 100 != 0):\n",
    "    print(\"{} is a leap year\".format(year))\n",
    "    \n",
    "else:\n",
    "    print(\"{} is not a leap year\".format(year))\n",
    "    \n",
    "if year % 100 == 0:\n",
    "    print(f\"It's is evenly divisible by 400\")\n",
    "    \n",
    "else:\n",
    "    print(f\"It's is not evenly divisible by 400\")"
   ]
  },
  {
   "cell_type": "code",
   "execution_count": 20,
   "id": "e1d5563b",
   "metadata": {},
   "outputs": [
    {
     "name": "stdout",
     "output_type": "stream",
     "text": [
      "Enter a number: 329\n",
      "329 is not a prime number\n"
     ]
    }
   ],
   "source": [
    "# 20. Develop a program that checks if a given number is prime or not using nested if-else statements.\n",
    "\n",
    "num = int(input(\"Enter a number: \"))\n",
    "\n",
    "if num == 1:\n",
    "    print(num, \"is not a prime number\")\n",
    "if num > 1:\n",
    "    for i in range(2,num):\n",
    "        if (num % i) == 0:\n",
    "            print(num,\"is not a prime number\")\n",
    "            break\n",
    "    else:\n",
    "        print(num,\"is a prime number\")\n",
    "\n",
    "else:\n",
    "    print(num,\"is not a prime number\")"
   ]
  },
  {
   "cell_type": "markdown",
   "id": "e1bd3aa2",
   "metadata": {},
   "source": [
    "Elif Statements:"
   ]
  },
  {
   "cell_type": "code",
   "execution_count": 21,
   "id": "f1b62163",
   "metadata": {},
   "outputs": [
    {
     "name": "stdout",
     "output_type": "stream",
     "text": [
      "Enter the student's score: 67.84\n",
      "The student's grade is: D\n"
     ]
    }
   ],
   "source": [
    "# 21. Write a Python program to assign grades based on different ranges of scores using elif statements.\n",
    "\n",
    "score = float(input(\"Enter the student's score: \"))\n",
    "\n",
    "if 90 <= score <= 100:\n",
    "    grade = \"A\"\n",
    "elif 80 <= score < 90:\n",
    "    grade = \"B\"\n",
    "elif 70 <= score < 80:\n",
    "    grade = \"C\"\n",
    "elif 60 <= score < 70:\n",
    "    grade = \"D\"\n",
    "elif 0 <= score < 60:\n",
    "    grade = \"F\"\n",
    "else:\n",
    "    grade = \"Invalid score (score should be between 0 and 100)\"\n",
    "\n",
    "print(f\"The student's grade is: {grade}\")"
   ]
  },
  {
   "cell_type": "code",
   "execution_count": 22,
   "id": "f8e85dca",
   "metadata": {},
   "outputs": [
    {
     "name": "stdout",
     "output_type": "stream",
     "text": [
      "Enter the first angle in degrees: 34.6\n",
      "Enter the second angle in degrees: 76.2\n",
      "Enter the third angle in degrees: 56.4\n",
      "\n",
      "The triangle with angles 34.6, 76.2, and 56.4 is a Invalid (angles do not add up to 180 degrees) triangle.\n"
     ]
    }
   ],
   "source": [
    "# 22. Implement a program to determine the type of a triangle based on its angles.\n",
    "\n",
    "angle1 = float(input(\"Enter the first angle in degrees: \"))\n",
    "angle2 = float(input(\"Enter the second angle in degrees: \"))\n",
    "angle3 = float(input(\"Enter the third angle in degrees: \"))\n",
    "\n",
    "if angle1 + angle2 + angle3 == 180:\n",
    "    if angle1 < 90 and angle2 < 90 and angle3 < 90:\n",
    "        triangle_type = \"Acute\"\n",
    "    elif angle1 == 90 or angle2 == 90 or angle3 == 90:\n",
    "        triangle_type = \"Right\"\n",
    "    else:\n",
    "        triangle_type = \"Obtuse\"\n",
    "else:\n",
    "    triangle_type = \"Invalid (angles do not add up to 180 degrees)\"\n",
    "\n",
    "print(f\"\\nThe triangle with angles {angle1}, {angle2}, and {angle3} is a {triangle_type} triangle.\")"
   ]
  },
  {
   "cell_type": "code",
   "execution_count": 23,
   "id": "d3bf3983",
   "metadata": {},
   "outputs": [
    {
     "name": "stdout",
     "output_type": "stream",
     "text": [
      "Enter your height (in cm): 178\n",
      "Enter your weight (in kg): 94\n",
      "Your BMI is 29.667971215755585, which falls into the category of Overweight.\n"
     ]
    }
   ],
   "source": [
    "# 23. Develop a program to categorize a given person's BMI into underweight, normal, overweight, or obese using elif statements.\n",
    "\n",
    "height = float(input(\"Enter your height (in cm): \"))\n",
    "weight = float(input(\"Enter your weight (in kg): \"))\n",
    "\n",
    "bmi = weight / (height/100) ** 2\n",
    "\n",
    "if bmi < 18.5:\n",
    "    category = \"Underweight\"\n",
    "elif 18.5 <= bmi < 24.9:\n",
    "    category = \"Normal Weight\"\n",
    "elif 25 <= bmi < 29.9:\n",
    "    category = \"Overweight\"\n",
    "else:\n",
    "    category = \"Obese\"\n",
    "\n",
    "print(f\"Your BMI is {bmi}, which falls into the category of {category}.\")"
   ]
  },
  {
   "cell_type": "code",
   "execution_count": 24,
   "id": "dfd49937",
   "metadata": {},
   "outputs": [
    {
     "name": "stdout",
     "output_type": "stream",
     "text": [
      "Enter first number: 23\n",
      "Enter second number: 67\n",
      "Enter third number: 83\n",
      "83 is the largest number\n"
     ]
    }
   ],
   "source": [
    "# 24. Create a program that determines whether a given number is positive, negative, or zero using elif statements.\n",
    "\n",
    "x = int(input(\"Enter first number: \"))\n",
    "y = int(input(\"Enter second number: \"))\n",
    "z = int (input(\"Enter third number: \"))\n",
    "\n",
    "if x>y and x>z:\n",
    "    print(f\"{x} is the largest number\")\n",
    "elif y>x and y>z:\n",
    "    print(f\"{y} is the largest number\")\n",
    "else:\n",
    "    print(f\"{z} is the largest number\")"
   ]
  },
  {
   "cell_type": "code",
   "execution_count": 25,
   "id": "d933f938",
   "metadata": {},
   "outputs": [
    {
     "name": "stdout",
     "output_type": "stream",
     "text": [
      "Enter a character: B\n",
      "The character 'B' is a Uppercase character.\n"
     ]
    }
   ],
   "source": [
    "# 25. Write a Python script to determine the type of a character (uppercase, lowercase, or special) using elif statements.\n",
    "\n",
    "char = input(\"Enter a character: \")\n",
    "\n",
    "if char.isalpha():\n",
    "    if char.isupper():\n",
    "        char_type = \"Uppercase\"\n",
    "    else:\n",
    "        char_type = \"Lowercase\"\n",
    "else:\n",
    "    char_type = \"Special\"\n",
    "\n",
    "print(f\"The character '{char}' is a {char_type} character.\")"
   ]
  },
  {
   "cell_type": "code",
   "execution_count": 26,
   "id": "c1466e45",
   "metadata": {},
   "outputs": [
    {
     "name": "stdout",
     "output_type": "stream",
     "text": [
      "Enter the purchase amount: 3499\n",
      "Purchase Amount: $3499.00\n",
      "Discount Percentage: 15.0%\n",
      "Discounted Price: $2974.15\n"
     ]
    }
   ],
   "source": [
    "# 26. Implement a program to calculate the discounted price based on different purchase amounts using elif statements.\n",
    "\n",
    "purchase_amount = float(input(\"Enter the purchase amount: \"))\n",
    "\n",
    "if purchase_amount < 50:\n",
    "    discount = 0  \n",
    "elif purchase_amount < 100:\n",
    "    discount = 0.05  \n",
    "    discount = 0.1 \n",
    "else:\n",
    "    discount = 0.15 \n",
    "\n",
    "discounted_price = purchase_amount - (purchase_amount * discount)\n",
    "\n",
    "print(f\"Purchase Amount: ${purchase_amount:.2f}\")\n",
    "print(f\"Discount Percentage: {discount * 100}%\")\n",
    "print(f\"Discounted Price: ${discounted_price:.2f}\")"
   ]
  },
  {
   "cell_type": "code",
   "execution_count": 27,
   "id": "f8df2dd2",
   "metadata": {},
   "outputs": [
    {
     "name": "stdout",
     "output_type": "stream",
     "text": [
      "Enter your electricity consumption in kWh: 2340\n",
      "Electricity Consumption: 2340.0 kWh\n",
      "Electricity Bill: $355.00\n"
     ]
    }
   ],
   "source": [
    "# 27. Develop a program to calculate the electricity bill based on different consumption slabs using elif statements.\n",
    "\n",
    "consumption = float(input(\"Enter your electricity consumption in kWh: \"))\n",
    "\n",
    "slab1_limit = 100  # kWh\n",
    "slab1_rate = 0.1   # $ per kWh for the first 100 kWh\n",
    "slab2_limit = 200  # kWh\n",
    "slab2_rate = 0.12  # $ per kWh for the next 100 kWh\n",
    "slab3_rate = 0.15  # $ per kWh for anything beyond 200 kWh\n",
    "\n",
    "if consumption <= slab1_limit:\n",
    "    bill = consumption * slab1_rate\n",
    "elif consumption <= slab2_limit:\n",
    "    bill = (slab1_limit * slab1_rate) + ((consumption - slab1_limit) * slab2_rate)\n",
    "else:\n",
    "    bill = (slab1_limit * slab1_rate) + (slab2_limit * slab2_rate) + ((consumption - slab2_limit) * slab3_rate)\n",
    "\n",
    "print(f\"Electricity Consumption: {consumption} kWh\")\n",
    "print(f\"Electricity Bill: ${bill:.2f}\")"
   ]
  },
  {
   "cell_type": "code",
   "execution_count": 28,
   "id": "d1abaa49",
   "metadata": {},
   "outputs": [
    {
     "name": "stdout",
     "output_type": "stream",
     "text": [
      "Enter the length of side 1: 45.7\n",
      "Enter the length of side 2: 65.0\n",
      "Enter the length of side 3: 23.1\n",
      "Enter the length of side 4: 45.7\n",
      "Enter the measure of angle 1 in degrees: 34\n",
      "Enter the measure of angle 2 in degrees: 78\n",
      "Enter the measure of angle 3 in degrees: 90\n",
      "Enter the measure of angle 4 in degrees: 90\n",
      "The quadrilateral is a Quadrilateral.\n"
     ]
    }
   ],
   "source": [
    "# 28. Create a program to determine the type of quadrilateral based on its angles and sides using elif statements.\n",
    "\n",
    "side1 = float(input(\"Enter the length of side 1: \"))\n",
    "side2 = float(input(\"Enter the length of side 2: \"))\n",
    "side3 = float(input(\"Enter the length of side 3: \"))\n",
    "side4 = float(input(\"Enter the length of side 4: \"))\n",
    "\n",
    "angle1 = float(input(\"Enter the measure of angle 1 in degrees: \"))\n",
    "angle2 = float(input(\"Enter the measure of angle 2 in degrees: \"))\n",
    "angle3 = float(input(\"Enter the measure of angle 3 in degrees: \"))\n",
    "angle4 = float(input(\"Enter the measure of angle 4 in degrees: \"))\n",
    "\n",
    "if (angle1 == angle2 == angle3 == angle4 == 90) and (side1 == side2 == side3 == side4):\n",
    "    quadrilateral_type = \"Square\"\n",
    "elif (angle1 == angle2 == angle3 == angle4 == 90):\n",
    "    quadrilateral_type = \"Rectangle\"\n",
    "elif (angle1 == angle3) and (angle2 == angle4) and (side1 == side3) and (side2 == side4):\n",
    "    quadrilateral_type = \"Rhombus\"\n",
    "elif (angle1 == angle2 == angle3 == angle4) and (side1 != side2 != side3 != side4):\n",
    "    quadrilateral_type = \"Kite\"\n",
    "else:\n",
    "    quadrilateral_type = \"Quadrilateral\"\n",
    "\n",
    "print(f\"The quadrilateral is a {quadrilateral_type}.\")"
   ]
  },
  {
   "cell_type": "code",
   "execution_count": 29,
   "id": "39a7b3be",
   "metadata": {},
   "outputs": [
    {
     "name": "stdout",
     "output_type": "stream",
     "text": [
      "Enter a month (1-12): 3\n",
      "The season for month 3 is Spring.\n"
     ]
    }
   ],
   "source": [
    "# 29. Write a Python script to determine the season based on a user-provided month using elif statements.\n",
    "\n",
    "month = int(input(\"Enter a month (1-12): \"))\n",
    "\n",
    "if month >= 3 and month <= 5:\n",
    "    season = \"Spring\"\n",
    "elif month >= 6 and month <= 8:\n",
    "    season = \"Summer\"\n",
    "elif month >= 9 and month <= 11:\n",
    "    season = \"Autumn\"\n",
    "else:\n",
    "    season = \"Winter\"\n",
    "\n",
    "# Display the result\n",
    "print(f\"The season for month {month} is {season}.\")\n"
   ]
  },
  {
   "cell_type": "code",
   "execution_count": 30,
   "id": "f4645825",
   "metadata": {
    "scrolled": true
   },
   "outputs": [
    {
     "name": "stdout",
     "output_type": "stream",
     "text": [
      "Enter a year: 2000\n",
      "Enter a month (1-12): 3\n",
      "2000 is a leap year.\n",
      "The month 3 has 31 days.\n"
     ]
    }
   ],
   "source": [
    "# 30. Implement a program to determine the type of a year (leap or common) and month (30 or 31 days) using elif statements.\n",
    "\n",
    "year = int(input(\"Enter a year: \"))\n",
    "month = int(input(\"Enter a month (1-12): \"))\n",
    "\n",
    "is_leap_year = (year % 4 == 0 and year % 100 != 0) or (year % 400 == 0)\n",
    "\n",
    "if month == 2:\n",
    "    if is_leap_year:\n",
    "        days_in_month = 29\n",
    "    else:\n",
    "        days_in_month = 28\n",
    "elif month in [4, 6, 9, 11]:\n",
    "    days_in_month = 30\n",
    "else:\n",
    "    days_in_month = 31\n",
    "\n",
    "if is_leap_year:\n",
    "    print(f\"{year} is a leap year.\")\n",
    "else:\n",
    "    print(f\"{year} is not a leap year.\")\n",
    "\n",
    "if days_in_month == 30:\n",
    "    print(f\"The month {month} has 30 days.\")\n",
    "elif days_in_month == 31:\n",
    "    print(f\"The month {month} has 31 days.\")\n",
    "else:\n",
    "    print(f\"The month {month} has {days_in_month} days.\")"
   ]
  },
  {
   "cell_type": "raw",
   "id": "9912e828",
   "metadata": {},
   "source": [
    "Basic Level:"
   ]
  },
  {
   "cell_type": "code",
   "execution_count": 31,
   "id": "cb023dcb",
   "metadata": {},
   "outputs": [
    {
     "name": "stdout",
     "output_type": "stream",
     "text": [
      "Enter a number: 67\n",
      "It's Positive Number\n"
     ]
    }
   ],
   "source": [
    "# 1. Write a Python program that checks if a given number is positive, negative, or zero.\n",
    "\n",
    "n = int(input(\"Enter a number: \"))\n",
    "if n>0:\n",
    "    print(\"It's Positive Number\")\n",
    "elif n==0:\n",
    "    print(\"It's ZERO!\")\n",
    "else:\n",
    "    print(\"It's Negative Number\")"
   ]
  },
  {
   "cell_type": "code",
   "execution_count": 32,
   "id": "f9bc6ace",
   "metadata": {},
   "outputs": [
    {
     "name": "stdout",
     "output_type": "stream",
     "text": [
      "Enter your age: 19\n",
      "Your Eligible to vote\n"
     ]
    }
   ],
   "source": [
    "# 2. Create a program to determine if a person is eligible to vote based on their age.\n",
    "\n",
    "n = int(input(\"Enter your age: \"))\n",
    "if n>=18:\n",
    "    print(\"Your Eligible to vote\")\n",
    "else:\n",
    "    print(\"Your not Eligible to vote\")"
   ]
  },
  {
   "cell_type": "code",
   "execution_count": 33,
   "id": "32e6801d",
   "metadata": {},
   "outputs": [
    {
     "name": "stdout",
     "output_type": "stream",
     "text": [
      "Enter first number: 34\n",
      "Enter second number: 79\n",
      "79 is the largest number\n"
     ]
    }
   ],
   "source": [
    "# 3. Write a program to find the maximum of two given numbers using conditional statements.\n",
    "\n",
    "x = int(input(\"Enter first number: \"))\n",
    "y = int(input(\"Enter second number: \"))\n",
    "if x>y:\n",
    "    print(f\"{x} is the largest number\")\n",
    "else:\n",
    "    print(f\"{y} is the largest number\")"
   ]
  },
  {
   "cell_type": "code",
   "execution_count": 34,
   "id": "7a1ff12c",
   "metadata": {},
   "outputs": [
    {
     "name": "stdout",
     "output_type": "stream",
     "text": [
      "Enter the student's score: 81.54\n",
      "The student's grade is: B\n"
     ]
    }
   ],
   "source": [
    "# 4. Develop a program that calculates the grade of a student based on their exam score.\n",
    "\n",
    "score = float(input(\"Enter the student's score: \"))\n",
    "\n",
    "if 90 <= score <= 100:\n",
    "    grade = \"A\"\n",
    "elif 80 <= score < 90:\n",
    "    grade = \"B\"\n",
    "elif 70 <= score < 80:\n",
    "    grade = \"C\"\n",
    "elif 60 <= score < 70:\n",
    "    grade = \"D\"\n",
    "elif 0 <= score < 60:\n",
    "    grade = \"F\"\n",
    "else:\n",
    "    grade = \"Invalid score (score should be between 0 and 100)\"\n",
    "\n",
    "print(f\"The student's grade is: {grade}\")"
   ]
  },
  {
   "cell_type": "code",
   "execution_count": 35,
   "id": "f87eb707",
   "metadata": {},
   "outputs": [
    {
     "name": "stdout",
     "output_type": "stream",
     "text": [
      "Enter year to check: 2004\n",
      "2004 is a leap year\n"
     ]
    }
   ],
   "source": [
    "# 5. Create a program that checks if a year is a leap year or not.\n",
    "\n",
    "year = int(input(\"Enter year to check: \"))\n",
    "if (year % 400 == 0) and (year % 100 == 0):\n",
    "    print(\"{} is a leap year\".format(year))\n",
    "\n",
    "elif (year % 4 ==0) and (year % 100 != 0):\n",
    "    print(\"{} is a leap year\".format(year))\n",
    "    \n",
    "else:\n",
    "    print(\"{} is not a leap year\".format(year))"
   ]
  },
  {
   "cell_type": "code",
   "execution_count": 36,
   "id": "180a8ded",
   "metadata": {},
   "outputs": [
    {
     "name": "stdout",
     "output_type": "stream",
     "text": [
      "Enter the length of the first side: 34.5\n",
      "Enter the length of the second side: 67.8\n",
      "Enter the length of the third side: 94\n",
      "The triangle with side lengths 34.5, 67.8, and 94.0 is a Scalene triangle.\n"
     ]
    }
   ],
   "source": [
    "# 6. Write a program to classify a triangle based on its sides' lengths.\n",
    "\n",
    "side1 = float(input(\"Enter the length of the first side: \"))\n",
    "side2 = float(input(\"Enter the length of the second side: \"))\n",
    "side3 = float(input(\"Enter the length of the third side: \"))\n",
    "\n",
    "if side1 == side2 == side3:\n",
    "    triangle_type = \"Equilateral\"\n",
    "elif side1 == side2 or side1 == side3 or side2 == side3:\n",
    "    triangle_type = \"Isosceles\"\n",
    "else:\n",
    "    triangle_type = \"Scalene\"\n",
    "\n",
    "print(f\"The triangle with side lengths {side1}, {side2}, and {side3} is a {triangle_type} triangle.\")"
   ]
  },
  {
   "cell_type": "code",
   "execution_count": 37,
   "id": "70f9ac6b",
   "metadata": {},
   "outputs": [
    {
     "name": "stdout",
     "output_type": "stream",
     "text": [
      "Enter the first number: 34\n",
      "Enter the second number: 56\n",
      "Enter the third number: 467\n",
      "The largest number is 467.0\n"
     ]
    }
   ],
   "source": [
    "# 7. Develop a program that determines the largest of three given numbers using if-else statements.\n",
    "\n",
    "num1 = float(input(\"Enter the first number: \"))\n",
    "num2 = float(input(\"Enter the second number: \"))\n",
    "num3 = float(input(\"Enter the third number: \"))\n",
    "\n",
    "largest = num1\n",
    "if num2 > largest:\n",
    "    largest = num2\n",
    "\n",
    "if num3 > largest:\n",
    "    largest = num3\n",
    "\n",
    "print(f\"The largest number is {largest}\")"
   ]
  },
  {
   "cell_type": "code",
   "execution_count": 38,
   "id": "faedfe15",
   "metadata": {},
   "outputs": [
    {
     "name": "stdout",
     "output_type": "stream",
     "text": [
      "Enter a character: E\n",
      "e is a vowel\n"
     ]
    }
   ],
   "source": [
    "# 8. Develop a program that checks whether a character is a vowel or a consonant.\n",
    "\n",
    "vow = [\"a\",\"e\",\"i\",\"o\",\"u\"]\n",
    "char = input(\"Enter a character: \").lower()\n",
    "if char in vow:\n",
    "    print(f\"{char} is a vowel\")\n",
    "else:\n",
    "    print(f\"{char} is a consonant\")"
   ]
  },
  {
   "cell_type": "code",
   "execution_count": 39,
   "id": "36797fda",
   "metadata": {},
   "outputs": [
    {
     "name": "stdout",
     "output_type": "stream",
     "text": [
      "Enter the purchase amount: 34990\n",
      "Purchase Amount: $34990.00\n",
      "Discount Percentage: 15.0%\n",
      "Discounted Price: $29741.50\n"
     ]
    }
   ],
   "source": [
    "# 9. Create a program to calculate the total cost of a shopping cart based on discounts.\n",
    "\n",
    "purchase_amount = float(input(\"Enter the purchase amount: \"))\n",
    "\n",
    "if purchase_amount < 50:\n",
    "    discount = 0  \n",
    "elif purchase_amount < 100:\n",
    "    discount = 0.05  \n",
    "    discount = 0.1 \n",
    "else:\n",
    "    discount = 0.15 \n",
    "\n",
    "discounted_price = purchase_amount - (purchase_amount * discount)\n",
    "\n",
    "print(f\"Purchase Amount: ${purchase_amount:.2f}\")\n",
    "print(f\"Discount Percentage: {discount * 100}%\")\n",
    "print(f\"Discounted Price: ${discounted_price:.2f}\")"
   ]
  },
  {
   "cell_type": "code",
   "execution_count": 40,
   "id": "9b6a7263",
   "metadata": {},
   "outputs": [
    {
     "name": "stdout",
     "output_type": "stream",
     "text": [
      "ENter a number: 78\n",
      "It's an even number\n"
     ]
    }
   ],
   "source": [
    "# 10. Write a program that checks if a given number is even or odd.\n",
    "\n",
    "n = int(input(\"ENter a number: \"))\n",
    "if n%2==0:\n",
    "    print(\"It's an even number\")\n",
    "else:\n",
    "    print(\"It's a odd number\")"
   ]
  },
  {
   "cell_type": "raw",
   "id": "ed5ce23a",
   "metadata": {},
   "source": [
    "Intermediate Level:"
   ]
  },
  {
   "cell_type": "code",
   "execution_count": 41,
   "id": "e86292dd",
   "metadata": {},
   "outputs": [
    {
     "name": "stdout",
     "output_type": "stream",
     "text": [
      "Enter the coefficient a: 1\n",
      "Enter the coefficient b: 2\n",
      "Enter the coefficient c: 3\n",
      "The roots are complex: -1.0 + 1.4142135623730951i and -1.0 - 1.4142135623730951i\n"
     ]
    }
   ],
   "source": [
    "# 11. Write a program that calculates the roots of a quadratic equation .\n",
    "\n",
    "import math\n",
    "\n",
    "a = float(input(\"Enter the coefficient a: \"))\n",
    "b = float(input(\"Enter the coefficient b: \"))\n",
    "c = float(input(\"Enter the coefficient c: \"))\n",
    "\n",
    "discriminant = b**2 - 4*a*c\n",
    "\n",
    "if discriminant > 0:\n",
    "    root1 = (-b + math.sqrt(discriminant)) / (2*a)\n",
    "    root2 = (-b - math.sqrt(discriminant)) / (2*a)\n",
    "    print(f\"The roots are real and distinct: {root1} and {root2}\")\n",
    "    \n",
    "if discriminant == 0:\n",
    "    root1 = -b / (2*a)\n",
    "    print(f\"There is one real root (repeated root): {root1}\")\n",
    "    \n",
    "else:\n",
    "    real_part = -b / (2*a)\n",
    "    imaginary_part = math.sqrt(abs(discriminant)) / (2*a)\n",
    "    print(f\"The roots are complex: {real_part} + {imaginary_part}i and {real_part} - {imaginary_part}i\")"
   ]
  },
  {
   "cell_type": "code",
   "execution_count": 42,
   "id": "bdb632db",
   "metadata": {},
   "outputs": [
    {
     "name": "stdout",
     "output_type": "stream",
     "text": [
      "Enter a number: 4\n",
      "The day of the week for number 4 is Thursday.\n"
     ]
    }
   ],
   "source": [
    "# 12. Create a program that determines the day of the week based on the day number (1-7).\n",
    "\n",
    "n = int(input(\"Enter a number: \"))\n",
    "days_of_week = [\"Monday\", \"Tuesday\", \"Wednesday\", \"Thursday\", \"Friday\", \"Saturday\", \"Sunday\"]\n",
    "\n",
    "if n>=1 and n<=7:\n",
    "    day = days_of_week[n - 1]\n",
    "    print(f\"The day of the week for number {n} is {day}.\")\n",
    "else:\n",
    "    print(\"Invalid input. Please enter a number between 1 and 7.\")"
   ]
  },
  {
   "cell_type": "code",
   "execution_count": 43,
   "id": "85a47e68",
   "metadata": {},
   "outputs": [
    {
     "name": "stdout",
     "output_type": "stream",
     "text": [
      "Enter a number: 67\n",
      "The factorial of 67 is 36471110918188685288249859096605464427167635314049524593701628500267962436943872000000000000000\n"
     ]
    }
   ],
   "source": [
    "# 13. Develop a program that calculates the factorial of a given number using recursion.\n",
    "\n",
    "num = int(input(\"Enter a number: \"))\n",
    "\n",
    "if num < 0:\n",
    "    print(\"Please enter a non-negative integer.\")\n",
    "else:\n",
    "    factorial = 1\n",
    "    for i in range(1, num + 1):\n",
    "        factorial *= i\n",
    "    print(f\"The factorial of {num} is {factorial}\")"
   ]
  },
  {
   "cell_type": "code",
   "execution_count": 44,
   "id": "78dfb61b",
   "metadata": {},
   "outputs": [
    {
     "name": "stdout",
     "output_type": "stream",
     "text": [
      "Enter the first number: 345\n",
      "Enter the second number: 74\n",
      "Enter the third number: 82\n",
      "The largest number is 345.0\n"
     ]
    }
   ],
   "source": [
    "# 14. Write a program to find the largest among three numbers without using the `max()` function.\n",
    "\n",
    "num1 = float(input(\"Enter the first number: \"))\n",
    "num2 = float(input(\"Enter the second number: \"))\n",
    "num3 = float(input(\"Enter the third number: \"))\n",
    "\n",
    "largest = num1\n",
    "if num2 > largest:\n",
    "    largest = num2\n",
    "\n",
    "if num3 > largest:\n",
    "    largest = num3\n",
    "\n",
    "print(f\"The largest number is {largest}\")"
   ]
  },
  {
   "cell_type": "code",
   "execution_count": 45,
   "id": "e438489b",
   "metadata": {},
   "outputs": [
    {
     "name": "stdout",
     "output_type": "stream",
     "text": [
      "ATM Menu:\n",
      "1. Check Balance\n",
      "2. Deposit\n",
      "3. Withdraw\n",
      "4. Quit\n",
      "\n",
      "Select an option (1/2/3/4): 1\n",
      "Your account balance is $5679087\n",
      "\n",
      "Select an option (1/2/3/4): 2\n",
      "Enter the deposit amount: $3\n",
      "$3.00 has been deposited. Your new balance is $5679090.00\n",
      "\n",
      "Select an option (1/2/3/4): 4\n",
      "Thank you for using the ATM. Have a nice day!\n"
     ]
    }
   ],
   "source": [
    "# 15. Create a program that simulates a basic ATM transaction menu.\n",
    "\n",
    "balance = 5679087\n",
    "\n",
    "print(\"ATM Menu:\")\n",
    "print(\"1. Check Balance\")\n",
    "print(\"2. Deposit\")\n",
    "print(\"3. Withdraw\")\n",
    "print(\"4. Quit\")\n",
    "while True:\n",
    "\n",
    "    choice = input(\"\\nSelect an option (1/2/3/4): \")\n",
    "\n",
    "    if choice == '1':\n",
    "        print(f\"Your account balance is ${balance}\")\n",
    "    elif choice == '2':\n",
    "        deposit_amount = float(input(\"Enter the deposit amount: $\"))\n",
    "        balance += deposit_amount\n",
    "        print(f\"${deposit_amount:.2f} has been deposited. Your new balance is ${balance:.2f}\")\n",
    "    elif choice == '3':\n",
    "        withdraw_amount = float(input(\"Enter the withdrawal amount: $\"))\n",
    "        if withdraw_amount <= balance:\n",
    "            balance -= withdraw_amount\n",
    "            print(f\"${withdraw_amount:.2f} has been withdrawn. Your new balance is ${balance:.2f}\")\n",
    "        else:\n",
    "            print(\"Insufficient funds.\")\n",
    "    elif choice == '4':\n",
    "        print(\"Thank you for using the ATM. Have a nice day!\")\n",
    "        break\n",
    "    else:\n",
    "        print(\"Invalid choice. Please select a valid option.\")"
   ]
  },
  {
   "cell_type": "code",
   "execution_count": 46,
   "id": "2277a7f1",
   "metadata": {},
   "outputs": [
    {
     "name": "stdout",
     "output_type": "stream",
     "text": [
      "Enter an string: PwSkills\n",
      "pwskills is not a palindrome\n"
     ]
    }
   ],
   "source": [
    "# 16. Build a program that checks if a given string is a palindrome or not.\n",
    "\n",
    "strr = input(\"Enter an string: \").lower()\n",
    "if strr[::-1] == strr:\n",
    "    print(f\"{strr} is a palindrome\")\n",
    "else:\n",
    "    print(f\"{strr} is not a palindrome\")"
   ]
  },
  {
   "cell_type": "code",
   "execution_count": 47,
   "id": "7d0ddba0",
   "metadata": {},
   "outputs": [
    {
     "name": "stdout",
     "output_type": "stream",
     "text": [
      "Average of numbers excluding smallest and largest numbers: 35.43\n"
     ]
    }
   ],
   "source": [
    "# 17. Write a program that calculates the average of a list of numbers, excluding the smallest and largest values.\n",
    "\n",
    "lis = [45,3,67,89,2,3,4,69,57]\n",
    "mini = min(lis)\n",
    "maxi = max(lis)\n",
    "\n",
    "lis.remove(mini)\n",
    "lis.remove(maxi)\n",
    "\n",
    "sums = sum(lis)\n",
    "lenn = len(lis)\n",
    "\n",
    "avg = sums/lenn\n",
    "print(f\"Average of numbers excluding smallest and largest numbers: {avg:.2f}\")"
   ]
  },
  {
   "cell_type": "code",
   "execution_count": 48,
   "id": "5210d894",
   "metadata": {},
   "outputs": [
    {
     "name": "stdout",
     "output_type": "stream",
     "text": [
      "Enter the temperature in Celsius: 167.53\n",
      "167.53 degrees Celsius is equal to 333.554 degrees Fahrenheit.\n"
     ]
    }
   ],
   "source": [
    "# 18. Develop a program that converts a given temperature from Celsius to Fahrenheit.\n",
    "\n",
    "celsius = float(input(\"Enter the temperature in Celsius: \"))\n",
    "\n",
    "fahrenheit = (celsius * 9/5) + 32\n",
    "\n",
    "print(f\"{celsius} degrees Celsius is equal to {fahrenheit} degrees Fahrenheit.\")"
   ]
  },
  {
   "cell_type": "code",
   "execution_count": 49,
   "id": "c0a44af1",
   "metadata": {},
   "outputs": [
    {
     "name": "stdout",
     "output_type": "stream",
     "text": [
      "Calculator Menu:\n",
      "1. Addition\n",
      "2. Subtraction\n",
      "3. Multiplication\n",
      "4. Division\n",
      "5. Quit\n",
      "\n",
      "Select an operation (1/2/3/4/5): 1\n",
      "Enter the first number: 12\n",
      "Enter the second number: 45\n",
      "The result of addition is: 57.0\n",
      "\n",
      "Select an operation (1/2/3/4/5): 2\n",
      "Enter the first number: 67\n",
      "Enter the second number: 34\n",
      "The result of subtraction is: 33.0\n",
      "\n",
      "Select an operation (1/2/3/4/5): 3\n",
      "Enter the first number: 89\n",
      "Enter the second number: 34\n",
      "The result of multiplication is: 3026.0\n",
      "\n",
      "Select an operation (1/2/3/4/5): 4\n",
      "Enter the first number: 75\n",
      "Enter the second number: 89\n",
      "The result of division is: 0.8426966292134831\n",
      "\n",
      "Select an operation (1/2/3/4/5): 5\n",
      "Calculator is exiting. Goodbye!\n"
     ]
    }
   ],
   "source": [
    "# 19. Create a program that simulates a basic calculator for addition, subtraction, multiplication, and division.\n",
    "\n",
    "print(\"Calculator Menu:\")\n",
    "print(\"1. Addition\")\n",
    "print(\"2. Subtraction\")\n",
    "print(\"3. Multiplication\")\n",
    "print(\"4. Division\")\n",
    "print(\"5. Quit\")\n",
    "\n",
    "\n",
    "while True:\n",
    "\n",
    "    choice = input(\"\\nSelect an operation (1/2/3/4/5): \")\n",
    "\n",
    "    if choice == '5':\n",
    "        print(\"Calculator is exiting. Goodbye!\")\n",
    "        break\n",
    "\n",
    "    if choice not in ['1', '2', '3', '4']:\n",
    "        print(\"Invalid choice. Please select a valid operation.\")\n",
    "        continue\n",
    "\n",
    "    num1 = float(input(\"Enter the first number: \"))\n",
    "    num2 = float(input(\"Enter the second number: \"))\n",
    "\n",
    "    if choice == '1':\n",
    "        result = num1 + num2\n",
    "        print(f\"The result of addition is: {result}\")\n",
    "    elif choice == '2':\n",
    "        result = num1 - num2\n",
    "        print(f\"The result of subtraction is: {result}\")\n",
    "    elif choice == '3':\n",
    "        result = num1 * num2\n",
    "        print(f\"The result of multiplication is: {result}\")\n",
    "    elif choice == '4':\n",
    "        if num2 == 0:\n",
    "            print(\"Division by zero is not allowed.\")\n",
    "        else:\n",
    "            result = num1 / num2\n",
    "            print(f\"The result of division is: {result}\")"
   ]
  },
  {
   "cell_type": "code",
   "execution_count": 50,
   "id": "6a4f382f",
   "metadata": {},
   "outputs": [
    {
     "name": "stdout",
     "output_type": "stream",
     "text": [
      "Enter coefficient a: 1\n",
      "Enter coefficient b: 2\n",
      "Enter coefficient c: 3\n",
      "Enter coefficient d: 4\n",
      "\n",
      "\n",
      "Real Root: (0.711229763623571+1.5112787200701108j)\n",
      "Complex Root 1: (-0.046809118032238306-1.0736247676899269j)\n",
      "Complex Root 2: (-2.6644206455913326-0.43765395238018384j)\n"
     ]
    }
   ],
   "source": [
    "# 20. Write a program that determines the roots of a cubic equation using the Cardano formula.\n",
    "\n",
    "import math\n",
    "\n",
    "a = float(input(\"Enter coefficient a: \"))\n",
    "b = float(input(\"Enter coefficient b: \"))\n",
    "c = float(input(\"Enter coefficient c: \"))\n",
    "d = float(input(\"Enter coefficient d: \"))\n",
    "\n",
    "p = c / a - (b ** 2) / (3 * a ** 2)\n",
    "q = (2 * b ** 3) / (27 * a ** 3) - (b * c) / (3 * a ** 2) + d / a\n",
    "\n",
    "delta = q ** 2 + (4 * p ** 3) / 27\n",
    "\n",
    "if delta > 0:\n",
    "    r = (-q + math.sqrt(delta)) ** (1 / 3)\n",
    "    s = (-q - math.sqrt(delta)) ** (1 / 3)\n",
    "    real_root = r + s - b / (3 * a)\n",
    "    complex_root1 = complex(-(r + s) / 2 - b / (3 * a), (r - s) * math.sqrt(3) / 2)\n",
    "    complex_root2 = complex(-(r + s) / 2 - b / (3 * a), -(r - s) * math.sqrt(3) / 2)\n",
    "    \n",
    "    print('\\n')\n",
    "    print(\"Real Root:\", real_root)\n",
    "    print(\"Complex Root 1:\", complex_root1)\n",
    "    print(\"Complex Root 2:\", complex_root2)\n",
    "    \n",
    "elif delta == 0:\n",
    "    root = -q ** (1 / 3) - b / (3 * a)\n",
    "    print('\\n')\n",
    "    print(\"Real Root:\", root)\n",
    "    \n",
    "else:\n",
    "    r = -q + abs(delta) ** 0.5\n",
    "    s = (r ** (1 / 3)) * ((-1) ** (2 / 3))\n",
    "    t = (r ** (1 / 3)) * ((-1) ** (1 / 3))\n",
    "    root1 = (s + t - b / (3 * a))\n",
    "    root2 = (-((s + t) / 2) - b / (3 * a) + ((s - t) * math.sqrt(3)) / 2)\n",
    "    root3 = (-((s + t) / 2) - b / (3 * a) - ((s - t) * math.sqrt(3)) / 2)\n",
    "    \n",
    "    print('\\n')\n",
    "    print(\"Real Root 1:\", root1)\n",
    "    print(\"Real Root 2:\", root2)\n",
    "    print(\"Real Root 3:\", root3)\n"
   ]
  },
  {
   "cell_type": "markdown",
   "id": "c7c58c14",
   "metadata": {},
   "source": [
    "Advanced Level:"
   ]
  },
  {
   "cell_type": "code",
   "execution_count": 51,
   "id": "4000a6d9",
   "metadata": {},
   "outputs": [
    {
     "name": "stdout",
     "output_type": "stream",
     "text": [
      "Enter your annual income: $128492\n",
      "Your income tax for an annual income of $128492.00 is: $20197.95\n"
     ]
    }
   ],
   "source": [
    "# 21. Create a program that calculates the income tax based on the user's income and tax brackets.\n",
    "\n",
    "tax_brackets = [(0, 10000, 0.05), (10001, 30000, 0.10), (30001, 70000, 0.15), (70001, float('inf'), 0.20)]\n",
    "\n",
    "income = float(input(\"Enter your annual income: $\"))\n",
    "\n",
    "total_tax = 0\n",
    "\n",
    "for i in tax_brackets:\n",
    "    start, end, rate = i\n",
    "    if income <= start:\n",
    "        continue\n",
    "    elif income <= end:\n",
    "        taxable_amount = income - start\n",
    "    else:\n",
    "        taxable_amount = end - start\n",
    "    tax_for_bracket = taxable_amount * rate\n",
    "    total_tax += tax_for_bracket\n",
    "\n",
    "print(f\"Your income tax for an annual income of ${income:.2f} is: ${total_tax:.2f}\")"
   ]
  },
  {
   "cell_type": "code",
   "execution_count": 52,
   "id": "2733959d",
   "metadata": {},
   "outputs": [
    {
     "name": "stdout",
     "output_type": "stream",
     "text": [
      "Choose rock, paper, or scissors: rock\n",
      "Computer chooses: paper\n",
      "Computer wins!\n"
     ]
    }
   ],
   "source": [
    "# 22. Write a program that simulates a rock-paper-scissors game against the computer.\n",
    "\n",
    "import random\n",
    "\n",
    "choices = [\"rock\", \"paper\", \"scissors\"]\n",
    "\n",
    "user_choice = input(\"Choose rock, paper, or scissors: \").lower()\n",
    "\n",
    "computer_choice = random.choice(choices)\n",
    "\n",
    "print(f\"Computer chooses: {computer_choice}\")\n",
    "\n",
    "if user_choice in choices:\n",
    "    if user_choice == computer_choice:\n",
    "        result = \"It's a tie!\"\n",
    "    elif (\n",
    "        (user_choice == \"rock\" and computer_choice == \"scissors\")\n",
    "        or (user_choice == \"scissors\" and computer_choice == \"paper\")\n",
    "        or (user_choice == \"paper\" and computer_choice == \"rock\")\n",
    "    ):\n",
    "        result = \"You win!\"\n",
    "    else:\n",
    "        result = \"Computer wins!\"\n",
    "else:\n",
    "    result = \"Invalid choice. Please choose rock, paper, or scissors.\"\n",
    "\n",
    "print(result)"
   ]
  },
  {
   "cell_type": "code",
   "execution_count": 53,
   "id": "3f44556a",
   "metadata": {},
   "outputs": [
    {
     "name": "stdout",
     "output_type": "stream",
     "text": [
      "Enter the desired password length: 26\n",
      "Use lowercase letters? (yes/no): yes\n",
      "Use uppercase letters? (yes/no): yes\n",
      "Use digits? (yes/no): no\n",
      "Use special characters? (yes/no): no\n",
      "\n",
      "Generated Password: KBU#@u92zrw=(xpJumup.w;\\P4\n"
     ]
    }
   ],
   "source": [
    "# 23. Develop a program that generates a random password based on user preferences (length, complexity).\n",
    "\n",
    "import random\n",
    "import string\n",
    "\n",
    "length = int(input(\"Enter the desired password length: \"))\n",
    "use_lowercase = input(\"Use lowercase letters? (yes/no): \").lower()\n",
    "use_uppercase = input(\"Use uppercase letters? (yes/no): \").lower()\n",
    "use_digits = input(\"Use digits? (yes/no): \").lower()\n",
    "use_special_chars = input(\"Use special characters? (yes/no): \").lower()\n",
    "\n",
    "characters = \"\"\n",
    "if use_lowercase:\n",
    "    characters += string.ascii_lowercase\n",
    "if use_uppercase:\n",
    "    characters += string.ascii_uppercase\n",
    "if use_digits:\n",
    "    characters += string.digits\n",
    "if use_special_chars:\n",
    "    characters += string.punctuation\n",
    "\n",
    "if not characters:\n",
    "    print(\"No characters selected. Cannot generate a password.\")\n",
    "else:\n",
    "    password = \"\".join(random.choice(characters) for i in range(length))\n",
    "    print(\"\\nGenerated Password:\", password)"
   ]
  },
  {
   "cell_type": "code",
   "execution_count": 54,
   "id": "3dd3404a",
   "metadata": {},
   "outputs": [
    {
     "name": "stdout",
     "output_type": "stream",
     "text": [
      "Welcome to the Text Adventure Game!\n",
      "You find yourself standing at the entrance of a mysterious cave.\n",
      "\n",
      "What would you like to do? (Enter '1' to enter the cave, '2' to quit): 1\n",
      "\n",
      "You cautiously enter the dark cave...\n",
      "As you venture deeper, you see two tunnels.\n",
      "\n",
      "Which tunnel do you want to take? (Enter '1' for the left tunnel, '2' for the right tunnel, '3' to go back): 2\n",
      "\n",
      "You follow the right tunnel and encounter a friendly dragon.\n",
      "The dragon gives you a magical amulet for your bravery.\n",
      "\n",
      "What would you like to do? (Enter '1' to enter the cave, '2' to quit): 2\n",
      "\n",
      "Thanks for playing! Goodbye!\n"
     ]
    }
   ],
   "source": [
    "# 24. Create a program that implements a simple text-based adventure game with branching scenarios.\n",
    "\n",
    "import time\n",
    "\n",
    "print(\"Welcome to the Text Adventure Game!\")\n",
    "print(\"You find yourself standing at the entrance of a mysterious cave.\")\n",
    "\n",
    "while True:\n",
    "    choice = input(\"\\nWhat would you like to do? (Enter '1' to enter the cave, '2' to quit): \")\n",
    "\n",
    "    if choice == '1':\n",
    "        print(\"\\nYou cautiously enter the dark cave...\")\n",
    "        time.sleep(1)\n",
    "        print(\"As you venture deeper, you see two tunnels.\")\n",
    "\n",
    "        while True:\n",
    "            choice = input(\"\\nWhich tunnel do you want to take? (Enter '1' for the left tunnel, '2' for the right tunnel, '3' to go back): \")\n",
    "\n",
    "            if choice == '1':\n",
    "                print(\"\\nYou follow the left tunnel and find a treasure chest!\")\n",
    "                time.sleep(1)\n",
    "                print(\"Congratulations, you've found treasure!\")\n",
    "                break\n",
    "            elif choice == '2':\n",
    "                print(\"\\nYou follow the right tunnel and encounter a friendly dragon.\")\n",
    "                time.sleep(1)\n",
    "                print(\"The dragon gives you a magical amulet for your bravery.\")\n",
    "                break\n",
    "            elif choice == '3':\n",
    "                break\n",
    "            else:\n",
    "                print(\"Invalid choice. Please select '1', '2', or '3'.\")\n",
    "\n",
    "    elif choice == '2':\n",
    "        print(\"\\nThanks for playing! Goodbye!\")\n",
    "        break\n",
    "    else:\n",
    "        print(\"Invalid choice. Please select '1' or '2'.\")"
   ]
  },
  {
   "cell_type": "code",
   "execution_count": 55,
   "id": "6c292ae9",
   "metadata": {},
   "outputs": [
    {
     "name": "stdout",
     "output_type": "stream",
     "text": [
      "Enter the coefficient 'a': 5\n",
      "Enter the coefficient 'b': 7\n",
      "Solution: x = -1.4\n"
     ]
    }
   ],
   "source": [
    "# 25. Build a program that solves a linear equation for x, considering different cases.\n",
    "\n",
    "a = float(input(\"Enter the coefficient 'a': \"))\n",
    "b = float(input(\"Enter the coefficient 'b': \"))\n",
    "\n",
    "if a == 0:\n",
    "    if b == 0:\n",
    "        print(\"Infinite solutions: 0x = 0\")\n",
    "    else:\n",
    "        print(\"No solution: 0x =\", b)\n",
    "else:\n",
    "    x = -b / a\n",
    "    print(f\"Solution: x = {x}\")"
   ]
  },
  {
   "cell_type": "code",
   "execution_count": 56,
   "id": "89fdfe4d",
   "metadata": {},
   "outputs": [
    {
     "name": "stdout",
     "output_type": "stream",
     "text": [
      "\n",
      "Question 1: What is the capital of France?\n",
      "A) London\n",
      "B) Madrid\n",
      "C) Paris\n",
      "D) Rome\n",
      "Enter your answer (A/B/C/D): 1\n",
      "Wrong! The correct answer is C.\n",
      "\n",
      "Question 2: Which planet is known as the Red Planet?\n",
      "A) Mars\n",
      "B) Venus\n",
      "C) Jupiter\n",
      "D) Saturn\n",
      "Enter your answer (A/B/C/D): 2\n",
      "Wrong! The correct answer is A.\n",
      "\n",
      "Question 3: What is 2 + 2?\n",
      "A) 3\n",
      "B) 4\n",
      "C) 5\n",
      "D) 6\n",
      "Enter your answer (A/B/C/D): 3\n",
      "Wrong! The correct answer is B.\n",
      "\n",
      "Your final score is: 0/3\n"
     ]
    }
   ],
   "source": [
    "# 26. Write a program that simulates a basic quiz game with multiple-choice questions and scoring.\n",
    "\n",
    "questions = [\n",
    "    {\n",
    "        'question': 'What is the capital of France?',\n",
    "        'choices': ['A) London', 'B) Madrid', 'C) Paris', 'D) Rome'],\n",
    "        'correct_answer': 'C',\n",
    "    },\n",
    "    {\n",
    "        'question': 'Which planet is known as the Red Planet?',\n",
    "        'choices': ['A) Mars', 'B) Venus', 'C) Jupiter', 'D) Saturn'],\n",
    "        'correct_answer': 'A',\n",
    "    },\n",
    "    {\n",
    "        'question': 'What is 2 + 2?',\n",
    "        'choices': ['A) 3', 'B) 4', 'C) 5', 'D) 6'],\n",
    "        'correct_answer': 'B',\n",
    "    },\n",
    "]\n",
    "\n",
    "score = 0\n",
    "\n",
    "for i, question in enumerate(questions, start=1):\n",
    "    print(f'\\nQuestion {i}: {question[\"question\"]}')\n",
    "    for choice in question['choices']:\n",
    "        print(choice)\n",
    "\n",
    "    user_answer = input('Enter your answer (A/B/C/D): ').upper()\n",
    "\n",
    "    if user_answer == question['correct_answer']:\n",
    "        print('Correct!')\n",
    "        score += 1\n",
    "    else:\n",
    "        print(f'Wrong! The correct answer is {question[\"correct_answer\"]}.')\n",
    "\n",
    "print(f'\\nYour final score is: {score}/{len(questions)}')"
   ]
  },
  {
   "cell_type": "code",
   "execution_count": 57,
   "id": "632d7cd2",
   "metadata": {},
   "outputs": [
    {
     "name": "stdout",
     "output_type": "stream",
     "text": [
      "Enter a year: 2004\n",
      "2004 is not a prime number\n"
     ]
    }
   ],
   "source": [
    "# 27. Develop a program that determines whether a given year is a prime number or not.\n",
    "\n",
    "num = int(input(\"Enter a year: \"))\n",
    "\n",
    "if num == 1:\n",
    "    print(num, \"is not a prime number\")\n",
    "if num > 1:\n",
    "    for i in range(2,num):\n",
    "        if (num % i) == 0:\n",
    "            print(num,\"is not a prime number\")\n",
    "            break\n",
    "    else:\n",
    "        print(num,\"is a prime number\")\n",
    "\n",
    "else:\n",
    "    print(num,\"is not a prime number\")"
   ]
  },
  {
   "cell_type": "code",
   "execution_count": 58,
   "id": "784fd5f7",
   "metadata": {},
   "outputs": [
    {
     "name": "stdout",
     "output_type": "stream",
     "text": [
      "Enter a: 67\n",
      "Enter b: 32\n",
      "Enter c: 89\n",
      "Required Order:  32.0 67.0 89.0\n"
     ]
    }
   ],
   "source": [
    "# 28. Create a program that sorts three numbers in ascending order using conditional statements.\n",
    "\n",
    "a = float(input(\"Enter a: \"))\n",
    "b = float(input(\"Enter b: \"))\n",
    "c = float(input(\"Enter c: \"))\n",
    "if a < b:\n",
    "    if b < c:\n",
    "        print(\"Required Order: \",a, b, c)\n",
    "    else:\n",
    "        if a < c:\n",
    "            print(\"Required Order: \",a, c, b)\n",
    "        else:\n",
    "            print(\"Required Order: \",c, a, b)\n",
    "else:\n",
    "    if c < b:\n",
    "        print(\"Required Order: \",c, b, a)\n",
    "    else:\n",
    "        if c < a:\n",
    "            print (\"Required Order: \",b, c, a)\n",
    "        else:\n",
    "            print(\"Required Order: \",b, a, c)"
   ]
  },
  {
   "cell_type": "code",
   "execution_count": 59,
   "id": "132a7588",
   "metadata": {},
   "outputs": [
    {
     "name": "stdout",
     "output_type": "stream",
     "text": [
      "Enter coefficient 'a': 1\n",
      "Enter coefficient 'b': 2\n",
      "Enter coefficient 'c': 3\n",
      "Enter coefficient 'd': 4\n",
      "Enter coefficient 'e': 5\n",
      "Enter initial guess for the root: 0\n",
      "Approximate root: -2.354428\n"
     ]
    }
   ],
   "source": [
    "# 29. Build a program that determines the roots of a quartic equation using numerical methods.\n",
    "\n",
    "import numpy as np\n",
    "\n",
    "# Define the coefficients of the quartic equation: ax^4 + bx^3 + cx^2 + dx + e = 0\n",
    "a = float(input(\"Enter coefficient 'a': \"))\n",
    "b = float(input(\"Enter coefficient 'b': \"))\n",
    "c = float(input(\"Enter coefficient 'c': \"))\n",
    "d = float(input(\"Enter coefficient 'd': \"))\n",
    "e = float(input(\"Enter coefficient 'e': \"))\n",
    "\n",
    "# Define the function and its derivative for the quartic equation\n",
    "def equation(x):\n",
    "    return a * x**4 + b * x**3 + c * x**2 + d * x + e\n",
    "\n",
    "def derivative(x):\n",
    "    return 4 * a * x**3 + 3 * b * x**2 + 2 * c * x + d\n",
    "\n",
    "# Initial guess for the root (you can adjust this)\n",
    "x0 = float(input(\"Enter initial guess for the root: \"))\n",
    "max_iterations = 1000\n",
    "tolerance = 1e-6\n",
    "\n",
    "# Newton-Raphson method to find the root\n",
    "for i in range(max_iterations):\n",
    "    fx = equation(x0)\n",
    "    f_prime_x = derivative(x0)\n",
    "    x1 = x0 - fx / f_prime_x\n",
    "\n",
    "    if abs(x1 - x0) < tolerance:\n",
    "        break\n",
    "\n",
    "    x0 = x1\n",
    "\n",
    "# Display the approximate root\n",
    "print(f\"Approximate root: {x1:.6f}\")\n"
   ]
  },
  {
   "cell_type": "code",
   "execution_count": 60,
   "id": "e8a77b1d",
   "metadata": {},
   "outputs": [
    {
     "name": "stdout",
     "output_type": "stream",
     "text": [
      "Enter your height (in CM): 178\n",
      "Enter your weight (in KG): 100\n",
      "Your BMI is 31.561671506122963, which falls into the category of Obese.\n"
     ]
    }
   ],
   "source": [
    "# 30. Write a program that calculates the BMI (Body Mass Index) and provides health recommendations based on the user's input.\n",
    "\n",
    "height = float(input(\"Enter your height (in CM): \"))\n",
    "weight = float(input(\"Enter your weight (in KG): \"))\n",
    "\n",
    "bmi = weight / (height/100) ** 2\n",
    "\n",
    "if bmi < 18.5:\n",
    "    category = \"Underweight\"\n",
    "elif 18.5 <= bmi < 24.9:\n",
    "    category = \"Normal Weight\"\n",
    "elif 25 <= bmi < 29.9:\n",
    "    category = \"Overweight\"\n",
    "else:\n",
    "    category = \"Obese\"\n",
    "\n",
    "print(f\"Your BMI is {bmi}, which falls into the category of {category}.\")"
   ]
  },
  {
   "cell_type": "markdown",
   "id": "7fa03bdf",
   "metadata": {},
   "source": [
    "Challenge Level:"
   ]
  },
  {
   "cell_type": "code",
   "execution_count": 61,
   "id": "8a39e819",
   "metadata": {},
   "outputs": [
    {
     "name": "stdout",
     "output_type": "stream",
     "text": [
      "Enter a password: jhsdfhvefhgadslfygkgf\n",
      "Password is not valid. Please follow the complexity rules.\n"
     ]
    }
   ],
   "source": [
    "# 31. Create a program that validates a password based on complexity rules (length, characters, etc.).\n",
    "\n",
    "password = input(\"Enter a password: \")\n",
    "\n",
    "if len(password) < 8:\n",
    "    is_valid = False\n",
    "else:\n",
    "    has_uppercase = any(char.isupper() for i in password)\n",
    "    has_lowercase = any(char.islower() for i in password)\n",
    "    has_digit = any(char.isdigit() for i in password)\n",
    "    special_characters = \"!@#$%^&*()_+[]{}|;:,.<>?~\"\n",
    "    has_special_char = any(i in special_characters for i in password)\n",
    "\n",
    "    is_valid = (\n",
    "        has_uppercase and\n",
    "        has_lowercase and\n",
    "        has_digit and\n",
    "        has_special_char\n",
    "    )\n",
    "\n",
    "if is_valid:\n",
    "    print(\"Password is valid.\")\n",
    "else:\n",
    "    print(\"Password is not valid. Please follow the complexity rules.\")"
   ]
  },
  {
   "cell_type": "code",
   "execution_count": 62,
   "id": "d5da6045",
   "metadata": {},
   "outputs": [
    {
     "name": "stdout",
     "output_type": "stream",
     "text": [
      "Enter the number of rows: 2\n",
      "Enter the number of columns: 2\n",
      "Enter elements of the first matrix:\n",
      "Enter element at row 1, column 1: 2\n",
      "Enter element at row 1, column 2: 2\n",
      "Enter element at row 2, column 1: 3\n",
      "Enter element at row 2, column 2: 3\n",
      "\n",
      "Enter elements of the second matrix:\n",
      "Enter element at row 1, column 1: 2\n",
      "Enter element at row 1, column 2: 2\n",
      "Enter element at row 2, column 1: 1\n",
      "Enter element at row 2, column 2: 2\n",
      "\n",
      "Matrix Addition Result:\n",
      "4.0 4.0\n",
      "4.0 5.0\n",
      "\n",
      "Matrix Subtraction Result:\n",
      "0.0 0.0\n",
      "2.0 1.0\n"
     ]
    }
   ],
   "source": [
    "# 32. Develop a program that performs matrix addition and subtraction based on user input.\n",
    "\n",
    "rows = int(input(\"Enter the number of rows: \"))\n",
    "cols = int(input(\"Enter the number of columns: \"))\n",
    "\n",
    "print(\"Enter elements of the first matrix:\")\n",
    "matrix1 = []\n",
    "for i in range(rows):\n",
    "    row = []\n",
    "    for j in range(cols):\n",
    "        value = float(input(f\"Enter element at row {i + 1}, column {j + 1}: \"))\n",
    "        row.append(value)\n",
    "    matrix1.append(row)\n",
    "\n",
    "print(\"\\nEnter elements of the second matrix:\")\n",
    "matrix2 = []\n",
    "for i in range(rows):\n",
    "    row = []\n",
    "    for j in range(cols):\n",
    "        value = float(input(f\"Enter element at row {i + 1}, column {j + 1}: \"))\n",
    "        row.append(value)\n",
    "    matrix2.append(row)\n",
    "\n",
    "result_addition = []\n",
    "for i in range(rows):\n",
    "    row = []\n",
    "    for j in range(cols):\n",
    "        row.append(matrix1[i][j] + matrix2[i][j])\n",
    "    result_addition.append(row)\n",
    "\n",
    "result_subtraction = []\n",
    "for i in range(rows):\n",
    "    row = []\n",
    "    for j in range(cols):\n",
    "        row.append(matrix1[i][j] - matrix2[i][j])\n",
    "    result_subtraction.append(row)\n",
    "\n",
    "print(\"\\nMatrix Addition Result:\")\n",
    "for row in result_addition:\n",
    "    print(\" \".join(map(str, row)))\n",
    "\n",
    "print(\"\\nMatrix Subtraction Result:\")\n",
    "for row in result_subtraction:\n",
    "    print(\" \".join(map(str, row)))"
   ]
  },
  {
   "cell_type": "code",
   "execution_count": 63,
   "id": "cdc2f0e9",
   "metadata": {},
   "outputs": [
    {
     "name": "stdout",
     "output_type": "stream",
     "text": [
      "Enter the first number: 3\n",
      "Enter the second number: 56\n",
      "The greatest common divisor (GCD) is: 1\n"
     ]
    }
   ],
   "source": [
    "# 33. Write a program that calculates the greatest common divisor (GCD) of two numbers using the Euclidean algorithm.\n",
    "\n",
    "num1 = int(input(\"Enter the first number: \"))\n",
    "num2 = int(input(\"Enter the second number: \"))\n",
    "\n",
    "while num2:\n",
    "    num1, num2 = num2, num1 % num2\n",
    "\n",
    "print(f\"The greatest common divisor (GCD) is: {abs(num1)}\")"
   ]
  },
  {
   "cell_type": "code",
   "execution_count": 64,
   "id": "c958bb1c",
   "metadata": {},
   "outputs": [
    {
     "name": "stdout",
     "output_type": "stream",
     "text": [
      "Enter the number of rows for the first matrix: 2\n",
      "Enter the number of columns for the first matrix: 2\n",
      "Enter the number of rows for the second matrix: 2\n",
      "Enter the number of columns for the second matrix: 2\n",
      "\n",
      "Enter elements of the first matrix:\n",
      "Enter element at row 1, column 1: 1\n",
      "Enter element at row 1, column 2: 2\n",
      "Enter element at row 2, column 1: 3\n",
      "Enter element at row 2, column 2: 4\n",
      "\n",
      "Enter elements of the second matrix:\n",
      "Enter element at row 1, column 1: 5\n",
      "Enter element at row 1, column 2: 6\n",
      "Enter element at row 2, column 1: 7\n",
      "Enter element at row 2, column 2: 8\n",
      "\n",
      "Matrix Multiplication Result:\n",
      "[19.0, 22.0]\n",
      "[43.0, 50.0]\n"
     ]
    }
   ],
   "source": [
    "# 34. Build a program that performs matrix multiplication using nested loops and conditional statements.\n",
    "\n",
    "\n",
    "rows1 = int(input(\"Enter the number of rows for the first matrix: \"))\n",
    "cols1 = int(input(\"Enter the number of columns for the first matrix: \"))\n",
    "\n",
    "rows2 = int(input(\"Enter the number of rows for the second matrix: \"))\n",
    "cols2 = int(input(\"Enter the number of columns for the second matrix: \"))\n",
    "\n",
    "\n",
    "if cols1 != rows2:\n",
    "    print(\"Matrix multiplication is not possible. The number of columns in the first matrix must be equal to the number of rows in the second matrix.\")\n",
    "else:\n",
    "    print(\"\\nEnter elements of the first matrix:\")\n",
    "    matrix1 = []\n",
    "    for i in range(rows1):\n",
    "        row = []\n",
    "        for j in range(cols1):\n",
    "            value = float(input(f\"Enter element at row {i + 1}, column {j + 1}: \"))\n",
    "            row.append(value)\n",
    "        matrix1.append(row)\n",
    "\n",
    "    print(\"\\nEnter elements of the second matrix:\")\n",
    "    matrix2 = []\n",
    "    for i in range(rows2):\n",
    "        row = []\n",
    "        for j in range(cols2):\n",
    "            value = float(input(f\"Enter element at row {i + 1}, column {j + 1}: \"))\n",
    "            row.append(value)\n",
    "        matrix2.append(row)\n",
    "\n",
    "    result_matrix = []\n",
    "    for i in range(rows1):\n",
    "        row = []\n",
    "        for j in range(cols2):\n",
    "            element = 0\n",
    "            for k in range(cols1):\n",
    "                element += matrix1[i][k] * matrix2[k][j]\n",
    "            row.append(element)\n",
    "        result_matrix.append(row)\n",
    "\n",
    "    print(\"\\nMatrix Multiplication Result:\")\n",
    "    for row in result_matrix:\n",
    "        print(row)\n"
   ]
  },
  {
   "cell_type": "code",
   "execution_count": 65,
   "id": "2ba876f3",
   "metadata": {
    "scrolled": true
   },
   "outputs": [
    {
     "name": "stdout",
     "output_type": "stream",
     "text": [
      "  |   |  \n",
      "--+---+--\n",
      "  |   |  \n",
      "--+---+--\n",
      "  |   |  \n",
      "Enter your move (1-9): 1\n",
      "X |   |  \n",
      "--+---+--\n",
      "  |   |  \n",
      "--+---+--\n",
      "  |   |  \n",
      "Computer's turn...\n",
      "X | O |  \n",
      "--+---+--\n",
      "  |   |  \n",
      "--+---+--\n",
      "  |   |  \n",
      "Enter your move (1-9): 2\n",
      "Invalid move. Try again.\n",
      "Enter your move (1-9): 3\n",
      "X | O | X\n",
      "--+---+--\n",
      "  |   |  \n",
      "--+---+--\n",
      "  |   |  \n",
      "Computer's turn...\n",
      "X | O | X\n",
      "--+---+--\n",
      "  |   |  \n",
      "--+---+--\n",
      "O |   |  \n",
      "Enter your move (1-9): 4\n",
      "X | O | X\n",
      "--+---+--\n",
      "X |   |  \n",
      "--+---+--\n",
      "O |   |  \n",
      "Computer's turn...\n",
      "X | O | X\n",
      "--+---+--\n",
      "X |   |  \n",
      "--+---+--\n",
      "O |   | O\n",
      "Enter your move (1-9): 5\n",
      "X | O | X\n",
      "--+---+--\n",
      "X | X |  \n",
      "--+---+--\n",
      "O |   | O\n",
      "Computer's turn...\n",
      "X | O | X\n",
      "--+---+--\n",
      "X | X |  \n",
      "--+---+--\n",
      "O | O | O\n",
      "O wins!\n"
     ]
    }
   ],
   "source": [
    "## 35. Create a program that simulates a basic text-based tic-tac-toe game against the computer.\n",
    "\n",
    "import random\n",
    "\n",
    "# Initialize the Tic-Tac-Toe board\n",
    "board = [' ' for _ in range(9)]\n",
    "\n",
    "# Function to display the Tic-Tac-Toe board\n",
    "def display_board(board):\n",
    "    print(f\"{board[0]} | {board[1]} | {board[2]}\")\n",
    "    print(\"--+---+--\")\n",
    "    print(f\"{board[3]} | {board[4]} | {board[5]}\")\n",
    "    print(\"--+---+--\")\n",
    "    print(f\"{board[6]} | {board[7]} | {board[8]}\")\n",
    "\n",
    "# Function to check if the board is full\n",
    "def is_board_full(board):\n",
    "    return ' ' not in board\n",
    "\n",
    "# Function to check if a player has won\n",
    "def check_win(board, player):\n",
    "    # Check rows\n",
    "    for i in range(0, 9, 3):\n",
    "        if board[i] == board[i + 1] == board[i + 2] == player:\n",
    "            return True\n",
    "\n",
    "    # Check columns\n",
    "    for i in range(3):\n",
    "        if board[i] == board[i + 3] == board[i + 6] == player:\n",
    "            return True\n",
    "\n",
    "    # Check diagonals\n",
    "    if board[0] == board[4] == board[8] == player or board[2] == board[4] == board[6] == player:\n",
    "        return True\n",
    "\n",
    "    return False\n",
    "\n",
    "# Function for computer's move (random selection)\n",
    "def computer_move(board):\n",
    "    empty_cells = [i for i, cell in enumerate(board) if cell == ' ']\n",
    "    return random.choice(empty_cells)\n",
    "\n",
    "# Main game loop\n",
    "current_player = 'X'\n",
    "while True:\n",
    "    display_board(board)\n",
    "    if current_player == 'X':\n",
    "        # Player's turn\n",
    "        while True:\n",
    "            try:\n",
    "                player_move = int(input(\"Enter your move (1-9): \")) - 1\n",
    "                if player_move >= 0 and player_move < 9 and board[player_move] == ' ':\n",
    "                    break\n",
    "                else:\n",
    "                    print(\"Invalid move. Try again.\")\n",
    "            except ValueError:\n",
    "                print(\"Invalid input. Enter a number from 1 to 9.\")\n",
    "\n",
    "        board[player_move] = current_player\n",
    "    else:\n",
    "        # Computer's turn\n",
    "        print(\"Computer's turn...\")\n",
    "        computer_choice = computer_move(board)\n",
    "        board[computer_choice] = current_player\n",
    "\n",
    "    # Check for a win or a tie\n",
    "    if check_win(board, current_player):\n",
    "        display_board(board)\n",
    "        print(f\"{current_player} wins!\")\n",
    "        break\n",
    "    elif is_board_full(board):\n",
    "        display_board(board)\n",
    "        print(\"It's a tie!\")\n",
    "        break\n",
    "\n",
    "    # Switch to the other player\n",
    "    current_player = 'O' if current_player == 'X' else 'X'\n"
   ]
  },
  {
   "cell_type": "code",
   "execution_count": 66,
   "id": "1976b67d",
   "metadata": {},
   "outputs": [
    {
     "name": "stdout",
     "output_type": "stream",
     "text": [
      "Enter the number of Fibonacci terms to generate: 10\n",
      "Fibonacci Sequence:  [0, 1, 1, 2, 3, 5, 8, 13, 21, 34]\n"
     ]
    }
   ],
   "source": [
    "# 36. Write a program that generates Fibonacci numbers up to a specified term using iterative methods.\n",
    "\n",
    "n = int(input(\"Enter the number of Fibonacci terms to generate: \"))\n",
    "\n",
    "fibonacci_sequence = [0, 1]\n",
    "\n",
    "for i in range(2, n):\n",
    "    next_term = fibonacci_sequence[-1] + fibonacci_sequence[-2]\n",
    "    fibonacci_sequence.append(next_term)\n",
    "\n",
    "print(\"Fibonacci Sequence: \",fibonacci_sequence)"
   ]
  },
  {
   "cell_type": "code",
   "execution_count": 67,
   "id": "fab54efc",
   "metadata": {},
   "outputs": [
    {
     "name": "stdout",
     "output_type": "stream",
     "text": [
      "Enter the value of n: 10\n",
      "The 10th Fibonacci term is: 55\n"
     ]
    }
   ],
   "source": [
    "# 37. Develop a program that calculates the nth term of the Fibonacci sequence using memoization.\n",
    "\n",
    "n = int(input(\"Enter the value of n: \"))\n",
    "\n",
    "# Dictionary to store memoized Fibonacci values\n",
    "fibonacci_cache = {}\n",
    "\n",
    "# Calculate the nth Fibonacci term using memoization\n",
    "if n < 0:\n",
    "    print(\"Invalid input. Please enter a non-negative integer.\")\n",
    "else:\n",
    "    # Base cases\n",
    "    if n == 0:\n",
    "        result = 0\n",
    "    elif n == 1:\n",
    "        result = 1\n",
    "    else:\n",
    "        if n in fibonacci_cache:\n",
    "            result = fibonacci_cache[n]\n",
    "        else:\n",
    "            fibonacci_cache[0] = 0\n",
    "            fibonacci_cache[1] = 1\n",
    "            for i in range(2, n + 1):\n",
    "                fibonacci_cache[i] = fibonacci_cache[i - 1] + fibonacci_cache[i - 2]\n",
    "            result = fibonacci_cache[n]\n",
    "\n",
    "    print(f\"The {n}th Fibonacci term is: {result}\")\n"
   ]
  },
  {
   "cell_type": "code",
   "execution_count": 68,
   "id": "a46540a4",
   "metadata": {},
   "outputs": [
    {
     "name": "stdout",
     "output_type": "stream",
     "text": [
      "Enter the year (e.g., 2023): 2034\n",
      "Enter the month (1-12): 3\n",
      "Calendar for March 2034:\n",
      "\n",
      "     March 2034\n",
      "Mo Tu We Th Fr Sa Su\n",
      "       1  2  3  4  5\n",
      " 6  7  8  9 10 11 12\n",
      "13 14 15 16 17 18 19\n",
      "20 21 22 23 24 25 26\n",
      "27 28 29 30 31\n",
      "\n"
     ]
    }
   ],
   "source": [
    "# 38. Create a program that generates a calendar for a given month and year using conditional statements.\n",
    "\n",
    "import calendar\n",
    "\n",
    "year = int(input(\"Enter the year (e.g., 2023): \"))\n",
    "month = int(input(\"Enter the month (1-12): \"))\n",
    "\n",
    "if month < 1 or month > 12:\n",
    "    print(\"Invalid month input. Please enter a number between 1 and 12.\")\n",
    "else:\n",
    "    cal = calendar.month(year, month)\n",
    "    \n",
    "    print(f\"Calendar for {calendar.month_name[month]} {year}:\\n\")\n",
    "    print(cal)"
   ]
  },
  {
   "cell_type": "code",
   "execution_count": 69,
   "id": "538280f6",
   "metadata": {},
   "outputs": [
    {
     "name": "stdout",
     "output_type": "stream",
     "text": [
      "\n",
      "Your hand:\n",
      "5 of Diamonds\n",
      "Q of Hearts\n",
      "Total value: 15\n",
      "Do you want to hit or stand? hit\n",
      "\n",
      "Your hand:\n",
      "5 of Diamonds\n",
      "Q of Hearts\n",
      "9 of Diamonds\n",
      "Total value: 24\n",
      "Bust! You lose.\n"
     ]
    }
   ],
   "source": [
    "# 39. Build a program that simulates a basic text-based blackjack game against the computer.\n",
    "\n",
    "import random\n",
    "\n",
    "# Initialize the deck and shuffle\n",
    "suits = ['Hearts', 'Diamonds', 'Clubs', 'Spades']\n",
    "ranks = ['2', '3', '4', '5', '6', '7', '8', '9', '10', 'J', 'Q', 'K', 'A']\n",
    "deck = [rank + ' of ' + suit for suit in suits for rank in ranks]\n",
    "random.shuffle(deck)\n",
    "\n",
    "# Initialize player and dealer hands\n",
    "player_hand = [deck.pop(), deck.pop()]\n",
    "dealer_hand = [deck.pop(), deck.pop()]\n",
    "\n",
    "# Function to calculate the total value of a hand\n",
    "def calculate_hand_value(hand):\n",
    "    value = 0\n",
    "    num_aces = 0\n",
    "\n",
    "    for card in hand:\n",
    "        if card.split()[0] in 'KQJ':\n",
    "            value += 10\n",
    "        elif card.split()[0] == 'A':\n",
    "            value += 11\n",
    "            num_aces += 1\n",
    "        else:\n",
    "            value += int(card.split()[0])\n",
    "\n",
    "    while value > 21 and num_aces > 0:\n",
    "        value -= 10\n",
    "        num_aces -= 1\n",
    "\n",
    "    return value\n",
    "\n",
    "# Main game loop\n",
    "while True:\n",
    "    # Display player's hand and value\n",
    "    print(\"\\nYour hand:\")\n",
    "    for card in player_hand:\n",
    "        print(card)\n",
    "    player_value = calculate_hand_value(player_hand)\n",
    "    print(f\"Total value: {player_value}\")\n",
    "\n",
    "    # Check if player has blackjack or busts\n",
    "    if player_value == 21:\n",
    "        print(\"Blackjack! You win!\")\n",
    "        break\n",
    "    elif player_value > 21:\n",
    "        print(\"Bust! You lose.\")\n",
    "        break\n",
    "\n",
    "    # Ask the player to hit or stand\n",
    "    choice = input(\"Do you want to hit or stand? \").strip().lower()\n",
    "    if choice == 'hit':\n",
    "        player_hand.append(deck.pop())\n",
    "    elif choice == 'stand':\n",
    "        # Dealer's turn\n",
    "        while calculate_hand_value(dealer_hand) < 17:\n",
    "            dealer_hand.append(deck.pop())\n",
    "\n",
    "        # Display dealer's hand and value\n",
    "        print(\"\\nDealer's hand:\")\n",
    "        for card in dealer_hand:\n",
    "            print(card)\n",
    "        dealer_value = calculate_hand_value(dealer_hand)\n",
    "        print(f\"Total value: {dealer_value}\")\n",
    "\n",
    "        # Determine the winner\n",
    "        if dealer_value > 21 or player_value > dealer_value:\n",
    "            print(\"You win!\")\n",
    "        elif dealer_value > player_value:\n",
    "            print(\"Dealer wins.\")\n",
    "        else:\n",
    "            print(\"It's a tie!\")\n",
    "        break\n",
    "    else:\n",
    "        print(\"Invalid choice. Please enter 'hit' or 'stand'.\")\n"
   ]
  },
  {
   "cell_type": "code",
   "execution_count": 70,
   "id": "9ef1411b",
   "metadata": {},
   "outputs": [
    {
     "name": "stdout",
     "output_type": "stream",
     "text": [
      "Enter a positive integer: 3289\n",
      "Prime factors of 1: [11, 13, 23]\n"
     ]
    }
   ],
   "source": [
    "# 40. Write a program that generates the prime factors of a given number using trial division.\n",
    "\n",
    "num = int(input(\"Enter a positive integer: \"))\n",
    "\n",
    "if num <= 0:\n",
    "    print(\"Please enter a positive integer.\")\n",
    "else:\n",
    "    factors = []\n",
    "    divisor = 2\n",
    "\n",
    "    while num > 1:\n",
    "        while num % divisor == 0:\n",
    "            factors.append(divisor)\n",
    "            num = num // divisor\n",
    "        divisor += 1\n",
    "\n",
    "    if len(factors) == 0:\n",
    "        print(f\"{num} has no prime factors.\")\n",
    "    else:\n",
    "        print(f\"Prime factors of {num}: {factors}\")"
   ]
  }
 ],
 "metadata": {
  "kernelspec": {
   "display_name": "Python 3 (ipykernel)",
   "language": "python",
   "name": "python3"
  },
  "language_info": {
   "codemirror_mode": {
    "name": "ipython",
    "version": 3
   },
   "file_extension": ".py",
   "mimetype": "text/x-python",
   "name": "python",
   "nbconvert_exporter": "python",
   "pygments_lexer": "ipython3",
   "version": "3.11.4"
  }
 },
 "nbformat": 4,
 "nbformat_minor": 5
}
