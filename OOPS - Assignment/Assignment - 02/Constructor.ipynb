{
 "cells": [
  {
   "cell_type": "markdown",
   "id": "6e7be2fa",
   "metadata": {},
   "source": [
    "# Constructor"
   ]
  },
  {
   "cell_type": "code",
   "execution_count": null,
   "id": "b647df4e",
   "metadata": {},
   "outputs": [],
   "source": [
    "# 1. What is a constructor in Python? Explain its purpose and usage.\n",
    "\n",
    "\"\"\" In Python, a constructor is a special method within a class that is used to initialize \n",
    "and set up the attributes of an object created from that class. The constructor method is \n",
    "typically named __init__() and is automatically called when you create a new instance of a \n",
    "class. Its primary purpose is to initialize the instance variables or attributes of \n",
    "the object, allowing you to specify initial values for those attributes.\n",
    "\n",
    "Purpose of Constructors:\n",
    "\n",
    "The main purpose of constructors in Python is to initialize the attributes or properties \n",
    "of an object when an instance of a class is created. Constructors help ensure that objects \n",
    "start with meaningful and appropriate initial values. They allow you to set up the object's \n",
    "state and perform any necessary setup or validation during object creation.\n",
    "\n",
    "Usage of Constructors:\n",
    "\n",
    "Initialization: Constructors are used to initialize the state of an object by assigning \n",
    "initial values to its attributes. This ensures that the object has a valid and defined \n",
    "state from the moment it is created.\n",
    "\n",
    "Attribute Assignment: Constructors allow you to assign values to instance variables or \n",
    "attributes based on the arguments provided when creating an instance. This is useful for \n",
    "customizing the properties of individual objects.\n",
    "\n",
    "Default Values: Constructors can provide default values for parameters, making it \n",
    "convenient to create objects with some attributes pre-set while still allowing \n",
    "customization when needed.\n",
    "\n",
    "Encapsulation: Constructors can be used to enforce encapsulation by initializing private \n",
    "or protected attributes and ensuring they are properly set up according to the class's \n",
    "design.\n",
    "\n",
    "\"\"\""
   ]
  },
  {
   "cell_type": "code",
   "execution_count": null,
   "id": "f7b27f32",
   "metadata": {},
   "outputs": [],
   "source": [
    "# 2. Differentiate between a parameterless constructor and a parameterized constructor in Python.\n",
    "\n",
    "\"\"\" Parameterless Constructor:\n",
    "Definition: A parameterless constructor is a constructor that takes no arguments other than\n",
    "the default self parameter, which refers to the instance being created. It initializes the \n",
    "object's attributes with default values or sets up some basic initial state without relying\n",
    "on any external input.\n",
    "\n",
    "Usage: Parameterless constructors are often used when you want to ensure that an object is \n",
    "created with a specific predefined state, and you don't need to customize or provide any \n",
    "initial values. They are also used when you want to perform some common setup for all \n",
    "instances of the class.\"\"\"\n",
    "\n",
    "\"\"\" Definition: A parameterized constructor is a constructor that accepts one or more \n",
    "arguments (in addition to the self parameter) during object creation. These arguments are \n",
    "used to initialize the object's attributes with values provided when the instance is \n",
    "created. Parameterized constructors allow customization of object properties based on \n",
    "external input.\n",
    "\n",
    "Usage: Parameterized constructors are used when you want to create objects with specific \n",
    "initial values that may vary from one instance to another. They enable you to pass \n",
    "arguments while creating an instance to configure the object's state.\"\"\""
   ]
  },
  {
   "cell_type": "code",
   "execution_count": 1,
   "id": "5a9f95dd",
   "metadata": {},
   "outputs": [
    {
     "name": "stdout",
     "output_type": "stream",
     "text": [
      "Value1\n",
      "Value2\n"
     ]
    }
   ],
   "source": [
    "# 3. How do you define a constructor in a Python class? Provide an example.\n",
    "\n",
    "\n",
    "\"\"\" In Python, you define a constructor in a class by creating a special method called \n",
    "__init__(). This method is automatically called when an instance of the class is created \n",
    "and is used to initialize the attributes or properties of the object. \"\"\"\n",
    "\n",
    "class MyClass:\n",
    "    def __init__(self, arg1, arg2):\n",
    "        self.attribute1 = arg1\n",
    "        self.attribute2 = arg2\n",
    "\n",
    "my_instance = MyClass(\"Value1\", \"Value2\")\n",
    "\n",
    "print(my_instance.attribute1)\n",
    "print(my_instance.attribute2) "
   ]
  },
  {
   "cell_type": "code",
   "execution_count": null,
   "id": "4aa547b8",
   "metadata": {},
   "outputs": [],
   "source": [
    "# 4. Explain the `__init__` method in Python and its role in constructors.\n",
    "\n",
    "\"\"\" In Python, the __init__ method is a special method within a class that plays a central \n",
    "role in constructors. It is also known as the initializer method. The __init__ method is \n",
    "automatically called when you create a new instance (object) of a class. Its primary role \n",
    "is to initialize and set up the attributes or properties of the object based on the \n",
    "arguments provided during object creation.\n",
    "\n",
    "Here are the key aspects and roles of the __init__ method in Python:\n",
    "\n",
    "Initialization: The __init__ method is used to initialize the state of an object. It allows\n",
    "you to set the initial values of instance variables (attributes) based on the arguments \n",
    "passed to the constructor. This ensures that the object starts with meaningful and specific\n",
    "initial values.\n",
    "\n",
    "Automatic Invocation: When you create an instance of a class, Python automatically calls \n",
    "the __init__ method for that instance. You don't need to explicitly call it; Python handles \n",
    "the invocation for you.\n",
    "\n",
    "self Parameter: The __init__ method always takes at least one parameter, conventionally \n",
    "named self. The self parameter refers to the instance of the class being created and is \n",
    "used to access and manipulate instance variables within the constructor.\n",
    "\n",
    "Customization: The __init__ method allows you to customize object properties during \n",
    "creation by accepting arguments and using them to set the initial values of attributes. \n",
    "You can define the method to accept any number of arguments as needed.\n",
    "\"\"\""
   ]
  },
  {
   "cell_type": "code",
   "execution_count": 2,
   "id": "bff98dd1",
   "metadata": {},
   "outputs": [
    {
     "name": "stdout",
     "output_type": "stream",
     "text": [
      "Name: Alice\n",
      "Age: 30\n"
     ]
    }
   ],
   "source": [
    "# 5. In a class named `Person`, create a constructor that initializes the `name` and `age` \n",
    "# attributes. Provide an example of creating an object of this class.\n",
    "\n",
    "class Person:\n",
    "    def __init__(self, name, age):\n",
    "        self.name = name\n",
    "        self.age = age\n",
    "\n",
    "# Creating an instance of the Person class using the constructor\n",
    "person1 = Person(\"Alice\", 30)\n",
    "\n",
    "# Accessing object attributes\n",
    "print(\"Name:\", person1.name)\n",
    "print(\"Age:\", person1.age)"
   ]
  },
  {
   "cell_type": "code",
   "execution_count": 4,
   "id": "47d84064",
   "metadata": {},
   "outputs": [
    {
     "name": "stdout",
     "output_type": "stream",
     "text": [
      "Value1\n",
      "Value2\n"
     ]
    }
   ],
   "source": [
    "# 6. How can you call a constructor explicitly in Python? Give an example.\n",
    "\n",
    "\"\"\" In Python, you typically don't call a constructor explicitly. Constructors are \n",
    "automatically called when you create an instance of a class using the class name \n",
    "followed by parentheses, like this:\n",
    "\n",
    "object_name = ClassName(arguments)\n",
    "\"\"\"\n",
    "\n",
    "class MyClass:\n",
    "    def __init__(self, arg1, arg2):\n",
    "        self.attribute1 = arg1\n",
    "        self.attribute2 = arg2\n",
    "\n",
    "# Explicitly calling the constructor\n",
    "explicit_object = MyClass(\"Value1\", \"Value2\")\n",
    "\n",
    "# Accessing object attributes\n",
    "print(explicit_object.attribute1)  # Output: \"Value1\"\n",
    "print(explicit_object.attribute2)  # Output: \"Value2\""
   ]
  },
  {
   "cell_type": "code",
   "execution_count": 5,
   "id": "6cdf9290",
   "metadata": {},
   "outputs": [
    {
     "name": "stdout",
     "output_type": "stream",
     "text": [
      "Alice\n",
      "30\n",
      "Hi, I'm Alice and I'm 30 years old.\n"
     ]
    }
   ],
   "source": [
    "# 7. What is the significance of the `self` parameter in Python constructors? Explain with an example.\n",
    "\n",
    "\"\"\" In Python constructors, including the __init__ method, the self parameter is a \n",
    "reference to the instance of the class being created. It is a convention in Python to use \n",
    "the name self for this parameter, although you could technically use any name you like. \n",
    "The self parameter allows you to access and manipulate the instance's attributes and \n",
    "methods within the class.\"\"\"\n",
    "\n",
    "class Person:\n",
    "    def __init__(self, name, age):\n",
    "        self.name = name  # Initializes the 'name' attribute\n",
    "        self.age = age    # Initializes the 'age' attribute\n",
    "\n",
    "    def introduce(self):\n",
    "        print(f\"Hi, I'm {self.name} and I'm {self.age} years old.\")\n",
    "\n",
    "# Creating an instance of the Person class using the constructor\n",
    "person1 = Person(\"Alice\", 30)\n",
    "\n",
    "# Accessing object attributes and calling a method using 'self'\n",
    "print(person1.name) \n",
    "print(person1.age)  \n",
    "\n",
    "# Calling a method using 'self'\n",
    "person1.introduce() "
   ]
  },
  {
   "cell_type": "code",
   "execution_count": null,
   "id": "ade966d0",
   "metadata": {},
   "outputs": [],
   "source": [
    "# 8. Discuss the concept of default constructors in Python. When are they used?\n",
    "\n",
    "\"\"\" In Python, default constructors are not explicitly defined as they are in some other \n",
    "programming languages. Instead, Python provides a default constructor automatically for \n",
    "every class. This default constructor is the __init__ method with no additional parameters \n",
    "other than the required self parameter. It is provided by Python to initialize an instance's\n",
    "attributes when the object is created.\"\"\""
   ]
  },
  {
   "cell_type": "code",
   "execution_count": 6,
   "id": "e41ec81c",
   "metadata": {},
   "outputs": [
    {
     "name": "stdout",
     "output_type": "stream",
     "text": [
      "Width: 5\n",
      "Height: 10\n",
      "Area: 50\n"
     ]
    }
   ],
   "source": [
    "# 9. Create a Python class called `Rectangle` with a constructor that initializes the \n",
    "#`width` and `height` attributes. Provide a method to calculate the area of the rectangle.\n",
    "\n",
    "class Rectangle:\n",
    "    def __init__(self, width, height):\n",
    "        self.width = width\n",
    "        self.height = height\n",
    "\n",
    "    def calculate_area(self):\n",
    "        return self.width * self.height\n",
    "\n",
    "# Creating an instance of the Rectangle class using the constructor\n",
    "rectangle1 = Rectangle(5, 10)\n",
    "\n",
    "# Accessing object attributes and calculating the area\n",
    "print(\"Width:\", rectangle1.width)\n",
    "print(\"Height:\", rectangle1.height)\n",
    "print(\"Area:\", rectangle1.calculate_area()) "
   ]
  },
  {
   "cell_type": "code",
   "execution_count": null,
   "id": "186add73",
   "metadata": {},
   "outputs": [],
   "source": [
    "# 10. How can you have multiple constructors in a Python class? Explain with an example.\n",
    "\n",
    "\"\"\" In Python, you cannot have multiple constructors with different parameter signatures like you can in some other \n",
    "programming languages. However, you can achieve similar functionality by using default parameter values in a \n",
    "single constructor or by using optional arguments. This allows you to create instances with different sets of \n",
    "arguments, effectively simulating the behavior of multiple constructors.\"\"\""
   ]
  },
  {
   "cell_type": "code",
   "execution_count": null,
   "id": "7d6d15fb",
   "metadata": {},
   "outputs": [],
   "source": [
    "# 11. What is method overloading, and how is it related to constructors in Python?\n",
    "\n",
    "\"\"\" Method overloading is a concept in object-oriented programming where a class can have multiple methods with \n",
    "the same name but different parameter lists. The specific method to be executed is determined at compile time or \n",
    "runtime based on the number or types of arguments passed to it. In Python, unlike some other languages like Java \n",
    "or C++, method overloading is not directly supported because Python allows functions and methods to have multiple \n",
    "parameters with different types and default values.\n",
    "\n",
    "However, Python provides a way to achieve similar functionality using default values for function and method \n",
    "parameters. This means that you can define a single method with multiple parameters and provide default values \n",
    "for some of those parameters. Depending on how you call the method, the appropriate set of arguments will be used, \n",
    "effectively simulating method overloading.\"\"\""
   ]
  },
  {
   "cell_type": "code",
   "execution_count": 7,
   "id": "71658064",
   "metadata": {},
   "outputs": [
    {
     "name": "stdout",
     "output_type": "stream",
     "text": [
      "Name: Alice\n",
      "Age: 30\n"
     ]
    }
   ],
   "source": [
    "# 12. Explain the use of the `super()` function in Python constructors. Provide an example.\n",
    "\n",
    "\"\"\" the super() function is used in constructors to call the constructor of the parent (or superclass) in a class\n",
    "hierarchy. It allows you to initialize the attributes of the parent class before customizing them in the child \n",
    "class. The super() function is particularly useful in cases where you have a subclass that inherits from a \n",
    "superclass and you want to extend or override the behavior of the superclass constructor while still executing \n",
    "it.\n",
    "\n",
    "The basic syntax for using super() in a constructor is as follows:\n",
    "\n",
    "super().__init__(arguments)\n",
    "\n",
    "Eg)\"\"\"\n",
    "\n",
    "class Parent:\n",
    "    def __init__(self, name):\n",
    "        self.name = name\n",
    "\n",
    "    def display_info(self):\n",
    "        print(\"Name:\", self.name)\n",
    "\n",
    "class Child(Parent):\n",
    "    def __init__(self, name, age):\n",
    "        super().__init__(name)  # Call the constructor of the parent class\n",
    "        self.age = age\n",
    "\n",
    "    def display_info(self):\n",
    "        super().display_info()  # Call the display_info method of the parent class\n",
    "        print(\"Age:\", self.age)\n",
    "\n",
    "# Creating an instance of the Child class\n",
    "child = Child(\"Alice\", 30)\n",
    "\n",
    "# Accessing and displaying information\n",
    "child.display_info()"
   ]
  },
  {
   "cell_type": "code",
   "execution_count": 8,
   "id": "b1e36797",
   "metadata": {},
   "outputs": [
    {
     "name": "stdout",
     "output_type": "stream",
     "text": [
      "Title: The Catcher in the Rye\n",
      "Author: J.D. Salinger\n",
      "Published Year: 1951\n"
     ]
    }
   ],
   "source": [
    "# 13. Create a class called `Book` with a constructor that initializes the `title`, `author`, and `published_year` attributes. Provide a method to display book details.\n",
    "\n",
    "class Book:\n",
    "    def __init__(self, title, author, published_year):\n",
    "        self.title = title\n",
    "        self.author = author\n",
    "        self.published_year = published_year\n",
    "\n",
    "    def display_details(self):\n",
    "        print(\"Title:\", self.title)\n",
    "        print(\"Author:\", self.author)\n",
    "        print(\"Published Year:\", self.published_year)\n",
    "\n",
    "# Creating an instance of the Book class using the constructor\n",
    "book1 = Book(\"The Catcher in the Rye\", \"J.D. Salinger\", 1951)\n",
    "\n",
    "# Accessing object attributes and displaying book details\n",
    "book1.display_details()"
   ]
  },
  {
   "cell_type": "code",
   "execution_count": null,
   "id": "fb14678b",
   "metadata": {},
   "outputs": [],
   "source": [
    "# 14. Discuss the differences between constructors and regular methods in Python classes.\n",
    "\n",
    "\"\"\" Constructors and regular methods in Python classes serve different purposes and have distinct characteristics.\n",
    "Here are the key differences between constructors and regular methods in Python classes:\n",
    "\n",
    "Initialization vs. Action:\n",
    "Constructor: Constructors, typically named __init__, are used to initialize and set up the initial state of an \n",
    "object when it is created. They are automatically called when an instance of the class is created and primarily \n",
    "focus on attribute initialization.\n",
    "Regular Methods: Regular methods perform specific actions or operations on the object's attributes or perform some\n",
    "task unrelated to object initialization.\n",
    "\n",
    "Naming Conventions:\n",
    "Constructor: Constructors have a specific naming convention in Python, where they are named __init__. They are \n",
    "automatically called when an object is created and should always include the self parameter as the first parameter.\n",
    "Regular Methods: Regular methods can have any name that follows Python's naming rules, and their names do not need \n",
    "to adhere to any specific convention.\n",
    "\n",
    "Usage of self:\n",
    "Constructor: Constructors use the self parameter to access and set instance attributes within the class. The self \n",
    "parameter refers to the instance itself.\n",
    "Regular Methods: Regular methods also use the self parameter to access instance attributes and perform operations \n",
    "on them or on the instance itself.\n",
    "\n",
    "Return Values:\n",
    "Constructor: Constructors do not explicitly return any value. They are used solely for initializing attributes and \n",
    "do not return anything.\n",
    "Regular Methods: Regular methods can return values as needed. They can perform actions, computations, and return\n",
    "results or None if no return statement is used.\n",
    "\n",
    "Explicit Invocation:\n",
    "Constructor: Constructors are automatically called when an object is created, and you don't need to explicitly \n",
    "call them.\n",
    "Regular Methods: Regular methods must be explicitly called on an object. They are invoked when you use the\n",
    "object's name followed by the method name and parentheses.\n",
    "\n",
    "Multiple Instances:\n",
    "Constructor: Constructors are called once for each instance of a class when you create objects. Each instance has \n",
    "its own constructor call.\n",
    "Regular Methods: Regular methods can be called multiple times on the same instance, and they operate on the \n",
    "specific instance from which they are called. \"\"\""
   ]
  },
  {
   "cell_type": "code",
   "execution_count": null,
   "id": "c0a5aa73",
   "metadata": {},
   "outputs": [],
   "source": [
    "# 15. Explain the role of the `self` parameter in instance variable initialization within a constructor.\n",
    "\n",
    "\"\"\" The self parameter in a Python constructor plays a crucial role in instance variable initialization. It is \n",
    "used to refer to the instance of the class that is being created or manipulated. Within the constructor, self \n",
    "allows you to access and set instance variables (attributes) for that specific instance. Here's a detailed \n",
    "explanation of the role of the self parameter in instance variable initialization within a constructor:\n",
    "\n",
    "Reference to the Instance: When you create an instance of a class, such as obj = MyClass(), self within the \n",
    "constructor refers to that specific instance (obj). It distinguishes one instance from another, allowing you to \n",
    "work with individual objects separately.\n",
    "\n",
    "Attribute Initialization: Inside the constructor (__init__ method), self is used to initialize instance variables \n",
    "by assigning values to them. For example, self.attribute_name = initial_value initializes the attribute \n",
    "attribute_name of the current instance with the specified initial_value.\n",
    "\n",
    "Accessing Instance Variables: After initialization, self is used to access instance variables (attributes) anywhere\n",
    "within the class. For example, you can use self.attribute_name to retrieve the value of attribute_name.\n",
    "\n",
    "Instance-Specific State: Since each instance of a class can have its own set of attribute values, self ensures \n",
    "that changes to attributes affect only the instance it references. This allows you to maintain separate state \n",
    "information for each object created from the class.\n",
    "\"\"\""
   ]
  },
  {
   "cell_type": "code",
   "execution_count": null,
   "id": "e00f56da",
   "metadata": {},
   "outputs": [],
   "source": [
    "# 16. How do you prevent a class from having multiple instances by using constructors in Python? Provide an example.\n",
    "\n",
    "\"\"\" In Python, you can prevent a class from having multiple instances (i.e., enforce a Singleton design pattern) by \n",
    "implementing a Singleton pattern within the class using various techniques. The Singleton pattern ensures that a \n",
    "class has only one instance throughout the lifetime of the program. One common way to achieve this is by using a \n",
    "class variable to store the single instance and controlling its creation within the constructor.\n",
    "\n",
    "Here's an example of implementing a Singleton pattern using a constructor in Python: \"\"\"\n",
    "\n",
    "class Singleton:\n",
    "    def __init__(self, value):\n",
    "        if self.value is None:\n",
    "            self.value = value\n",
    "    _instance = None  # Class variable to store the single instance\n",
    "\n",
    "    def __new__(cls):\n",
    "        if cls._instance is None:\n",
    "            cls._instance = super(Singleton, cls).__new__(cls)\n",
    "            cls._instance.value = None\n",
    "        return cls._instance\n",
    "\n",
    "# Creating instances of the Singleton class\n",
    "singleton1 = Singleton(\"Instance 1\")\n",
    "singleton2 = Singleton(\"Instance 2\")\n",
    "\n",
    "# Checking if both instances are the same object\n",
    "print(singleton1 is singleton2)  # Output: True"
   ]
  },
  {
   "cell_type": "code",
   "execution_count": 14,
   "id": "0dd73ac0",
   "metadata": {},
   "outputs": [
    {
     "name": "stdout",
     "output_type": "stream",
     "text": [
      "Student 1 Subjects: ['Math', 'Science', 'History']\n"
     ]
    }
   ],
   "source": [
    "# 17. Create a Python class called `Student` with a constructor that takes a list of subjects as a parameter and initializes the `subjects` attribute.\n",
    "\n",
    "class Student:\n",
    "    def __init__(self, subjects):\n",
    "        self.subjects = subjects\n",
    "\n",
    "# Creating an instance of the Student class using the constructor\n",
    "student1 = Student([\"Math\", \"Science\", \"History\"])\n",
    "\n",
    "# Accessing and displaying the subjects attribute\n",
    "print(\"Student 1 Subjects:\", student1.subjects)"
   ]
  },
  {
   "cell_type": "code",
   "execution_count": null,
   "id": "e9cc13d2",
   "metadata": {},
   "outputs": [],
   "source": [
    "# 18. What is the purpose of the `__del__` method in Python classes, and how does it relate to constructors?\n",
    "\n",
    "\"\"\" The __del__ method in Python classes, also known as the destructor method, serves the purpose of cleaning up \n",
    "resources or performing cleanup operations when an instance of a class is about to be destroyed or garbage \n",
    "collected. It is called automatically by Python's garbage collector just before the object is removed from memory.\n",
    "\n",
    "The constructor (__init__) and destructor (__del__) methods are related in the sense that the constructor \n",
    "initializes an object's state, while the destructor is responsible for cleaning up that state when the object is \n",
    "no longer needed. In many cases, the resources allocated in the constructor need to be released in the destructor \n",
    "to avoid resource leaks.\"\"\""
   ]
  },
  {
   "cell_type": "code",
   "execution_count": 15,
   "id": "a6346fed",
   "metadata": {},
   "outputs": [
    {
     "name": "stdout",
     "output_type": "stream",
     "text": [
      "Make: Toyota\n",
      "Model: Camry\n",
      "Year: 2022\n"
     ]
    }
   ],
   "source": [
    "# 19. Explain the use of constructor chaining in Python. Provide a practical example.\n",
    "\n",
    "\"\"\" Constructor chaining in Python refers to the process of one constructor calling another constructor within \n",
    "the same class or in a parent class. This allows you to reuse initialization logic from one constructor in another\n",
    "constructor, promoting code reusability and reducing redundancy.\n",
    "\n",
    "To achieve constructor chaining, you use the super() function to call the constructor of the parent class, passing \n",
    "the necessary arguments. By chaining constructors, you can ensure that common initialization logic is executed \n",
    "before class-specific initialization. \"\"\"\n",
    "\n",
    "class Vehicle:\n",
    "    def __init__(self, make, model):\n",
    "        self.make = make\n",
    "        self.model = model\n",
    "\n",
    "class Car(Vehicle):\n",
    "    def __init__(self, make, model, year):\n",
    "        super().__init__(make, model)  # Call the constructor of the parent class\n",
    "        self.year = year\n",
    "\n",
    "    def display_info(self):\n",
    "        print(f\"Make: {self.make}\")\n",
    "        print(f\"Model: {self.model}\")\n",
    "        print(f\"Year: {self.year}\")\n",
    "\n",
    "# Creating an instance of the Car class using constructor chaining\n",
    "my_car = Car(\"Toyota\", \"Camry\", 2022)\n",
    "\n",
    "# Displaying car information\n",
    "my_car.display_info()"
   ]
  },
  {
   "cell_type": "code",
   "execution_count": 16,
   "id": "562b1e72",
   "metadata": {},
   "outputs": [
    {
     "name": "stdout",
     "output_type": "stream",
     "text": [
      "Make: Unknown\n",
      "Model: Unknown\n"
     ]
    }
   ],
   "source": [
    "# 20. Create a Python class called `Car` with a default constructor that initializes the `make` and `model` attributes. Provide a method to display car information.\n",
    "\n",
    "class Car:\n",
    "    def __init__(self, make=\"Unknown\", model=\"Unknown\"):\n",
    "        self.make = make\n",
    "        self.model = model\n",
    "\n",
    "    def display_info(self):\n",
    "        print(\"Make:\", self.make)\n",
    "        print(\"Model:\", self.model)\n",
    "\n",
    "# Creating an instance of the Car class using the default constructor\n",
    "my_car = Car()\n",
    "\n",
    "# Accessing and displaying car information\n",
    "my_car.display_info()"
   ]
  }
 ],
 "metadata": {
  "kernelspec": {
   "display_name": "Python 3 (ipykernel)",
   "language": "python",
   "name": "python3"
  },
  "language_info": {
   "codemirror_mode": {
    "name": "ipython",
    "version": 3
   },
   "file_extension": ".py",
   "mimetype": "text/x-python",
   "name": "python",
   "nbconvert_exporter": "python",
   "pygments_lexer": "ipython3",
   "version": "3.11.5"
  }
 },
 "nbformat": 4,
 "nbformat_minor": 5
}
