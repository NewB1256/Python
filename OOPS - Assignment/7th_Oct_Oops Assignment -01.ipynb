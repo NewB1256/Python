{
 "cells": [
  {
   "cell_type": "markdown",
   "id": "88d642dd",
   "metadata": {},
   "source": [
    "# OOPS - ASSIGNMENT - 01"
   ]
  },
  {
   "cell_type": "markdown",
   "id": "fbf5d7be",
   "metadata": {},
   "source": [
    "**Problem 1:**  Bank Account Create a class representing a bank account with attributes like account number, account holder name, and balance. Implement methods to deposit and withdraw money from the account. "
   ]
  },
  {
   "cell_type": "code",
   "execution_count": 4,
   "id": "42acc66d",
   "metadata": {},
   "outputs": [
    {
     "name": "stdout",
     "output_type": "stream",
     "text": [
      "Deposited $10000. New balance: $10000\n",
      "Withdrew $400. New balance: $9600\n",
      "Account balance for PwSkills: $9600\n"
     ]
    }
   ],
   "source": [
    "class BankAccount:\n",
    "    def __init__(self, account_number, account_holder_name, balance=0):\n",
    "        self.acc_na = account_number\n",
    "        self.acc_holder_name = account_holder_name\n",
    "        self.bal = balance\n",
    "\n",
    "    def deposit(self, amt):\n",
    "        if amt > 0:\n",
    "            self.bal += amt\n",
    "            print(f\"Deposited ${amt}. New balance: ${self.bal}\")\n",
    "        else:\n",
    "            print(\"Invalid deposit amount. Amount must be greater than 0.\")\n",
    "\n",
    "    def withdraw(self, amt):\n",
    "        if amt > 0 and amt <= self.bal:\n",
    "            self.bal -= amt\n",
    "            print(f\"Withdrew ${amt}. New balance: ${self.bal}\")\n",
    "        else:\n",
    "            print(\"Invalid withdrawal amount or insufficient balance.\")\n",
    "\n",
    "    def get_bal(self):\n",
    "        print(f\"Account balance for {self.acc_holder_name}: ${self.bal}\")\n",
    "\n",
    "pw_acc = BankAccount(\"1256\", \"PwSkills\")\n",
    "pw_acc.deposit(10000)\n",
    "pw_acc.withdraw(400)\n",
    "pw_acc.get_bal()"
   ]
  },
  {
   "cell_type": "markdown",
   "id": "b8bfaff3",
   "metadata": {},
   "source": [
    "**Problem 2:** Employee Management Create a class representing an employee with attributes like employee ID, name, and salary. Implement methods to calculate the yearly bonus and display employee details."
   ]
  },
  {
   "cell_type": "code",
   "execution_count": 6,
   "id": "316a6f79",
   "metadata": {},
   "outputs": [
    {
     "name": "stdout",
     "output_type": "stream",
     "text": [
      "Yearly Bonus Employee Harsh gets is 57600.0\n",
      "Employee ID: 1256\n",
      "Name: Harsh\n",
      "Salary: $120000\n"
     ]
    }
   ],
   "source": [
    "class Employee:\n",
    "    def __init__(self, emp_id, name, sal):\n",
    "        self.emp_id = emp_id\n",
    "        self.name = name\n",
    "        self.sal = sal\n",
    "\n",
    "    def calc_bonus(self, bonus_percentage):\n",
    "        if bonus_percentage >= 0:\n",
    "            bonus = (bonus_percentage / 100) * self.sal\n",
    "            return bonus\n",
    "        else:\n",
    "            return \"Invalid bonus percentage. It must be a non-negative number.\"\n",
    "\n",
    "    def display_details(self):\n",
    "        details = f\"Employee ID: {self.emp_id}\\nName: {self.name}\\nSalary: ${self.sal}\"\n",
    "        return details\n",
    "    \n",
    "Pw_Emp = Employee(1256,'Harsh',120000)\n",
    "print(f\"Yearly Bonus Employee {Pw_Emp.name} gets is {Pw_Emp.calc_bonus(48)}\")\n",
    "print(Pw_Emp.display_details())"
   ]
  },
  {
   "cell_type": "markdown",
   "id": "f2c1c5e5",
   "metadata": {},
   "source": [
    "**Problem 3:** Vehicle Rental Create a class representing a vehicle rental system. Implement methods to rent a vehicle, return a vehicle, and display available vehicles."
   ]
  },
  {
   "cell_type": "code",
   "execution_count": 9,
   "id": "6e7c9896",
   "metadata": {},
   "outputs": [
    {
     "name": "stdout",
     "output_type": "stream",
     "text": [
      "Added Car with ID V007 to available vehicles.\n",
      "Added Bike with ID V005 to available vehicles.\n",
      "----**----\n",
      "Available Vehicles:\n",
      "ID: V007, Type: Car\n",
      "ID: V005, Type: Bike\n",
      "----**----\n",
      "JOE has rented Car with ID V007.\n",
      "Available Vehicles:\n",
      "ID: V005, Type: Bike\n",
      "----**----\n",
      "Vehicle with ID V005 is not currently rented or does not exist.\n",
      "Available Vehicles:\n",
      "ID: V005, Type: Bike\n"
     ]
    }
   ],
   "source": [
    "class VehicleRentalSystem:\n",
    "    def __init__(self):\n",
    "        self.available_vehicles = {}\n",
    "        self.rented_vehicles = {}\n",
    "\n",
    "    def add_vehicle(self, vehicle_id, vehicle_type):\n",
    "        if vehicle_id not in self.available_vehicles:\n",
    "            self.available_vehicles[vehicle_id] = vehicle_type\n",
    "            print(f\"Added {vehicle_type} with ID {vehicle_id} to available vehicles.\")\n",
    "        else:\n",
    "            print(f\"Vehicle with ID {vehicle_id} already exists.\")\n",
    "\n",
    "    def rent_vehicle(self, vehicle_id, renter_name):\n",
    "        if vehicle_id in self.available_vehicles:\n",
    "            vehicle_type = self.available_vehicles.pop(vehicle_id)\n",
    "            self.rented_vehicles[vehicle_id] = (vehicle_type, renter_name)\n",
    "            print(f\"{renter_name} has rented {vehicle_type} with ID {vehicle_id}.\")\n",
    "        else:\n",
    "            print(f\"Vehicle with ID {vehicle_id} is not available for rent or does not exist.\")\n",
    "\n",
    "    def return_vehicle(self, vehicle_id):\n",
    "        if vehicle_id in self.rented_vehicles:\n",
    "            vehicle_type, renter_name = self.rented_vehicles.pop(vehicle_id)\n",
    "            self.available_vehicles[vehicle_id] = vehicle_type\n",
    "            print(f\"{renter_name} has returned {vehicle_type} with ID {vehicle_id}.\")\n",
    "        else:\n",
    "            print(f\"Vehicle with ID {vehicle_id} is not currently rented or does not exist.\")\n",
    "\n",
    "    def display_available_vehicles(self):\n",
    "        print(\"Available Vehicles:\")\n",
    "        for vehicle_id, vehicle_type in self.available_vehicles.items():\n",
    "            print(f\"ID: {vehicle_id}, Type: {vehicle_type}\")\n",
    "\n",
    "\n",
    "Shop1 = VehicleRentalSystem()\n",
    "\n",
    "Shop1.add_vehicle(\"V007\", \"Car\")\n",
    "Shop1.add_vehicle(\"V005\", \"Bike\")\n",
    "print(\"----**----\")\n",
    "Shop1.display_available_vehicles()\n",
    "print(\"----**----\")\n",
    "Shop1.rent_vehicle(\"V007\", \"JOE\")\n",
    "Shop1.display_available_vehicles()\n",
    "print(\"----**----\")\n",
    "Shop1.return_vehicle(\"V005\")\n",
    "Shop1.display_available_vehicles()"
   ]
  },
  {
   "cell_type": "markdown",
   "id": "2e8434fb",
   "metadata": {},
   "source": [
    "**Problem 4:** Library Catalog Create classes representing a library and a book. Implement methods to add books to the library, borrow books, and display available books."
   ]
  },
  {
   "cell_type": "code",
   "execution_count": 11,
   "id": "56b8a923",
   "metadata": {},
   "outputs": [
    {
     "name": "stdout",
     "output_type": "stream",
     "text": [
      "You've borrowed 'The Great Gatsby'.\n",
      "Sorry, this book is not available.\n",
      "Sorry, this book is not available.\n"
     ]
    }
   ],
   "source": [
    "class Library:\n",
    "    def __init__(self):\n",
    "        self.books = {}\n",
    "        \n",
    "    def add_book(self, title):\n",
    "        self.books[title] = True\n",
    "\n",
    "    def books_borrowed(self, title):\n",
    "        if title in self.books and self.books[title]:\n",
    "            self.books[title] = False\n",
    "            return f\"You've borrowed '{title}'.\"\n",
    "        return \"Sorry, this book is not available.\"\n",
    "\n",
    "    def returned_book(self, title):\n",
    "        if title in self.books:\n",
    "            self.books[title] = True\n",
    "\n",
    "pw_lib = Library()\n",
    "\n",
    "pw_lib.add_book(\"The Great Gatsby\")\n",
    "pw_lib .add_book(\"To Kill a Mockingbird\")\n",
    "\n",
    "print(pw_lib.books_borrowed(\"The Great Gatsby\"))\n",
    "print(pw_lib.books_borrowed(\"The Great Gatsby\"))\n",
    "print(pw_lib.books_borrowed(\"Harry Potter\"))\n",
    "pw_lib.returned_book(\"The Great Gatsby\")"
   ]
  },
  {
   "cell_type": "markdown",
   "id": "63b1d0d7",
   "metadata": {},
   "source": [
    "**Problem 5:** Product Inventory Create classes representing a product and an inventory system. Implement methods to add products to the inventory, update product quantity, and display available products."
   ]
  },
  {
   "cell_type": "code",
   "execution_count": 18,
   "id": "2c718b8b",
   "metadata": {},
   "outputs": [
    {
     "name": "stdout",
     "output_type": "stream",
     "text": [
      "Available Products:\n",
      "Product ID: P001\n",
      "Name: Widget\n",
      "Price: $10.99\n",
      "Quantity: 100\n",
      "Product ID: P002\n",
      "Name: Gadget\n",
      "Price: $19.99\n",
      "Quantity: 50\n",
      "----**----\n",
      "Available Products:\n",
      "Product ID: P001\n",
      "Name: Widget\n",
      "Price: $10.99\n",
      "Quantity: 80\n",
      "Product ID: P002\n",
      "Name: Gadget\n",
      "Price: $19.99\n",
      "Quantity: 50\n"
     ]
    }
   ],
   "source": [
    "class Product:\n",
    "    def __init__(self, product_id, name, price, quantity):\n",
    "        self.product_id = product_id\n",
    "        self.name = name\n",
    "        self.price = price\n",
    "        self.quantity = quantity\n",
    "\n",
    "    def update_quantity(self, new_quantity):\n",
    "        self.quantity = new_quantity\n",
    "\n",
    "    def __str__(self):\n",
    "        return f\"Product ID: {self.product_id}\\nName: {self.name}\\nPrice: ${self.price}\\nQuantity: {self.quantity}\"\n",
    "\n",
    "class Inventory:\n",
    "    def __init__(self):\n",
    "        self.products = {}\n",
    "\n",
    "    def add_product(self, product_id, name, price, quantity):\n",
    "        product = Product(product_id, name, price, quantity)\n",
    "        self.products[product_id] = product\n",
    "\n",
    "    def display_available_products(self):\n",
    "        print(\"Available Products:\")\n",
    "        for product_id, product in self.products.items():\n",
    "            print(product)\n",
    "\n",
    "\n",
    "inventory1 = Inventory()\n",
    "\n",
    "inventory1.add_product(\"P001\", \"Widget\", 10.99, 100)\n",
    "inventory1.add_product(\"P002\", \"Gadget\", 19.99, 50)\n",
    "\n",
    "inventory1.display_available_products()\n",
    "print(\"----**----\")\n",
    "inventory1.products[\"P001\"].update_quantity(80)\n",
    "inventory1.display_available_products()"
   ]
  },
  {
   "cell_type": "markdown",
   "id": "413b6e03",
   "metadata": {},
   "source": [
    "**Problem 6:** Shape Calculation Create a class representing a shape with attributes like length, width, and height. Implement methods to calculate the area and perimeter of the shape."
   ]
  },
  {
   "cell_type": "code",
   "execution_count": 16,
   "id": "48fb1811",
   "metadata": {},
   "outputs": [
    {
     "name": "stdout",
     "output_type": "stream",
     "text": [
      "Rectangle Area: 20\n",
      "Rectangle Perimeter: 18\n",
      "----**----\n",
      "Triangle Area: 10.0\n",
      "Triangle Perimeter: 12\n"
     ]
    }
   ],
   "source": [
    "class Shape:\n",
    "    def __init__(self, length, width, height):\n",
    "        self.length = length\n",
    "        self.width = width\n",
    "        self.height = height\n",
    "\n",
    "    def calculate_area(self):\n",
    "        pass\n",
    "\n",
    "    def calculate_perimeter(self):\n",
    "        pass\n",
    "\n",
    "class Rectangle(Shape):\n",
    "    def calculate_area(self):\n",
    "        return self.length * self.width\n",
    "\n",
    "    def calculate_perimeter(self):\n",
    "        return 2 * (self.length + self.width)\n",
    "\n",
    "class Triangle(Shape):\n",
    "    def calculate_area(self):\n",
    "        return 0.5 * self.width * self.height\n",
    "\n",
    "    def calculate_perimeter(self):\n",
    "        return self.length + self.width + self.height\n",
    "\n",
    "rectangle = Rectangle(5, 4, 0)\n",
    "triangle = Triangle(3, 4, 5)\n",
    "\n",
    "print(\"Rectangle Area:\", rectangle.calculate_area())\n",
    "print(\"Rectangle Perimeter:\", rectangle.calculate_perimeter())\n",
    "print(\"----**----\")\n",
    "print(\"Triangle Area:\", triangle.calculate_area())\n",
    "print(\"Triangle Perimeter:\", triangle.calculate_perimeter())"
   ]
  },
  {
   "cell_type": "markdown",
   "id": "2753c765",
   "metadata": {},
   "source": [
    "**Problem 7:** Student Management Create a class representing a student with attributes like student ID, name, and grades. Implement methods to calculate the average grade and display student details."
   ]
  },
  {
   "cell_type": "code",
   "execution_count": 26,
   "id": "f59e986f",
   "metadata": {},
   "outputs": [
    {
     "name": "stdout",
     "output_type": "stream",
     "text": [
      "Student ID: S001\n",
      "Name: John Doe\n",
      "Average Grade: 83.146\n"
     ]
    }
   ],
   "source": [
    "class Student:\n",
    "    def __init__(self, student_id, name, grades):\n",
    "        self.student_id = student_id\n",
    "        self.name = name\n",
    "        self.grades = grades\n",
    "\n",
    "    def cal_avg_grade(self):\n",
    "        if self.grades:\n",
    "            return sum(self.grades) / len(self.grades)\n",
    "        else:\n",
    "            return 0\n",
    "\n",
    "    def display_details(self):\n",
    "        return f\"Student ID: {self.student_id}\\nName: {self.name}\\nAverage Grade: {self.cal_avg_grade()}\"\n",
    "\n",
    "pw_stu = Student(\"S001\", \"John Doe\", [85, 91, 81.2, 76.8, 81.73])\n",
    "\n",
    "print(pw_stu.display_details())"
   ]
  },
  {
   "cell_type": "markdown",
   "id": "ae7a4611",
   "metadata": {},
   "source": [
    "**Problem 8:** Email Management Create a class representing an email with attributes like sender, recipient, and subject. Implement methods to send an email and display email details.\n"
   ]
  },
  {
   "cell_type": "code",
   "execution_count": 28,
   "id": "69a34016",
   "metadata": {},
   "outputs": [
    {
     "name": "stdout",
     "output_type": "stream",
     "text": [
      "Sender: sender@example.com\n",
      "Recipient: recipient@example.com\n",
      "Subject: Hello\n",
      "Status: Not Sent\n",
      "----**----\n",
      "Email from sender@example.com to recipient@example.com with subject 'Hello' has been sent.\n",
      "----**----\n",
      "Sender: sender@example.com\n",
      "Recipient: recipient@example.com\n",
      "Subject: Hello\n",
      "Status: Sent\n"
     ]
    }
   ],
   "source": [
    "class Email:\n",
    "    def __init__(self, sender, recipient, subject, message):\n",
    "        self.sender = sender\n",
    "        self.recipient = recipient\n",
    "        self.subject = subject\n",
    "        self.message = message\n",
    "        self.is_sent = False\n",
    "\n",
    "    def send_email(self):\n",
    "        self.is_sent = True\n",
    "        return f\"Email from {self.sender} to {self.recipient} with subject '{self.subject}' has been sent.\"\n",
    "\n",
    "    def display_details(self):\n",
    "        status = \"Sent\" if self.is_sent else \"Not Sent\"\n",
    "        return f\"Sender: {self.sender}\\nRecipient: {self.recipient}\\nSubject: {self.subject}\\nStatus: {status}\"\n",
    "\n",
    "\n",
    "PwSkills_Email = Email(\"sender@example.com\", \"recipient@example.com\", \"Hello\", \"This is a test email message.\")\n",
    "\n",
    "print(PwSkills_Email.display_details())\n",
    "print(\"----**----\")\n",
    "print(PwSkills_Email.send_email())\n",
    "print(\"----**----\")\n",
    "print(PwSkills_Email.display_details())"
   ]
  },
  {
   "cell_type": "markdown",
   "id": "e580080f",
   "metadata": {},
   "source": [
    "**Problem 9:** Social Media Profile Create a class representing a social media profile with attributes like username and posts. Implement methods to add posts, display posts, and search for posts by keyword."
   ]
  },
  {
   "cell_type": "code",
   "execution_count": 34,
   "id": "5ed535b2",
   "metadata": {},
   "outputs": [
    {
     "name": "stdout",
     "output_type": "stream",
     "text": [
      "Enter a keyword to search the respective post: PwSkills\n",
      "Posts containing 'PwSkills':\n",
      "----**----\n",
      "Thanks for joining PwSkills\n",
      "Just had a great meal at a new cafe in PwSkills Office\n"
     ]
    }
   ],
   "source": [
    "class SocialMediaProfile:\n",
    "    def __init__(self, username):\n",
    "        self.username = username\n",
    "        self.posts = []\n",
    "\n",
    "    def add_post(self, post_content):\n",
    "        self.posts.append(post_content)\n",
    "\n",
    "    def display_posts(self):\n",
    "        return self.posts\n",
    "\n",
    "    def search_posts(self, keyword):\n",
    "        return [post for post in self.posts if keyword in post]\n",
    "\n",
    "PwSkill_Profile = SocialMediaProfile(\"PwSkills\")\n",
    "PwSkill_Profile.add_post(\"Thanks for joining PwSkills\")\n",
    "PwSkill_Profile.add_post(\"Just had a great meal at a new cafe in PwSkills Office\")\n",
    "PwSkill_Profile.add_post(\"Visited the college today and The weather was amazing.\")\n",
    "\n",
    "key = input(\"Enter a keyword to search the respective post: \")\n",
    "matched_posts = PwSkill_Profile.search_posts(key)\n",
    "print(f\"Posts containing '{key}':\")\n",
    "print(\"----**----\")\n",
    "for i in matched_posts:\n",
    "    print(i)"
   ]
  },
  {
   "cell_type": "markdown",
   "id": "059d9609",
   "metadata": {},
   "source": [
    "**Problem 10:** ToDo List Create a class representing a ToDo list with attributes like tasks and due dates. Implement methods to add tasks, mark tasks as completed, and display pending tasks."
   ]
  },
  {
   "cell_type": "code",
   "execution_count": 35,
   "id": "6c5fa481",
   "metadata": {},
   "outputs": [
    {
     "name": "stdout",
     "output_type": "stream",
     "text": [
      "Pending Tasks:\n",
      "Buy groceries\n",
      "Finish PwSkills Assignments\n",
      "Call mom\n"
     ]
    }
   ],
   "source": [
    "class ToDoList:\n",
    "    def __init__(self):\n",
    "        self.tasks = []\n",
    "\n",
    "    def add_task(self, task):\n",
    "        self.tasks.append({\"task\": task, \"completed\": False})\n",
    "\n",
    "    def task_completed(self, task_name):\n",
    "        for task in self.tasks:\n",
    "            if task[\"task\"] == task_name:\n",
    "                task[\"completed\"] = True\n",
    "\n",
    "    def pending_tasks(self):\n",
    "        return [task for task in self.tasks if not task[\"completed\"]]\n",
    "\n",
    "\n",
    "my_todo_list = ToDoList()\n",
    "\n",
    "\n",
    "my_todo_list.add_task(\"Buy groceries\")\n",
    "my_todo_list.add_task(\"Finish PwSkills Assignments\")\n",
    "my_todo_list.add_task(\"Go Party\")\n",
    "my_todo_list.add_task(\"Call mom\")\n",
    "\n",
    "my_todo_list.task_completed(\"Go Party\")\n",
    "\n",
    "\n",
    "pending_tasks = my_todo_list.pending_tasks()\n",
    "print(\"Pending Tasks:\")\n",
    "for task in pending_tasks:\n",
    "    print(task[\"task\"])\n"
   ]
  }
 ],
 "metadata": {
  "kernelspec": {
   "display_name": "Python 3 (ipykernel)",
   "language": "python",
   "name": "python3"
  },
  "language_info": {
   "codemirror_mode": {
    "name": "ipython",
    "version": 3
   },
   "file_extension": ".py",
   "mimetype": "text/x-python",
   "name": "python",
   "nbconvert_exporter": "python",
   "pygments_lexer": "ipython3",
   "version": "3.11.5"
  }
 },
 "nbformat": 4,
 "nbformat_minor": 5
}
