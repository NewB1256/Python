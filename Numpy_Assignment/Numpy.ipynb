{
 "cells": [
  {
   "cell_type": "markdown",
   "id": "e9a44e21",
   "metadata": {},
   "source": [
    "# Numpy Assignment"
   ]
  },
  {
   "cell_type": "code",
   "execution_count": null,
   "id": "73e83c3d",
   "metadata": {},
   "outputs": [],
   "source": [
    "# 1. What is a Python library? Why do we use Python libraries?\n",
    "\n",
    "\"\"\" A Python library is a collection of modules and functions that extend the capabilities of the Python \n",
    "programming language. These libraries provide pre-written code to perform specific tasks, making it easier for \n",
    "developers to implement functionalities without having to start from scratch. Python libraries cover a wide range \n",
    "of domains, including mathematics, data analysis, machine learning, web development, networking, and more.\"\"\""
   ]
  },
  {
   "cell_type": "code",
   "execution_count": null,
   "id": "14ed3ffb",
   "metadata": {},
   "outputs": [],
   "source": [
    "# 2. What is the difference between Numpy array and List?\n",
    "\n",
    "\"\"\"\n",
    "1. Performance: NumPy arrays are more efficient for numerical operations than lists. NumPy is optimized for \n",
    "array operations, which are implemented in C, resulting in faster execution compared to the more general-purpose \n",
    "Python lists.\n",
    "\n",
    "2. Homogeneity: NumPy arrays have a fixed data type for all elements, ensuring homogeneity. In contrast, Python\n",
    "lists can contain elements of different data types.\n",
    "\n",
    "3. Memory Consumption: NumPy arrays generally consume less memory than lists. NumPy uses a contiguous block of \n",
    "memory, whereas lists are more flexible, leading to higher memory overhead.\n",
    "\n",
    "4. Ease of Use: NumPy provides a variety of built-in functions and operations specifically designed for array \n",
    "manipulation. This makes it easier and more convenient to perform mathematical and logical operations on NumPy \n",
    "arrays compared to lists.\n",
    "\n",
    "5. Functionality: NumPy arrays support vectorized operations, broadcasting, and other advanced mathematical \n",
    "functions, making them suitable for numerical computing. Lists, being more general-purpose, lack these specialized \n",
    "functionalities.\n",
    "\"\"\"\"\"\""
   ]
  },
  {
   "cell_type": "code",
   "execution_count": 1,
   "id": "67121733",
   "metadata": {},
   "outputs": [
    {
     "name": "stdout",
     "output_type": "stream",
     "text": [
      "Shape of the array: (3, 4)\n",
      "Size of the array: 12\n",
      "Dimension of the array: 2\n"
     ]
    }
   ],
   "source": [
    "# 3.Find the shape, size and dimension of the following array? [[1, 2, 3, 4], [5, 6, 7, 8], [9, 10, 11, 12]]\n",
    "\n",
    "import numpy as np\n",
    "my_array = np.array([[1, 2, 3, 4], [5, 6, 7, 8], [9, 10, 11, 12]])\n",
    "\n",
    "# Shape\n",
    "shape_of_array = my_array.shape\n",
    "print(\"Shape of the array:\", shape_of_array)\n",
    "\n",
    "# Size\n",
    "size_of_array = my_array.size\n",
    "print(\"Size of the array:\", size_of_array)\n",
    "\n",
    "# Dimension\n",
    "dimension_of_array = my_array.ndim\n",
    "print(\"Dimension of the array:\", dimension_of_array)"
   ]
  },
  {
   "cell_type": "code",
   "execution_count": 2,
   "id": "cc562dd1",
   "metadata": {},
   "outputs": [
    {
     "name": "stdout",
     "output_type": "stream",
     "text": [
      "First row of the array: [1 2 3 4]\n"
     ]
    }
   ],
   "source": [
    "# 4. Write python code to access the first row of the following array? [[1, 2, 3, 4], [5, 6, 7, 8], [9, 10, 11, 12]]\n",
    "\n",
    "my_array = np.array([[1, 2, 3, 4], [5, 6, 7, 8], [9, 10, 11, 12]])\n",
    "\n",
    "\n",
    "first_row = my_array[0, :]\n",
    "print(\"First row of the array:\", first_row)"
   ]
  },
  {
   "cell_type": "code",
   "execution_count": 3,
   "id": "a038b184",
   "metadata": {},
   "outputs": [
    {
     "name": "stdout",
     "output_type": "stream",
     "text": [
      "Element at the third row and fourth column: 12\n"
     ]
    }
   ],
   "source": [
    "# 5. How do you access the element at the third row and fourth column from the given numpy array? [[1, 2, 3, 4], [5, 6, 7, 8], [9, 10, 11, 12]]\n",
    "\n",
    "my_array = np.array([[1, 2, 3, 4], [5, 6, 7, 8], [9, 10, 11, 12]])\n",
    "\n",
    "element = my_array[2, 3]\n",
    "print(\"Element at the third row and fourth column:\", element)"
   ]
  },
  {
   "cell_type": "code",
   "execution_count": 4,
   "id": "9cc468d2",
   "metadata": {},
   "outputs": [
    {
     "name": "stdout",
     "output_type": "stream",
     "text": [
      "Odd-indexed elements from the array:\n",
      "[ 2  4  6  8 10 12]\n"
     ]
    }
   ],
   "source": [
    "# 6. Write code to extract all odd-indexed elements from the given numpy array? [[1, 2, 3, 4], [5, 6, 7, 8],[9, 10, 11, 12]]\n",
    "\n",
    "my_array = np.array([[1, 2, 3, 4], [5, 6, 7, 8], [9, 10, 11, 12]])\n",
    "\n",
    "odd_indexed_elements = my_array[:, 1::2]\n",
    "\n",
    "print(\"Odd-indexed elements from the array:\")\n",
    "print(odd_indexed_elements.flatten())"
   ]
  },
  {
   "cell_type": "code",
   "execution_count": null,
   "id": "aa5453ea",
   "metadata": {},
   "outputs": [],
   "source": [
    "# 7. How can you generate a random 3x3 matrix with values between 0 and 1?\n",
    "\n",
    "random_matrix = np.random.rand(3, 3)\n",
    "\n",
    "print(\"Random 3x3 matrix:\")\n",
    "print(random_matrix)"
   ]
  },
  {
   "cell_type": "code",
   "execution_count": null,
   "id": "1e55f74f",
   "metadata": {},
   "outputs": [],
   "source": [
    "# 8. Describe the difference between np.random.rand and np.random.randn?\n",
    "\n",
    "\"\"\"\n",
    "1. Distribution Type:\n",
    "   - `np.random.rand`: Generates random values from a uniform distribution over the range [0, 1).\n",
    "   - `np.random.randn`: Generates random values from a standard normal distribution (mean = 0, standard deviation = 1).\n",
    "\n",
    "2. Arguments and Shape:\n",
    "   - `np.random.rand`: Accepts separate arguments for each dimension and generates values in the [0, 1) range. For example, `rand(3, 4)` generates a 3x4 matrix.\n",
    "   - `np.random.randn`: Takes a variable number of arguments for each dimension but generates values from the standard normal distribution. For example, `randn(3, 4)` generates a 3x4 matrix.\n",
    "\n",
    "3. Uniform vs. Normal Distribution:\n",
    "   - `np.random.rand`: Produces values uniformly distributed between 0 and 1, with each value having an equal chance of being selected.\n",
    "   - `np.random.randn`: Generates values from a normal (Gaussian) distribution, where values are more likely to be near the mean (0) and less likely as they move away.\n",
    "\n",
    "4. Parameterization:\n",
    "   - `np.random.rand`: Does not require parameters for mean and standard deviation since it generates values in a fixed range.\n",
    "   - `np.random.randn`: Can take optional parameters for mean and standard deviation to customize the distribution. The default is a standard normal distribution.\n",
    "\n",
    "5. Use Cases:\n",
    "   - `np.random.rand`: Useful when you need random values with a uniform distribution, for example, when initializing weights in neural networks or creating random matrices for certain simulations.\n",
    "   - `np.random.randn`: Useful when you specifically need random values following a standard normal distribution, commonly used in statistical modeling and simulations.\n",
    "\"\"\""
   ]
  },
  {
   "cell_type": "code",
   "execution_count": 5,
   "id": "8ad82f14",
   "metadata": {},
   "outputs": [
    {
     "name": "stdout",
     "output_type": "stream",
     "text": [
      "Original array shape: (3, 4)\n",
      "Array with increased dimension shape: (3, 4, 1)\n",
      "[[[ 1]\n",
      "  [ 2]\n",
      "  [ 3]\n",
      "  [ 4]]\n",
      "\n",
      " [[ 5]\n",
      "  [ 6]\n",
      "  [ 7]\n",
      "  [ 8]]\n",
      "\n",
      " [[ 9]\n",
      "  [10]\n",
      "  [11]\n",
      "  [12]]]\n"
     ]
    }
   ],
   "source": [
    "# 9. Write code to increase the dimension of the following array? [[1, 2, 3, 4], [5, 6, 7, 8], [9, 10, 11, 12]]\n",
    "\n",
    "my_array = np.array([[1, 2, 3, 4], [5, 6, 7, 8], [9, 10, 11, 12]])\n",
    "\n",
    "new_dimension_array = np.expand_dims(my_array, axis=2)\n",
    "\n",
    "print(\"Original array shape:\", my_array.shape)\n",
    "print(\"Array with increased dimension shape:\", new_dimension_array.shape)\n",
    "print(new_dimension_array)"
   ]
  },
  {
   "cell_type": "code",
   "execution_count": 6,
   "id": "a1d28f8e",
   "metadata": {},
   "outputs": [
    {
     "name": "stdout",
     "output_type": "stream",
     "text": [
      "Original array:\n",
      "[[ 1  2  3  4]\n",
      " [ 5  6  7  8]\n",
      " [ 9 10 11 12]]\n",
      "\n",
      "Transposed array:\n",
      "[[ 1  5  9]\n",
      " [ 2  6 10]\n",
      " [ 3  7 11]\n",
      " [ 4  8 12]]\n"
     ]
    }
   ],
   "source": [
    "# 10. How to transpose the following array in NumPy? [[1, 2, 3, 4], [5, 6, 7, 8], [9, 10, 11, 12]]\n",
    "\n",
    "\n",
    "my_array = np.array([[1, 2, 3, 4], [5, 6, 7, 8], [9, 10, 11, 12]])\n",
    "\n",
    "transposed_array = my_array.T\n",
    "\n",
    "print(\"Original array:\")\n",
    "print(my_array)\n",
    "print(\"\\nTransposed array:\")\n",
    "print(transposed_array)"
   ]
  },
  {
   "cell_type": "code",
   "execution_count": 7,
   "id": "f3dfde25",
   "metadata": {},
   "outputs": [
    {
     "name": "stdout",
     "output_type": "stream",
     "text": [
      "Index-wise Multiplication:\n",
      "[[  1   4   9  16]\n",
      " [ 25  36  49  64]\n",
      " [ 81 100 121 144]]\n",
      "\n",
      "Matrix Multiplication:\n",
      "[[ 30  70 110]\n",
      " [ 70 174 278]\n",
      " [110 278 446]]\n",
      "\n",
      "Matrix Addition:\n",
      "[[ 2  4  6  8]\n",
      " [10 12 14 16]\n",
      " [18 20 22 24]]\n",
      "\n",
      "Matrix Subtraction:\n",
      "[[0 0 0 0]\n",
      " [0 0 0 0]\n",
      " [0 0 0 0]]\n",
      "\n",
      "Matrix Division:\n",
      "[[1. 1. 1. 1.]\n",
      " [1. 1. 1. 1.]\n",
      " [1. 1. 1. 1.]]\n"
     ]
    }
   ],
   "source": [
    "\"\"\"  11. Consider the following matrix:\n",
    "\n",
    "Matrix A: [[1, 2, 3, 4] [5, 6, 7, 8],[9, 10, 11, 12]]\n",
    "Matrix B: [[1, 2, 3, 4] [5, 6, 7, 8],[9, 10, 11, 12]]\n",
    "\n",
    "\n",
    "Perform the following operation using Python: \n",
    "1. Index wise multiplicatio'\n",
    "2. Matrix multiplicatio'\n",
    "3. Add both the matricK\n",
    "4. Subtract matrix B from  \n",
    "5. Divide Matrix B by A   \"\"\"\n",
    "\n",
    "matrix_A = np.array([[1, 2, 3, 4],\n",
    "                     [5, 6, 7, 8],\n",
    "                     [9, 10, 11, 12]])\n",
    "\n",
    "matrix_B = np.array([[1, 2, 3, 4],\n",
    "                     [5, 6, 7, 8],\n",
    "                     [9, 10, 11, 12]])\n",
    "\n",
    "# Index-wise multiplication\n",
    "index_wise_multiplication = matrix_A * matrix_B\n",
    "\n",
    "# Matrix multiplication\n",
    "matrix_multiplication = matrix_A @ matrix_B.T  # Used Transpose of B for proper multiplication\n",
    "\n",
    "# Addition\n",
    "matrix_addition = matrix_A + matrix_B\n",
    "\n",
    "# Subtraction\n",
    "matrix_subtraction = matrix_A - matrix_B\n",
    "\n",
    "# Element-wise division (using np.divide)\n",
    "matrix_division = matrix_B / matrix_A\n",
    "\n",
    "# Displaying results\n",
    "print(\"Index-wise Multiplication:\")\n",
    "print(index_wise_multiplication)\n",
    "\n",
    "print(\"\\nMatrix Multiplication:\")\n",
    "print(matrix_multiplication)\n",
    "\n",
    "print(\"\\nMatrix Addition:\")\n",
    "print(matrix_addition)\n",
    "\n",
    "print(\"\\nMatrix Subtraction:\")\n",
    "print(matrix_subtraction)\n",
    "\n",
    "print(\"\\nMatrix Division:\")\n",
    "print(matrix_division)\n"
   ]
  },
  {
   "cell_type": "code",
   "execution_count": 8,
   "id": "95a27e17",
   "metadata": {},
   "outputs": [
    {
     "name": "stdout",
     "output_type": "stream",
     "text": [
      "Original Array:\n",
      "[1 2 3 4]\n",
      "\n",
      "Swapped Array:\n",
      "[16777216 33554432 50331648 67108864]\n"
     ]
    }
   ],
   "source": [
    "# 12. Which function in Numpy can be used to swap the byte order of an array?\n",
    "\n",
    "\"\"\" In NumPy, the function numpy.ndarray.byteswap can be used to swap the byte order of an array. This function is \n",
    "applied to a NumPy array, and it swaps the byte order of the array elements in place. \"\"\"\n",
    "\n",
    "\n",
    "original_array = np.array([1, 2, 3, 4], dtype=np.int32)\n",
    "\n",
    "swapped_array = original_array.byteswap()\n",
    "\n",
    "print(\"Original Array:\")\n",
    "print(original_array)\n",
    "print(\"\\nSwapped Array:\")\n",
    "print(swapped_array)"
   ]
  },
  {
   "cell_type": "code",
   "execution_count": null,
   "id": "1ad42071",
   "metadata": {},
   "outputs": [],
   "source": [
    "# 13. What is the significance of the np.linalg.inv function?\n",
    "\n",
    "\"\"\"\n",
    "1. Matrix Inversion:\n",
    "   - `np.linalg.inv` calculates the inverse of a square matrix, which is a matrix that, when multiplied by the \n",
    "   original matrix, results in the identity matrix.\n",
    "\n",
    "2. Solution to Linear Systems:\n",
    "   - Matrix inversion is often used to solve systems of linear equations. If \\(Ax = B\\), where \\(A\\) is a matrix \n",
    "   of coefficients, \\(x\\) is the vector of variables, and \\(B\\) is the vector of constants, then \\(x = A^{-1}B\\).\n",
    "\n",
    "3. Numerical Stability:\n",
    "   - While matrix inversion is a powerful tool, it may not always be numerically stable, especially for \n",
    "   ill-conditioned matrices. It's important to be cautious when using the inverse, and alternative methods like \n",
    "   solving linear systems directly may be preferred in some cases.\n",
    "\n",
    "4. Applications in Statistics and Optimization:\n",
    "   - In statistics, the inverse of a matrix is used in multivariate analysis, such as calculating the covariance \n",
    "   matrix or estimating regression coefficients. In optimization, the inverse can be employed in solving least \n",
    "   squares problems.\n",
    "\n",
    "5. Eigenvalue and Eigenvector Calculations:\n",
    "   - The inverse of a matrix is also related to eigenvalues and eigenvectors. In particular, if \\(A\\) is a matrix\n",
    "   with eigenvalues \\(\\lambda_1, \\lambda_2, \\ldots, \\lambda_n\\), and eigenvectors \\(v_1, v_2, \\ldots, v_n\\), then \n",
    "   the inverse of \\(A\\) has eigenvalues \\(1/\\lambda_1, 1/\\lambda_2, \\ldots, 1/\\lambda_n\\) and \n",
    "   eigenvectors \\(v_1, v_2, \\ldots, v_n\\).\n",
    "\"\"\""
   ]
  },
  {
   "cell_type": "code",
   "execution_count": null,
   "id": "5a993886",
   "metadata": {},
   "outputs": [],
   "source": [
    "# 14. What does the np.reshape function do, and how is it used?\n",
    "\n",
    "\"\"\"\n",
    "The np.reshape function in NumPy is used to change the shape of an array without changing its data. It returns a \n",
    "new array with a modified shape, and the original array remains unchanged. The function takes the original array \n",
    "and the desired new shape as arguments.\n",
    "\n",
    "Functionality: np.reshape rearranges the elements of the input array to fit into the specified shape. It doesn't \n",
    "alter the data; it merely provides a different view of the same data in a new shape.\n",
    "\n",
    "Syntax: \n",
    "\n",
    "np.reshape(a, newshape, order='C')\n",
    "a: The array to be reshaped.\n",
    "newshape: The new shape specified as a tuple of integers or a single integer.\n",
    "order: Optional parameter specifying the order in which the elements are read during reshaping. It can be 'C' for \n",
    "row-major (default) or 'F' for column-major.\n",
    "\"\"\""
   ]
  },
  {
   "cell_type": "code",
   "execution_count": null,
   "id": "00c3ad27",
   "metadata": {},
   "outputs": [],
   "source": [
    "# 15. What is broadcasting in Numpy?\n",
    "\n",
    "\"\"\" Broadcasting in NumPy is a mechanism that enables the performance of element-wise operations on arrays of \n",
    "different shapes without the need for explicit looping. It automatically extends smaller arrays to match the shape \n",
    "of larger arrays, following rules that compare dimensions element-wise. This eliminates the need for manual \n",
    "alignment or reshaping, making code more concise and readable. Broadcasting is memory-efficient, as it operates on \n",
    "the original arrays without creating unnecessary copies. It plays a crucial role in NumPy's ability to perform \n",
    "efficient array operations on arrays with varying shapes, enhancing the simplicity and expressiveness of array \n",
    "computations.\"\"\""
   ]
  }
 ],
 "metadata": {
  "kernelspec": {
   "display_name": "Python 3 (ipykernel)",
   "language": "python",
   "name": "python3"
  },
  "language_info": {
   "codemirror_mode": {
    "name": "ipython",
    "version": 3
   },
   "file_extension": ".py",
   "mimetype": "text/x-python",
   "name": "python",
   "nbconvert_exporter": "python",
   "pygments_lexer": "ipython3",
   "version": "3.11.5"
  }
 },
 "nbformat": 4,
 "nbformat_minor": 5
}
