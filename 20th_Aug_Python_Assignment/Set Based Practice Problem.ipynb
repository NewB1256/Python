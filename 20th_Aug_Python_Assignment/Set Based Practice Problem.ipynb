{
 "cells": [
  {
   "cell_type": "markdown",
   "id": "4296c4ba",
   "metadata": {},
   "source": [
    "TOPIC: Set Based Practice Problem :"
   ]
  },
  {
   "cell_type": "code",
   "execution_count": 2,
   "id": "52967c7e",
   "metadata": {},
   "outputs": [
    {
     "name": "stdout",
     "output_type": "stream",
     "text": [
      "{1, 2, 3, 4, 5}\n"
     ]
    }
   ],
   "source": [
    "# 1. Create a set with integers from 1 to 5.\n",
    "\n",
    "s = {i for i in range(1,6)}\n",
    "print(s)"
   ]
  },
  {
   "cell_type": "code",
   "execution_count": 5,
   "id": "4d24a530",
   "metadata": {},
   "outputs": [
    {
     "name": "stdout",
     "output_type": "stream",
     "text": [
      "Enter the element to add: 87\n",
      "Set: {1, 2, 3, 4, 5, 87}\n"
     ]
    }
   ],
   "source": [
    "# 2. Add an element to a set.\n",
    "\n",
    "s = {1, 2, 3, 4, 5}\n",
    "n = int(input(\"Enter the element to add: \"))\n",
    "s.add(n)\n",
    "print(f\"Set: {s}\")"
   ]
  },
  {
   "cell_type": "code",
   "execution_count": 6,
   "id": "de5d8986",
   "metadata": {},
   "outputs": [
    {
     "name": "stdout",
     "output_type": "stream",
     "text": [
      "Enter the element to remove: 2\n",
      "Set: {1, 3, 4, 5}\n"
     ]
    }
   ],
   "source": [
    "# 3. Remove an element from a set.\n",
    "\n",
    "s = {1, 2, 3, 4, 5}\n",
    "n = int(input(\"Enter the element to remove: \"))\n",
    "s.remove(n)\n",
    "print(f\"Set: {s}\")"
   ]
  },
  {
   "cell_type": "code",
   "execution_count": 9,
   "id": "ede463d3",
   "metadata": {},
   "outputs": [
    {
     "name": "stdout",
     "output_type": "stream",
     "text": [
      "Enter the element to check: 5\n",
      "The element exists in the set\n"
     ]
    }
   ],
   "source": [
    "# 4. Check if an element exists in a set.\n",
    "\n",
    "s = {1, 2, 3, 4, 5}\n",
    "n = int(input(\"Enter the element to check: \"))\n",
    "if n in s:\n",
    "    print(\"The element exists in the set\")\n",
    "else:\n",
    "    print(\"The element doesn't exists in the set\")"
   ]
  },
  {
   "cell_type": "code",
   "execution_count": 10,
   "id": "e61fedf7",
   "metadata": {},
   "outputs": [
    {
     "name": "stdout",
     "output_type": "stream",
     "text": [
      "Length of the set: 5\n"
     ]
    }
   ],
   "source": [
    "# 5. Find the length of a set without using the `len()` function.\n",
    "\n",
    "my_set = {1, 2, 3, 4, 5}\n",
    "count = 0\n",
    "for i in my_set:\n",
    "    count += 1\n",
    "\n",
    "print(\"Length of the set:\", count)"
   ]
  },
  {
   "cell_type": "code",
   "execution_count": 14,
   "id": "6dcda9a4",
   "metadata": {},
   "outputs": [
    {
     "name": "stdout",
     "output_type": "stream",
     "text": [
      "Set:  set()\n"
     ]
    }
   ],
   "source": [
    "# 6. Clear all elements from a set.\n",
    "\n",
    "my_set = {1, 2, 3, 4, 5}\n",
    "my_set.clear()\n",
    "print(\"Set: \",my_set)"
   ]
  },
  {
   "cell_type": "code",
   "execution_count": 11,
   "id": "903c1a55",
   "metadata": {},
   "outputs": [
    {
     "name": "stdout",
     "output_type": "stream",
     "text": [
      "Set:  {2, 4, 6, 8, 10}\n"
     ]
    }
   ],
   "source": [
    "# 7. Create a set of even numbers from 1 to 10.\n",
    "\n",
    "s = {i for i in range(1,11) if i%2==0}\n",
    "print(\"Set: \",s)"
   ]
  },
  {
   "cell_type": "code",
   "execution_count": 12,
   "id": "ba413542",
   "metadata": {},
   "outputs": [
    {
     "name": "stdout",
     "output_type": "stream",
     "text": [
      "Set:  {1, 3, 5, 7, 9}\n"
     ]
    }
   ],
   "source": [
    "# 8. Create a set of odd numbers from 1 to 10.\n",
    "\n",
    "s = {i for i in range(1,11) if i%2!=0}\n",
    "print(\"Set: \",s)"
   ]
  },
  {
   "cell_type": "code",
   "execution_count": 15,
   "id": "b501dd0d",
   "metadata": {},
   "outputs": [
    {
     "name": "stdout",
     "output_type": "stream",
     "text": [
      "Union:  {1, 2, 3, 4, 5, 6, 7}\n"
     ]
    }
   ],
   "source": [
    "# 9. Find the union of two sets.\n",
    "\n",
    "set1 = {1, 2, 3, 4, 5}\n",
    "set2 = {3, 4, 5, 6, 7}\n",
    "\n",
    "union_set = set1.union(set2)\n",
    "\n",
    "print(\"Union: \", union_set)"
   ]
  },
  {
   "cell_type": "code",
   "execution_count": 16,
   "id": "ef11e96f",
   "metadata": {},
   "outputs": [
    {
     "name": "stdout",
     "output_type": "stream",
     "text": [
      "Intersection:  {3, 4, 5}\n"
     ]
    }
   ],
   "source": [
    "# 10. Find the intersection of two sets.\n",
    "\n",
    "set1 = {1, 2, 3, 4, 5}\n",
    "set2 = {3, 4, 5, 6, 7}\n",
    "\n",
    "union_set = set1.intersection(set2)\n",
    "\n",
    "print(\"Intersection: \", union_set)"
   ]
  },
  {
   "cell_type": "code",
   "execution_count": 17,
   "id": "a92e1287",
   "metadata": {},
   "outputs": [
    {
     "name": "stdout",
     "output_type": "stream",
     "text": [
      "Difference: {1, 2}\n"
     ]
    }
   ],
   "source": [
    "# 11. Find the difference between two sets.\n",
    "\n",
    "set1 = {1, 2, 3, 4, 5}\n",
    "set2 = {3, 4, 5, 6, 7}\n",
    "\n",
    "diff = set1.difference(set2)\n",
    "\n",
    "print(\"Difference:\", diff)"
   ]
  },
  {
   "cell_type": "code",
   "execution_count": 18,
   "id": "43f30bbe",
   "metadata": {},
   "outputs": [
    {
     "name": "stdout",
     "output_type": "stream",
     "text": [
      "Is Subset: True\n"
     ]
    }
   ],
   "source": [
    "# 12. Check if a set is a subset of another set.\n",
    "\n",
    "set1 = {1, 2, 3}\n",
    "set2 = {1, 2, 3, 4, 5}\n",
    "\n",
    "sub = set1.issubset(set2)\n",
    "\n",
    "print(\"Is Subset:\", sub)"
   ]
  },
  {
   "cell_type": "code",
   "execution_count": 20,
   "id": "47633eb5",
   "metadata": {},
   "outputs": [
    {
     "name": "stdout",
     "output_type": "stream",
     "text": [
      "Is Superset: True\n"
     ]
    }
   ],
   "source": [
    "# 13. Check if a set is a superset of another set.\n",
    "\n",
    "set1 = {1, 2, 3, 4, 5}\n",
    "set2 = {1, 2, 3}\n",
    "\n",
    "supb = set1.issuperset(set2)\n",
    "\n",
    "print(\"Is Superset:\", supb)"
   ]
  },
  {
   "cell_type": "code",
   "execution_count": 21,
   "id": "a78244b5",
   "metadata": {},
   "outputs": [
    {
     "name": "stdout",
     "output_type": "stream",
     "text": [
      "Set:  {1, 2, 3, 4, 5}\n"
     ]
    }
   ],
   "source": [
    "# 14. Create a set from a list.\n",
    "\n",
    "my_list = [1, 2, 3, 4, 5]\n",
    "my_set = set(my_list)\n",
    "\n",
    "print(\"Set: \", my_set)"
   ]
  },
  {
   "cell_type": "code",
   "execution_count": 23,
   "id": "2bcaac8b",
   "metadata": {},
   "outputs": [
    {
     "name": "stdout",
     "output_type": "stream",
     "text": [
      "List:  [1, 2, 3, 4, 5]\n"
     ]
    }
   ],
   "source": [
    "# 15. Convert a set to a list.\n",
    "\n",
    "my_set = {1, 2, 3, 4, 5}\n",
    "my_list = list(my_set)\n",
    "\n",
    "print(\"List: \",my_list)"
   ]
  },
  {
   "cell_type": "code",
   "execution_count": 24,
   "id": "5438b11b",
   "metadata": {},
   "outputs": [
    {
     "name": "stdout",
     "output_type": "stream",
     "text": [
      "Removed element: 1\n",
      "Updated set: {2, 3, 4, 5}\n"
     ]
    }
   ],
   "source": [
    "# 16. Remove a random element from a set.\n",
    "\n",
    "my_set = {1, 2, 3, 4, 5}\n",
    "removed_element = my_set.pop()\n",
    "\n",
    "print(\"Removed element:\", removed_element)\n",
    "print(\"Updated set:\", my_set)"
   ]
  },
  {
   "cell_type": "code",
   "execution_count": 25,
   "id": "3f81508d",
   "metadata": {},
   "outputs": [
    {
     "name": "stdout",
     "output_type": "stream",
     "text": [
      "Enter an element to delete: 2\n",
      "Updated set: {1, 3, 4, 5}\n"
     ]
    }
   ],
   "source": [
    "# 17. Pop an element from a set\n",
    "\n",
    "my_set = {1, 2, 3, 4, 5}\n",
    "n = int(input(\"Enter an element to delete: \"))\n",
    "removed_element = my_set.remove(n)\n",
    "\n",
    "print(\"Updated set:\", my_set)"
   ]
  },
  {
   "cell_type": "code",
   "execution_count": 26,
   "id": "51e98f1a",
   "metadata": {},
   "outputs": [
    {
     "name": "stdout",
     "output_type": "stream",
     "text": [
      "Are the sets disjoint? True\n"
     ]
    }
   ],
   "source": [
    "# 18. Check if two sets have no elements in common.\n",
    "\n",
    "set1 = {1, 2, 3}\n",
    "set2 = {4, 5, 6}\n",
    "\n",
    "are_disjoint = set1.isdisjoint(set2)\n",
    "\n",
    "print(\"Are the sets disjoint?\", are_disjoint)"
   ]
  },
  {
   "cell_type": "code",
   "execution_count": 27,
   "id": "1a9c6ce0",
   "metadata": {},
   "outputs": [
    {
     "name": "stdout",
     "output_type": "stream",
     "text": [
      "Symmetric Difference: {1, 2, 5, 6}\n"
     ]
    }
   ],
   "source": [
    "# 19. Find the symmetric difference between two sets.\n",
    "\n",
    "set1 = {1, 2, 3, 4}\n",
    "set2 = {3, 4, 5, 6}\n",
    "\n",
    "sydiff = set1.symmetric_difference(set2)\n",
    "\n",
    "print(\"Symmetric Difference:\", sydiff)"
   ]
  },
  {
   "cell_type": "code",
   "execution_count": 28,
   "id": "e22f5bc7",
   "metadata": {},
   "outputs": [
    {
     "name": "stdout",
     "output_type": "stream",
     "text": [
      "Updated set1: {1, 2, 3, 4, 5}\n"
     ]
    }
   ],
   "source": [
    "# 20. Update a set with elements from another set\n",
    "\n",
    "set1 = {1, 2, 3}\n",
    "set2 = {3, 4, 5}\n",
    "\n",
    "set1.update(set2)\n",
    "\n",
    "print(\"Updated set1:\", set1)"
   ]
  },
  {
   "cell_type": "code",
   "execution_count": 30,
   "id": "3feb876b",
   "metadata": {},
   "outputs": [
    {
     "name": "stdout",
     "output_type": "stream",
     "text": [
      "Required Prime Numbers: {2, 3, 5}\n"
     ]
    }
   ],
   "source": [
    "# 21. Create a set of the first 5 prime numbers.\n",
    "\n",
    "prime_numbers = set()\n",
    "for num in range(1,6):\n",
    "    if num > 1:\n",
    "        for i in range(2, num):\n",
    "            if (num % i) == 0:\n",
    "                break\n",
    "        else:\n",
    "            prime_numbers.add(num)\n",
    "            \n",
    "print(f\"Required Prime Numbers: {prime_numbers}\")"
   ]
  },
  {
   "cell_type": "code",
   "execution_count": 33,
   "id": "644abc60",
   "metadata": {},
   "outputs": [
    {
     "name": "stdout",
     "output_type": "stream",
     "text": [
      "Are the sets identical? False\n"
     ]
    }
   ],
   "source": [
    "# 22. Check if two sets are identical.\n",
    "\n",
    "set1 = {1, 2, 3}\n",
    "set2 = {1, 2, 3, 4, 5}\n",
    "\n",
    "if set1 == set2:\n",
    "    print(\"Are the sets identical? True\")\n",
    "else:\n",
    "    print(\"Are the sets identical? False\")"
   ]
  },
  {
   "cell_type": "code",
   "execution_count": 35,
   "id": "7e413229",
   "metadata": {},
   "outputs": [
    {
     "name": "stdout",
     "output_type": "stream",
     "text": [
      "frozenset({1, 2, 3, 4, 5})\n"
     ]
    }
   ],
   "source": [
    "# 23. Create a frozen set.\n",
    "\n",
    "my_set = {1, 2, 3, 4, 5}\n",
    "frozen_set = frozenset(my_set)\n",
    "\n",
    "print(frozen_set)"
   ]
  },
  {
   "cell_type": "code",
   "execution_count": 36,
   "id": "61b9722d",
   "metadata": {},
   "outputs": [
    {
     "name": "stdout",
     "output_type": "stream",
     "text": [
      "Are the sets disjoint? True\n"
     ]
    }
   ],
   "source": [
    "# 24. Check if a set is disjoint with another set.\n",
    "\n",
    "set1 = {1, 2, 3}\n",
    "set2 = {4, 5, 6}\n",
    "are_disjoint = set1.isdisjoint(set2)\n",
    "\n",
    "print(\"Are the sets disjoint?\", are_disjoint)"
   ]
  },
  {
   "cell_type": "code",
   "execution_count": 37,
   "id": "fae8fd6a",
   "metadata": {},
   "outputs": [
    {
     "name": "stdout",
     "output_type": "stream",
     "text": [
      "Set:  {1, 4, 9, 16, 25}\n"
     ]
    }
   ],
   "source": [
    "# 25. Create a set of squares of numbers from 1 to 5.\n",
    "\n",
    "s = {i**2 for i in range(1,6)}\n",
    "print(\"Set: \",s)"
   ]
  },
  {
   "cell_type": "code",
   "execution_count": 40,
   "id": "9d0e81f3",
   "metadata": {},
   "outputs": [
    {
     "name": "stdout",
     "output_type": "stream",
     "text": [
      "Filtered Set:  {1, 3, 5, 7, 9}\n"
     ]
    }
   ],
   "source": [
    "# 26. Filter out all even numbers from a set.\n",
    "\n",
    "my_set = {1, 2, 3, 4, 5, 6, 7, 8, 9}\n",
    "odd_set = {x for x in my_set if x % 2 != 0}\n",
    "\n",
    "print(\"Filtered Set: \",odd_set)"
   ]
  },
  {
   "cell_type": "code",
   "execution_count": 42,
   "id": "c6bd7758",
   "metadata": {},
   "outputs": [
    {
     "name": "stdout",
     "output_type": "stream",
     "text": [
      "Enter no of elements required: 10\n",
      "Set:  {2, 4, 6, 8, 10, 12, 14, 16, 18, 20}\n"
     ]
    }
   ],
   "source": [
    "# 27. Multiply all elements in a set by 2.\n",
    "\n",
    "n = int(input(\"Enter no of elements required: \"))\n",
    "s = {i*2 for i in range(1,n+1)}\n",
    "print(\"Set: \",s)"
   ]
  },
  {
   "cell_type": "code",
   "execution_count": 43,
   "id": "78cf933d",
   "metadata": {},
   "outputs": [
    {
     "name": "stdout",
     "output_type": "stream",
     "text": [
      "How many random numbers do you need? 10\n",
      "Required Set:  {66, 34, 90, 37, 85, 87, 24, 26, 91, 29}\n"
     ]
    }
   ],
   "source": [
    "# 28. Create a set of random numbers.\n",
    "\n",
    "import random\n",
    "n = int(input(\"How many random numbers do you need? \"))\n",
    "random_numbers = set(random.randint(1, 100) for i in range(n))\n",
    "print(\"Required Set: \",random_numbers)"
   ]
  },
  {
   "cell_type": "code",
   "execution_count": 46,
   "id": "1ced0d87",
   "metadata": {},
   "outputs": [
    {
     "name": "stdout",
     "output_type": "stream",
     "text": [
      "The set is empty\n"
     ]
    }
   ],
   "source": [
    "# 29. Check if a set is empty.\n",
    "\n",
    "my_set = set()\n",
    "\n",
    "if len(my_set) == 0:\n",
    "    print(\"The set is empty\")\n",
    "else:\n",
    "    print(\"The set is not empty\")"
   ]
  },
  {
   "cell_type": "code",
   "execution_count": 47,
   "id": "019446c5",
   "metadata": {},
   "outputs": [
    {
     "name": "stdout",
     "output_type": "stream",
     "text": [
      "Nested Set:  {frozenset({3, 4, 5}), frozenset({1, 2})}\n"
     ]
    }
   ],
   "source": [
    "# 30. Create a nested set (hint: use frozenset).\n",
    "\n",
    "nested_set = {frozenset({1, 2}), frozenset({3, 4, 5})}\n",
    "\n",
    "print(\"Nested Set: \",nested_set)"
   ]
  },
  {
   "cell_type": "code",
   "execution_count": 1,
   "id": "9a09e1c9",
   "metadata": {},
   "outputs": [
    {
     "name": "stdout",
     "output_type": "stream",
     "text": [
      "Enter the element to discard: 3\n",
      "Updated set: {1, 2, 4, 5}\n"
     ]
    }
   ],
   "source": [
    "# 31. Remove an element from a set using the discard method.\n",
    "\n",
    "my_set = {1, 2, 3, 4, 5}\n",
    "n = int(input(\"Enter the element to discard: \"))\n",
    "my_set.discard(n)\n",
    "\n",
    "print(\"Updated set:\", my_set)"
   ]
  },
  {
   "cell_type": "code",
   "execution_count": 2,
   "id": "7817b81a",
   "metadata": {},
   "outputs": [
    {
     "name": "stdout",
     "output_type": "stream",
     "text": [
      "Equal: False\n",
      "Proper Subset: False\n",
      "Subset: False\n",
      "Proper Superset: True\n",
      "Superset: True\n"
     ]
    }
   ],
   "source": [
    "# 32. Compare two sets.\n",
    "\n",
    "set1 = {1, 2, 3, 4, 5}\n",
    "set2 = {3, 4, 5}\n",
    "\n",
    "equal = set1 == set2\n",
    "proper_subset = set1 < set2\n",
    "subset = set1 <= set2\n",
    "proper_superset = set1 > set2\n",
    "superset = set1 >= set2\n",
    "\n",
    "print(\"Equal:\", equal)\n",
    "print(\"Proper Subset:\", proper_subset)\n",
    "print(\"Subset:\", subset)\n",
    "print(\"Proper Superset:\", proper_superset)\n",
    "print(\"Superset:\", superset)"
   ]
  },
  {
   "cell_type": "code",
   "execution_count": 3,
   "id": "8bf9195f",
   "metadata": {},
   "outputs": [
    {
     "name": "stdout",
     "output_type": "stream",
     "text": [
      "Set:  {'i', 's', 'P', 'S', 'w', 'l', 'k'}\n"
     ]
    }
   ],
   "source": [
    "# 34. Convert a set of strings to a set of integers.\n",
    "\n",
    "my_string = \"PwSkills\"\n",
    "my_set = {char for char in my_string}\n",
    "\n",
    "print(\"Set: \",my_set)"
   ]
  },
  {
   "cell_type": "code",
   "execution_count": 4,
   "id": "27598a40",
   "metadata": {},
   "outputs": [
    {
     "name": "stdout",
     "output_type": "stream",
     "text": [
      "Set:  {'1', '3', '5', '4', '2'}\n"
     ]
    }
   ],
   "source": [
    "# 35. Convert a set of integers to a set of strings.\n",
    "\n",
    "int_set = {1, 2, 3, 4, 5}\n",
    "my_set = {str(i) for i in int_set}\n",
    "\n",
    "print(\"Set: \",my_set)"
   ]
  },
  {
   "cell_type": "code",
   "execution_count": 5,
   "id": "d9a7bd9c",
   "metadata": {},
   "outputs": [
    {
     "name": "stdout",
     "output_type": "stream",
     "text": [
      "Set:  {1, 2, 3, 4, 'Five'}\n"
     ]
    }
   ],
   "source": [
    "# 36. Create a set from a tuple.\n",
    "\n",
    "tup = (1, 2, 3, 4, \"Five\")\n",
    "my_set = {i for i in tup}\n",
    "\n",
    "print(\"Set: \",my_set)"
   ]
  },
  {
   "cell_type": "code",
   "execution_count": 6,
   "id": "957dd93c",
   "metadata": {},
   "outputs": [
    {
     "name": "stdout",
     "output_type": "stream",
     "text": [
      "Tuple:  (1, 2, 3, 4, 'Five')\n"
     ]
    }
   ],
   "source": [
    "#37. Convert a set to a tuple.\n",
    "\n",
    "my_set = {1, 2, 3, 4, \"Five\"}\n",
    "tup = tuple(i for i in my_set)\n",
    "\n",
    "print(\"Tuple: \",tup)"
   ]
  },
  {
   "cell_type": "code",
   "execution_count": 7,
   "id": "d36ed131",
   "metadata": {},
   "outputs": [
    {
     "name": "stdout",
     "output_type": "stream",
     "text": [
      "Maximum Value:  57\n"
     ]
    }
   ],
   "source": [
    "# 38. Find the maximum value in a set.\n",
    "\n",
    "my_set = {1, 2, 3, 4, 57}\n",
    "\n",
    "print(\"Maximum Value: \",max(my_set))"
   ]
  },
  {
   "cell_type": "code",
   "execution_count": 8,
   "id": "261f4e6c",
   "metadata": {},
   "outputs": [
    {
     "name": "stdout",
     "output_type": "stream",
     "text": [
      "Maximum Value:  1\n"
     ]
    }
   ],
   "source": [
    "# 39. Find the minimum value in a set.\n",
    "\n",
    "my_set = {1, 2, 3, 4, 57}\n",
    "\n",
    "print(\"Maximum Value: \",min(my_set))"
   ]
  },
  {
   "cell_type": "code",
   "execution_count": 10,
   "id": "5ec831c1",
   "metadata": {},
   "outputs": [
    {
     "name": "stdout",
     "output_type": "stream",
     "text": [
      "Enter comma-separated words: 1,2,3,4,\"Five\"\n",
      "{'1', '3', '\"Five\"', '4', '2'}\n"
     ]
    }
   ],
   "source": [
    "# 40. Create a set from user input.\n",
    "\n",
    "my_set = set(input('Enter comma-separated words: ').split(\",\"))\n",
    "\n",
    "print(my_set)"
   ]
  },
  {
   "cell_type": "code",
   "execution_count": 11,
   "id": "449900ec",
   "metadata": {},
   "outputs": [
    {
     "name": "stdout",
     "output_type": "stream",
     "text": [
      "The intersection is empty.\n"
     ]
    }
   ],
   "source": [
    "# 41. Check if the intersection of two sets is empty.\n",
    "\n",
    "set1 = {1, 2, 3}\n",
    "set2 = {4, 5, 6}\n",
    "\n",
    "empty = set1.isdisjoint(set2)\n",
    "\n",
    "if empty:\n",
    "    print(\"The intersection is empty.\")\n",
    "else:\n",
    "    print(\"The intersection is not empty.\")"
   ]
  },
  {
   "cell_type": "code",
   "execution_count": 58,
   "id": "78784a90",
   "metadata": {},
   "outputs": [
    {
     "name": "stdout",
     "output_type": "stream",
     "text": [
      "Fibonacci Set: {0, 1, 2, 3, 5}\n"
     ]
    }
   ],
   "source": [
    "# 42. Create a set of the first 5 Fibonacci numbers.\n",
    "\n",
    "fibonacci_set = {0, 1}\n",
    "a, b = 1, 1\n",
    "\n",
    "for i in range(4):\n",
    "    a, b = b, a + b\n",
    "    fibonacci_set.add(a)\n",
    "\n",
    "print(\"Fibonacci Set:\", fibonacci_set)"
   ]
  },
  {
   "cell_type": "code",
   "execution_count": 55,
   "id": "9f403ab9",
   "metadata": {},
   "outputs": [
    {
     "name": "stdout",
     "output_type": "stream",
     "text": [
      "Original List: [1, 2, 2, 3, 4, 4, 5]\n",
      "List with Duplicates Removed: {1, 2, 3, 4, 5}\n"
     ]
    }
   ],
   "source": [
    "# 43. Remove duplicates from a list using sets.\n",
    "\n",
    "my_list = [1, 2, 2, 3, 4, 4, 5]\n",
    "\n",
    "unique_list = {i for i in my_list}\n",
    "\n",
    "print(\"Original List:\", my_list)\n",
    "print(\"List with Duplicates Removed:\", unique_list)"
   ]
  },
  {
   "cell_type": "code",
   "execution_count": 14,
   "id": "378d0ef8",
   "metadata": {},
   "outputs": [
    {
     "name": "stdout",
     "output_type": "stream",
     "text": [
      "The sets have the same elements.\n"
     ]
    }
   ],
   "source": [
    "# 44. Check if two sets have the same elements, regardless of their count.\n",
    "\n",
    "set1 = {1, 2, 3, 4}\n",
    "set2 = {4, 3, 2, 1}\n",
    "\n",
    "if set1 == set2:\n",
    "    print(\"The sets have the same elements.\")\n",
    "else:\n",
    "    print(\"The sets do not have the same elements.\")"
   ]
  },
  {
   "cell_type": "code",
   "execution_count": 16,
   "id": "7b0ed6f9",
   "metadata": {},
   "outputs": [
    {
     "name": "stdout",
     "output_type": "stream",
     "text": [
      "Enter no of elements required: 10\n",
      "Required Set:  {64, 1, 4, 36, 100, 9, 16, 49, 81, 25}\n"
     ]
    }
   ],
   "source": [
    "# 45. Create a set of the first `n` powers of 2.\n",
    "\n",
    "n = int(input(\"Enter no of elements required: \"))\n",
    "set = {i**2 for i in range(1,n+1)}\n",
    "\n",
    "print(\"Required Set: \",set)"
   ]
  },
  {
   "cell_type": "code",
   "execution_count": 41,
   "id": "8487fcd7",
   "metadata": {},
   "outputs": [
    {
     "name": "stdout",
     "output_type": "stream",
     "text": [
      "Common elements: {3, 4, 5}\n"
     ]
    }
   ],
   "source": [
    "# 46. Find the common elements between a set and a list.\n",
    "\n",
    "my_set = {1, 2, 3, 4, 5}\n",
    "my_list = [3, 4, 5, 6, 7]\n",
    "\n",
    "common_elements = my_set.intersection(my_list)\n",
    "\n",
    "print(\"Common elements:\", common_elements)"
   ]
  },
  {
   "cell_type": "code",
   "execution_count": 46,
   "id": "542ac772",
   "metadata": {},
   "outputs": [
    {
     "name": "stdout",
     "output_type": "stream",
     "text": [
      "Enter no of triangular number required: 5\n",
      "Triangular Numbers: {1, 3, 6, 10, 15}\n"
     ]
    }
   ],
   "source": [
    "# 47. Create a set of the first `n` triangular numbers.\n",
    "\n",
    "n = int(input(\"Enter no of triangular number required: \"))\n",
    "triangular_numbers = {(i * (i + 1)) // 2 for i in range(1, n + 1)}\n",
    "print(f\"Triangular Numbers: {triangular_numbers}\")"
   ]
  },
  {
   "cell_type": "code",
   "execution_count": 49,
   "id": "9e47e2cf",
   "metadata": {},
   "outputs": [
    {
     "name": "stdout",
     "output_type": "stream",
     "text": [
      "set2 is a subset of set1.\n"
     ]
    }
   ],
   "source": [
    "# 48. Check if a set contains another set as a subset.\n",
    "\n",
    "set1 = {1, 2, 3, 4, 5}\n",
    "set2 = {2, 3}\n",
    "\n",
    "is_subset = set2.issubset(set1)\n",
    "\n",
    "if is_subset:\n",
    "    print(\"set2 is a subset of set1.\")\n",
    "else:\n",
    "    print(\"set2 is not a subset of set1.\")"
   ]
  },
  {
   "cell_type": "code",
   "execution_count": 52,
   "id": "09d64ee1",
   "metadata": {},
   "outputs": [
    {
     "name": "stdout",
     "output_type": "stream",
     "text": [
      "Enter Length of the tuple: 5\n",
      "Required Set:  {0, 1}\n"
     ]
    }
   ],
   "source": [
    "# 49. Create a set of alternating 1s and 0s of length `n`.\n",
    "\n",
    "n = int(input(\"Enter Length of the tuple: \"))\n",
    "set_ = {1 if i % 2 == 0 else 0 for i in range(n)}\n",
    "\n",
    "print(\"Required Set: \",set_)"
   ]
  },
  {
   "cell_type": "code",
   "execution_count": 53,
   "id": "59480c21",
   "metadata": {},
   "outputs": [
    {
     "name": "stdout",
     "output_type": "stream",
     "text": [
      "Merged Set: {1, 2, 3, 4, 5, 6, 7}\n"
     ]
    }
   ],
   "source": [
    "# 50. Merge multiple sets into one.\n",
    "\n",
    "set1 = {1, 2, 3}\n",
    "set2 = {3, 4, 5}\n",
    "set3 = {5, 6, 7}\n",
    "\n",
    "merged_set = set1.union(set2, set3)\n",
    "print(\"Merged Set:\", merged_set)"
   ]
  }
 ],
 "metadata": {
  "kernelspec": {
   "display_name": "Python 3 (ipykernel)",
   "language": "python",
   "name": "python3"
  },
  "language_info": {
   "codemirror_mode": {
    "name": "ipython",
    "version": 3
   },
   "file_extension": ".py",
   "mimetype": "text/x-python",
   "name": "python",
   "nbconvert_exporter": "python",
   "pygments_lexer": "ipython3",
   "version": "3.11.4"
  }
 },
 "nbformat": 4,
 "nbformat_minor": 5
}
