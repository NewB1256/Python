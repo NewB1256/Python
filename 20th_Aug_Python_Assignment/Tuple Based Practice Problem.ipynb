{
 "cells": [
  {
   "cell_type": "markdown",
   "id": "d13c8251",
   "metadata": {},
   "source": [
    "TOPIC: Tuple Based Practice Problem :"
   ]
  },
  {
   "cell_type": "code",
   "execution_count": 2,
   "id": "144f61b7",
   "metadata": {},
   "outputs": [
    {
     "name": "stdout",
     "output_type": "stream",
     "text": [
      "(1, 2, 3, 4, 5)\n"
     ]
    }
   ],
   "source": [
    "\"\"\"1. Create a tuple with integers from 1 to 5.\"\"\"\n",
    "\n",
    "tup = tuple(i for i in range(1, 6))\n",
    "print(tup)"
   ]
  },
  {
   "cell_type": "code",
   "execution_count": 4,
   "id": "5bc3a60b",
   "metadata": {},
   "outputs": [
    {
     "name": "stdout",
     "output_type": "stream",
     "text": [
      "The third element is: 3\n"
     ]
    }
   ],
   "source": [
    "\"\"\"2. Access the third element of a tuple.\"\"\"\n",
    "\n",
    "tup = tuple(i for i in range(1, 6))\n",
    "print(f\"The third element is: {tup[2]}\")"
   ]
  },
  {
   "cell_type": "code",
   "execution_count": 6,
   "id": "fdd84ca3",
   "metadata": {},
   "outputs": [
    {
     "name": "stdout",
     "output_type": "stream",
     "text": [
      "The length of the tuple is: 5\n"
     ]
    }
   ],
   "source": [
    "\"\"\"3. Find the length of a tuple without using the `len()` function.\"\"\"\n",
    "\n",
    "tup = (1,2,3,4,5)\n",
    "count = 0\n",
    "for i in tup:\n",
    "    count += 1\n",
    "print(f\"The length of the tuple is: {count}\")"
   ]
  },
  {
   "cell_type": "code",
   "execution_count": 7,
   "id": "4fb90fa5",
   "metadata": {},
   "outputs": [
    {
     "name": "stdout",
     "output_type": "stream",
     "text": [
      "Enter the value: 20\n",
      "The element 20 appears 3 times in the list.\n"
     ]
    }
   ],
   "source": [
    "\"\"\"4. Count the occurrences of an element in a tuple.\"\"\"\n",
    "\n",
    "tup = (10, 20, 30, 40, 20, 50, 20)\n",
    "n = int(input(\"Enter the value: \"))\n",
    "\n",
    "count = tup.count(n)\n",
    "print(f\"The element {n} appears {count} times in the list.\")"
   ]
  },
  {
   "cell_type": "code",
   "execution_count": 8,
   "id": "f62e9e2c",
   "metadata": {},
   "outputs": [
    {
     "name": "stdout",
     "output_type": "stream",
     "text": [
      "Enter the value: 30\n",
      "The first occurrence of 30 is at index 2.\n"
     ]
    }
   ],
   "source": [
    "\"\"\"5. Find the index of the first occurrence of an element in a tuple.\"\"\"\n",
    "\n",
    "tup = (10, 20, 30, 40, 20, 50, 30)\n",
    "n = int(input(\"Enter the value: \"))\n",
    "if n in tup:\n",
    "    index = tup.index(n)\n",
    "    print(f\"The first occurrence of {n} is at index {index}.\")\n",
    "else:\n",
    "    print(f\"{n} was not found in the list.\")"
   ]
  },
  {
   "cell_type": "code",
   "execution_count": 9,
   "id": "56ede7a3",
   "metadata": {},
   "outputs": [
    {
     "name": "stdout",
     "output_type": "stream",
     "text": [
      "Enter the element to check: 5\n",
      "Element Found!\n"
     ]
    }
   ],
   "source": [
    "\"\"\"6. Check if an element exists in a tuple.\"\"\"\n",
    "\n",
    "tup = (1, 2, 3, 4, 5)\n",
    "n = int(input(\"Enter the element to check: \"))\n",
    "for i in tup:\n",
    "    if i == n:\n",
    "        c=0\n",
    "        break\n",
    "    else:\n",
    "        c=1\n",
    "if c==0:\n",
    "    print(\"Element Found!\")\n",
    "else:\n",
    "    print(\"Element Not found!\")"
   ]
  },
  {
   "cell_type": "code",
   "execution_count": 13,
   "id": "f761446d",
   "metadata": {},
   "outputs": [
    {
     "name": "stdout",
     "output_type": "stream",
     "text": [
      "[1, 2, 3, 4, 5]\n",
      "<class 'list'>\n"
     ]
    }
   ],
   "source": [
    "\"\"\"7. Convert a tuple to a list.\"\"\"\n",
    "\n",
    "tup = (1, 2, 3, 4, 5)\n",
    "lst = list(tup)\n",
    "print(lst)\n",
    "print(type(lst))"
   ]
  },
  {
   "cell_type": "code",
   "execution_count": 15,
   "id": "d6c78314",
   "metadata": {},
   "outputs": [
    {
     "name": "stdout",
     "output_type": "stream",
     "text": [
      "(1, 2, 3, 4, 5)\n",
      "<class 'tuple'>\n"
     ]
    }
   ],
   "source": [
    "\"\"\"8. Convert a list to a tuple.\"\"\"\n",
    "\n",
    "lst = [1, 2, 3, 4, 5]\n",
    "tup = tuple(lst)\n",
    "print(tup)\n",
    "print(type(tup))"
   ]
  },
  {
   "cell_type": "code",
   "execution_count": 20,
   "id": "9f6a1b97",
   "metadata": {},
   "outputs": [
    {
     "name": "stdout",
     "output_type": "stream",
     "text": [
      "1 2 3\n"
     ]
    }
   ],
   "source": [
    "\"\"\"9. Unpack the elements of a tuple into variables.\"\"\"\n",
    "\n",
    "tup = (1, 2, 3)\n",
    "a, b, c = tup\n",
    "\n",
    "print(a, b, c)"
   ]
  },
  {
   "cell_type": "code",
   "execution_count": 21,
   "id": "f20d501d",
   "metadata": {},
   "outputs": [
    {
     "name": "stdout",
     "output_type": "stream",
     "text": [
      "(2, 4, 6, 8, 10)\n"
     ]
    }
   ],
   "source": [
    "\"\"\"10. Create a tuple of even numbers from 1 to 10.\"\"\"\n",
    "\n",
    "tup = tuple(i for i in range(1, 11) if i%2 == 0)\n",
    "print(tup)"
   ]
  },
  {
   "cell_type": "code",
   "execution_count": 22,
   "id": "7e5e0030",
   "metadata": {},
   "outputs": [
    {
     "name": "stdout",
     "output_type": "stream",
     "text": [
      "(1, 3, 5, 7, 9)\n"
     ]
    }
   ],
   "source": [
    "\"\"\"11. Create a tuple of odd numbers from 1 to 10.\"\"\"\n",
    "\n",
    "tup = tuple(i for i in range(1, 11) if i%2 != 0)\n",
    "print(tup)"
   ]
  },
  {
   "cell_type": "code",
   "execution_count": 23,
   "id": "175efdf5",
   "metadata": {},
   "outputs": [
    {
     "name": "stdout",
     "output_type": "stream",
     "text": [
      "(1, 2, 3, 4, 5, 6)\n"
     ]
    }
   ],
   "source": [
    "\"\"\"12. Concatenate two tuples.\"\"\"\n",
    "\n",
    "tuple1 = (1, 2, 3)\n",
    "tuple2 = (4, 5, 6)\n",
    "concatenated_tuple = tuple1 + tuple2\n",
    "print(concatenated_tuple)"
   ]
  },
  {
   "cell_type": "code",
   "execution_count": 24,
   "id": "1edf15ef",
   "metadata": {},
   "outputs": [
    {
     "name": "stdout",
     "output_type": "stream",
     "text": [
      "(1, 2, 3, 1, 2, 3, 1, 2, 3)\n"
     ]
    }
   ],
   "source": [
    "\"\"\"13. Repeat a tuple three times.\"\"\"\n",
    "\n",
    "my_tuple = (1, 2, 3)\n",
    "repeated_tuple = my_tuple * 3\n",
    "print(repeated_tuple)"
   ]
  },
  {
   "cell_type": "code",
   "execution_count": 26,
   "id": "290e570b",
   "metadata": {},
   "outputs": [
    {
     "name": "stdout",
     "output_type": "stream",
     "text": [
      "The tuple is empty\n"
     ]
    }
   ],
   "source": [
    "\"\"\"14. Check if a tuple is empty.\"\"\"\n",
    "\n",
    "tup = ()\n",
    "if len(tup) == 0:\n",
    "    print(\"The tuple is empty\")\n",
    "else:\n",
    "    print(\"The tuple is not empty\")"
   ]
  },
  {
   "cell_type": "code",
   "execution_count": 27,
   "id": "0ecf8359",
   "metadata": {},
   "outputs": [
    {
     "name": "stdout",
     "output_type": "stream",
     "text": [
      "(1, 2, (3, 4), 5)\n"
     ]
    }
   ],
   "source": [
    "\"\"\"15. Create a nested tuple.\"\"\"\n",
    "\n",
    "nested_tuple = (1, 2, (3, 4), 5)\n",
    "print(nested_tuple)"
   ]
  },
  {
   "cell_type": "code",
   "execution_count": 29,
   "id": "f2428aa5",
   "metadata": {},
   "outputs": [
    {
     "name": "stdout",
     "output_type": "stream",
     "text": [
      "The first element is: 1\n"
     ]
    }
   ],
   "source": [
    "\"\"\"16. Access the first element of a nested tuple.\"\"\"\n",
    "\n",
    "nested_tuple = (1, 2, (3, 4), 5)\n",
    "first_element = nested_tuple[0]\n",
    "print(f\"The first element is: {first_element}\")"
   ]
  },
  {
   "cell_type": "code",
   "execution_count": 30,
   "id": "173885a4",
   "metadata": {},
   "outputs": [
    {
     "name": "stdout",
     "output_type": "stream",
     "text": [
      "(42,)\n"
     ]
    }
   ],
   "source": [
    "\"\"\"17. Create a tuple with a single element.\"\"\"\n",
    "\n",
    "tup = (42,)\n",
    "print(tup)"
   ]
  },
  {
   "cell_type": "code",
   "execution_count": 31,
   "id": "c4b22da2",
   "metadata": {},
   "outputs": [
    {
     "name": "stdout",
     "output_type": "stream",
     "text": [
      "The tuples are equal\n"
     ]
    }
   ],
   "source": [
    "\"\"\"18. Compare two tuples.\"\"\"\n",
    "\n",
    "tuple1 = (1, 2, 3)\n",
    "tuple2 = (1, 2, 3)\n",
    "\n",
    "if tuple1 == tuple2:\n",
    "    print(\"The tuples are equal\")\n",
    "else:\n",
    "    print(\"The tuples are not equal\")"
   ]
  },
  {
   "cell_type": "code",
   "execution_count": 34,
   "id": "268e938e",
   "metadata": {},
   "outputs": [],
   "source": [
    "\"\"\"19. Delete a tuple.\"\"\"\n",
    "\n",
    "tup = (1, 2, 3)\n",
    "del tup"
   ]
  },
  {
   "cell_type": "code",
   "execution_count": 35,
   "id": "3e0b011a",
   "metadata": {},
   "outputs": [
    {
     "name": "stdout",
     "output_type": "stream",
     "text": [
      "(2, 3, 4)\n"
     ]
    }
   ],
   "source": [
    "\"\"\"20. Slice a tuple.\"\"\"\n",
    "\n",
    "my_tuple = (1, 2, 3, 4, 5)\n",
    "slice_result = my_tuple[1:4]\n",
    "print(slice_result) "
   ]
  },
  {
   "cell_type": "code",
   "execution_count": 36,
   "id": "1ba60c8c",
   "metadata": {},
   "outputs": [
    {
     "name": "stdout",
     "output_type": "stream",
     "text": [
      "5\n"
     ]
    }
   ],
   "source": [
    "\"\"\"21. Find the maximum value in a tuple.\"\"\"\n",
    "\n",
    "my_tuple = (1, 2, 3, 4, 5)\n",
    "max_val = max(my_tuple)\n",
    "print(max_val)"
   ]
  },
  {
   "cell_type": "code",
   "execution_count": 38,
   "id": "b93520ee",
   "metadata": {},
   "outputs": [
    {
     "name": "stdout",
     "output_type": "stream",
     "text": [
      "1\n"
     ]
    }
   ],
   "source": [
    "\"\"\"22. Find the minimum value in a tuple.\"\"\"\n",
    "\n",
    "my_tuple = (1, 2, 3, 4, 5)\n",
    "min_val = min(my_tuple)\n",
    "print(min_val)"
   ]
  },
  {
   "cell_type": "code",
   "execution_count": 39,
   "id": "6643a476",
   "metadata": {},
   "outputs": [
    {
     "name": "stdout",
     "output_type": "stream",
     "text": [
      "('H', 'e', 'l', 'l', 'o', ',', ' ', 'W', 'o', 'r', 'l', 'd', '!')\n"
     ]
    }
   ],
   "source": [
    "\"\"\"23. Convert a string to a tuple of characters.\"\"\"\n",
    "\n",
    "my_string = \"Hello, World!\"\n",
    "char_tuple = tuple(my_string)\n",
    "\n",
    "print(char_tuple)"
   ]
  },
  {
   "cell_type": "code",
   "execution_count": 41,
   "id": "e26479ac",
   "metadata": {},
   "outputs": [
    {
     "name": "stdout",
     "output_type": "stream",
     "text": [
      "Hello\n"
     ]
    }
   ],
   "source": [
    "\"\"\"24. Convert a tuple of characters to a string.\"\"\"\n",
    "\n",
    "char_tuple = ('H', 'e', 'l', 'l', 'o')\n",
    "result_string = ''.join(char_tuple)\n",
    "print(result_string)"
   ]
  },
  {
   "cell_type": "code",
   "execution_count": 40,
   "id": "199ed531",
   "metadata": {},
   "outputs": [
    {
     "name": "stdout",
     "output_type": "stream",
     "text": [
      "(1, 2, 3, 4, 5, 'HEY', 56.3, True)\n"
     ]
    }
   ],
   "source": [
    "\"\"\"25. Create a tuple from multiple data types.\"\"\"\n",
    "\n",
    "my_tuple = (1, 2, 3, 4, 5, \"HEY\", 56.3, True)\n",
    "print(my_tuple)"
   ]
  },
  {
   "cell_type": "code",
   "execution_count": 43,
   "id": "576aad39",
   "metadata": {},
   "outputs": [
    {
     "name": "stdout",
     "output_type": "stream",
     "text": [
      "The tuples are identical\n"
     ]
    }
   ],
   "source": [
    "\"\"\"26. Check if two tuples are identical.\"\"\"\n",
    "\n",
    "tuple1 = (1, 2, 3)\n",
    "tuple2 = (1, 2, 3)\n",
    "\n",
    "if tuple1 == tuple2:\n",
    "    print(\"The tuples are identical\")\n",
    "else:\n",
    "    print(\"The tuples are not identical\")"
   ]
  },
  {
   "cell_type": "code",
   "execution_count": 47,
   "id": "5298ae30",
   "metadata": {},
   "outputs": [
    {
     "name": "stdout",
     "output_type": "stream",
     "text": [
      "(1, 2, 3, 4, 5)\n"
     ]
    }
   ],
   "source": [
    "\"\"\"27. Sort the elements of a tuple.\"\"\"\n",
    "\n",
    "my_tuple = (4, 1, 3, 2, 5)\n",
    "\n",
    "sorted_list = sorted(my_tuple)\n",
    "print(sorted_tuple)"
   ]
  },
  {
   "cell_type": "code",
   "execution_count": 51,
   "id": "2ef6d4df",
   "metadata": {},
   "outputs": [
    {
     "name": "stdout",
     "output_type": "stream",
     "text": [
      "('1', '2', '3', '4', '5')\n"
     ]
    }
   ],
   "source": [
    "\"\"\"28. Convert a tuple of integers to a tuple of strings.\"\"\"\n",
    "\n",
    "tuple_of_integers = (1, 2, 3, 4, 5)\n",
    "tuple_of_strings = tuple(str(i) for i in tuple_of_integers)\n",
    "\n",
    "print(tuple_of_strings)"
   ]
  },
  {
   "cell_type": "code",
   "execution_count": 52,
   "id": "9d5ced07",
   "metadata": {},
   "outputs": [
    {
     "name": "stdout",
     "output_type": "stream",
     "text": [
      "(1, 2, 3, 4, 5)\n"
     ]
    }
   ],
   "source": [
    "\"\"\"29. Convert a tuple of strings to a tuple of integers.\"\"\"\n",
    "\n",
    "tuple_of_integers = ('1', '2', '3', '4', '5')\n",
    "tuple_of_strings = tuple(int(x) for x in tuple_of_integers)\n",
    "\n",
    "print(tuple_of_strings)"
   ]
  },
  {
   "cell_type": "code",
   "execution_count": 50,
   "id": "3107df0a",
   "metadata": {},
   "outputs": [
    {
     "name": "stdout",
     "output_type": "stream",
     "text": [
      "(1, 2, 3, 4, 5, 6)\n"
     ]
    }
   ],
   "source": [
    "\"\"\"30. Merge two tuples.\"\"\"\n",
    "\n",
    "tuple1 = (1, 2, 3)\n",
    "tuple2 = (4, 5, 6)\n",
    "merged_list = tuple1 + tuple2\n",
    "print(merged_list)"
   ]
  },
  {
   "cell_type": "code",
   "execution_count": 75,
   "id": "b196f0c2",
   "metadata": {},
   "outputs": [
    {
     "name": "stdout",
     "output_type": "stream",
     "text": [
      "Required Tuple: (1, 2, 3, 4, 5, 6, 7)\n"
     ]
    }
   ],
   "source": [
    "\"\"\"31. Flatten a nested tuple.\"\"\"\n",
    "\n",
    "nested_tuple = ((1, 2), (3, 4, 5), 6, (7))\n",
    "\n",
    "flat_list = ()\n",
    "for i in nested_tuple:\n",
    "    if type(i) == tuple:\n",
    "        for j in i:\n",
    "            a = (j,)\n",
    "            flat_list += a\n",
    "    else:\n",
    "        a = (i,)\n",
    "        flat_list += a\n",
    "\n",
    "print(f\"Required Tuple: {flat_list}\")"
   ]
  },
  {
   "cell_type": "code",
   "execution_count": 73,
   "id": "39df800c",
   "metadata": {},
   "outputs": [
    {
     "name": "stdout",
     "output_type": "stream",
     "text": [
      "Required Prime Numbers: (2, 3, 5)\n"
     ]
    }
   ],
   "source": [
    "\"\"\"32. Create a tuple of the first 5 prime numbers.\"\"\"\n",
    "\n",
    "prime_numbers = ()\n",
    "for num in range(1,6):\n",
    "    if num > 1:\n",
    "        for i in range(2, num):\n",
    "            if (num % i) == 0:\n",
    "                break\n",
    "        else:\n",
    "            a = (num,)\n",
    "            prime_numbers += a\n",
    "            \n",
    "print(f\"Required Prime Numbers: {prime_numbers}\")"
   ]
  },
  {
   "cell_type": "code",
   "execution_count": 76,
   "id": "e6c26130",
   "metadata": {},
   "outputs": [
    {
     "name": "stdout",
     "output_type": "stream",
     "text": [
      "The tuple is a palindrome\n"
     ]
    }
   ],
   "source": [
    "\"\"\"33. Check if a tuple is a palindrome.\"\"\"\n",
    "\n",
    "my_tuple = (1, 2, 3, 2, 1)\n",
    "is_palindrome = my_tuple[::-1]\n",
    "\n",
    "if my_tuple == is_palindrome:\n",
    "    print(\"The tuple is a palindrome\")\n",
    "else:\n",
    "    print(\"The tuple is not a palindrome\")"
   ]
  },
  {
   "cell_type": "code",
   "execution_count": 66,
   "id": "b0328315",
   "metadata": {},
   "outputs": [
    {
     "name": "stdout",
     "output_type": "stream",
     "text": [
      "(1, 4, 9, 16, 25)\n"
     ]
    }
   ],
   "source": [
    "\"\"\"34. Create a tuple of squares of numbers from 1 to 5.\"\"\"\n",
    "\n",
    "tup = tuple(i**2 for i in range(1, 6))\n",
    "print(tup)"
   ]
  },
  {
   "cell_type": "code",
   "execution_count": 11,
   "id": "e06a169b",
   "metadata": {},
   "outputs": [
    {
     "name": "stdout",
     "output_type": "stream",
     "text": [
      "Filtered tuple: (1, 3, 5)\n"
     ]
    }
   ],
   "source": [
    "\"\"\"35. Filter out all even numbers from a tuple.\"\"\"\n",
    "\n",
    "tup = (1, 2, 3, 4, 5)\n",
    "odd_tup = tuple(i for i in tup if i%2 != 0)\n",
    "\n",
    "print(f\"Filtered tuple: {odd_tup}\")"
   ]
  },
  {
   "cell_type": "code",
   "execution_count": 79,
   "id": "4e4696f9",
   "metadata": {},
   "outputs": [
    {
     "name": "stdout",
     "output_type": "stream",
     "text": [
      "Doubled List: (2, 4, 6, 8, 10)\n"
     ]
    }
   ],
   "source": [
    "\"\"\"36. Multiply all elements in a tuple by 2.\"\"\"\n",
    "\n",
    "original_tuple = (1, 2, 3, 4, 5)\n",
    "doubled_tuple = tuple(x * 2 for x in original_tuple)\n",
    "print(f\"Doubled List: {doubled_tuple}\")"
   ]
  },
  {
   "cell_type": "code",
   "execution_count": 78,
   "id": "d205cb41",
   "metadata": {},
   "outputs": [
    {
     "name": "stdout",
     "output_type": "stream",
     "text": [
      "How many random numbers do you need? 5\n",
      "(51, 59, 40, 35, 23)\n"
     ]
    }
   ],
   "source": [
    "\"\"\"37. Create a tuple of random numbers.\"\"\"\n",
    "\n",
    "import random\n",
    "n = int(input(\"How many random numbers do you need? \"))\n",
    "random_numbers = tuple(random.randint(1, 100) for i in range(n))\n",
    "print(random_numbers)"
   ]
  },
  {
   "cell_type": "code",
   "execution_count": 81,
   "id": "f2621f39",
   "metadata": {},
   "outputs": [
    {
     "name": "stdout",
     "output_type": "stream",
     "text": [
      "It's not a sorted list\n"
     ]
    }
   ],
   "source": [
    "\"\"\"38. Check if a tuple is sorted.\"\"\"\n",
    "\n",
    "tup = (1, 2, 7, 3, 4, 5)\n",
    "l = len(tup)\n",
    "isSorted = True\n",
    "for i in range(l - 1):\n",
    "    if tup[i] > tup[i + 1]:\n",
    "        isSorted = False\n",
    "if isSorted:\n",
    "    print(\"It's a sorted list\")\n",
    "else:\n",
    "    print(\"It's not a sorted list\")"
   ]
  },
  {
   "cell_type": "code",
   "execution_count": 82,
   "id": "32f80443",
   "metadata": {},
   "outputs": [
    {
     "name": "stdout",
     "output_type": "stream",
     "text": [
      "Enter the position: 1\n",
      "Roatated List: (2, 3, 4, 5, 1)\n"
     ]
    }
   ],
   "source": [
    "\"\"\"39. Rotate a tuple to the left by `n` positions.\"\"\"\n",
    "\n",
    "original_tuple = (1, 2, 3, 4, 5)\n",
    "n = int(input(\"Enter the position: \"))\n",
    "\n",
    "rotated_tuple = original_tuple[n:] + original_tuple[:n]\n",
    "\n",
    "print(f\"Roatated List: {rotated_tuple}\")"
   ]
  },
  {
   "cell_type": "code",
   "execution_count": 83,
   "id": "12f87155",
   "metadata": {},
   "outputs": [
    {
     "name": "stdout",
     "output_type": "stream",
     "text": [
      "Enter the position: 1\n",
      "Roatated List: (5, 1, 2, 3, 4)\n"
     ]
    }
   ],
   "source": [
    "\"\"\"40. Rotate a tuple to the right by `n` positions.\"\"\"\n",
    "\n",
    "original_tuple = (1, 2, 3, 4, 5)\n",
    "n = int(input(\"Enter the position: \"))\n",
    "\n",
    "rotated_tuple = original_tuple[-n:] + original_tuple[:-n]\n",
    "\n",
    "print(f\"Roatated List: {rotated_tuple}\")"
   ]
  },
  {
   "cell_type": "code",
   "execution_count": 10,
   "id": "17cd58cc",
   "metadata": {},
   "outputs": [
    {
     "name": "stdout",
     "output_type": "stream",
     "text": [
      "Fibonacci Tuple: (0, 1, 1, 2, 3)\n"
     ]
    }
   ],
   "source": [
    "\"\"\"41. Create a tuple of the first 5 Fibonacci numbers.\"\"\"\n",
    "\n",
    "s = [0,1]\n",
    "fibonacci_set = tuple(s)\n",
    "a, b = 1, 1\n",
    "\n",
    "for i in range(3):\n",
    "    a, b = b, a + b\n",
    "    z = (a,)\n",
    "    fibonacci_set += z\n",
    "\n",
    "print(\"Fibonacci Tuple:\", fibonacci_set)"
   ]
  },
  {
   "cell_type": "code",
   "execution_count": 86,
   "id": "19e07163",
   "metadata": {},
   "outputs": [
    {
     "name": "stdout",
     "output_type": "stream",
     "text": [
      "Enter elements: 1,34,57,89,69\n",
      "User Tuple: ('1', '34', '57', '89', '69')\n"
     ]
    }
   ],
   "source": [
    "\"\"\"42. Create a tuple from user input.\"\"\"\n",
    "\n",
    "input_string = input(\"Enter elements: \")\n",
    "input_list = input_string.split(\",\")\n",
    "user_tuple = tuple(input_list)\n",
    "user_tuple\n",
    "print(\"User Tuple:\", user_tuple)"
   ]
  },
  {
   "cell_type": "code",
   "execution_count": 1,
   "id": "5e0a584f",
   "metadata": {},
   "outputs": [
    {
     "name": "stdout",
     "output_type": "stream",
     "text": [
      "Enter the index of first element: 1\n",
      "Enter the index of second element: 3\n",
      "After swapping: (1, 4, 3, 2, 5)\n"
     ]
    }
   ],
   "source": [
    "\"\"\"43. Swap two elements in a tuple.\"\"\"\n",
    "\n",
    "my_tuple = (1, 2, 3, 4, 5)\n",
    "i = int(input(\"Enter the index of first element: \"))\n",
    "j = int(input(\"Enter the index of second element: \"))\n",
    "\n",
    "my_list = list(my_tuple)\n",
    "my_list[i], my_list[j] = my_list[j], my_list[i]\n",
    "swap = tuple(my_list)\n",
    "\n",
    "print(f\"After swapping: {swap}\")"
   ]
  },
  {
   "cell_type": "code",
   "execution_count": 2,
   "id": "1817b637",
   "metadata": {},
   "outputs": [
    {
     "name": "stdout",
     "output_type": "stream",
     "text": [
      "[1, 2, 3, 4, 5]\n"
     ]
    }
   ],
   "source": [
    "\"\"\"44. Reverse the elements of a tuple.\"\"\"\n",
    "\n",
    "my_tuple = (1, 2, 3, 4, 5)\n",
    "sorted_tuple = sorted(my_tuple)\n",
    "print(sorted_tuple)"
   ]
  },
  {
   "cell_type": "code",
   "execution_count": 5,
   "id": "0016c507",
   "metadata": {},
   "outputs": [
    {
     "name": "stdout",
     "output_type": "stream",
     "text": [
      "Enter no of elements required: 10\n",
      "Required tuple: (1, 4, 9, 16, 25, 36, 49, 64, 81)\n"
     ]
    }
   ],
   "source": [
    "\"\"\"45. Create a tuple of the first `n` powers of 2.\"\"\"\n",
    "\n",
    "n = int(input(\"Enter no of elements required: \"))\n",
    "tup = tuple(i**2 for i in range(1, n))\n",
    "print(f\"Required tuple: {tup}\")"
   ]
  },
  {
   "cell_type": "code",
   "execution_count": 6,
   "id": "e2283a33",
   "metadata": {},
   "outputs": [
    {
     "name": "stdout",
     "output_type": "stream",
     "text": [
      "The longest string is: Gomu Gomu no Mi\n"
     ]
    }
   ],
   "source": [
    "\"\"\"46. Find the longest string in a tuple of strings.\"\"\"\n",
    "\n",
    "string_tuple = (\"Gomu Gomu no Mi\", \"apple\", \"banana\", \"cherry\", \"dragon fruit\")\n",
    "longest_string = max(string_tuple, key=len)\n",
    "print(\"The longest string is:\", longest_string)"
   ]
  },
  {
   "cell_type": "code",
   "execution_count": 7,
   "id": "2a45db3d",
   "metadata": {},
   "outputs": [
    {
     "name": "stdout",
     "output_type": "stream",
     "text": [
      "The longest string is: apple\n"
     ]
    }
   ],
   "source": [
    "\"\"\"47. Find the shortest string in a tuple of strings.\"\"\"\n",
    "\n",
    "string_tuple = (\"Gomu Gomu no Mi\", \"apple\", \"banana\", \"cherry\", \"dragon fruit\")\n",
    "shortest_string = min(string_tuple, key=len)\n",
    "print(\"The longest string is:\", shortest_string)"
   ]
  },
  {
   "cell_type": "code",
   "execution_count": 8,
   "id": "c8e71402",
   "metadata": {},
   "outputs": [
    {
     "name": "stdout",
     "output_type": "stream",
     "text": [
      "Enter no of triangular number required: 5\n",
      "Triangular Numbers: (1, 3, 6, 10, 15)\n"
     ]
    }
   ],
   "source": [
    "\"\"\"48. Create a tuple of the first `n` triangular numbers.\"\"\"\n",
    "\n",
    "n = int(input(\"Enter no of triangular number required: \"))\n",
    "triangular_numbers = tuple((i * (i + 1)) // 2 for i in range(1, n + 1))\n",
    "print(f\"Triangular Numbers: {triangular_numbers}\")"
   ]
  },
  {
   "cell_type": "code",
   "execution_count": 10,
   "id": "6cc9566d",
   "metadata": {},
   "outputs": [
    {
     "name": "stdout",
     "output_type": "stream",
     "text": [
      "The subsequence is present in the sequence.\n"
     ]
    }
   ],
   "source": [
    "\"\"\"49. Check if a tuple contains another tuple as a subsequence.\"\"\"\n",
    "\n",
    "sequence = [1, 2, 3, 4, 5, 6, 7, 8, 9]\n",
    "subsequence = (3, 5, 8)\n",
    "\n",
    "lst = tuple()\n",
    "for i in subsequence:\n",
    "    if i in sequence:\n",
    "        a = (i,)\n",
    "        lst += a\n",
    "\n",
    "if lst == subsequence:\n",
    "    print(\"The subsequence is present in the sequence.\")\n",
    "else:\n",
    "    print(\"The subsequence is not present in the sequence.\")"
   ]
  },
  {
   "cell_type": "code",
   "execution_count": 14,
   "id": "8ead0de2",
   "metadata": {},
   "outputs": [
    {
     "name": "stdout",
     "output_type": "stream",
     "text": [
      "Enter Length of the tuple: 10\n",
      "Required Tuple:  (1, 0, 1, 0, 1, 0, 1, 0, 1, 0)\n"
     ]
    }
   ],
   "source": [
    "\"\"\"50. Create a tuple of alternating 1s and 0s of length `n`.\"\"\"\n",
    "\n",
    "n = int(input(\"Enter Length of the tuple: \"))\n",
    "tup = tuple(1 if i % 2 == 0 else 0 for i in range(n))\n",
    "\n",
    "print(\"Required Tuple: \",tup)"
   ]
  }
 ],
 "metadata": {
  "kernelspec": {
   "display_name": "Python 3 (ipykernel)",
   "language": "python",
   "name": "python3"
  },
  "language_info": {
   "codemirror_mode": {
    "name": "ipython",
    "version": 3
   },
   "file_extension": ".py",
   "mimetype": "text/x-python",
   "name": "python",
   "nbconvert_exporter": "python",
   "pygments_lexer": "ipython3",
   "version": "3.11.4"
  }
 },
 "nbformat": 4,
 "nbformat_minor": 5
}
