{
 "cells": [
  {
   "cell_type": "markdown",
   "id": "ff859cc9",
   "metadata": {},
   "source": [
    "TOPIC: String Based Assignment Problem"
   ]
  },
  {
   "cell_type": "code",
   "execution_count": 1,
   "id": "7cb37d0b",
   "metadata": {},
   "outputs": [
    {
     "name": "stdout",
     "output_type": "stream",
     "text": [
      "Enter a string: Hey! This is NewB\n",
      "Reversed string: BweN si sihT !yeH\n"
     ]
    }
   ],
   "source": [
    "\"\"\"1. Write a program to reverse a string.\"\"\"\n",
    "\n",
    "string = input(\"Enter a string: \")\n",
    "reversed_string = string[::-1]\n",
    "print(\"Reversed string:\", reversed_string)"
   ]
  },
  {
   "cell_type": "code",
   "execution_count": 2,
   "id": "44800cbc",
   "metadata": {},
   "outputs": [
    {
     "name": "stdout",
     "output_type": "stream",
     "text": [
      "Enter a string: Malayalam\n",
      "The input string is a palindrome.\n"
     ]
    }
   ],
   "source": [
    "\"\"\"2. Check if a string is a palindrome.\"\"\"\n",
    "\n",
    "string = input(\"Enter a string: \")\n",
    "str = string.lower()\n",
    "reversed_string = str[::-1]\n",
    "if str == reversed_string:\n",
    "    print(\"The input string is a palindrome.\")\n",
    "else:\n",
    "    print(\"The input string is not a palindrome.\")"
   ]
  },
  {
   "cell_type": "code",
   "execution_count": 3,
   "id": "535f0cc9",
   "metadata": {},
   "outputs": [
    {
     "name": "stdout",
     "output_type": "stream",
     "text": [
      "Enter a string: Hey! This is NewB\n",
      "String in uppercase: HEY! THIS IS NEWB\n"
     ]
    }
   ],
   "source": [
    "\"\"\"3. Convert a string to uppercase.\"\"\"\n",
    "\n",
    "string = input(\"Enter a string: \")\n",
    "print(\"String in uppercase:\", string.upper())"
   ]
  },
  {
   "cell_type": "code",
   "execution_count": 4,
   "id": "c25c024b",
   "metadata": {},
   "outputs": [
    {
     "name": "stdout",
     "output_type": "stream",
     "text": [
      "Enter a string: Hey! This is NewB\n",
      "String in lowercase: hey! this is newb\n"
     ]
    }
   ],
   "source": [
    "\"\"\"4. Convert a string to lowercase.\"\"\"\n",
    "\n",
    "string = input(\"Enter a string: \")\n",
    "print(\"String in lowercase:\", string.lower())"
   ]
  },
  {
   "cell_type": "code",
   "execution_count": 5,
   "id": "f457eeb0",
   "metadata": {},
   "outputs": [
    {
     "name": "stdout",
     "output_type": "stream",
     "text": [
      "Enter a sentence: PwSkills\n",
      "The number of vowels in the sentence is: 1\n"
     ]
    }
   ],
   "source": [
    "\"\"\"5. Count the number of vowels in a string.\"\"\"\n",
    "\n",
    "sentence = input(\"Enter a sentence: \")\n",
    "sentence = sentence.lower()\n",
    "vowel = [\"a\",\"e\",\"i\",\"o\",\"u\"]\n",
    "vowel_count = 0\n",
    "for char in sentence:\n",
    "    if char in vowel:\n",
    "        vowel_count += 1\n",
    "\n",
    "print(f\"The number of vowels in the sentence is: {vowel_count}\")"
   ]
  },
  {
   "cell_type": "code",
   "execution_count": 22,
   "id": "40f7eafa",
   "metadata": {},
   "outputs": [
    {
     "name": "stdout",
     "output_type": "stream",
     "text": [
      "Enter a sentence: This website is aw3som3\n",
      "The number of consonants in the sentence is: 11\n"
     ]
    }
   ],
   "source": [
    "\"\"\"6. Count the number of consonants in a string.\"\"\"\n",
    "\n",
    "sentence = input(\"Enter a sentence: \")\n",
    "sentence = sentence.lower().split(\" \")\n",
    "vowel = [\"a\",\"e\",\"i\",\"o\",\"u\"]\n",
    "cons_count = 0\n",
    "for char in sentence:\n",
    "    for char in char:\n",
    "        if char not in vowel:\n",
    "            if char.isdigit() == False:\n",
    "                cons_count += 1\n",
    "\n",
    "print(f\"The number of consonants in the sentence is: {cons_count}\")"
   ]
  },
  {
   "cell_type": "code",
   "execution_count": 23,
   "id": "2ab9563b",
   "metadata": {},
   "outputs": [
    {
     "name": "stdout",
     "output_type": "stream",
     "text": [
      "Enter a string: Hey! It's NewB here!\n",
      "Modified string: Hey!It'sNewBhere!\n"
     ]
    }
   ],
   "source": [
    "\"\"\"7. Remove all whitespaces from a string.\"\"\"\n",
    "\n",
    "input_string = input(\"Enter a string: \")\n",
    "modified_string = input_string.replace(\" \", \"\")\n",
    "print(\"Modified string:\", modified_string)"
   ]
  },
  {
   "cell_type": "code",
   "execution_count": 26,
   "id": "51e12436",
   "metadata": {},
   "outputs": [
    {
     "name": "stdout",
     "output_type": "stream",
     "text": [
      "Enter an string: Hello, this is a test string.\n",
      "Length of the string: 29\n"
     ]
    }
   ],
   "source": [
    "\"\"\"8. Find the length of a string without using the `len()` function.\"\"\"\n",
    "\n",
    "string = input(\"Enter an string: \")\n",
    "count = 0\n",
    "for i in string:\n",
    "    count += 1\n",
    "print(\"Length of the string:\", count)"
   ]
  },
  {
   "cell_type": "code",
   "execution_count": 28,
   "id": "83621336",
   "metadata": {},
   "outputs": [
    {
     "name": "stdout",
     "output_type": "stream",
     "text": [
      "Enter an string: Hello, this is a test string.\n",
      "Enter an word to be found in a string: 69\n",
      "The string does not contain the word: 69\n"
     ]
    }
   ],
   "source": [
    "\"\"\"9. Check if a string contains a specific word.\"\"\"\n",
    "\n",
    "string = input(\"Enter an string: \")\n",
    "target_word = input(\"Enter an word to be found in a string: \")\n",
    "words = string.split()\n",
    "if target_word in string:\n",
    "    print(\"The string contains the word:\", target_word)\n",
    "else:\n",
    "    print(\"The string does not contain the word:\", target_word)"
   ]
  },
  {
   "cell_type": "code",
   "execution_count": 29,
   "id": "241b666b",
   "metadata": {},
   "outputs": [
    {
     "name": "stdout",
     "output_type": "stream",
     "text": [
      "Enter an string: Hello, this is a test string.\n",
      "Which word do u want to replace: string\n",
      "Enter an word to be replaced: STR\n",
      "Final String: Hello, this is a test STR.\n"
     ]
    }
   ],
   "source": [
    "\"\"\"10. Replace a word in a string with another word.\"\"\"\n",
    "\n",
    "string = input(\"Enter an string: \")\n",
    "old_word = input(\"Which word do u want to replace: \")\n",
    "new_word = input(\"Enter an word to be replaced: \")\n",
    "print(f\"Final String: {string.replace(old_word, new_word)}\")"
   ]
  },
  {
   "cell_type": "code",
   "execution_count": 31,
   "id": "b2ce865a",
   "metadata": {},
   "outputs": [
    {
     "name": "stdout",
     "output_type": "stream",
     "text": [
      "Enter an string: Hello, this is a test string. This test string is just a test.\n",
      "Enter the word: test\n",
      "Occurrences of the word 'test': 3\n"
     ]
    }
   ],
   "source": [
    "\"\"\"11. Count the occurrences of a word in a string.\"\"\"\n",
    "\n",
    "input_string = input(\"Enter an string: \")\n",
    "target_word = input(\"Enter the word: \")\n",
    "occurrences = input_string.count(target_word)\n",
    "print(\"Occurrences of the word '{}': {}\".format(target_word, occurrences))"
   ]
  },
  {
   "cell_type": "code",
   "execution_count": 33,
   "id": "8b961223",
   "metadata": {},
   "outputs": [
    {
     "name": "stdout",
     "output_type": "stream",
     "text": [
      "Enter an string: Hello, this is a test string. This test string is just a test.\n",
      "Enter the word: test\n",
      "First occurrence of 'test': Index 17\n"
     ]
    }
   ],
   "source": [
    "\"\"\"12. Find the first occurrence of a word in a string.\"\"\"\n",
    "\n",
    "input_string = input(\"Enter an string: \")\n",
    "target_word = input(\"Enter the word: \")\n",
    "\n",
    "first_occurrence_index = input_string.find(target_word)\n",
    "if first_occurrence_index != -1:\n",
    "    print(\"First occurrence of '{}': Index {}\".format(target_word, first_occurrence_index))\n",
    "else:\n",
    "    print(\"Word '{}' not found in the string.\".format(target_word))"
   ]
  },
  {
   "cell_type": "code",
   "execution_count": 34,
   "id": "5f721380",
   "metadata": {},
   "outputs": [
    {
     "name": "stdout",
     "output_type": "stream",
     "text": [
      "Enter an string: Hello, this is a test string. This test string is just a test.\n",
      "Enter the word: test\n",
      "Last occurrence of 'test': Index 57\n"
     ]
    }
   ],
   "source": [
    "\"\"\"13. Find the last occurrence of a word in a string.\"\"\"\n",
    "\n",
    "input_string = input(\"Enter an string: \")\n",
    "target_word = input(\"Enter the word: \")\n",
    "\n",
    "last_occurrence_index = input_string.rfind(target_word)\n",
    "if last_occurrence_index != -1:\n",
    "    print(\"Last occurrence of '{}': Index {}\".format(target_word, last_occurrence_index))\n",
    "else:\n",
    "    print(\"Word '{}' not found in the string.\".format(target_word))"
   ]
  },
  {
   "cell_type": "code",
   "execution_count": 35,
   "id": "fa577c6c",
   "metadata": {},
   "outputs": [
    {
     "name": "stdout",
     "output_type": "stream",
     "text": [
      "Enter an string: Hello, this is a test string.\n",
      "['Hello,', 'this', 'is', 'a', 'test', 'string.']\n"
     ]
    }
   ],
   "source": [
    "\"\"\"14. Split a string into a list of words.\"\"\"\n",
    "\n",
    "input_string = input(\"Enter an string: \")\n",
    "print(input_string.split(\" \"))"
   ]
  },
  {
   "cell_type": "code",
   "execution_count": 36,
   "id": "249a85a7",
   "metadata": {},
   "outputs": [
    {
     "name": "stdout",
     "output_type": "stream",
     "text": [
      "Hello, this is a test string.\n"
     ]
    }
   ],
   "source": [
    "\"\"\"15. Join a list of words into a string.\"\"\"\n",
    "\n",
    "words_list = [\"Hello,\", \"this\", \"is\", \"a\", \"test\", \"string.\"]\n",
    "sep = \" \"\n",
    "joined_string = sep.join(words_list)\n",
    "print(joined_string)"
   ]
  },
  {
   "cell_type": "code",
   "execution_count": 37,
   "id": "4a70c8dc",
   "metadata": {},
   "outputs": [
    {
     "name": "stdout",
     "output_type": "stream",
     "text": [
      "Enter an string: Hello, this is a test string.\n",
      "Hello,_this_is_a_test_string.\n"
     ]
    }
   ],
   "source": [
    "\"\"\"16. Convert a string where words are separated by spaces to one where words\n",
    "are separated by underscores.\"\"\"\n",
    "\n",
    "input_string = input(\"Enter an string: \") \n",
    "converted_string = input_string.replace(\" \", \"_\")\n",
    "print(converted_string)"
   ]
  },
  {
   "cell_type": "code",
   "execution_count": 41,
   "id": "e32e423d",
   "metadata": {},
   "outputs": [
    {
     "name": "stdout",
     "output_type": "stream",
     "text": [
      "Enter an string: Hello, this is a test string.\n",
      "Enter the word: Hello\n",
      "The string starts with the phrase: Hello\n"
     ]
    }
   ],
   "source": [
    "\"\"\"17. Check if a string starts with a specific word or phrase.\"\"\"\n",
    "\n",
    "input_string = input(\"Enter an string: \")\n",
    "target_word = input(\"Enter the word: \")\n",
    "if input_string.startswith(target_word):\n",
    "    print(\"The string starts with the phrase:\", target_word)\n",
    "else:\n",
    "    print(\"The string does not start with the phrase:\", target_word)"
   ]
  },
  {
   "cell_type": "code",
   "execution_count": 43,
   "id": "dba51a9f",
   "metadata": {},
   "outputs": [
    {
     "name": "stdout",
     "output_type": "stream",
     "text": [
      "Enter an string: Hello, this is a test string.\n",
      "Enter the word: .\n",
      "The string starts with the phrase: .\n"
     ]
    }
   ],
   "source": [
    "\"\"\"18. Check if a string ends with a specific word or phrase.\"\"\"\n",
    "\n",
    "input_string = input(\"Enter an string: \")\n",
    "target_word = input(\"Enter the word: \")\n",
    "if input_string.endswith(target_word):\n",
    "    print(\"The string starts with the phrase:\", target_word)\n",
    "else:\n",
    "    print(\"The string does not start with the phrase:\", target_word)"
   ]
  },
  {
   "cell_type": "code",
   "execution_count": 44,
   "id": "151124ab",
   "metadata": {},
   "outputs": [
    {
     "name": "stdout",
     "output_type": "stream",
     "text": [
      "Hello World\n"
     ]
    }
   ],
   "source": [
    "\"\"\"19. Convert a string to title case (e.g., \"hello world\" to \"Hello World\").\"\"\"\n",
    "\n",
    "input_string = \"hello world\"\n",
    "title_case_string = input_string.title()\n",
    "print(title_case_string)"
   ]
  },
  {
   "cell_type": "code",
   "execution_count": 45,
   "id": "1b0e0e85",
   "metadata": {},
   "outputs": [
    {
     "name": "stdout",
     "output_type": "stream",
     "text": [
      "Enter an string: Hello, this is a test string with some long words.\n",
      "Longest word: Hello,\n"
     ]
    }
   ],
   "source": [
    "\"\"\"20. Find the longest word in a string.\"\"\"\n",
    "\n",
    "input_string = input(\"Enter an string: \")\n",
    "words = input_string.split()\n",
    "longest = max(words, key=len)\n",
    "print(\"Longest word:\", longest)"
   ]
  },
  {
   "cell_type": "code",
   "execution_count": 46,
   "id": "bb64461f",
   "metadata": {},
   "outputs": [
    {
     "name": "stdout",
     "output_type": "stream",
     "text": [
      "Enter an string: Hello, this is a test string with some long words.\n",
      "Longest word: a\n"
     ]
    }
   ],
   "source": [
    "\"\"\"21. Find the shortest word in a string.\"\"\"\n",
    "\n",
    "input_string = input(\"Enter an string: \")\n",
    "words = input_string.split()\n",
    "mini = min(words, key=len)\n",
    "print(\"Longest word:\", mini)"
   ]
  },
  {
   "cell_type": "code",
   "execution_count": 47,
   "id": "800a3655",
   "metadata": {},
   "outputs": [
    {
     "name": "stdout",
     "output_type": "stream",
     "text": [
      "Enter an string: xHello, this is a test string.\n",
      "Reversed string: string. test a is this xHello,\n"
     ]
    }
   ],
   "source": [
    "\"\"\"22. Reverse the order of words in a string.\"\"\"\n",
    "\n",
    "input_string = input(\"Enter an string: \")\n",
    "reversed_words = input_string.split()[::-1]\n",
    "reversed_string = \" \".join(reversed_words)\n",
    "print(\"Reversed string:\", reversed_string)"
   ]
  },
  {
   "cell_type": "code",
   "execution_count": 48,
   "id": "babfcc50",
   "metadata": {},
   "outputs": [
    {
     "name": "stdout",
     "output_type": "stream",
     "text": [
      "Enter an string: Hello1256\n",
      "The string is alphanumeric.\n"
     ]
    }
   ],
   "source": [
    "\"\"\"23. Check if a string is alphanumeric.\"\"\"\n",
    "\n",
    "input_string = input(\"Enter an string: \")\n",
    "if input_string.isalnum():\n",
    "    print(\"The string is alphanumeric.\")\n",
    "else:\n",
    "    print(\"The string is not alphanumeric.\")"
   ]
  },
  {
   "cell_type": "code",
   "execution_count": 55,
   "id": "3031f97b",
   "metadata": {},
   "outputs": [
    {
     "name": "stdout",
     "output_type": "stream",
     "text": [
      "Enter an string: Hello123\n",
      "Extracted digits: 123\n"
     ]
    }
   ],
   "source": [
    "\"\"\"24. Extract all digits from a string.\"\"\"\n",
    "\n",
    "input_string = input(\"Enter an string: \")\n",
    "digits = \"\"\n",
    "for i in input_string:\n",
    "    if i.isdigit() == True:\n",
    "        digits = digits+i\n",
    "print(f\"Extracted digits: {digits}\")"
   ]
  },
  {
   "cell_type": "code",
   "execution_count": 60,
   "id": "97279de0",
   "metadata": {},
   "outputs": [
    {
     "name": "stdout",
     "output_type": "stream",
     "text": [
      "Enter an string: Hello123Bro456\n",
      "Extracted digits: HelloBro\n"
     ]
    }
   ],
   "source": [
    "\"\"\"25. Extract all alphabets from a string.\"\"\"\n",
    "\n",
    "input_string = input(\"Enter an string: \")\n",
    "digits = \"\"\n",
    "for i in input_string: \n",
    "    if i.isalpha() == True:\n",
    "        digits = digits+i  \n",
    "print(f\"Extracted digits: {digits}\")"
   ]
  },
  {
   "cell_type": "code",
   "execution_count": 64,
   "id": "522afa90",
   "metadata": {},
   "outputs": [
    {
     "name": "stdout",
     "output_type": "stream",
     "text": [
      "Enter an string: HelloBro\n",
      "Number of uppercase letters: 2\n"
     ]
    }
   ],
   "source": [
    "\"\"\"26. Count the number of uppercase letters in a string.\"\"\"\n",
    "\n",
    "input_string = input(\"Enter an string: \")\n",
    "w = \"\"\n",
    "for i in input_string: \n",
    "    if i.isupper() == True:\n",
    "        w = w+i  \n",
    "print(f\"Number of uppercase letters: {len(w)}\")"
   ]
  },
  {
   "cell_type": "code",
   "execution_count": 65,
   "id": "0fca3de0",
   "metadata": {},
   "outputs": [
    {
     "name": "stdout",
     "output_type": "stream",
     "text": [
      "Enter an string: HelloBro\n",
      "Number of lowercase letters: 6\n"
     ]
    }
   ],
   "source": [
    "\"\"\"27. Count the number of lowercase letters in a string.\"\"\"\n",
    "\n",
    "input_string = input(\"Enter an string: \")\n",
    "w = \"\"\n",
    "for i in input_string: \n",
    "    if i.islower() == True:\n",
    "        w = w+i  \n",
    "print(f\"Number of lowercase letters: {len(w)}\")"
   ]
  },
  {
   "cell_type": "code",
   "execution_count": 66,
   "id": "0b1758ba",
   "metadata": {},
   "outputs": [
    {
     "name": "stdout",
     "output_type": "stream",
     "text": [
      "Enter an string: Hello, This Is a Test String.\n",
      "Swapped case string: hELLO, tHIS iS A tEST sTRING.\n"
     ]
    }
   ],
   "source": [
    "\"\"\"28. Swap the case of each character in a string.\"\"\"\n",
    "\n",
    "input_string = input(\"Enter an string: \")\n",
    "swapped_string = input_string.swapcase()\n",
    "print(\"Swapped case string:\", swapped_string)"
   ]
  },
  {
   "cell_type": "code",
   "execution_count": 67,
   "id": "ba1511d5",
   "metadata": {},
   "outputs": [
    {
     "name": "stdout",
     "output_type": "stream",
     "text": [
      "Enter an string: Hello, this is a test string. This test string is just a test.\n",
      "Enter the word: test\n",
      "Updated string: Hello, this is a  string. This  string is just a .\n"
     ]
    }
   ],
   "source": [
    "\"\"\"29. Remove a specific word from a string.\"\"\"\n",
    "\n",
    "input_string = input(\"Enter an string: \")\n",
    "target_word = input(\"Enter the word: \")\n",
    "updated_string = input_string.replace(target_word, \"\")\n",
    "print(\"Updated string:\", updated_string)"
   ]
  },
  {
   "cell_type": "code",
   "execution_count": 68,
   "id": "b6541a8f",
   "metadata": {},
   "outputs": [
    {
     "name": "stdout",
     "output_type": "stream",
     "text": [
      "Enter an email address: example@email.com\n",
      "The email address is valid.\n"
     ]
    }
   ],
   "source": [
    "\"\"\"30. Check if a string is a valid email address.\"\"\"\n",
    "\n",
    "input_email = input(\"Enter an email address: \")\n",
    "if \"@\" in input_email and \".\" in input_email:\n",
    "    print(\"The email address is valid.\")\n",
    "else:\n",
    "    print(\"The email address is not valid.\")"
   ]
  },
  {
   "cell_type": "code",
   "execution_count": 70,
   "id": "e481b97e",
   "metadata": {},
   "outputs": [
    {
     "name": "stdout",
     "output_type": "stream",
     "text": [
      "Enter an email address: example@email.com\n",
      "Username:  example\n"
     ]
    }
   ],
   "source": [
    "\"\"\"31. Extract the username from an email address string.\"\"\"\n",
    "\n",
    "input_email = input(\"Enter an email address: \")\n",
    "username = input_email.split('@')[0]\n",
    "print(\"Username: \", username)"
   ]
  },
  {
   "cell_type": "code",
   "execution_count": 71,
   "id": "9a45e4d3",
   "metadata": {},
   "outputs": [
    {
     "name": "stdout",
     "output_type": "stream",
     "text": [
      "Enter an email address: example@email.com\n",
      "Domain name:  email.com\n"
     ]
    }
   ],
   "source": [
    "\"\"\"32. Extract the domain name from an email address string.\"\"\"\n",
    "\n",
    "input_email = input(\"Enter an email address: \")\n",
    "domain_name = input_email.split('@')[1]\n",
    "print(\"Domain name: \", domain_name)"
   ]
  },
  {
   "cell_type": "code",
   "execution_count": 73,
   "id": "e98a9bf6",
   "metadata": {},
   "outputs": [
    {
     "name": "stdout",
     "output_type": "stream",
     "text": [
      "Enter an string: Hello,   this   has     multiple   spaces\n",
      "String with single spaces: Hello, this has multiple spaces\n"
     ]
    }
   ],
   "source": [
    "\"\"\"33. Replace multiple spaces in a string with a single space.\"\"\"\n",
    "\n",
    "input_string = input(\"Enter an string: \")\n",
    "single_space_string = ' '.join(input_string.split())\n",
    "print(\"String with single spaces:\", single_space_string)"
   ]
  },
  {
   "cell_type": "code",
   "execution_count": 75,
   "id": "27d90cfc",
   "metadata": {},
   "outputs": [
    {
     "name": "stdout",
     "output_type": "stream",
     "text": [
      "Enter an url: https://www.example.com/\n",
      "The URL is valid.\n"
     ]
    }
   ],
   "source": [
    "\"\"\"34. Check if a string is a valid URL.\"\"\"\n",
    "\n",
    "input_url = input(\"Enter an url: \")\n",
    "if \"://\" in input_url and \".\" in input_url:\n",
    "    print(\"The URL is valid.\")\n",
    "else:\n",
    "    print(\"The URL is not valid.\")"
   ]
  },
  {
   "cell_type": "code",
   "execution_count": 74,
   "id": "9fa440ea",
   "metadata": {},
   "outputs": [
    {
     "name": "stdout",
     "output_type": "stream",
     "text": [
      "Enter an url: https://www.example.com\n",
      "Protocol: https\n"
     ]
    }
   ],
   "source": [
    "\"\"\"35. Extract the protocol (http or https) from a URL string.\"\"\"\n",
    "\n",
    "input_url = input(\"Enter an url: \")\n",
    "protocol = input_url.split('://')[0]\n",
    "print(\"Protocol:\", protocol)"
   ]
  },
  {
   "cell_type": "code",
   "execution_count": 80,
   "id": "54f702d8",
   "metadata": {},
   "outputs": [
    {
     "name": "stdout",
     "output_type": "stream",
     "text": [
      "Enter an string: Hello, this is a test string.\n",
      "'H': 1\n",
      "'e': 2\n",
      "'l': 2\n",
      "'o': 1\n",
      "',': 1\n",
      "' ': 5\n",
      "'t': 4\n",
      "'h': 1\n",
      "'i': 3\n",
      "'s': 4\n",
      "'a': 1\n",
      "'r': 1\n",
      "'n': 1\n",
      "'g': 1\n",
      "'.': 1\n"
     ]
    }
   ],
   "source": [
    "\"\"\"36. Find the frequency of each character in a string.\"\"\"\n",
    "\n",
    "input_string = input(\"Enter an string: \")\n",
    "frequency = {}\n",
    "for char in input_string:\n",
    "    if char in frequency:\n",
    "        frequency[char] += 1\n",
    "    else:\n",
    "        frequency[char] = 1\n",
    "\n",
    "for char, count in frequency.items():\n",
    "    print(f\"'{char}': {count}\")"
   ]
  },
  {
   "cell_type": "code",
   "execution_count": 2,
   "id": "15b83b7d",
   "metadata": {},
   "outputs": [
    {
     "name": "stdout",
     "output_type": "stream",
     "text": [
      "Enter an string: Hello123, World! How's life?\n",
      "Hello123 World Hows life\n"
     ]
    }
   ],
   "source": [
    "\"\"\"37. Remove all punctuation from a string.\"\"\"\n",
    "\n",
    "input_string = input(\"Enter an string: \")\n",
    "cleaned_string = \"\"\n",
    "for char in input_string:\n",
    "    if char.isalpha() or char == ' ' or char.isdigit():\n",
    "        cleaned_string += char\n",
    "\n",
    "print(cleaned_string)"
   ]
  },
  {
   "cell_type": "code",
   "execution_count": 79,
   "id": "6fecb9c9",
   "metadata": {},
   "outputs": [
    {
     "name": "stdout",
     "output_type": "stream",
     "text": [
      "Enter an string: 1234\n",
      "The string contains only digits.\n"
     ]
    }
   ],
   "source": [
    "\"\"\"38. Check if a string contains only digits.\"\"\"\n",
    "\n",
    "input_string = input(\"Enter an string: \")\n",
    "if input_string.isdigit():\n",
    "    print(\"The string contains only digits.\")\n",
    "else:\n",
    "    print(\"The string does not contain only digits.\")"
   ]
  },
  {
   "cell_type": "code",
   "execution_count": 77,
   "id": "bc177241",
   "metadata": {},
   "outputs": [
    {
     "name": "stdout",
     "output_type": "stream",
     "text": [
      "Enter an string: HelloWorld\n",
      "The string contains only alphabets.\n"
     ]
    }
   ],
   "source": [
    "\"\"\"39. Check if a string contains only alphabets.\"\"\"\n",
    "\n",
    "input_string = input(\"Enter an string: \")\n",
    "if input_string.isalpha():\n",
    "    print(\"The string contains only alphabets.\")\n",
    "else:\n",
    "    print(\"The string does not contain only alphabets.\")"
   ]
  },
  {
   "cell_type": "code",
   "execution_count": 76,
   "id": "c17ca0f0",
   "metadata": {},
   "outputs": [
    {
     "name": "stdout",
     "output_type": "stream",
     "text": [
      "Enter an string: Hello, this is a test string.\n",
      "List of characters: ['H', 'e', 'l', 'l', 'o', ',', ' ', 't', 'h', 'i', 's', ' ', 'i', 's', ' ', 'a', ' ', 't', 'e', 's', 't', ' ', 's', 't', 'r', 'i', 'n', 'g', '.']\n"
     ]
    }
   ],
   "source": [
    "\"\"\"40. Convert a string to a list of characters.\"\"\"\n",
    "\n",
    "input_string = input(\"Enter an string: \")\n",
    "characters_list = list(input_string)\n",
    "print(\"List of characters:\",characters_list)"
   ]
  },
  {
   "cell_type": "code",
   "execution_count": 3,
   "id": "3201c08b",
   "metadata": {},
   "outputs": [
    {
     "name": "stdout",
     "output_type": "stream",
     "text": [
      "Enter an string1: listen\n",
      "Enter an string2: silent\n",
      "The strings are anagrams.\n"
     ]
    }
   ],
   "source": [
    "\"\"\"41. Check if two strings are anagrams.\"\"\"\n",
    "\n",
    "string1 = input(\"Enter an string1: \")\n",
    "string2 = input(\"Enter an string2: \")\n",
    "\n",
    "string1 = string1.replace(\" \", \"\").lower()\n",
    "string2 = string2.replace(\" \", \"\").lower()\n",
    "\n",
    "if len(string1) != len(string2):\n",
    "    are_anagrams = False\n",
    "else:\n",
    "    freq1 = {}\n",
    "    freq2 = {}\n",
    "    \n",
    "    for char in string1:\n",
    "        freq1[char] = freq1.get(char, 0) + 1\n",
    "    \n",
    "    for char in string2:\n",
    "        freq2[char] = freq2.get(char, 0) + 1\n",
    "    \n",
    "    are_anagrams = freq1 == freq2\n",
    "\n",
    "if are_anagrams:\n",
    "    print(\"The strings are anagrams.\")\n",
    "else:\n",
    "    print(\"The strings are not anagrams.\")\n"
   ]
  },
  {
   "cell_type": "code",
   "execution_count": 6,
   "id": "97232313",
   "metadata": {
    "scrolled": true
   },
   "outputs": [
    {
     "name": "stdout",
     "output_type": "stream",
     "text": [
      "Enter an string: a\n",
      "Enter the shift number: 1\n",
      "The encrypted text is b\n"
     ]
    }
   ],
   "source": [
    "\"\"\"42. Encode a string using a Caesar cipher.\"\"\"\n",
    "\n",
    "alpha = ['a', 'b', 'c', 'd', 'e', 'f', 'g', 'h', 'i', 'j', 'k', 'l', 'm', 'n', 'o', 'p', 'q', 'r', 's', 't', 'u', 'v', 'w', 'x', 'y', 'z']\n",
    "text = input(\"Enter an string: \").lower()\n",
    "shift = int(input(\"Enter the shift number: \"))\n",
    "cipher_text=\"\"\n",
    "for i in text:\n",
    "    pos = alpha.index(i)\n",
    "    new_pos = pos+shift\n",
    "    new_letter = alpha[new_pos]\n",
    "    cipher_text = cipher_text+new_letter\n",
    "print(f\"The encrypted text is {cipher_text}\")  "
   ]
  },
  {
   "cell_type": "code",
   "execution_count": 7,
   "id": "14ef3004",
   "metadata": {},
   "outputs": [
    {
     "name": "stdout",
     "output_type": "stream",
     "text": [
      "Enter an string: c\n",
      "Enter the shift number: 1\n",
      "The encrypted text is b\n"
     ]
    }
   ],
   "source": [
    "\"\"\"43. Decode a Caesar cipher encoded string.\"\"\"\n",
    "\n",
    "alpha = ['a', 'b', 'c', 'd', 'e', 'f', 'g', 'h', 'i', 'j', 'k', 'l', 'm', 'n', 'o', 'p', 'q', 'r', 's', 't', 'u', 'v', 'w', 'x', 'y', 'z']\n",
    "text = input(\"Enter an string: \").lower()\n",
    "shift = int(input(\"Enter the shift number: \"))\n",
    "cipher_text=\"\"\n",
    "for i in text:\n",
    "    pos = alpha.index(i)\n",
    "    new_pos = pos-shift\n",
    "    new_letter = alpha[new_pos]\n",
    "    cipher_text = cipher_text+new_letter\n",
    "print(f\"The encrypted text is {cipher_text}\") "
   ]
  },
  {
   "cell_type": "code",
   "execution_count": 31,
   "id": "a29ecdc2",
   "metadata": {},
   "outputs": [
    {
     "name": "stdout",
     "output_type": "stream",
     "text": [
      "Enter an string: Hey! its newB here, Hi NewB\n",
      "The most frequent word is 'newb\n"
     ]
    }
   ],
   "source": [
    "\"\"\"44. Find the most frequent word in a string.\"\"\"\n",
    "\n",
    "input_string = input(\"Enter an string: \").lower().split(\" \")\n",
    "freq = {}\n",
    "for char in input_string:\n",
    "    if char in freq:\n",
    "        freq[char] += 1\n",
    "    else:\n",
    "        freq[char] = 1\n",
    "most_common_word = max(freq)\n",
    "frequency = freq[most_common_word]\n",
    "\n",
    "print(f\"The most frequent word is '{most_common_word}\")"
   ]
  },
  {
   "cell_type": "code",
   "execution_count": 34,
   "id": "fd6d6280",
   "metadata": {},
   "outputs": [
    {
     "name": "stdout",
     "output_type": "stream",
     "text": [
      "Enter a string: Hey! its newB here, Hi NewB\n",
      "Unique words in the string: {'hey!', 'its', 'newb', 'hi', 'here,'}\n"
     ]
    }
   ],
   "source": [
    "\"\"\"45. Find all unique words in a string.\"\"\"\n",
    "\n",
    "input_text = input(\"Enter a string: \")\n",
    "\n",
    "words = input_text.split()\n",
    "unique_words = set()\n",
    "\n",
    "for word in words:\n",
    "    word = word.lower()\n",
    "    unique_words.add(word)\n",
    "print(\"Unique words in the string:\", unique_words)\n"
   ]
  },
  {
   "cell_type": "code",
   "execution_count": 43,
   "id": "55ac8169",
   "metadata": {},
   "outputs": [
    {
     "name": "stdout",
     "output_type": "stream",
     "text": [
      "Enter a string: Hey! its newB here\n",
      "Total syllables in the string: 7\n"
     ]
    }
   ],
   "source": [
    "\"\"\"46. Count the number of syllables in a string.\"\"\"\n",
    "\n",
    "input_text = input(\"Enter a string: \").split()\n",
    "total_syllables = 0\n",
    "vowels = \"aeiou\"\n",
    "\n",
    "for word in words:\n",
    "    word = word.lower()\n",
    "    if len(word) <= 3:\n",
    "        total_syllables += 1\n",
    "    else:\n",
    "        count = 0\n",
    "        if word[0] in vowels:\n",
    "            count += 1\n",
    "        for index in range(1, len(word)):\n",
    "            if word[index] in vowels and word[index - 1] not in vowels:\n",
    "                count += 1\n",
    "        if word.endswith(\"e\"):\n",
    "            count -= 1\n",
    "        if count == 0:\n",
    "            count = 1\n",
    "        total_syllables += count\n",
    "\n",
    "print(f\"Total syllables in the string: {total_syllables}\")\n"
   ]
  },
  {
   "cell_type": "code",
   "execution_count": 50,
   "id": "dd73cc80",
   "metadata": {},
   "outputs": [
    {
     "name": "stdout",
     "output_type": "stream",
     "text": [
      "Enter a string: Hey\n",
      "The string does not contain special characters.\n"
     ]
    }
   ],
   "source": [
    "\"\"\"47. Check if a string contains any special characters.\"\"\"\n",
    "\n",
    "special_characters = \"!@#$%^&*(),.?\\\":{}|<>\"\n",
    "input_text = input(\"Enter a string: \")\n",
    "\n",
    "contains_special = False\n",
    "\n",
    "for char in input_text:\n",
    "    if char in special_characters:\n",
    "        contains_special = True\n",
    "        break\n",
    "\n",
    "if contains_special:\n",
    "    print(\"The string contains special characters.\")\n",
    "else:\n",
    "    print(\"The string does not contain special characters.\")"
   ]
  },
  {
   "cell_type": "code",
   "execution_count": 53,
   "id": "598464ae",
   "metadata": {},
   "outputs": [
    {
     "name": "stdout",
     "output_type": "stream",
     "text": [
      "Enter a string: Hey! It'S Hey NewB Here!\n",
      "Enter the position of the word to remove: 3\n",
      "Modified string: Hey! It'S NewB Here!\n"
     ]
    }
   ],
   "source": [
    "\"\"\"48. Remove the nth word from a string.\"\"\"\n",
    "\n",
    "input_text = input(\"Enter a string: \")\n",
    "n = int(input(\"Enter the position of the word to remove: \"))\n",
    "words = input_text.split()\n",
    "\n",
    "if n > 0 and n <= len(words):\n",
    "    del words[n - 1]\n",
    "    modified_string = ' '.join(words)\n",
    "    print(\"Modified string:\", modified_string)\n",
    "else:\n",
    "    print(\"Invalid position, the string remains unchanged:\", input_text)"
   ]
  },
  {
   "cell_type": "code",
   "execution_count": 55,
   "id": "e63f085a",
   "metadata": {},
   "outputs": [
    {
     "name": "stdout",
     "output_type": "stream",
     "text": [
      "Enter a string: Hey! It'S NewB Here!\n",
      "Enter the word to insert: and I'm from BLR\n",
      "Enter the position to insert the word: 4\n",
      "Modified string: Hey! It'S NewB Here! and I'm from BLR\n"
     ]
    }
   ],
   "source": [
    "\"\"\"49. Insert a word at the nth position in a string.\"\"\"\n",
    "\n",
    "input_text = input(\"Enter a string: \")\n",
    "word_to_insert = input(\"Enter the word to insert: \")\n",
    "position = int(input(\"Enter the position to insert the word: \"))\n",
    "\n",
    "words = input_text.split()\n",
    "\n",
    "if position >= 0 and position <= len(words):\n",
    "    words.insert(position, word_to_insert)\n",
    "    modified_string = ' '.join(words)\n",
    "    print(\"Modified string:\", modified_string)\n",
    "else:\n",
    "    print(\"Invalid position, the string remains unchanged:\", input_text)"
   ]
  },
  {
   "cell_type": "code",
   "execution_count": 57,
   "id": "148a2d01",
   "metadata": {},
   "outputs": [
    {
     "name": "stdout",
     "output_type": "stream",
     "text": [
      "[['Name', 'Age', 'Country'], ['John', '19', 'INDIA'], ['derrick', '25', 'Canada'], ['Michael Jackson', '28', 'Tamil Nadu']]\n"
     ]
    }
   ],
   "source": [
    "\"\"\"50. Convert a CSV string to a list of lists.\"\"\"\n",
    "\n",
    "csv_string = \"\"\"Name,Age,Country\n",
    "John,19,INDIA\n",
    "derrick,25,Canada\n",
    "Michael Jackson,28,Tamil Nadu\"\"\"\n",
    "\n",
    "csv_list = []\n",
    "rows = csv_string.split('\\n')\n",
    "for row in rows:\n",
    "    if row:\n",
    "        csv_list.append(row.split(','))\n",
    "print(csv_list)\n"
   ]
  }
 ],
 "metadata": {
  "kernelspec": {
   "display_name": "Python 3 (ipykernel)",
   "language": "python",
   "name": "python3"
  },
  "language_info": {
   "codemirror_mode": {
    "name": "ipython",
    "version": 3
   },
   "file_extension": ".py",
   "mimetype": "text/x-python",
   "name": "python",
   "nbconvert_exporter": "python",
   "pygments_lexer": "ipython3",
   "version": "3.11.4"
  }
 },
 "nbformat": 4,
 "nbformat_minor": 5
}
