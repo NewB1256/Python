{
 "cells": [
  {
   "cell_type": "markdown",
   "id": "33ff34c7",
   "metadata": {},
   "source": [
    "TOPIC: List Based Practice Problem"
   ]
  },
  {
   "cell_type": "code",
   "execution_count": 5,
   "id": "00dd3835",
   "metadata": {},
   "outputs": [
    {
     "name": "stdout",
     "output_type": "stream",
     "text": [
      "[1, 2, 3, 4, 5, 6, 7, 8, 9, 10]\n"
     ]
    }
   ],
   "source": [
    "\"\"\"1. Create a list with integers from 1 to 10.\"\"\"\n",
    "\n",
    "list = [i for i in range(1,11)] #OR list = [1,2,3,4,5,6,7,8,9,10]\n",
    "print(list)"
   ]
  },
  {
   "cell_type": "code",
   "execution_count": 6,
   "id": "1706fb90",
   "metadata": {},
   "outputs": [
    {
     "name": "stdout",
     "output_type": "stream",
     "text": [
      "The length of the list is: 5\n"
     ]
    }
   ],
   "source": [
    "\"\"\"2. Find the length of a list without using the `len()` function.\"\"\"\n",
    "\n",
    "lst = [1,2,3,4,5]\n",
    "count = 0\n",
    "for i in lst:\n",
    "    count += 1\n",
    "print(f\"The length of the list is: {count}\")    "
   ]
  },
  {
   "cell_type": "code",
   "execution_count": 7,
   "id": "1c8270c3",
   "metadata": {},
   "outputs": [
    {
     "name": "stdout",
     "output_type": "stream",
     "text": [
      "Enter the value to be added: 76\n",
      "New List: [1, 2, 3, 4, 5, 76]\n"
     ]
    }
   ],
   "source": [
    "\"\"\"3. Append an element to the end of a list.\"\"\"\n",
    "\n",
    "lst = [1,2,3,4,5]\n",
    "n = int(input(\"Enter the value to be added: \"))\n",
    "lst.append(n)\n",
    "print(f\"New List: {lst}\")"
   ]
  },
  {
   "cell_type": "code",
   "execution_count": 8,
   "id": "585f242f",
   "metadata": {},
   "outputs": [
    {
     "name": "stdout",
     "output_type": "stream",
     "text": [
      "Enter the index no: 4\n",
      "Enter the value: 98\n",
      "New List: [1, 2, 3, 4, 98, 5]\n"
     ]
    }
   ],
   "source": [
    "\"\"\"4. Insert an element at a specific index in a list.\"\"\"\n",
    "\n",
    "lst = [1,2,3,4,5]\n",
    "n = int(input(\"Enter the index no: \"))\n",
    "m = int(input(\"Enter the value: \"))\n",
    "lst.insert(n,m)\n",
    "print(f\"New List: {lst}\")"
   ]
  },
  {
   "cell_type": "code",
   "execution_count": 9,
   "id": "34006fea",
   "metadata": {},
   "outputs": [
    {
     "name": "stdout",
     "output_type": "stream",
     "text": [
      "Enter the value to be deleted: 3\n",
      "New List: [1, 2, 4, 5]\n"
     ]
    }
   ],
   "source": [
    "\"\"\"5. Remove an element from a list by its value.\"\"\"\n",
    "\n",
    "lst = [1,2,3,4,5]\n",
    "m = int(input(\"Enter the value to be deleted: \"))\n",
    "lst.remove(m)\n",
    "print(f\"New List: {lst}\")"
   ]
  },
  {
   "cell_type": "code",
   "execution_count": 10,
   "id": "f58bcfb1",
   "metadata": {},
   "outputs": [
    {
     "name": "stdout",
     "output_type": "stream",
     "text": [
      "Enter the index no: 1\n",
      "New List: [1, 3, 4, 5]\n"
     ]
    }
   ],
   "source": [
    "\"\"\"6. Remove an element from a list by its index.\"\"\"\n",
    "\n",
    "lst = [1,2,3,4,5]\n",
    "n = int(input(\"Enter the index no: \"))\n",
    "lst.pop(n)\n",
    "print(f\"New List: {lst}\")"
   ]
  },
  {
   "cell_type": "code",
   "execution_count": 13,
   "id": "a45a64c2",
   "metadata": {},
   "outputs": [
    {
     "name": "stdout",
     "output_type": "stream",
     "text": [
      "Enter the element to check: 67\n",
      "Element Not found!\n"
     ]
    }
   ],
   "source": [
    "\"\"\"7. Check if an element exists in a list.\"\"\"\n",
    "\n",
    "lst = [1,2,3,4,5]\n",
    "n = int(input(\"Enter the element to check: \"))\n",
    "for i in lst:\n",
    "    if i == n:\n",
    "        c=0\n",
    "        break\n",
    "    else:\n",
    "        c=1\n",
    "if c==0:\n",
    "    print(\"Element Found!\")\n",
    "else:\n",
    "    print(\"Element Not found!\")"
   ]
  },
  {
   "cell_type": "code",
   "execution_count": 15,
   "id": "30515ada",
   "metadata": {},
   "outputs": [
    {
     "name": "stdout",
     "output_type": "stream",
     "text": [
      "Enter the value: 20\n",
      "The first occurrence of 20 is at index 1.\n"
     ]
    }
   ],
   "source": [
    "\"\"\"8. Find the index of the first occurrence of an element in a list.\"\"\"\n",
    "\n",
    "my_list = [10, 20, 30, 40, 20, 50]\n",
    "n = int(input(\"Enter the value: \"))\n",
    "if n in my_list:\n",
    "    index = my_list.index(n)\n",
    "    print(f\"The first occurrence of {n} is at index {index}.\")\n",
    "else:\n",
    "    print(f\"{n} was not found in the list.\")"
   ]
  },
  {
   "cell_type": "code",
   "execution_count": 16,
   "id": "3cc4b2fd",
   "metadata": {},
   "outputs": [
    {
     "name": "stdout",
     "output_type": "stream",
     "text": [
      "Enter the value: 20\n",
      "The element 20 appears 3 times in the list.\n"
     ]
    }
   ],
   "source": [
    "\"\"\"9. Count the occurrences of an element in a list.\"\"\"\n",
    "\n",
    "my_list = [10, 20, 30, 40, 20, 50, 20]\n",
    "n = int(input(\"Enter the value: \"))\n",
    "\n",
    "count = my_list.count(n)\n",
    "print(f\"The element {n} appears {count} times in the list.\")"
   ]
  },
  {
   "cell_type": "code",
   "execution_count": 21,
   "id": "492d3310",
   "metadata": {},
   "outputs": [
    {
     "name": "stdout",
     "output_type": "stream",
     "text": [
      "Reversed List: [5, 4, 3, 2, 1]\n"
     ]
    }
   ],
   "source": [
    "\"\"\"10. Reverse the order of elements in a list.\"\"\"\n",
    "\n",
    "my_list = [1,2,3,4,5]\n",
    "\n",
    "my_list.sort(reverse=True)\n",
    "print(f\"Reversed List: {my_list}\")"
   ]
  },
  {
   "cell_type": "code",
   "execution_count": 22,
   "id": "3e2457f1",
   "metadata": {},
   "outputs": [
    {
     "name": "stdout",
     "output_type": "stream",
     "text": [
      "Reversed List: [1, 2, 3, 4, 5, 65, 87]\n"
     ]
    }
   ],
   "source": [
    "\"\"\"11. Sort a list in ascending order.\"\"\"\n",
    "\n",
    "my_list = [1,2,87,65,3,4,5]\n",
    "\n",
    "my_list.sort()\n",
    "print(f\"Reversed List: {my_list}\")"
   ]
  },
  {
   "cell_type": "code",
   "execution_count": 23,
   "id": "dd2106d2",
   "metadata": {},
   "outputs": [
    {
     "name": "stdout",
     "output_type": "stream",
     "text": [
      "Reversed List: [5, 4, 3, 2, 1]\n"
     ]
    }
   ],
   "source": [
    "\"\"\"12. Sort a list in descending order.\"\"\"\n",
    "\n",
    "my_list = [1,2,3,4,5]\n",
    "\n",
    "my_list.sort(reverse=True)\n",
    "print(f\"Reversed List: {my_list}\")"
   ]
  },
  {
   "cell_type": "code",
   "execution_count": 24,
   "id": "ff4de4d4",
   "metadata": {},
   "outputs": [
    {
     "name": "stdout",
     "output_type": "stream",
     "text": [
      "Required List: [2, 4, 6, 8, 10, 12, 14, 16, 18, 20]\n"
     ]
    }
   ],
   "source": [
    "\"\"\"13. Create a list of even numbers from 1 to 20.\"\"\"\n",
    "\n",
    "lst = [i for i in range(1,21) if i%2==0]\n",
    "\n",
    "print(f\"Required List: {lst}\") "
   ]
  },
  {
   "cell_type": "code",
   "execution_count": 25,
   "id": "da937da8",
   "metadata": {},
   "outputs": [
    {
     "name": "stdout",
     "output_type": "stream",
     "text": [
      "Required List: [1, 3, 5, 7, 9, 11, 13, 15, 17, 19]\n"
     ]
    }
   ],
   "source": [
    "\"\"\"14. Create a list of odd numbers from 1 to 20.\"\"\"\n",
    "\n",
    "lst = [i for i in range(1,21) if i%2!=0]\n",
    "\n",
    "print(f\"Required List: {lst}\") "
   ]
  },
  {
   "cell_type": "code",
   "execution_count": 26,
   "id": "166b6dee",
   "metadata": {},
   "outputs": [
    {
     "name": "stdout",
     "output_type": "stream",
     "text": [
      "Sum of all elements in a list: 15\n"
     ]
    }
   ],
   "source": [
    "\"\"\"15. Find the sum of all elements in a list.\"\"\"\n",
    "\n",
    "my_list = [1,2,3,4,5]\n",
    "\n",
    "print(f\"Sum of all elements in a list: {sum(my_list)}\")"
   ]
  },
  {
   "cell_type": "code",
   "execution_count": 27,
   "id": "9f741d5e",
   "metadata": {},
   "outputs": [
    {
     "name": "stdout",
     "output_type": "stream",
     "text": [
      "The maximum value in a list: 5\n"
     ]
    }
   ],
   "source": [
    "\"\"\"16. Find the maximum value in a list.\"\"\"\n",
    "\n",
    "my_list = [1,2,3,4,5]\n",
    "\n",
    "print(f\"The maximum value in a list: {max(my_list)}\")"
   ]
  },
  {
   "cell_type": "code",
   "execution_count": 28,
   "id": "6c1e7fed",
   "metadata": {},
   "outputs": [
    {
     "name": "stdout",
     "output_type": "stream",
     "text": [
      "The minimum value in a list: 1\n"
     ]
    }
   ],
   "source": [
    "\"\"\"17. Find the minimum value in a list.\"\"\"\n",
    "\n",
    "my_list = [1,2,3,4,5]\n",
    "\n",
    "print(f\"The minimum value in a list: {min(my_list)}\")"
   ]
  },
  {
   "cell_type": "code",
   "execution_count": 31,
   "id": "66dea755",
   "metadata": {},
   "outputs": [
    {
     "name": "stdout",
     "output_type": "stream",
     "text": [
      "Required List: [1, 4, 9, 16, 25, 36, 49, 64, 81, 100]\n"
     ]
    }
   ],
   "source": [
    "\"\"\"18. Create a list of squares of numbers from 1 to 10.\"\"\"\n",
    "\n",
    "lst = [i**2 for i in range(1,11)]\n",
    "\n",
    "print(f\"Required List: {lst}\") "
   ]
  },
  {
   "cell_type": "code",
   "execution_count": 34,
   "id": "a2a81973",
   "metadata": {},
   "outputs": [
    {
     "name": "stdout",
     "output_type": "stream",
     "text": [
      "How many random numbers do you need? 10\n",
      "[67, 13, 42, 36, 64, 45, 11, 83, 95, 60]\n"
     ]
    }
   ],
   "source": [
    "\"\"\"19. Create a list of random numbers.\"\"\"\n",
    "\n",
    "import random\n",
    "n = int(input(\"How many random numbers do you need? \"))\n",
    "random_numbers = [random.randint(1, 100) for i in range(n)]\n",
    "print(random_numbers)"
   ]
  },
  {
   "cell_type": "code",
   "execution_count": 35,
   "id": "5e515438",
   "metadata": {},
   "outputs": [
    {
     "name": "stdout",
     "output_type": "stream",
     "text": [
      "List with unique elements: [1, 2, 3, 4, 5, 6, 7, 89, 9, 8]\n"
     ]
    }
   ],
   "source": [
    "\"\"\"20. Remove duplicates from a list.\"\"\"\n",
    "\n",
    "og_list = [1, 2, 2, 3, 4, 4, 5, 6, 6, 7, 89, 7, 9, 8, 89]\n",
    "unique_list = []\n",
    "\n",
    "for i in og_list:\n",
    "    if i not in unique_list:\n",
    "        unique_list.append(i)\n",
    "\n",
    "print(f\"List with unique elements: {unique_list}\")"
   ]
  },
  {
   "cell_type": "code",
   "execution_count": 36,
   "id": "7cec9e75",
   "metadata": {},
   "outputs": [
    {
     "name": "stdout",
     "output_type": "stream",
     "text": [
      "The common elements in both the list are: [4, 5]\n"
     ]
    }
   ],
   "source": [
    "\"\"\"21. Find the common elements between two lists.\"\"\"\n",
    "\n",
    "list1 = [1, 2, 3, 4, 5]\n",
    "list2 = [4, 5, 6, 7, 8]\n",
    "\n",
    "common_elements = []\n",
    "for i in list1:\n",
    "    if i in list2:\n",
    "        common_elements.append(i)\n",
    "print(f\"The common elements in both the list are: {common_elements}\")"
   ]
  },
  {
   "cell_type": "code",
   "execution_count": 38,
   "id": "3272f1c9",
   "metadata": {},
   "outputs": [
    {
     "name": "stdout",
     "output_type": "stream",
     "text": [
      "The difference between two lists are: [1, 2, 3]\n"
     ]
    }
   ],
   "source": [
    "\"\"\"22. Find the difference between two lists.\"\"\"\n",
    "\n",
    "list1 = [1, 2, 3, 4, 5]\n",
    "list2 = [4, 5, 6, 7, 8]\n",
    "\n",
    "diff_elements = []\n",
    "for i in list1:\n",
    "    if i not in list2:\n",
    "        diff_elements.append(i)\n",
    "print(f\"The difference between two lists are: {diff_elements}\")"
   ]
  },
  {
   "cell_type": "code",
   "execution_count": 40,
   "id": "1c829767",
   "metadata": {},
   "outputs": [
    {
     "name": "stdout",
     "output_type": "stream",
     "text": [
      "The merged list: [1, 2, 3, 4, 5, 6]\n"
     ]
    }
   ],
   "source": [
    "\"\"\"23. Merge two lists.\"\"\"\n",
    "\n",
    "list1 = [1, 2, 3]\n",
    "list2 = [4, 5, 6]\n",
    "\n",
    "merged_list = list1 + list2\n",
    "print(f\"The merged list: {merged_list}\")"
   ]
  },
  {
   "cell_type": "code",
   "execution_count": 41,
   "id": "8de5d7c0",
   "metadata": {},
   "outputs": [
    {
     "name": "stdout",
     "output_type": "stream",
     "text": [
      "Required List: [2, 4, 6, 8, 10]\n"
     ]
    }
   ],
   "source": [
    "\"\"\"24. Multiply all elements in a list by 2.\"\"\"\n",
    "\n",
    "original_list = [1, 2, 3, 4, 5]\n",
    "\n",
    "doubled_list = [i*2 for i in original_list]\n",
    "print(f\"Required List: {doubled_list}\")"
   ]
  },
  {
   "cell_type": "code",
   "execution_count": 42,
   "id": "bda3862c",
   "metadata": {},
   "outputs": [
    {
     "name": "stdout",
     "output_type": "stream",
     "text": [
      "Required List: [2, 4]\n"
     ]
    }
   ],
   "source": [
    "\"\"\"25. Filter out all even numbers from a list.\"\"\"\n",
    "\n",
    "my_list = [1,2,3,4,5]\n",
    "\n",
    "lst = [i for i in my_list if i%2==0]\n",
    "print(f\"Required List: {lst}\")"
   ]
  },
  {
   "cell_type": "code",
   "execution_count": 45,
   "id": "c0118506",
   "metadata": {},
   "outputs": [
    {
     "name": "stdout",
     "output_type": "stream",
     "text": [
      "Required List: [1, 2, 3, 4, 5]\n"
     ]
    }
   ],
   "source": [
    "\"\"\"26. Convert a list of strings to a list of integers.\"\"\"\n",
    "\n",
    "str_list = [\"1\", \"2\", \"3\", \"4\", \"5\"]\n",
    "\n",
    "int_list = [int(i) for i in str_list]\n",
    "print(f\"Required List: {int_list}\")"
   ]
  },
  {
   "cell_type": "code",
   "execution_count": 48,
   "id": "756cc3ec",
   "metadata": {},
   "outputs": [
    {
     "name": "stdout",
     "output_type": "stream",
     "text": [
      "Required List: ['1', '2', '3', '4', '5']\n"
     ]
    }
   ],
   "source": [
    "\"\"\"27. Convert a list of integers to a list of strings.\"\"\"\n",
    "\n",
    "int_list = [1,2,3,4,5]\n",
    "\n",
    "str_list = [str(i) for i in int_list]\n",
    "print(f\"Required List: {str_list}\")"
   ]
  },
  {
   "cell_type": "code",
   "execution_count": 71,
   "id": "bad49fdc",
   "metadata": {},
   "outputs": [
    {
     "name": "stdout",
     "output_type": "stream",
     "text": [
      "Required List: [1, 2, 3, 4, 5, 6, 7]\n"
     ]
    }
   ],
   "source": [
    "\"\"\"28. Flatten a nested list.\"\"\"\n",
    "\n",
    "my_list = [[1], [2, 3], [4, 5, 6, 7]]\n",
    "flat_list = []\n",
    "for i in my_list:\n",
    "    for num in i:\n",
    "        flat_list.append(num)\n",
    "\n",
    "print(f\"Required List: {flat_list}\")"
   ]
  },
  {
   "cell_type": "code",
   "execution_count": 82,
   "id": "18474021",
   "metadata": {},
   "outputs": [
    {
     "name": "stdout",
     "output_type": "stream",
     "text": [
      "Required Fibonacci List: [0, 1, 1, 2, 3, 5, 8, 13, 21, 34]\n"
     ]
    }
   ],
   "source": [
    "\"\"\"29. Create a list of the first 10 Fibonacci numbers.\"\"\"\n",
    "\n",
    "fibonacci_no = [0, 1]\n",
    "while len(fibonacci_no) < 10:\n",
    "    next_fibonacci_no = fibonacci_no[-1] + fibonacci_no[-2]\n",
    "    fibonacci_no.append(next_fibonacci_no)\n",
    "\n",
    "print(f\"Required Fibonacci List: {fibonacci_no}\")\n"
   ]
  },
  {
   "cell_type": "code",
   "execution_count": 80,
   "id": "5f4965c4",
   "metadata": {},
   "outputs": [
    {
     "name": "stdout",
     "output_type": "stream",
     "text": [
      "It's not a sorted list\n"
     ]
    }
   ],
   "source": [
    "\"\"\"30. Check if a list is sorted.\"\"\"\n",
    "\n",
    "list = [1, 2, 7, 3, 4, 5]\n",
    "l = len(list)\n",
    "isSorted = True\n",
    "for i in range(l - 1):\n",
    "    if list[i] > list[i + 1]:\n",
    "        isSorted = False\n",
    "if isSorted:\n",
    "    print(\"It's a sorted list\")\n",
    "else:\n",
    "    print(\"It's not a sorted list\")"
   ]
  },
  {
   "cell_type": "code",
   "execution_count": 89,
   "id": "7f9edd55",
   "metadata": {},
   "outputs": [
    {
     "name": "stdout",
     "output_type": "stream",
     "text": [
      "Enter the position: 1\n",
      "Roatated List: [2, 3, 4, 5, 1]\n"
     ]
    }
   ],
   "source": [
    "\"\"\"31. Rotate a list to the left by `n` positions.\"\"\"\n",
    "\n",
    "original_list = [1, 2, 3, 4, 5]\n",
    "n = int(input(\"Enter the position: \"))\n",
    "\n",
    "rotated_list = original_list[n:] + original_list[:n]\n",
    "\n",
    "print(f\"Roatated List: {rotated_list}\")"
   ]
  },
  {
   "cell_type": "code",
   "execution_count": 90,
   "id": "168545f9",
   "metadata": {},
   "outputs": [
    {
     "name": "stdout",
     "output_type": "stream",
     "text": [
      "Enter the position: 1\n",
      "Roatated List: [5, 1, 2, 3, 4]\n"
     ]
    }
   ],
   "source": [
    "\"\"\"32. Rotate a list to the right by `n` positions.\"\"\"\n",
    "\n",
    "original_list = [1, 2, 3, 4, 5]\n",
    "n = int(input(\"Enter the position: \"))\n",
    "\n",
    "rotated_list = original_list[-n:] + original_list[:-n]\n",
    "\n",
    "print(f\"Roatated List: {rotated_list}\")"
   ]
  },
  {
   "cell_type": "code",
   "execution_count": 92,
   "id": "9ccd52b9",
   "metadata": {},
   "outputs": [
    {
     "name": "stdout",
     "output_type": "stream",
     "text": [
      "Required Prime Numbers: [2, 3, 5, 7, 11, 13, 17, 19, 23, 29, 31, 37, 41, 43, 47]\n"
     ]
    }
   ],
   "source": [
    "\"\"\"33. Create a list of prime numbers up to 50.\"\"\"\n",
    "\n",
    "prime_numbers = []\n",
    "for num in range(2, 51):\n",
    "    is_prime = True\n",
    "    for i in range(2, int(num ** 0.5) + 1):\n",
    "        if num % i == 0:\n",
    "            is_prime = False\n",
    "            break\n",
    "    if is_prime:\n",
    "        prime_numbers.append(num)\n",
    "\n",
    "print(f\"Required Prime Numbers: {prime_numbers}\")"
   ]
  },
  {
   "cell_type": "code",
   "execution_count": 133,
   "id": "d085c2ae",
   "metadata": {},
   "outputs": [
    {
     "name": "stdout",
     "output_type": "stream",
     "text": [
      "Enter chunk size: 3\n",
      "Required Chunked List: [[1, 2, 3], [4, 5, 6], [7, 8, 9], [10]]\n"
     ]
    }
   ],
   "source": [
    "\"\"\"34. Split a list into chunks of size `n`.\"\"\"\n",
    "\n",
    "lst = [1, 2, 3, 4, 5, 6, 7, 8, 9, 10]\n",
    "n = int(input(\"Enter chunk size: \"))\n",
    "\n",
    "chunked_list = []\n",
    "for i in range(0, len(lst), n):\n",
    "    chunk = lst[i:i + n]\n",
    "    chunked_list.append(chunk)\n",
    "\n",
    "print(f\"Required Chunked List: {chunked_list}\")"
   ]
  },
  {
   "cell_type": "code",
   "execution_count": 96,
   "id": "a8020ff1",
   "metadata": {},
   "outputs": [
    {
     "name": "stdout",
     "output_type": "stream",
     "text": [
      "the second largest number in the list is: 4\n"
     ]
    }
   ],
   "source": [
    "\"\"\"35. Find the second largest number in a list.\"\"\"\n",
    "\n",
    "my_list = [1,2,3,4,5]\n",
    "\n",
    "my_list.sort(reverse=True)\n",
    "print(f\"the second largest number in the list is: {my_list[1]}\")"
   ]
  },
  {
   "cell_type": "code",
   "execution_count": 98,
   "id": "dd80a3e6",
   "metadata": {},
   "outputs": [
    {
     "name": "stdout",
     "output_type": "stream",
     "text": [
      "Squared List: [1, 4, 9, 16, 25]\n"
     ]
    }
   ],
   "source": [
    "\"\"\"36. Replace every element in a list with its square.\"\"\"\n",
    "\n",
    "lst = [1, 2, 3, 4, 5]\n",
    "\n",
    "squared_numbers = [i**2 for i in lst]\n",
    "print(f\"Squared List: {squared_numbers}\")"
   ]
  },
  {
   "cell_type": "code",
   "execution_count": 100,
   "id": "aadb397f",
   "metadata": {},
   "outputs": [
    {
     "name": "stdout",
     "output_type": "stream",
     "text": [
      "Required dict: {'A': 0, 'B': 1, 'C': 2, 'D': 3, 'E': 4}\n"
     ]
    }
   ],
   "source": [
    "\"\"\"37. Convert a list to a dictionary where list elements become keys and their\n",
    "indices become values.\"\"\"\n",
    "\n",
    "my_list = ['A', 'B', 'C', 'D', 'E']\n",
    "my_dict = {element: index for index, element in enumerate(my_list)}\n",
    "print(f\"Required dict: {my_dict}\")"
   ]
  },
  {
   "cell_type": "code",
   "execution_count": 102,
   "id": "bafffd37",
   "metadata": {},
   "outputs": [
    {
     "name": "stdout",
     "output_type": "stream",
     "text": [
      "Shuffled List: [5, 2, 3, 1, 4]\n"
     ]
    }
   ],
   "source": [
    "\"\"\"38. Shuffle the elements of a list randomly.\"\"\"\n",
    "\n",
    "import random\n",
    "my_list = [1, 2, 3, 4, 5]\n",
    "random.shuffle(my_list)\n",
    "print(f\"Shuffled List: {my_list}\")"
   ]
  },
  {
   "cell_type": "code",
   "execution_count": 103,
   "id": "064041ab",
   "metadata": {},
   "outputs": [
    {
     "name": "stdout",
     "output_type": "stream",
     "text": [
      "Required List: [1, 1, 2, 6, 24, 120, 720, 5040, 40320, 362880]\n"
     ]
    }
   ],
   "source": [
    "\"\"\"39. Create a list of the first 10 factorial numbers.\"\"\"\n",
    "\n",
    "facto = [1]\n",
    "curr = 1\n",
    "for n in range(1, 10):\n",
    "    curr *= n\n",
    "    facto.append(curr)\n",
    "\n",
    "print(f\"Required List: {facto}\")"
   ]
  },
  {
   "cell_type": "code",
   "execution_count": 104,
   "id": "e151fd9c",
   "metadata": {},
   "outputs": [
    {
     "name": "stdout",
     "output_type": "stream",
     "text": [
      "The lists have at least one common element.\n"
     ]
    }
   ],
   "source": [
    "\"\"\"40. Check if two lists have at least one element in common.\"\"\"\n",
    "\n",
    "list1 = [1, 2, 3, 4, 5]\n",
    "list2 = [4, 5, 6, 7, 8]\n",
    "\n",
    "comm = False\n",
    "\n",
    "for i in list2:\n",
    "    if i in list1:\n",
    "        comm = True\n",
    "        break\n",
    "\n",
    "if comm:\n",
    "    print(\"The lists have at least one common element.\")\n",
    "else:\n",
    "    print(\"The lists do not have any common elements.\")\n"
   ]
  },
  {
   "cell_type": "code",
   "execution_count": 105,
   "id": "7620c724",
   "metadata": {},
   "outputs": [
    {
     "name": "stdout",
     "output_type": "stream",
     "text": [
      "[]\n"
     ]
    }
   ],
   "source": [
    "\"\"\"41. Remove all elements from a list.\"\"\"\n",
    "\n",
    "my_list = [1, 2, 3, 4, 5]\n",
    "my_list.clear()\n",
    "print(my_list) "
   ]
  },
  {
   "cell_type": "code",
   "execution_count": 107,
   "id": "7181d694",
   "metadata": {},
   "outputs": [
    {
     "name": "stdout",
     "output_type": "stream",
     "text": [
      "Required List: [0, 0, 1, 2, 3, 4, 5, 7, 0, 9]\n"
     ]
    }
   ],
   "source": [
    "\"\"\"42. Replace negative numbers in a list with 0.\"\"\"\n",
    "\n",
    "my_list = [-7, -1, 1, 2, 3, 4, 5, 7, -10, 9]\n",
    "for i,j in enumerate(my_list):\n",
    "    if j<0:\n",
    "        my_list[i] = 0\n",
    "        \n",
    "print(f\"Required List: {my_list}\")        "
   ]
  },
  {
   "cell_type": "code",
   "execution_count": 112,
   "id": "ab88c36b",
   "metadata": {},
   "outputs": [
    {
     "name": "stdout",
     "output_type": "stream",
     "text": [
      "Required List: ['This', 'is', 'a', 'test', 'sentence.']\n"
     ]
    }
   ],
   "source": [
    "\"\"\"43. Convert a string into a list of words.\"\"\"\n",
    "\n",
    "sentence = \"This is a test sentence.\"\n",
    "word_list = sentence.split()\n",
    "print(f\"Required List: {word_list}\")"
   ]
  },
  {
   "cell_type": "code",
   "execution_count": 113,
   "id": "e99a7aa4",
   "metadata": {},
   "outputs": [
    {
     "name": "stdout",
     "output_type": "stream",
     "text": [
      "Required List: This is a list of words\n"
     ]
    }
   ],
   "source": [
    "\"\"\"44. Convert a list of words into a string.\"\"\"\n",
    "\n",
    "word_list = [\"This\", \"is\", \"a\", \"list\", \"of\", \"words\"]\n",
    "sentence = \" \".join(word_list)\n",
    "print(f\"Required List: {sentence}\")"
   ]
  },
  {
   "cell_type": "code",
   "execution_count": 114,
   "id": "70c33ee3",
   "metadata": {},
   "outputs": [
    {
     "name": "stdout",
     "output_type": "stream",
     "text": [
      "Required List: [2, 4, 8, 16, 32, 64, 128, 256, 512, 1024]\n"
     ]
    }
   ],
   "source": [
    "\"\"\"45. Create a list of the first `n` powers of 2.\"\"\"\n",
    "\n",
    "lst = [2**i for i in range(1,11)]\n",
    "print(f\"Required List: {lst}\")  "
   ]
  },
  {
   "cell_type": "code",
   "execution_count": 117,
   "id": "139ba471",
   "metadata": {},
   "outputs": [
    {
     "name": "stdout",
     "output_type": "stream",
     "text": [
      "The longest string is: Gomu Gomu no Mi\n"
     ]
    }
   ],
   "source": [
    "\"\"\"46. Find the longest string in a list of strings.\"\"\"\n",
    "\n",
    "string_list = [\"Gomu Gomu no Mi\", \"apple\", \"banana\", \"cherry\", \"dragon fruit\"]\n",
    "longest_string = max(string_list, key=len)\n",
    "print(\"The longest string is:\", longest_string)"
   ]
  },
  {
   "cell_type": "code",
   "execution_count": 118,
   "id": "d36f4646",
   "metadata": {},
   "outputs": [
    {
     "name": "stdout",
     "output_type": "stream",
     "text": [
      "The smallest string is: apple\n"
     ]
    }
   ],
   "source": [
    "\"\"\"47. Find the shortest string in a list of strings.\"\"\"\n",
    "\n",
    "string_list = [\"Gomu Gomu no Mi\", \"apple\", \"banana\", \"cherry\", \"dragon fruit\"]\n",
    "longest_string = min(string_list, key=len)\n",
    "print(\"The smallest string is:\", longest_string)"
   ]
  },
  {
   "cell_type": "code",
   "execution_count": 119,
   "id": "d65a2df4",
   "metadata": {},
   "outputs": [
    {
     "name": "stdout",
     "output_type": "stream",
     "text": [
      "Enter no of triangular number required: 4\n",
      "Triangular Numbers:\n",
      " [1, 3, 6, 10]\n"
     ]
    }
   ],
   "source": [
    "\"\"\"48. Create a list of the first `n` triangular numbers.\"\"\"\n",
    "\n",
    "n = int(input(\"Enter no of triangular number required: \"))\n",
    "triangular_numbers = [(i * (i + 1)) // 2 for i in range(1, n + 1)]\n",
    "print(f\"Triangular Numbers: {triangular_numbers}\")"
   ]
  },
  {
   "cell_type": "code",
   "execution_count": 128,
   "id": "649656e9",
   "metadata": {},
   "outputs": [
    {
     "name": "stdout",
     "output_type": "stream",
     "text": [
      "The subsequence is present in the sequence.\n"
     ]
    }
   ],
   "source": [
    "\"\"\"49. Check if a list contains another list as a subsequence.\"\"\"\n",
    "\n",
    "sequence = [1, 2, 3, 4, 5, 6, 7, 8, 9]\n",
    "subsequence = [3, 5, 8]\n",
    "\n",
    "lst = []\n",
    "for i in subsequence:\n",
    "    if i in sequence:\n",
    "        lst.append(i)\n",
    "\n",
    "if lst == subsequence:\n",
    "    print(\"The subsequence is present in the sequence.\")\n",
    "else:\n",
    "    print(\"The subsequence is not present in the sequence.\")"
   ]
  },
  {
   "cell_type": "code",
   "execution_count": 121,
   "id": "542d0ce3",
   "metadata": {},
   "outputs": [
    {
     "name": "stdout",
     "output_type": "stream",
     "text": [
      "Enter the first element to swap: 0\n",
      "Enter the second element to swap: 4\n",
      "[5, 2, 3, 4, 1]\n"
     ]
    }
   ],
   "source": [
    "\"\"\"50. Swap two elements in a list by their indices.\"\"\"\n",
    "\n",
    "my_list = [1, 2, 3, 4, 5]\n",
    "index1 = int(input(\"Enter the first element to swap: \"))\n",
    "index2 = int(input(\"Enter the second element to swap: \"))\n",
    "\n",
    "my_list[index1], my_list[index2] = my_list[index2], my_list[index1]\n",
    "\n",
    "print(my_list)"
   ]
  }
 ],
 "metadata": {
  "kernelspec": {
   "display_name": "Python 3 (ipykernel)",
   "language": "python",
   "name": "python3"
  },
  "language_info": {
   "codemirror_mode": {
    "name": "ipython",
    "version": 3
   },
   "file_extension": ".py",
   "mimetype": "text/x-python",
   "name": "python",
   "nbconvert_exporter": "python",
   "pygments_lexer": "ipython3",
   "version": "3.11.4"
  }
 },
 "nbformat": 4,
 "nbformat_minor": 5
}
