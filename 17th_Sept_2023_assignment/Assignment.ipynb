{
 "cells": [
  {
   "cell_type": "markdown",
   "id": "5390f342",
   "metadata": {},
   "source": [
    "# FOR LOOP"
   ]
  },
  {
   "cell_type": "code",
   "execution_count": 1,
   "id": "6f11b7b7",
   "metadata": {},
   "outputs": [
    {
     "name": "stdout",
     "output_type": "stream",
     "text": [
      "1\n",
      "2\n",
      "3\n",
      "4\n",
      "5\n",
      "6\n",
      "7\n",
      "8\n",
      "9\n",
      "10\n"
     ]
    }
   ],
   "source": [
    "\"\"\"1. Write a Python program to print numbers from 1 to 10 using a for loop.\"\"\"\n",
    "\n",
    "for i in range(1,11):\n",
    "    print(i)"
   ]
  },
  {
   "cell_type": "markdown",
   "id": "f4f809d3",
   "metadata": {},
   "source": [
    "\"\"\"2. Explain the difference between a for loop and a while loop in Python.\"\"\"\n",
    "\n",
    "\"\"\"\n",
    "\n",
    "For Loop:\n",
    "\n",
    "-> Ideal for iterating over known sequences (lists, tuples, strings).\n",
    "-> Performs a specific task for each element in the iterable.\n",
    "-> Executes a known number of iterations.\n",
    "-> Automatically controlled by the for loop, based on the iterable.\n",
    "-> No manual management of a loop control variable is needed.\n",
    "\n",
    "While Loop:\n",
    "\n",
    "-> Suitable for repeating a block of code until a specific condition is met.\n",
    "-> Useful for situations where you don't know the number of iterations in advance.\n",
    "-> Commonly used for user input validation and game loops.\n",
    "-> Requires manual initialization and control of a loop control variable.\n",
    "-> The loop control variable needs to be updated within the loop to change the condition.\n",
    "\n",
    "In summary, for loops are best suited for situations where you have a known iterable and \n",
    "a fixed number of iterations, while while loops are used when you need to repeat a block of\n",
    "code until a specific condition becomes False, and the number of iterations is not known \n",
    "in advance.\n",
    "\n",
    "\"\"\""
   ]
  },
  {
   "cell_type": "code",
   "execution_count": 4,
   "id": "25104bc7",
   "metadata": {},
   "outputs": [
    {
     "name": "stdout",
     "output_type": "stream",
     "text": [
      "Sum of numbers from 1 to 100:  5050\n"
     ]
    }
   ],
   "source": [
    "\"\"\"3. Write a Python program to calculate the sum of all numbers from 1 to 100 using a for loop.\"\"\"\n",
    "\n",
    "sum = 0\n",
    "for i in range(1,101):\n",
    "    sum += i\n",
    "    \n",
    "print(\"Sum of numbers from 1 to 100: \",sum)"
   ]
  },
  {
   "cell_type": "code",
   "execution_count": 5,
   "id": "a4a2cdf0",
   "metadata": {},
   "outputs": [
    {
     "name": "stdout",
     "output_type": "stream",
     "text": [
      "1\n",
      "2\n",
      "3\n",
      "4\n",
      "5\n"
     ]
    }
   ],
   "source": [
    "\"\"\"4. How do you iterate through a list using a for loop in Python? \"\"\"\n",
    "\"\"\"\n",
    "-> Create a list that you want to iterate through.\n",
    "-> Use a for loop with the for keyword, followed by a loop variable (often referred to as an iteration variable) and the in keyword, and then specify the list you want to iterate through.\n",
    "-> Indent the code block you want to execute for each element in the list.\n",
    "\n",
    "Eg)\n",
    "\"\"\"\n",
    "my_list = [1, 2, 3, 4, 5]\n",
    "\n",
    "for item in my_list:\n",
    "    print(item)\n"
   ]
  },
  {
   "cell_type": "code",
   "execution_count": 6,
   "id": "07b7d270",
   "metadata": {},
   "outputs": [
    {
     "name": "stdout",
     "output_type": "stream",
     "text": [
      "The product of all elements in the list is: 120\n"
     ]
    }
   ],
   "source": [
    "\"\"\"5. Write a Python program to find the product of all elements in a list using a for loop.\"\"\"\n",
    "\n",
    "my_list = [2, 3, 4, 5]\n",
    "product = 1\n",
    "\n",
    "for element in my_list:\n",
    "    product *= element\n",
    "\n",
    "print(\"The product of all elements in the list is:\", product)"
   ]
  },
  {
   "cell_type": "code",
   "execution_count": 28,
   "id": "0c044e1b",
   "metadata": {},
   "outputs": [
    {
     "name": "stdout",
     "output_type": "stream",
     "text": [
      "All the even numbers from 1 to 21:  [2, 4, 6, 8, 10, 12, 14, 16, 18, 20]\n"
     ]
    }
   ],
   "source": [
    "\"\"\"6. Create a Python program that prints all even numbers from 1 to 20 using a for loop.\n",
    "\"\"\"\n",
    "\n",
    "lst = []\n",
    "\n",
    "for i in range(1,21):\n",
    "    if i%2==0:\n",
    "        lst.append(i)\n",
    "        \n",
    "print(\"All the even numbers from 1 to 21: \",lst)"
   ]
  },
  {
   "cell_type": "code",
   "execution_count": 10,
   "id": "5e3ec596",
   "metadata": {},
   "outputs": [
    {
     "name": "stdout",
     "output_type": "stream",
     "text": [
      "Enter a number: 5\n",
      "The factorial of 5 is 120\n"
     ]
    }
   ],
   "source": [
    "\"\"\"7. Write a Python program that calculates the factorial of a number using a for loop.\"\"\"\n",
    "\n",
    "n = int(input(\"Enter a number: \"))\n",
    "factorial = 1\n",
    "\n",
    "for i in range(1,n+1):\n",
    "    factorial *= i\n",
    "\n",
    "print(f\"The factorial of {n} is {factorial}\")\n"
   ]
  },
  {
   "cell_type": "code",
   "execution_count": 11,
   "id": "1e56de91",
   "metadata": {},
   "outputs": [
    {
     "name": "stdout",
     "output_type": "stream",
     "text": [
      "H\n",
      "e\n",
      "l\n",
      "l\n",
      "o\n",
      ",\n",
      " \n",
      "W\n",
      "o\n",
      "r\n",
      "l\n",
      "d\n",
      "!\n"
     ]
    }
   ],
   "source": [
    "\"\"\"8. How can you iterate through the characters of a string using a for loop in Python?\n",
    "\"\"\"\n",
    "\n",
    "my_string = \"Hello, World!\"\n",
    "\n",
    "for char in my_string:\n",
    "    print(char)"
   ]
  },
  {
   "cell_type": "code",
   "execution_count": 13,
   "id": "631905cd",
   "metadata": {},
   "outputs": [
    {
     "name": "stdout",
     "output_type": "stream",
     "text": [
      "the largest number is:  76\n"
     ]
    }
   ],
   "source": [
    "\"\"\"9. Write a Python program to find the largest number in a list using a for loop.\n",
    "\"\"\"\n",
    "\n",
    "lst = [1,2,3,5,67,76]\n",
    "max_no = 0\n",
    "\n",
    "for i in lst:\n",
    "    if i>max_no:\n",
    "        max_no = i\n",
    "\n",
    "print(\"the largest number is: \",max_no)"
   ]
  },
  {
   "cell_type": "code",
   "execution_count": 12,
   "id": "94a05a45",
   "metadata": {},
   "outputs": [
    {
     "name": "stdout",
     "output_type": "stream",
     "text": [
      "Enter the limit for the Fibonacci sequence: 5\n",
      "Fibonacci sequence up to 5 is:\n",
      "0 1 1 2 3 5 "
     ]
    }
   ],
   "source": [
    "\"\"\"10. Create a Python program that prints the Fibonacci sequence up to a specified limit using a for loop.\"\"\"\n",
    "\n",
    "limit = int(input(\"Enter the limit for the Fibonacci sequence: \"))\n",
    "fibonacci_sequence = []\n",
    "a, b = 0, 1\n",
    "    \n",
    "while a <= limit:\n",
    "    fibonacci_sequence.append(a)\n",
    "    a, b = b, a + b\n",
    "\n",
    "print(\"Fibonacci sequence up to\", limit, \"is:\")\n",
    "for num in fibonacci_sequence:\n",
    "    print(num, end=\" \")\n"
   ]
  },
  {
   "cell_type": "code",
   "execution_count": 14,
   "id": "96c4a61f",
   "metadata": {},
   "outputs": [
    {
     "name": "stdout",
     "output_type": "stream",
     "text": [
      "Enter a string: Apple\n",
      "The number of vowel in Apple is 2\n"
     ]
    }
   ],
   "source": [
    "\"\"\"11. Write a Python program to count the number of vowels in a given string using a for loop.\n",
    "\"\"\"\n",
    "\n",
    "strr = input(\"Enter a string: \")\n",
    "s = strr.lower()\n",
    "vowel = ['a','e','i','o','u']\n",
    "num = 0\n",
    "\n",
    "for i in s:\n",
    "    if i in vowel:\n",
    "        num += 1\n",
    "        \n",
    "print(f\"The number of vowel in {strr} is {num}\")        \n",
    "        "
   ]
  },
  {
   "cell_type": "code",
   "execution_count": 15,
   "id": "3ac3a05b",
   "metadata": {},
   "outputs": [
    {
     "name": "stdout",
     "output_type": "stream",
     "text": [
      "Enter a number to generate the multiplication table for: 5\n",
      "Multiplication table for 5\n",
      "5 x 1 = 5\n",
      "5 x 2 = 10\n",
      "5 x 3 = 15\n",
      "5 x 4 = 20\n",
      "5 x 5 = 25\n",
      "5 x 6 = 30\n",
      "5 x 7 = 35\n",
      "5 x 8 = 40\n",
      "5 x 9 = 45\n",
      "5 x 10 = 50\n"
     ]
    }
   ],
   "source": [
    "\"\"\"12. Create a Python program that generates a multiplication table for a given number using a for loop.\"\"\"\n",
    "\n",
    "number = int(input(\"Enter a number to generate the multiplication table for: \"))\n",
    "print(f\"Multiplication table for {number}\")\n",
    "\n",
    "for i in range(1, 11):\n",
    "    result = number * i\n",
    "    print(f\"{number} x {i} = {result}\")\n"
   ]
  },
  {
   "cell_type": "code",
   "execution_count": 17,
   "id": "4523d714",
   "metadata": {},
   "outputs": [
    {
     "name": "stdout",
     "output_type": "stream",
     "text": [
      "Original list: [1, 2, 3, 4, 5]\n",
      "Reversed list: [5, 4, 3, 2, 1]\n"
     ]
    }
   ],
   "source": [
    "\"\"\"13. Write a Python program to reverse a list using a for loop.\n",
    "\"\"\"\n",
    "\n",
    "original_list = [1, 2, 3, 4, 5]\n",
    "reversed_list = []\n",
    "\n",
    "for i in original_list:\n",
    "    reversed_list.insert(0,i)\n",
    "\n",
    "print(\"Original list:\", original_list)\n",
    "print(\"Reversed list:\", reversed_list)\n"
   ]
  },
  {
   "cell_type": "code",
   "execution_count": 19,
   "id": "1bc86ece",
   "metadata": {},
   "outputs": [
    {
     "name": "stdout",
     "output_type": "stream",
     "text": [
      "The common elements are:  [3, 5]\n"
     ]
    }
   ],
   "source": [
    "\"\"\"14. Write a Python program to find the common elements between two lists using a for loop.\n",
    "\"\"\"\n",
    "\n",
    "lst1 = [1,2,3,4,5]\n",
    "lst2 = [3,5,6,7,8]\n",
    "lst = []\n",
    "\n",
    "for i in lst1:\n",
    "    if i in lst2:\n",
    "        lst.append(i)\n",
    "        \n",
    "print(\"The common elements are: \",lst)"
   ]
  },
  {
   "cell_type": "code",
   "execution_count": 21,
   "id": "f227cd32",
   "metadata": {},
   "outputs": [
    {
     "name": "stdout",
     "output_type": "stream",
     "text": [
      "name\n",
      "age\n",
      "city\n",
      "----------\n",
      "Alice\n",
      "30\n",
      "New York\n",
      "----------\n",
      "Key: name, Value: Alice\n",
      "Key: age, Value: 30\n",
      "Key: city, Value: New York\n",
      "----------\n"
     ]
    }
   ],
   "source": [
    "\"\"\"15. Explain how to use a for loop to iterate through the keys and values of a dictionary in Python.\"\"\"\n",
    "\n",
    "\"\"\"Iterating Through Keys: To iterate through the keys of a dictionary,\n",
    "you can use a for loop directly on the dictionary object. By \n",
    "default, the loop variable will take on the keys of the dictionary.\"\"\"\n",
    "\n",
    "my_dict = {'name': 'Alice', 'age': 30, 'city': 'New York'}\n",
    "\n",
    "for key in my_dict:\n",
    "    print(key)  \n",
    "print(\"----------\")\n",
    "\"\"\"Iterating Through Values:To iterate through the values of a dictionary, you can use the\n",
    "values() method of the dictionary, which returns a view of the \n",
    "dictionary's values.\"\"\"\n",
    "\n",
    "my_dict = {'name': 'Alice', 'age': 30, 'city': 'New York'}\n",
    "\n",
    "for value in my_dict.values():\n",
    "    print(value)\n",
    "print(\"----------\")\n",
    "\"\"\"Iterating Through Both Keys and Values: To iterate through both \n",
    "the keys and values of a dictionary simultaneously, you can use \n",
    "the .items() method of the dictionary, which returns a view of \n",
    "key-value pairs as tuples.\"\"\"\n",
    "\n",
    "my_dict = {'name': 'Alice', 'age': 30, 'city': 'New York'}\n",
    "\n",
    "for key, value in my_dict.items():\n",
    "    print(f\"Key: {key}, Value: {value}\")\n",
    "print(\"----------\")"
   ]
  },
  {
   "cell_type": "code",
   "execution_count": 22,
   "id": "e3ab14bb",
   "metadata": {},
   "outputs": [
    {
     "name": "stdout",
     "output_type": "stream",
     "text": [
      "Enter the first number: 10\n",
      "Enter the second number: 5\n",
      "The GCD of 10 and 5 is 5\n"
     ]
    }
   ],
   "source": [
    "\"\"\"16. Write a Python program to find the GCD (Greatest \n",
    "Common Divisor) of two numbers using a for loop.\"\"\"\n",
    "\n",
    "num1 = int(input(\"Enter the first number: \"))\n",
    "num2 = int(input(\"Enter the second number: \"))\n",
    "gcd = 1\n",
    "\n",
    "for i in range(1, min(num1, num2) + 1):\n",
    "    if num1 % i == 0 and num2 % i == 0:\n",
    "        gcd = i\n",
    "\n",
    "print(f\"The GCD of {num1} and {num2} is {gcd}\")\n"
   ]
  },
  {
   "cell_type": "code",
   "execution_count": 23,
   "id": "cd2f5de9",
   "metadata": {},
   "outputs": [
    {
     "name": "stdout",
     "output_type": "stream",
     "text": [
      "Enter a string: MalayalaM\n",
      "The input string is a palindrome.\n"
     ]
    }
   ],
   "source": [
    "\"\"\"17. Create a Python program that checks if a string is a \n",
    "palindrome using a for loop.\"\"\"\n",
    "\n",
    "string = input(\"Enter a string: \")\n",
    "str = string.lower()\n",
    "reversed_string = str[::-1]\n",
    "if str == reversed_string:\n",
    "    print(\"The input string is a palindrome.\")\n",
    "else:\n",
    "    print(\"The input string is not a palindrome.\")"
   ]
  },
  {
   "cell_type": "code",
   "execution_count": 24,
   "id": "927873ee",
   "metadata": {},
   "outputs": [
    {
     "name": "stdout",
     "output_type": "stream",
     "text": [
      "Original list: [1, 2, 2, 3, 4, 4, 5, 6, 6, 7]\n",
      "List with duplicates removed: [1, 2, 3, 4, 5, 6, 7]\n"
     ]
    }
   ],
   "source": [
    "\"\"\"18. Write a Python program to remove duplicates from a list using a for loop.\"\"\"\n",
    "\n",
    "original_list = [1, 2, 2, 3, 4, 4, 5, 6, 6, 7]\n",
    "unique_list = []\n",
    "\n",
    "for item in original_list:\n",
    "    if item not in unique_list:\n",
    "        unique_list.append(item)\n",
    "\n",
    "print(\"Original list:\", original_list)\n",
    "print(\"List with duplicates removed:\", unique_list)\n"
   ]
  },
  {
   "cell_type": "code",
   "execution_count": 27,
   "id": "63d29178",
   "metadata": {},
   "outputs": [
    {
     "name": "stdout",
     "output_type": "stream",
     "text": [
      "Enter a string: PwSkills\n",
      "The number of words in PwSkills is 8\n"
     ]
    }
   ],
   "source": [
    "\"\"\"19. Create a Python program that counts the number of words in a sentence using a for loop.\n",
    "\"\"\"\n",
    "\n",
    "strr = input(\"Enter a string: \")\n",
    "strr.lower()\n",
    "num = 0\n",
    "for i in strr:\n",
    "    num += 1\n",
    "        \n",
    "print(f\"The number of words in {strr} is {num}\")\n"
   ]
  },
  {
   "cell_type": "code",
   "execution_count": 29,
   "id": "84d66da2",
   "metadata": {},
   "outputs": [
    {
     "name": "stdout",
     "output_type": "stream",
     "text": [
      "All the even numbers from 1 to 51:  [1, 3, 5, 7, 9, 11, 13, 15, 17, 19, 21, 23, 25, 27, 29, 31, 33, 35, 37, 39, 41, 43, 45, 47, 49]\n"
     ]
    }
   ],
   "source": [
    "\"\"\"20. Write a Python program to find the sum of all odd numbers from 1 to 50 using a for loop.\n",
    "\"\"\"\n",
    "\n",
    "lst = []\n",
    "\n",
    "for i in range(1,51):\n",
    "    if i%2!=0:\n",
    "        lst.append(i)\n",
    "        \n",
    "print(\"All the even numbers from 1 to 51: \",lst)\n"
   ]
  },
  {
   "cell_type": "code",
   "execution_count": 30,
   "id": "041a3650",
   "metadata": {},
   "outputs": [
    {
     "name": "stdout",
     "output_type": "stream",
     "text": [
      "Enter year to check: 2004\n",
      "2004 is a leap year\n"
     ]
    }
   ],
   "source": [
    "\"\"\"21. Write a Python program that checks if a given year is a leap year using a for loop.\n",
    "\"\"\"\n",
    "\n",
    "year = int(input(\"Enter year to check: \"))\n",
    "\n",
    "if ((year % 400 == 0) and (year % 100 == 0)) or ((year % 4 ==0) and (year % 100 != 0)):\n",
    "    print(\"{} is a leap year\".format(year))\n",
    "\n",
    "else: \n",
    "    print(\"{} is not a leap year\".format(year))\n",
    "    "
   ]
  },
  {
   "cell_type": "code",
   "execution_count": 38,
   "id": "592fe39a",
   "metadata": {},
   "outputs": [
    {
     "name": "stdout",
     "output_type": "stream",
     "text": [
      "Enter a number: 25\n",
      "The square root of 25.0 is approximately 5.000000\n"
     ]
    }
   ],
   "source": [
    "\"\"\"22. Create a Python program that calculates the square root of a number using a for loop.\n",
    "\"\"\"\n",
    "\n",
    "number = float(input(\"Enter a number: \"))\n",
    "iterations = 10\n",
    "approximation = number / 2.0\n",
    "\n",
    "for i in range(iterations):\n",
    "    approximation = 0.5 * (approximation + (number / approximation))\n",
    "    \n",
    "print(f\"The square root of {number} is approximately {approximation:.6f}\")\n"
   ]
  },
  {
   "cell_type": "code",
   "execution_count": 33,
   "id": "042d2dbb",
   "metadata": {},
   "outputs": [
    {
     "name": "stdout",
     "output_type": "stream",
     "text": [
      "Enter the first number: 54\n",
      "Enter the second number: 23\n",
      "The LCM of 54 and 23 is 1242\n"
     ]
    }
   ],
   "source": [
    "\"\"\"23. Write a Python program to find the LCM (Least Common Multiple) \n",
    "of two numbers using a for loop.\"\"\"\n",
    "\n",
    "num1 = int(input(\"Enter the first number: \"))\n",
    "num2 = int(input(\"Enter the second number: \"))\n",
    "\n",
    "max_num = max(num1, num2)\n",
    "\n",
    "for lcm in range(max_num, (num1 * num2) + 1, max_num):\n",
    "    if lcm % num1 == 0 and lcm % num2 == 0:\n",
    "        break\n",
    "\n",
    "print(f\"The LCM of {num1} and {num2} is {lcm}\")\n"
   ]
  },
  {
   "cell_type": "markdown",
   "id": "01973e56",
   "metadata": {},
   "source": [
    "# IF ELSE"
   ]
  },
  {
   "cell_type": "code",
   "execution_count": 35,
   "id": "562e5dd6",
   "metadata": {},
   "outputs": [
    {
     "name": "stdout",
     "output_type": "stream",
     "text": [
      "Enter a number: 34\n",
      "34 is a positive number\n"
     ]
    }
   ],
   "source": [
    "\"\"\"1. Write a Python program to check if a number is positive, negative, or zero using an if-else statement.\"\"\"\n",
    "\n",
    "n = int(input(\"Enter a number: \"))\n",
    "if n>0:\n",
    "    print(f\"{n} is a positive number\")\n",
    "elif n<0:\n",
    "    print(f\"{n} is a negative number\")\n",
    "else:\n",
    "    print(\"It's a ZERO!\")\n",
    "    "
   ]
  },
  {
   "cell_type": "code",
   "execution_count": 36,
   "id": "c63e3d11",
   "metadata": {},
   "outputs": [
    {
     "name": "stdout",
     "output_type": "stream",
     "text": [
      "Enter a number: 46\n",
      "46 is a even number\n"
     ]
    }
   ],
   "source": [
    "\"\"\"2. Create a Python program that checks if a given number is even or odd using an if-else statement.\n",
    "\"\"\"\n",
    "n = int(input(\"Enter a number: \"))\n",
    "if n%2==0:\n",
    "    print(f\"{n} is a even number\")\n",
    "else:\n",
    "    print(f\"{n} is a odd number\")"
   ]
  },
  {
   "cell_type": "code",
   "execution_count": 39,
   "id": "e424580c",
   "metadata": {},
   "outputs": [
    {
     "name": "stdout",
     "output_type": "stream",
     "text": [
      "Enter a number: 45\n",
      "The number is positive and odd.\n"
     ]
    }
   ],
   "source": [
    "\"\"\"3. How can you use nested if-else statements in Python, and provide an example?\n",
    "\"\"\"\n",
    "\n",
    "\"\"\"\n",
    "In Python, you can use nested if-else statements to create more \n",
    "complex conditional logic. Nested if-else statements involve \n",
    "placing one if-else block within another. This allows you to have \n",
    "multiple levels of conditions to control the flow of your program. \n",
    "\n",
    "Here's an example of how nested if-else statements work in Python:\"\"\"\n",
    "\n",
    "num = int(input(\"Enter a number: \"))\n",
    "\n",
    "if num > 0:\n",
    "    if num % 2 == 0:\n",
    "        print(\"The number is positive and even.\")\n",
    "    else:\n",
    "        print(\"The number is positive and odd.\")\n",
    "elif num < 0:\n",
    "    print(\"The number is negative.\")\n",
    "else:\n",
    "    print(\"The number is zero.\")\n"
   ]
  },
  {
   "cell_type": "code",
   "execution_count": 40,
   "id": "6aaaf6cc",
   "metadata": {},
   "outputs": [
    {
     "name": "stdout",
     "output_type": "stream",
     "text": [
      "Enter first number: 23\n",
      "Enter second number: 45\n",
      "Enter third number: 65\n",
      "65 is the largest number\n"
     ]
    }
   ],
   "source": [
    "\"\"\"4. Write a Python program to determine the largest of three \n",
    "numbers using if-else.\"\"\"\n",
    "\n",
    "x = int(input(\"Enter first number: \"))\n",
    "y = int(input(\"Enter second number: \"))\n",
    "z = int (input(\"Enter third number: \"))\n",
    "\n",
    "if x>y and x>z:\n",
    "    print(f\"{x} is the largest number\")\n",
    "if y>x and y>z:\n",
    "    print(f\"{y} is the largest number\")\n",
    "else:\n",
    "    print(f\"{z} is the largest number\")"
   ]
  },
  {
   "cell_type": "code",
   "execution_count": 41,
   "id": "c005e4cb",
   "metadata": {},
   "outputs": [
    {
     "name": "stdout",
     "output_type": "stream",
     "text": [
      "Enter a number: 67\n",
      "The absolute value of 67.0 is 67.0\n"
     ]
    }
   ],
   "source": [
    "\"\"\"5. Write a Python program that calculates the absolute value of \n",
    "a number using if-else.\"\"\"\n",
    "\n",
    "number = float(input(\"Enter a number: \"))\n",
    "\n",
    "if number < 0:\n",
    "    absolute_value = -number\n",
    "else:\n",
    "    absolute_value = number\n",
    "\n",
    "print(f\"The absolute value of {number} is {absolute_value}\")\n"
   ]
  },
  {
   "cell_type": "code",
   "execution_count": 43,
   "id": "fd20f3b2",
   "metadata": {},
   "outputs": [
    {
     "name": "stdout",
     "output_type": "stream",
     "text": [
      "Enter a string: A\n",
      "A is a vowel\n"
     ]
    }
   ],
   "source": [
    "\"\"\"6. Create a Python program that checks if a given character \n",
    "is a vowel or consonant using if-else.\"\"\"\n",
    "\n",
    "strr = input(\"Enter a string: \")\n",
    "s = strr.lower()\n",
    "vowel = ['a','e','i','o','u']\n",
    "\n",
    "if s in vowel:\n",
    "    print(f\"{strr} is a vowel\")\n",
    "else:\n",
    "    print(f\"{strr} is a consonant\")"
   ]
  },
  {
   "cell_type": "code",
   "execution_count": 44,
   "id": "3bd107e7",
   "metadata": {},
   "outputs": [
    {
     "name": "stdout",
     "output_type": "stream",
     "text": [
      "Enter your age: 20\n",
      "Your Eligible to vote\n"
     ]
    }
   ],
   "source": [
    "\"\"\"7. Write a Python program to determine if a user is eligible to vote based on their age using if-else.\"\"\"\n",
    "\n",
    "n = int(input(\"Enter your age: \"))\n",
    "if n>=18:\n",
    "    print(\"Your Eligible to vote\")\n",
    "else:\n",
    "    print(\"Your not Eligible to vote\")"
   ]
  },
  {
   "cell_type": "code",
   "execution_count": 45,
   "id": "75a79bba",
   "metadata": {},
   "outputs": [
    {
     "name": "stdout",
     "output_type": "stream",
     "text": [
      "Enter the purchase amount: 2345.67\n",
      "Purchase Amount: $2345.67\n",
      "Discount Percentage: 15.0%\n",
      "Discounted Price: $1993.82\n"
     ]
    }
   ],
   "source": [
    "\"\"\"8. Create a Python program that calculates the discount amount based on the purchase amount using if-else.\"\"\"\n",
    "\n",
    "purchase_amount = float(input(\"Enter the purchase amount: \"))\n",
    "\n",
    "if purchase_amount < 50:\n",
    "    discount = 0  \n",
    "elif purchase_amount < 100:\n",
    "    discount = 0.05  \n",
    "    discount = 0.1 \n",
    "else:\n",
    "    discount = 0.15 \n",
    "\n",
    "discounted_price = purchase_amount - (purchase_amount * discount)\n",
    "\n",
    "print(f\"Purchase Amount: ${purchase_amount:.2f}\")\n",
    "print(f\"Discount Percentage: {discount * 100}%\")\n",
    "print(f\"Discounted Price: ${discounted_price:.2f}\")"
   ]
  },
  {
   "cell_type": "code",
   "execution_count": 46,
   "id": "79e0755c",
   "metadata": {},
   "outputs": [
    {
     "name": "stdout",
     "output_type": "stream",
     "text": [
      "Enter a number: 69\n",
      "69.0 is not within the range of 10 and 50.\n"
     ]
    }
   ],
   "source": [
    "\"\"\"9. Write a Python program to check if a number is within a specified range using if-else.\n",
    "\"\"\"\n",
    "\n",
    "number = float(input(\"Enter a number: \"))\n",
    "\n",
    "lower_limit = 10\n",
    "upper_limit = 50\n",
    "\n",
    "if number >= lower_limit and number <= upper_limit:\n",
    "    print(f\"{number} is within the range of {lower_limit} and {upper_limit}.\")\n",
    "else:\n",
    "    print(f\"{number} is not within the range of {lower_limit} and {upper_limit}.\")\n"
   ]
  },
  {
   "cell_type": "code",
   "execution_count": 47,
   "id": "dee7a38b",
   "metadata": {},
   "outputs": [
    {
     "name": "stdout",
     "output_type": "stream",
     "text": [
      "Enter the student's score: 81.73\n",
      "The student's grade is: B\n"
     ]
    }
   ],
   "source": [
    "\"\"\"10. Create a Python program that determines the grade of a student based on their score using if-else.\"\"\"\n",
    "\n",
    "score = float(input(\"Enter the student's score: \"))\n",
    "\n",
    "if 90 <= score <= 100:\n",
    "    grade = \"A\"\n",
    "if 80 <= score < 90:\n",
    "    grade = \"B\"\n",
    "if 70 <= score < 80:\n",
    "    grade = \"C\"\n",
    "if 60 <= score < 70:\n",
    "    grade = \"D\"\n",
    "if 0 <= score < 60:\n",
    "    grade = \"F\"\n",
    "if score < 0:\n",
    "    grade = \"Invalid score (score should be between 0 and 100)\"\n",
    "\n",
    "print(f\"The student's grade is: {grade}\")"
   ]
  },
  {
   "cell_type": "code",
   "execution_count": 48,
   "id": "e7edccaf",
   "metadata": {},
   "outputs": [
    {
     "name": "stdout",
     "output_type": "stream",
     "text": [
      "Enter a string: \n",
      "The string is empty.\n"
     ]
    }
   ],
   "source": [
    "\"\"\"11. Write a Python program to check if a string is empty or not using if-else.\"\"\"\n",
    "\n",
    "strr = input(\"Enter a string: \")\n",
    "if not strr:\n",
    "    print(\"The string is empty.\")\n",
    "else:\n",
    "    print(\"The string is not empty.\")\n"
   ]
  },
  {
   "cell_type": "code",
   "execution_count": 49,
   "id": "583b3576",
   "metadata": {},
   "outputs": [
    {
     "name": "stdout",
     "output_type": "stream",
     "text": [
      "Enter the length of the first side: 34\n",
      "Enter the length of the second side: 56\n",
      "Enter the length of the third side: 73\n",
      "The triangle with side lengths 34.0, 56.0, and 73.0 is a Scalene triangle.\n"
     ]
    }
   ],
   "source": [
    "\"\"\"12. Create a Python program that identifies the type of a triangle (e.g., equilateral, isosceles, or scalene) \n",
    "based on input values using if-else. \"\"\"\n",
    "\n",
    "side1 = float(input(\"Enter the length of the first side: \"))\n",
    "side2 = float(input(\"Enter the length of the second side: \"))\n",
    "side3 = float(input(\"Enter the length of the third side: \"))\n",
    "\n",
    "if side1 == side2 == side3:\n",
    "    triangle_type = \"Equilateral\"\n",
    "if side1 == side2 or side1 == side3 or side2 == side3:\n",
    "    triangle_type = \"Isosceles\"\n",
    "else:\n",
    "    triangle_type = \"Scalene\"\n",
    "    \n",
    "print(f\"The triangle with side lengths {side1}, {side2}, and {side3} is a {triangle_type} triangle.\")\n"
   ]
  },
  {
   "cell_type": "code",
   "execution_count": 50,
   "id": "1822d04c",
   "metadata": {},
   "outputs": [
    {
     "name": "stdout",
     "output_type": "stream",
     "text": [
      "Enter a number: 6\n",
      "The day of the week for number 6 is Saturday.\n"
     ]
    }
   ],
   "source": [
    "\"\"\"13. Write a Python program to determine the day of the week based on a user-provided number using if-else.\"\"\"\n",
    "\n",
    "n = int(input(\"Enter a number: \"))\n",
    "days_of_week = [\"Monday\", \"Tuesday\", \"Wednesday\", \"Thursday\", \"Friday\", \"Saturday\", \"Sunday\"]\n",
    "\n",
    "if n>=1 and n<=7:\n",
    "    day = days_of_week[n - 1]\n",
    "    print(f\"The day of the week for number {n} is {day}.\")\n",
    "else:\n",
    "    print(\"Invalid input. Please enter a number between 1 and 7.\")\n",
    "    "
   ]
  },
  {
   "cell_type": "code",
   "execution_count": 51,
   "id": "c5473af6",
   "metadata": {},
   "outputs": [
    {
     "name": "stdout",
     "output_type": "stream",
     "text": [
      "Enter year to check: 2004\n",
      "2004 is a leap year\n"
     ]
    }
   ],
   "source": [
    "\"\"\"14. Create a Python program that checks if a given year is a leap year using both if-else and a function.\"\"\"\n",
    "\n",
    "year = int(input(\"Enter year to check: \"))\n",
    "\n",
    "if ((year % 400 == 0) and (year % 100 == 0)) or ((year % 4 ==0) and (year % 100 != 0)):\n",
    "    print(\"{} is a leap year\".format(year))\n",
    "\n",
    "else: \n",
    "    print(\"{} is not a leap year\".format(year))"
   ]
  },
  {
   "cell_type": "code",
   "execution_count": 53,
   "id": "9397feaf",
   "metadata": {},
   "outputs": [
    {
     "name": "stdout",
     "output_type": "stream",
     "text": [
      "Result: 2.0\n"
     ]
    }
   ],
   "source": [
    "\"\"\"15. How do you use the \"assert\" statement in Python to add debugging checks within if-else blocks? \"\"\"\n",
    "\n",
    "x = 10\n",
    "y = 5\n",
    "\n",
    "if y != 0:\n",
    "    result = x / y\n",
    "else:\n",
    "    assert y != 0,\"Division by zero is not allowed.\"\n",
    "    result = None\n",
    "\n",
    "print(\"Result:\", result)\n"
   ]
  },
  {
   "cell_type": "code",
   "execution_count": 54,
   "id": "aa344ce4",
   "metadata": {},
   "outputs": [
    {
     "name": "stdout",
     "output_type": "stream",
     "text": [
      "Enter your age: 75\n",
      "Congratulations! You are eligible for a senior citizen discount.\n"
     ]
    }
   ],
   "source": [
    "\"\"\"16. Create a Python program that determines the eligibility of a person for a senior citizen discount based on \n",
    "age using if-else.\"\"\"\n",
    "\n",
    "age = int(input(\"Enter your age: \"))\n",
    "senior_citizen_age = 60\n",
    "\n",
    "if age >= senior_citizen_age:\n",
    "    print(\"Congratulations! You are eligible for a senior citizen discount.\")\n",
    "else:\n",
    "    print(\"Sorry, you are not eligible for a senior citizen discount.\")\n"
   ]
  },
  {
   "cell_type": "code",
   "execution_count": 55,
   "id": "5951381e",
   "metadata": {},
   "outputs": [
    {
     "name": "stdout",
     "output_type": "stream",
     "text": [
      "Enter a character: J\n",
      "The character 'J' is uppercase.\n"
     ]
    }
   ],
   "source": [
    "\"\"\"17. Write a Python program to categorize a given character as uppercase, lowercase, or neither using if-else.\"\"\"\n",
    "\n",
    "char = input(\"Enter a character: \")\n",
    "\n",
    "if char.isupper():\n",
    "    print(f\"The character '{char}' is uppercase.\")\n",
    "elif char.islower():\n",
    "    print(f\"The character '{char}' is lowercase.\")\n",
    "else:\n",
    "    print(f\"The character '{char}' is neither uppercase nor lowercase.\")\n"
   ]
  },
  {
   "cell_type": "code",
   "execution_count": 56,
   "id": "0971e02b",
   "metadata": {},
   "outputs": [
    {
     "name": "stdout",
     "output_type": "stream",
     "text": [
      "Enter the coefficient a: 23\n",
      "Enter the coefficient b: 45\n",
      "Enter the coefficient c: 61\n",
      "The roots are complex: -0.9782608695652174 + 1.3019906236686125i and -0.9782608695652174 - 1.3019906236686125i\n"
     ]
    }
   ],
   "source": [
    "\"\"\"18. Write a Python program to determine the roots of a quadratic equation using if-else.\"\"\"\n",
    "\n",
    "import math\n",
    "\n",
    "a = float(input(\"Enter the coefficient a: \"))\n",
    "b = float(input(\"Enter the coefficient b: \"))\n",
    "c = float(input(\"Enter the coefficient c: \"))\n",
    "\n",
    "discriminant = b**2 - 4*a*c\n",
    "\n",
    "if discriminant > 0:\n",
    "    root1 = (-b + math.sqrt(discriminant)) / (2*a)\n",
    "    root2 = (-b - math.sqrt(discriminant)) / (2*a)\n",
    "    print(f\"The roots are real and distinct: {root1} and {root2}\")\n",
    "    \n",
    "if discriminant == 0:\n",
    "    root1 = -b / (2*a)\n",
    "    print(f\"There is one real root (repeated root): {root1}\")\n",
    "    \n",
    "else:\n",
    "    real_part = -b / (2*a)\n",
    "    imaginary_part = math.sqrt(abs(discriminant)) / (2*a)\n",
    "    print(f\"The roots are complex: {real_part} + {imaginary_part}i and {real_part} - {imaginary_part}i\")\n",
    "    "
   ]
  },
  {
   "cell_type": "code",
   "execution_count": 57,
   "id": "367a5e7e",
   "metadata": {},
   "outputs": [
    {
     "name": "stdout",
     "output_type": "stream",
     "text": [
      "Enter a year: 2004\n",
      "2004 is not a century year.\n"
     ]
    }
   ],
   "source": [
    "\"\"\"19. Create a Python program that checks if a given year is a century year or not using if-else.\"\"\"\n",
    "\n",
    "year = int(input(\"Enter a year: \"))\n",
    "\n",
    "if year % 100 == 0:\n",
    "    print(f\"{year} is a century year.\")\n",
    "else:\n",
    "    print(f\"{year} is not a century year.\")\n"
   ]
  },
  {
   "cell_type": "code",
   "execution_count": 58,
   "id": "7dcfa395",
   "metadata": {},
   "outputs": [
    {
     "name": "stdout",
     "output_type": "stream",
     "text": [
      "Enter a number: 25\n",
      "25 is a perfect square.\n"
     ]
    }
   ],
   "source": [
    "\"\"\"20. Write a Python program to determine if a given number is a perfect square using if-else.\"\"\"\n",
    "\n",
    "number = int(input(\"Enter a number: \"))\n",
    "if number < 0:\n",
    "    print(f\"{number} is not a perfect square (negative number).\")\n",
    "else:\n",
    "    sqrt = int(number ** 0.5)\n",
    "    if sqrt * sqrt == number:\n",
    "        print(f\"{number} is a perfect square.\")\n",
    "    else:\n",
    "        print(f\"{number} is not a perfect square.\")\n"
   ]
  },
  {
   "cell_type": "code",
   "execution_count": 64,
   "id": "b608ec75",
   "metadata": {},
   "outputs": [
    {
     "name": "stdout",
     "output_type": "stream",
     "text": [
      "Continue statement:\n",
      "1\n",
      "2\n",
      "4\n",
      "5\n",
      "----------\n",
      "Brek Statement:\n",
      "1\n",
      "2\n"
     ]
    }
   ],
   "source": [
    "\"\"\"21. Explain the purpose of the \"continue\" and \"break\" statements within if-else loops.\"\"\"\n",
    "\n",
    "\"\"\"\"\n",
    "Continue statement:\n",
    "\n",
    "Purpose: The \"continue\" statement is used to skip the rest of the \n",
    "current iteration of a loop and move on to the next iteration. \n",
    "It is typically used when a certain condition is met, and you want \n",
    "to continue with the next iteration without executing the remaining \n",
    "code for the current iteration.\n",
    "Eg) \"\"\"\n",
    "\n",
    "print(\"Continue statement:\")\n",
    "for i in range(1, 6):\n",
    "    if i == 3:\n",
    "        continue  # Skip iteration when i is 3\n",
    "    print(i)\n",
    "    \n",
    "print(\"----------\")\n",
    "\"\"\"    \n",
    "Break statement:\n",
    "\n",
    "Purpose: The \"break\" statement is used to exit a loop prematurely \n",
    "when a certain condition is met. It allows you to terminate the \n",
    "loop entirely, even if all iterations haven't completed, based on\n",
    "a specific condition.\n",
    "Eg) \"\"\"\n",
    "\n",
    "print(\"Brek Statement:\")\n",
    "for i in range(1, 6):\n",
    "    if i == 3:\n",
    "        break  # Exit the loop when i is 3\n",
    "    print(i)\n"
   ]
  },
  {
   "cell_type": "code",
   "execution_count": 59,
   "id": "2a4037b8",
   "metadata": {},
   "outputs": [
    {
     "name": "stdout",
     "output_type": "stream",
     "text": [
      "Enter your height (in CM): 171\n",
      "Enter your weight (in KG): 98\n",
      "Your BMI is 33.51458568448412, which falls into the category of Obese.\n"
     ]
    }
   ],
   "source": [
    "\"\"\"22. Create a Python program that calculates the BMI (Body Mass Index) of a person based on their weight and \n",
    "height using if-else.\"\"\"\n",
    "\n",
    "height = float(input(\"Enter your height (in CM): \"))\n",
    "weight = float(input(\"Enter your weight (in KG): \"))\n",
    "\n",
    "bmi = weight / (height/100) ** 2\n",
    "\n",
    "if bmi < 18.5:\n",
    "    category = \"Underweight\"\n",
    "elif 18.5 <= bmi < 24.9:\n",
    "    category = \"Normal Weight\"\n",
    "elif 25 <= bmi < 29.9:\n",
    "    category = \"Overweight\"\n",
    "else:\n",
    "    category = \"Obese\"\n",
    "\n",
    "print(f\"Your BMI is {bmi}, which falls into the category of {category}.\")"
   ]
  },
  {
   "cell_type": "code",
   "execution_count": 65,
   "id": "a3078301",
   "metadata": {},
   "outputs": [
    {
     "name": "stdout",
     "output_type": "stream",
     "text": [
      "[2, 4, 6, 8, 10]\n"
     ]
    }
   ],
   "source": [
    "\"\"\"23. How can you use the \"filter()\" function with if-else statements to filter elements from a list? \"\"\"\n",
    "\n",
    "numbers = [1, 2, 3, 4, 5, 6, 7, 8, 9, 10]\n",
    "\n",
    "filtered_numbers = filter(None, [x if x % 2 == 0 else None for x in numbers])\n",
    "filtered_numbers_list = list(filtered_numbers)\n",
    "print(filtered_numbers_list)\n"
   ]
  },
  {
   "cell_type": "code",
   "execution_count": 66,
   "id": "5c6fa1dc",
   "metadata": {},
   "outputs": [
    {
     "name": "stdout",
     "output_type": "stream",
     "text": [
      "Enter a number: 329\n",
      "329 is not a prime number\n"
     ]
    }
   ],
   "source": [
    "\"\"\"24. Write a Python program to determine if a given number is prime or not using if-else.\"\"\"\n",
    "\n",
    "num = int(input(\"Enter a number: \"))\n",
    "\n",
    "if num == 1:\n",
    "    print(num, \"is not a prime number\")\n",
    "if num > 1:\n",
    "    for i in range(2,num):\n",
    "        if (num % i) == 0:\n",
    "            print(num,\"is not a prime number\")\n",
    "            break\n",
    "    else:\n",
    "        print(num,\"is a prime number\")\n",
    "\n",
    "else:\n",
    "    print(num,\"is not a prime number\")"
   ]
  },
  {
   "cell_type": "markdown",
   "id": "2ff86441",
   "metadata": {},
   "source": [
    "# MAP"
   ]
  },
  {
   "cell_type": "code",
   "execution_count": 67,
   "id": "7a90bcd9",
   "metadata": {},
   "outputs": [
    {
     "name": "stdout",
     "output_type": "stream",
     "text": [
      "[1, 4, 9, 16, 25]\n"
     ]
    }
   ],
   "source": [
    "\"\"\"1. Explain the purpose of the `map()` function in Python and provide an example of how it can be used to apply \n",
    "a function to each element of an iterable.\"\"\"\n",
    "\n",
    "\"\"\"The map() function in Python is used to apply a specified function to each item in an iterable (such as a list,\n",
    "tuple, or other iterable objects) and return a map object, which is an iterator. \n",
    "\n",
    "It takes two arguments: the function you want to apply and the iterable you want to process. The purpose of map() \n",
    "is to simplify and streamline the process of applying a function to each element in a collection.\n",
    "\n",
    "Eg)\n",
    "\"\"\"\n",
    "\n",
    "numbers = [1, 2, 3, 4, 5]\n",
    "\n",
    "squared_numbers = map(lambda x: x ** 2, numbers)\n",
    "squared_numbers_list = list(squared_numbers)\n",
    "\n",
    "print(squared_numbers_list)\n"
   ]
  },
  {
   "cell_type": "code",
   "execution_count": 68,
   "id": "549de548",
   "metadata": {},
   "outputs": [
    {
     "name": "stdout",
     "output_type": "stream",
     "text": [
      "[1, 4, 9, 16, 25]\n"
     ]
    }
   ],
   "source": [
    "\"\"\"2. Write a Python program that uses the `map()` function to square each element of a list of numbers.\"\"\"\n",
    "\n",
    "numbers = [1, 2, 3, 4, 5]\n",
    "\n",
    "squared_numbers = map(lambda x: x ** 2, numbers)\n",
    "squared_numbers_list = list(squared_numbers)\n",
    "\n",
    "print(squared_numbers_list)"
   ]
  },
  {
   "cell_type": "code",
   "execution_count": null,
   "id": "c78cfb1d",
   "metadata": {},
   "outputs": [],
   "source": [
    "\"\"\"3. How does the `map()` function differ from a list comprehension in Python, and when would you choose one \n",
    "over the other?\"\"\"\n",
    "\n",
    "\"\"\"\n",
    "map() function:\n",
    "\n",
    "-> map() is a built-in function in Python that takes a function and an iterable as arguments.\n",
    "-> It returns an iterator (a map object) that applies the given function to each element in the iterable when iterated over.\n",
    "-> You typically use map() with an existing function, either a built-in function, a user-defined function, or a lambda function.\n",
    "-> It can be less concise for simple operations due to the need for a separate function.\n",
    "\"\"\"\n",
    "\n",
    "\"\"\"\n",
    "List comprehensions:\n",
    "\n",
    "-> List comprehensions are a concise and Pythonic way to create new lists by applying an expression to each element in an iterable.\n",
    "-> They use square brackets to define the new list and the expression to be applied to each element.\n",
    "-> List comprehensions are often more readable and can be written directly within your code.\n",
    "-> They are often used for simple, element-wise operations, especially when you don't need to define a separate function.\n",
    "\"\"\"\n",
    "\n",
    "\"\"\"\n",
    "When to choose one over the other:\n",
    "\n",
    "-> Use map() when you need to apply a more complex or pre-existing function to each element in an iterable.\n",
    "-> Use list comprehensions for simple element-wise operations that can be expressed concisely in a single line.\n",
    "-> List comprehensions are often preferred for their readability and are a great choice for creating new lists from existing ones.\n",
    "-> In many cases, it comes down to personal preference and the specific requirements of your code. \n",
    "\n",
    "So, Both map() and list comprehensions are powerful tools for transforming data in Python.\n",
    "\"\"\""
   ]
  },
  {
   "cell_type": "code",
   "execution_count": 79,
   "id": "d92abb0a",
   "metadata": {},
   "outputs": [
    {
     "name": "stdout",
     "output_type": "stream",
     "text": [
      "Converted Names:  ['ALICE', 'BOB', 'CHARLIE', 'DAVID']\n"
     ]
    }
   ],
   "source": [
    "\"\"\"4. Create a Python program that uses the `map()` function to convert a list of names to uppercase.\"\"\"\n",
    "\n",
    "names = [\"Alice\", \"Bob\", \"Charlie\", \"David\"]\n",
    "uppercase_names = list(map(lambda x: x.upper(), names))\n",
    "\n",
    "print(\"Converted Names: \",uppercase_names)"
   ]
  },
  {
   "cell_type": "code",
   "execution_count": 80,
   "id": "196d98f5",
   "metadata": {},
   "outputs": [
    {
     "name": "stdout",
     "output_type": "stream",
     "text": [
      "Length of each strings:  [5, 3, 7, 5]\n"
     ]
    }
   ],
   "source": [
    "\"\"\"5. Write a Python program that uses the `map()` function to calculate the length of each word in a list of \n",
    "strings.\"\"\"\n",
    "\n",
    "names = [\"Alice\", \"Bob\", \"Charlie\", \"David\"]\n",
    "Lenss = list(map(lambda x: len(x), names))\n",
    "\n",
    "print(\"Length of each strings: \",Lenss)"
   ]
  },
  {
   "cell_type": "code",
   "execution_count": 81,
   "id": "62c199cb",
   "metadata": {},
   "outputs": [
    {
     "name": "stdout",
     "output_type": "stream",
     "text": [
      "[6, 14, 24, 36, 50]\n"
     ]
    }
   ],
   "source": [
    "\"\"\"6. How can you use the `map()` function to apply a custom function to elements of multiple lists simultaneously \n",
    "in Python?\"\"\"\n",
    "\n",
    "list1 = [1, 2, 3, 4, 5]\n",
    "list2 = [6, 7, 8, 9, 10]\n",
    "\n",
    "result = list(map(lambda x, y: x * y, list1, list2))\n",
    "print(result)\n"
   ]
  },
  {
   "cell_type": "code",
   "execution_count": 82,
   "id": "cb7740ce",
   "metadata": {},
   "outputs": [
    {
     "name": "stdout",
     "output_type": "stream",
     "text": [
      "0°C is equal to 32.0°F\n",
      "25°C is equal to 77.0°F\n",
      "100°C is equal to 212.0°F\n",
      "37°C is equal to 98.6°F\n"
     ]
    }
   ],
   "source": [
    "\"\"\"7. Create a Python program that uses `map()` to convert a list of temperatures from Celsius to Fahrenheit.\"\"\"\n",
    "\n",
    "celsius_temperatures = [0, 25, 100, 37]\n",
    "fahrenheit_temperatures = list(map(lambda celsius: (celsius * 9/5) + 32, celsius_temperatures))\n",
    "\n",
    "for i in range(len(celsius_temperatures)):\n",
    "    print(f\"{celsius_temperatures[i]}°C is equal to {fahrenheit_temperatures[i]}°F\")\n"
   ]
  },
  {
   "cell_type": "code",
   "execution_count": 83,
   "id": "711ae4d7",
   "metadata": {},
   "outputs": [
    {
     "name": "stdout",
     "output_type": "stream",
     "text": [
      "3.14 rounded to the nearest integer is 3\n",
      "2.718 rounded to the nearest integer is 3\n",
      "1.414 rounded to the nearest integer is 1\n",
      "4.669 rounded to the nearest integer is 5\n"
     ]
    }
   ],
   "source": [
    "\"\"\"8. Write a Python program that uses the `map()` function to round each element of a list of floating-point \n",
    "numbers to the nearest integer.\"\"\"\n",
    "\n",
    "float_numbers = [3.14, 2.718, 1.414, 4.669]\n",
    "rounded_numbers = list(map(round, float_numbers))\n",
    "\n",
    "for i in range(len(float_numbers)):\n",
    "    original = float_numbers[i]\n",
    "    rounded = rounded_numbers[i]\n",
    "    print(f\"{original} rounded to the nearest integer is {rounded}\")\n"
   ]
  },
  {
   "cell_type": "markdown",
   "id": "25b3e393",
   "metadata": {},
   "source": [
    "# REDUCE"
   ]
  },
  {
   "cell_type": "code",
   "execution_count": 84,
   "id": "1770cfda",
   "metadata": {},
   "outputs": [
    {
     "name": "stdout",
     "output_type": "stream",
     "text": [
      "15\n"
     ]
    }
   ],
   "source": [
    "\"\"\"1. What is the `reduce()` function in Python, and what module should you import to use it? Provide an example of\n",
    "its basic usage.\"\"\"\n",
    "\n",
    "\"\"\"\n",
    "The reduce() function in Python is a part of the functools module. It is used for accumulating the results of a \n",
    "binary operation (a function that takes two arguments) over an iterable, such as a list. The reduce() function \n",
    "repeatedly applies the binary operation to the items in the iterable, accumulating a result that is returned at \n",
    "the end.\n",
    "\n",
    "Eg)\"\"\"\n",
    "\n",
    "from functools import reduce\n",
    "numbers = [1, 2, 3, 4, 5]\n",
    "\n",
    "result = reduce(lambda x, y: x + y, numbers)\n",
    "print(result)\n"
   ]
  },
  {
   "cell_type": "code",
   "execution_count": 85,
   "id": "c501786c",
   "metadata": {},
   "outputs": [
    {
     "name": "stdout",
     "output_type": "stream",
     "text": [
      "120\n"
     ]
    }
   ],
   "source": [
    "\"\"\"2. Write a Python program that uses the `reduce()` function to find the product of all elements in a list.\"\"\"\n",
    "\n",
    "from functools import reduce\n",
    "numbers = [1, 2, 3, 4, 5]\n",
    "\n",
    "result = reduce(lambda x, y: x * y, numbers)\n",
    "print(result)"
   ]
  },
  {
   "cell_type": "code",
   "execution_count": 87,
   "id": "0689d836",
   "metadata": {},
   "outputs": [
    {
     "name": "stdout",
     "output_type": "stream",
     "text": [
      "The maximum number is: 67\n"
     ]
    }
   ],
   "source": [
    "\"\"\"3. Create a Python program that uses `reduce()` to find the maximum element in a list of numbers.\"\"\"\n",
    "\n",
    "from functools import reduce\n",
    "numbers = [42, 17, 25, 8, 56, 31, 67]\n",
    "max_number = reduce(lambda x, y: x if x > y else y, numbers)\n",
    "\n",
    "print(f\"The maximum number is: {max_number}\")\n"
   ]
  },
  {
   "cell_type": "code",
   "execution_count": 88,
   "id": "fab884e6",
   "metadata": {},
   "outputs": [
    {
     "name": "stdout",
     "output_type": "stream",
     "text": [
      "Hello World!\n"
     ]
    }
   ],
   "source": [
    "\"\"\"4. How can you use the `reduce()` function to concatenate a list of strings into a single string?\"\"\"\n",
    "\n",
    "from functools import reduce\n",
    "strings = [\"Hello\", \" \", \"World\", \"!\"]\n",
    "\n",
    "concatenated_string = reduce(lambda x, y: x + y, strings)\n",
    "\n",
    "print(concatenated_string)\n"
   ]
  },
  {
   "cell_type": "code",
   "execution_count": 90,
   "id": "708f1c48",
   "metadata": {},
   "outputs": [
    {
     "name": "stdout",
     "output_type": "stream",
     "text": [
      "Enter a number: 5\n",
      "The factorial of 5 is: 120\n"
     ]
    }
   ],
   "source": [
    "\"\"\"5. Write a Python program that calculates the factorial of a number using the `reduce()` function.\"\"\"\n",
    "\n",
    "from functools import reduce\n",
    "\n",
    "n = int(input(\"Enter a number: \"))\n",
    "factorial = reduce(lambda x, y: x * y, range(1, n + 1), 1)\n",
    "\n",
    "print(f\"The factorial of {n} is: {factorial}\")\n"
   ]
  },
  {
   "cell_type": "code",
   "execution_count": 91,
   "id": "28ed807c",
   "metadata": {},
   "outputs": [
    {
     "name": "stdout",
     "output_type": "stream",
     "text": [
      "The GCD of the numbers is: 12\n"
     ]
    }
   ],
   "source": [
    "\"\"\"6. Create a Python program that uses `reduce()` to find the GCD (Greatest Common Divisor) of a list of numbers.\"\"\"\n",
    "\n",
    "from functools import reduce\n",
    "import math\n",
    "\n",
    "numbers = [24, 36, 48, 60]\n",
    "\n",
    "gcd_of_numbers = reduce(lambda x, y: math.gcd(x, y), numbers)\n",
    "print(f\"The GCD of the numbers is: {gcd_of_numbers}\")\n"
   ]
  },
  {
   "cell_type": "code",
   "execution_count": 89,
   "id": "d5375282",
   "metadata": {},
   "outputs": [
    {
     "name": "stdout",
     "output_type": "stream",
     "text": [
      "15\n"
     ]
    }
   ],
   "source": [
    "\"\"\"7. Write a Python program that uses the `reduce()` function to find the sum of the digits of a given number.\"\"\"\n",
    "\n",
    "from functools import reduce\n",
    "numbers = [1, 2, 3, 4, 5]\n",
    "\n",
    "result = reduce(lambda x, y: x + y, numbers)\n",
    "print(result)"
   ]
  },
  {
   "cell_type": "markdown",
   "id": "7557e05d",
   "metadata": {},
   "source": [
    "# FILTER"
   ]
  },
  {
   "cell_type": "code",
   "execution_count": 92,
   "id": "1a0d25f1",
   "metadata": {},
   "outputs": [
    {
     "name": "stdout",
     "output_type": "stream",
     "text": [
      "[2, 4, 6, 8, 10]\n"
     ]
    }
   ],
   "source": [
    "\"\"\"1. Explain the purpose of the `filter()` function in Python and provide an example of how it can be used to \n",
    "filter elements from an iterable. \"\"\"\n",
    "\n",
    "\"\"\"\n",
    "The filter() function in Python is used to filter elements from an iterable (such as a list) based on a \n",
    "specified condition or function. It creates a new iterable that contains only the elements for which the given \n",
    "condition or function returns True. \n",
    "\n",
    "The filter() function takes two arguments: the filtering function and the iterable to be filtered.\n",
    "\n",
    "Eg)\n",
    "\"\"\"\n",
    "\n",
    "numbers = [1, 2, 3, 4, 5, 6, 7, 8, 9, 10]\n",
    "even_numbers = list(filter(lambda number: number % 2 == 0, numbers))\n",
    "\n",
    "print(even_numbers)\n"
   ]
  },
  {
   "cell_type": "code",
   "execution_count": 93,
   "id": "38efbe64",
   "metadata": {},
   "outputs": [
    {
     "name": "stdout",
     "output_type": "stream",
     "text": [
      "[2, 4, 6, 8, 10]\n"
     ]
    }
   ],
   "source": [
    "\"\"\"2. Write a Python program that uses the `filter()` function to select even numbers from a list of integers.\"\"\"\n",
    "\n",
    "numbers = [1, 2, 3, 4, 5, 6, 7, 8, 9, 10]\n",
    "even_numbers = list(filter(lambda number: number % 2 == 0, numbers))\n",
    "\n",
    "print(even_numbers)"
   ]
  },
  {
   "cell_type": "code",
   "execution_count": 94,
   "id": "defe5e60",
   "metadata": {},
   "outputs": [
    {
     "name": "stdout",
     "output_type": "stream",
     "text": [
      "Names starting with 'E': ['Ella']\n"
     ]
    }
   ],
   "source": [
    "\"\"\"3. Create a Python program that uses the `filter()` function to select names that start with a specific letter \n",
    "from a list of strings.\"\"\"\n",
    "\n",
    "names = [\"Alice\", \"Bob\", \"Charlie\", \"David\", \"Ella\", \"Frank\", \"Grace\"]\n",
    "target_letter = \"E\"\n",
    "selected_names = list(filter(lambda name: name.startswith(target_letter), names))\n",
    "\n",
    "print(f\"Names starting with '{target_letter}': {selected_names}\")\n"
   ]
  },
  {
   "cell_type": "code",
   "execution_count": 95,
   "id": "0cd6976f",
   "metadata": {},
   "outputs": [
    {
     "name": "stdout",
     "output_type": "stream",
     "text": [
      "Prime numbers: [2, 3, 5, 7, 11]\n"
     ]
    }
   ],
   "source": [
    "\"\"\"4. Write a Python program that uses the `filter()` function to select prime numbers from a list of integers.\"\"\"\n",
    "\n",
    "numbers = [2, 3, 4, 5, 6, 7, 8, 9, 10, 11, 12]\n",
    "prime_numbers = list(filter(lambda n: all(n % i != 0 for i in range(2, int(n**0.5) + 1)) and n > 1, numbers))\n",
    "\n",
    "print(f\"Prime numbers: {prime_numbers}\")\n"
   ]
  },
  {
   "cell_type": "code",
   "execution_count": 96,
   "id": "405f57a3",
   "metadata": {},
   "outputs": [
    {
     "name": "stdout",
     "output_type": "stream",
     "text": [
      "[1, 2, 3, 4, 5]\n"
     ]
    }
   ],
   "source": [
    "\"\"\"5. How can you use the `filter()` function to remove None values from a list in Python?\"\"\"\n",
    "\n",
    "values = [1, 2, None, 3, None, 4, 5, None]\n",
    "filtered_values = list(filter(lambda x: x is not None, values))\n",
    "\n",
    "print(filtered_values)\n"
   ]
  },
  {
   "cell_type": "code",
   "execution_count": 97,
   "id": "ef495bb7",
   "metadata": {},
   "outputs": [
    {
     "name": "stdout",
     "output_type": "stream",
     "text": [
      "Words longer than 5 characters: ['banana', 'cherry']\n"
     ]
    }
   ],
   "source": [
    "\"\"\"6. Create a Python program that uses `filter()` to select words longer than a certain length from a list of strings.\"\"\"\n",
    "\n",
    "words = [\"apple\", \"banana\", \"cherry\", \"date\", \"fig\", \"grape\", \"kiwi\"]\n",
    "min_length = 5\n",
    "\n",
    "selected_words = list(filter(lambda word: len(word) > min_length, words))\n",
    "\n",
    "print(f\"Words longer than {min_length} characters: {selected_words}\")\n"
   ]
  },
  {
   "cell_type": "code",
   "execution_count": 98,
   "id": "badb1a04",
   "metadata": {},
   "outputs": [
    {
     "name": "stdout",
     "output_type": "stream",
     "text": [
      "Values greater than 20: [25, 37, 44, 28]\n"
     ]
    }
   ],
   "source": [
    "\"\"\"7. Write a Python program that uses the `filter()` function to select elements greater than a specified \n",
    "threshold from a list of values.\"\"\"\n",
    "\n",
    "values = [12, 25, 8, 37, 44, 6, 15, 28]\n",
    "threshold = 20\n",
    "selected_values = list(filter(lambda x: x > threshold, values))\n",
    "\n",
    "print(f\"Values greater than {threshold}: {selected_values}\")\n"
   ]
  },
  {
   "cell_type": "markdown",
   "id": "825e1a3e",
   "metadata": {},
   "source": [
    "# RECURSION"
   ]
  },
  {
   "cell_type": "markdown",
   "id": "1e4782ca",
   "metadata": {},
   "source": [
    "\"\"\"1. Explain the concept of recursion in Python. How does it differ from iteration?\"\"\"\n",
    "\n",
    "\"\"\"\n",
    "Recursion:\n",
    "\n",
    "-> In a recursive function, the function calls itself one or more times with different arguments.\n",
    "-> Each recursive call typically addresses a smaller or simpler version of the original problem.\n",
    "-> Recursion continues until a base case is reached, at which point the function returns a result \n",
    "without making further recursive calls.\n",
    "-> Recursive functions often involve breaking down a problem into subproblems and using the results of those \n",
    "subproblems to compute the final result.\n",
    "-> Recursive functions can be elegant and can solve complex problems concisely.\n",
    "\"\"\"\n",
    "\n",
    "\"\"\"\n",
    "The main difference between recursion and iteration is the way they approach solving problems. Recursion relies on \n",
    "self-replication, breaking down a problem into smaller parts and solving them with the same algorithm. \n",
    "Iteration relies on looping constructs to repeatedly execute the same code.\n",
    "\"\"\""
   ]
  },
  {
   "cell_type": "code",
   "execution_count": 99,
   "id": "d8f35349",
   "metadata": {},
   "outputs": [
    {
     "name": "stdout",
     "output_type": "stream",
     "text": [
      "Enter a number: 23\n",
      "The factorial of 23 is: 25852016738884976640000\n"
     ]
    }
   ],
   "source": [
    "\"\"\"2. Write a Python program to calculate the factorial of a number using recursion.\"\"\"\n",
    "\n",
    "def factorial(n):\n",
    "    if n == 0:\n",
    "        return 1\n",
    "    else:\n",
    "        return n * factorial(n - 1)\n",
    "\n",
    "n = int(input(\"Enter a number: \"))\n",
    "result = factorial(n)\n",
    "\n",
    "print(f\"The factorial of {n} is: {result}\")"
   ]
  },
  {
   "cell_type": "code",
   "execution_count": 100,
   "id": "b29141aa",
   "metadata": {},
   "outputs": [
    {
     "name": "stdout",
     "output_type": "stream",
     "text": [
      "Enter the value of n: 5\n",
      "The 5th Fibonacci number is: 5\n"
     ]
    }
   ],
   "source": [
    "\"\"\"3. Create a recursive Python function to find the nth Fibonacci number.\"\"\"\n",
    "\n",
    "def fibonacci(n):\n",
    "    if n <= 0:\n",
    "        return 0\n",
    "    elif n == 1:\n",
    "        return 1\n",
    "    else:\n",
    "        return fibonacci(n - 1) + fibonacci(n - 2)\n",
    "\n",
    "\n",
    "n = int(input(\"Enter the value of n: \"))\n",
    "result = fibonacci(n)\n",
    "\n",
    "print(f\"The {n}th Fibonacci number is: {result}\")"
   ]
  },
  {
   "cell_type": "code",
   "execution_count": 101,
   "id": "8688ef2a",
   "metadata": {},
   "outputs": [
    {
     "name": "stdout",
     "output_type": "stream",
     "text": [
      "Enter a list of numbers separated by spaces: 1 65 43 67 86 34 87 09 87\n",
      "The sum of the elements in the list is: 479\n"
     ]
    }
   ],
   "source": [
    "\"\"\"4. Write a recursive Python function to calculate the sum of all elements in a list.\"\"\"\n",
    "\n",
    "def recursive_sum(arr):\n",
    "    if not arr:\n",
    "        return 0\n",
    "    else:\n",
    "        return arr[0] + recursive_sum(arr[1:])\n",
    "\n",
    "numbers = [int(x) for x in input(\"Enter a list of numbers separated by spaces: \").split()]\n",
    "result = recursive_sum(numbers)\n",
    "\n",
    "print(f\"The sum of the elements in the list is: {result}\")"
   ]
  },
  {
   "cell_type": "markdown",
   "id": "f16ec899",
   "metadata": {},
   "source": [
    "\"\"\"5. How can you prevent a recursive function from running indefinitely, causing a stack overflow error?\"\"\"\n",
    "\n",
    "\"\"\"\n",
    "Recursion in programming is like a set of Russian nesting dolls. Each doll contains a smaller one inside, and you \n",
    "keep opening them until you reach the smallest one. Similarly, in a recursive function, a problem is divided into \n",
    "smaller, more manageable parts. The function repeatedly calls itself, each time solving a smaller version of the \n",
    "problem. This continues until a base case is reached, which is like finding the smallest doll. \n",
    "At this point, the function stops calling itself and starts \"unwrapping\" the solutions, combining them to solve \n",
    "the original problem. However, if you forget to define the base case or if the function doesn't get closer to it\n",
    "with each call, it's like having nesting dolls that never end, leading to a stack overflow error, much like having \n",
    "too many dolls to open without end. So, proper recursion is all about breaking a problem into simpler parts and \n",
    "ensuring it eventually reaches a well-defined endpoint.\n",
    "\"\"\""
   ]
  },
  {
   "cell_type": "code",
   "execution_count": 102,
   "id": "9989bdcc",
   "metadata": {},
   "outputs": [
    {
     "name": "stdout",
     "output_type": "stream",
     "text": [
      "Enter the first number: 345\n",
      "Enter the second number: 5\n",
      "The GCD of 345 and 5 is: 5\n"
     ]
    }
   ],
   "source": [
    "\"\"\"6. Create a recursive Python function to find the greatest common divisor (GCD) of two numbers using \n",
    "the Euclidean algorithm.\"\"\"\n",
    "\n",
    "def gcd_euclidean(a, b):\n",
    "    if b == 0:\n",
    "        return a\n",
    "    else:\n",
    "        return gcd_euclidean(b, a % b)\n",
    "\n",
    "a = int(input(\"Enter the first number: \"))\n",
    "b = int(input(\"Enter the second number: \"))\n",
    "result = gcd_euclidean(a, b)\n",
    "\n",
    "print(f\"The GCD of {a} and {b} is: {result}\")"
   ]
  },
  {
   "cell_type": "code",
   "execution_count": 103,
   "id": "09074648",
   "metadata": {},
   "outputs": [
    {
     "name": "stdout",
     "output_type": "stream",
     "text": [
      "Enter a string: PwSkills\n",
      "The reversed string is: sllikSwP\n"
     ]
    }
   ],
   "source": [
    "\"\"\"7. Write a recursive Python function to reverse a string.\"\"\"\n",
    "\n",
    "def reverse_string(s):\n",
    "    if len(s) == 0:\n",
    "        return s\n",
    "    else:\n",
    "        return reverse_string(s[1:]) + s[0]\n",
    "\n",
    "input_string = input(\"Enter a string: \")\n",
    "result = reverse_string(input_string)\n",
    "\n",
    "print(f\"The reversed string is: {result}\")"
   ]
  },
  {
   "cell_type": "code",
   "execution_count": 105,
   "id": "53fdb9b7",
   "metadata": {},
   "outputs": [
    {
     "name": "stdout",
     "output_type": "stream",
     "text": [
      "Enter the base (x): 2\n",
      "Enter the exponent (n): 45\n",
      "2.0^45 is: 35184372088832.0\n"
     ]
    }
   ],
   "source": [
    "\"\"\"8. Create a recursive Python function to calculate the power of a number (x^n).\"\"\"\n",
    "\n",
    "def power(x, n):\n",
    "    if n == 0:\n",
    "        return 1\n",
    "    elif n < 0:\n",
    "        return 1 / power(x, -n)\n",
    "    else:\n",
    "        return x * power(x, n - 1)\n",
    "\n",
    "x = float(input(\"Enter the base (x): \"))\n",
    "n = int(input(\"Enter the exponent (n): \"))\n",
    "\n",
    "result = power(x, n)\n",
    "print(f\"{x}^{n} is: {result}\")"
   ]
  },
  {
   "cell_type": "code",
   "execution_count": 107,
   "id": "19e54538",
   "metadata": {
    "scrolled": false
   },
   "outputs": [
    {
     "name": "stdout",
     "output_type": "stream",
     "text": [
      "Enter a string: APE\n",
      "All permutations of 'APE':\n",
      "APE\n",
      "AEP\n",
      "PAE\n",
      "PEA\n",
      "EAP\n",
      "EPA\n"
     ]
    }
   ],
   "source": [
    "\"\"\"9. Write a recursive Python function to find all permutations of a given string.\"\"\"\n",
    "\n",
    "def get_permutations(s):\n",
    "    if len(s) <= 1:\n",
    "        return [s]\n",
    "\n",
    "    all_permutations = []\n",
    "    for i, char in enumerate(s):\n",
    "        remaining_chars = s[:i] + s[i + 1:]\n",
    "        for sub_permutation in get_permutations(remaining_chars):\n",
    "            all_permutations.append(char + sub_permutation)\n",
    "\n",
    "    return all_permutations\n",
    "\n",
    "input_string = input(\"Enter a string: \")\n",
    "permutations = get_permutations(input_string)\n",
    "\n",
    "print(f\"All permutations of '{input_string}':\")\n",
    "for perm in permutations:\n",
    "    print(perm)"
   ]
  },
  {
   "cell_type": "code",
   "execution_count": 112,
   "id": "1c31750e",
   "metadata": {},
   "outputs": [
    {
     "name": "stdout",
     "output_type": "stream",
     "text": [
      "Enter a string: Malayalam\n",
      "'malayalam' is a palindrome.\n"
     ]
    }
   ],
   "source": [
    "\"\"\"10. Write a recursive Python function to check if a string is a palindrome.\"\"\"\n",
    "\n",
    "def is_palindrome(s):\n",
    "    s = s.lower()  \n",
    "    s = ''.join(c for c in s if c.isalnum())  \n",
    "    \n",
    "    if len(s) <= 1:\n",
    "        return True\n",
    "    if s[0] == s[-1]:\n",
    "        return is_palindrome(s[1:-1])\n",
    "    else:\n",
    "        return False\n",
    "\n",
    "input_string = input(\"Enter a string: \").lower()\n",
    "\n",
    "if is_palindrome(input_string):\n",
    "    print(f\"'{input_string}' is a palindrome.\")\n",
    "else:\n",
    "    print(f\"'{input_string}' is not a palindrome.\")"
   ]
  },
  {
   "cell_type": "code",
   "execution_count": 109,
   "id": "18871571",
   "metadata": {},
   "outputs": [
    {
     "name": "stdout",
     "output_type": "stream",
     "text": [
      "Enter elements separated by spaces: ACE LUFFY PwSkills\n",
      "Enter the combination size (k): 2\n",
      "All 2-element combinations of ['ACE', 'LUFFY', 'PwSkills']:\n",
      "['LUFFY', 'PwSkills']\n",
      "['ACE', 'PwSkills']\n",
      "['ACE', 'LUFFY']\n"
     ]
    }
   ],
   "source": [
    "\"\"\"11. Create a recursive Python function to generate all possible combinations of a list of elements.\"\"\"\n",
    "\n",
    "def get_combinations(elements, k):\n",
    "    if k == 0:\n",
    "        return [[]]\n",
    "    if not elements:\n",
    "        return []\n",
    "    \n",
    "    element, rest = elements[0], elements[1:]\n",
    "    combinations = get_combinations(rest, k)  # Exclude the current element\n",
    "    combinations += [([element] + combo) for combo in get_combinations(rest, k - 1)]  # Include the current element\n",
    "\n",
    "    return combinations\n",
    "\n",
    "elements = input(\"Enter elements separated by spaces: \").split()\n",
    "k = int(input(\"Enter the combination size (k): \"))\n",
    "\n",
    "combinations = get_combinations(elements, k)\n",
    "print(f\"All {k}-element combinations of {elements}:\")\n",
    "for combo in combinations:\n",
    "    print(combo)"
   ]
  },
  {
   "cell_type": "markdown",
   "id": "9263a113",
   "metadata": {},
   "source": [
    "# Basics of Functions:"
   ]
  },
  {
   "cell_type": "markdown",
   "id": "1403075b",
   "metadata": {},
   "source": [
    "1. What is a function in Python, and why is it used?\n",
    "\n",
    "\"\"\"\n",
    "In Python, a function is a block of reusable and organized code that performs a specific task or set of tasks. \n",
    "Functions are defined using the def keyword, and they have a name, a set of parameters (or arguments), and a block \n",
    "of code that is executed when the function is called.\n",
    "\"\"\"\n",
    "\n",
    "\"\"\"\n",
    "Functions in Python serve several important purposes:\n",
    "\n",
    "-> Modularity and Reusability: Functions allow you to break down a program into smaller, more manageable parts. \n",
    "This makes your code more modular, easier to understand, and more maintainable. You can reuse functions in \n",
    "different parts of your code, reducing redundancy.\n",
    "\n",
    "-> Abstraction: Functions provide an abstraction layer. You can call a function without needing to know how it's \n",
    "implemented. This simplifies the use of complex operations, as you can focus on what the function does rather than \n",
    "how it does it.\n",
    "\n",
    "-> Encapsulation: Functions can encapsulate a specific piece of functionality, making your code more organized and \n",
    "reducing the risk of naming conflicts. Variables defined inside a function are local to that function, which helps\n",
    "prevent unintended side effects.\n",
    "\n",
    "-> Code Readability: Using functions makes your code more readable and self-explanatory. Descriptive function \n",
    "names and well-defined input and output parameters improve code documentation and make it easier for others (and \n",
    "your future self) to understand the code.\n",
    "\n",
    "-> Testing and Debugging: Functions make it easier to test and debug your code because you can isolate specific \n",
    "parts of your program and verify their correctness independently.\n",
    "\n",
    "-> Maintainability: Functions make it easier to maintain and update your code. If you need to change how a \n",
    "specific task is performed, you can update the function without affecting other parts of your program.\n",
    "\"\"\""
   ]
  },
  {
   "cell_type": "markdown",
   "id": "f7fbaead",
   "metadata": {},
   "source": [
    "2. How do you define a function in Python? Provide an example.\n",
    "\n",
    "\"\"\"\n",
    "In Python, you can define a function using the def keyword, followed by the function name and a pair of \n",
    "parentheses. The function name should follow Python's naming rules, and the parentheses can contain optional \n",
    "parameters (arguments) that the function can accept. Here's the basic syntax for defining a function:\n",
    "\n",
    "def function_name(parameter1, parameter2, ...):\n",
    "    # Function body\n",
    "    # Perform some tasks here\n",
    "    return result  # Optional, can return a value\n",
    "\n",
    "\"\"\""
   ]
  },
  {
   "cell_type": "markdown",
   "id": "37a8eb26",
   "metadata": {},
   "source": [
    "3. Explain the difference between a function definition and a function call.\n",
    "\n",
    "\"\"\"\n",
    "Function Definition:\n",
    "\n",
    "-> A function definition is the part of your code where you create a new function. It defines the function's name, \n",
    "parameters (if any), and the code that the function will execute.\n",
    "-> A function definition is essentially creating a reusable code block that can be invoked (called) later \n",
    "in your program.\n",
    "-> Function definitions typically start with the def keyword, followed by the function name, and, if applicable, \n",
    "a list of parameters enclosed in parentheses, followed by a colon.\n",
    "-> The body of the function is indented and contains the code that specifies what the function does.\n",
    "-> Function definitions do not execute the code within them; they only define what the function will do when \n",
    "called.\n",
    "\n",
    "Eg)\n",
    "\n",
    "def add_numbers(a, b):\n",
    "    result = a + b\n",
    "    return result\n",
    "\n",
    "\"\"\"\n",
    "\n",
    "\"\"\"\n",
    "Function Call:\n",
    "\n",
    "-> A function call is the part of your code where you actually use or invoke the function you've defined. \n",
    "It's where you ask Python to execute the code inside the function.\n",
    "-> To call a function, you use the function's name followed by parentheses, and you may provide arguments (values) \n",
    "for the function's parameters within the parentheses.\n",
    "-> When a function is called, the code inside the function definition is executed, and any values computed by \n",
    "the function may be returned to the caller.\n",
    "-> Function calls result in the execution of the code within the function and can produce side effects or \n",
    "return values that can be used in your program.\n",
    "\n",
    "Eg)\n",
    "\n",
    "sum_result = add_numbers(5, 3)\n",
    "\n",
    "\"\"\""
   ]
  },
  {
   "cell_type": "code",
   "execution_count": 114,
   "id": "7b163214",
   "metadata": {},
   "outputs": [
    {
     "name": "stdout",
     "output_type": "stream",
     "text": [
      "8\n"
     ]
    }
   ],
   "source": [
    "\"\"\"4. Write a Python program that defines a function to calculate the sum of two numbers and then calls \n",
    "the function.\"\"\"\n",
    "\n",
    "def add_numbers(a, b):\n",
    "    result = a + b\n",
    "    return result\n",
    "\n",
    "sum_result = add_numbers(5, 3)\n",
    "\n",
    "print(sum_result)"
   ]
  },
  {
   "cell_type": "markdown",
   "id": "fc1a912a",
   "metadata": {},
   "source": [
    "5. What is a function signature, and what information does it typically include?\n",
    "\n",
    "\"\"\"\n",
    "A function signature in programming is a concise declaration that specifies the essential details of a function's \n",
    "interface. It typically includes the function's name, return type (the type of value it returns, if any), a list of\n",
    "parameters (input values), and their data types. The order of parameters in the signature determines the expected \n",
    "order when calling the function. In some languages, optional modifiers like access control keywords or \n",
    "virtual/static attributes may be included.\n",
    "\n",
    "\n",
    "For example, in the C/C++ function signature int add_numbers(int a, int b), \"add_numbers\" is the function name, \n",
    "\"int\" is the return type, and it takes two integer parameters, \"a\" and \"b.\" The order matters, so \"a\" should be \n",
    "the first argument when calling the function. Function signatures serve as a contract, documenting how to use\n",
    "the function correctly, and are vital for code readability and maintainability.\n",
    "\"\"\""
   ]
  },
  {
   "cell_type": "code",
   "execution_count": 115,
   "id": "ecfef83a",
   "metadata": {},
   "outputs": [
    {
     "name": "stdout",
     "output_type": "stream",
     "text": [
      "15\n"
     ]
    }
   ],
   "source": [
    "\"\"\"6. Create a Python function that takes two arguments and returns their product.\"\"\"\n",
    "\n",
    "def prod_numbers(a, b):\n",
    "    result = a * b\n",
    "    return result\n",
    "\n",
    "prod_result = prod_numbers(5, 3)\n",
    "\n",
    "print(prod_result)"
   ]
  },
  {
   "cell_type": "markdown",
   "id": "244e9d11",
   "metadata": {},
   "source": [
    "# Function Parameters and Arguments"
   ]
  },
  {
   "cell_type": "markdown",
   "id": "a63cf10e",
   "metadata": {},
   "source": [
    "1. Explain the concepts of formal parameters and actual arguments in Python functions.\n",
    "\n",
    "\n",
    "\"\"\"\n",
    "In Python functions, formal parameters and actual arguments play distinct roles. Formal parameters are placeholders\n",
    "in a function's definition, representing the values it expects when called. They serve as local variables within \n",
    "the function and act as receptacles for input values. Actual arguments, on the other hand, are the specific values \n",
    "or expressions provided when calling a function. These values are passed to the function to populate the formal \n",
    "parameters.\n",
    "\n",
    "For instance, in a function like def calculate_sum(a, b):, \"a\" and \"b\" are formal parameters. When you call the \n",
    "function with calculate_sum(5, 3), the values \"5\" and \"3\" are the actual arguments, and they are assigned to the \n",
    "corresponding formal parameters \"a\" and \"b\" within the function's scope.\n",
    "\n",
    "The interaction between formal parameters and actual arguments allows functions to receive and process different \n",
    "data, making them versatile and reusable. Python supports various ways of passing arguments, such as positional, \n",
    "keyword, default, and variable-length arguments, enhancing the flexibility and expressiveness of functions.\n",
    "\"\"\""
   ]
  },
  {
   "cell_type": "code",
   "execution_count": 117,
   "id": "32c95b1f",
   "metadata": {},
   "outputs": [
    {
     "name": "stdout",
     "output_type": "stream",
     "text": [
      "Name: Alice\n",
      "Age: 30\n",
      "City: New York\n",
      "-----\n",
      "Name: Bob\n",
      "Age: 25\n",
      "City: Los Angeles\n"
     ]
    }
   ],
   "source": [
    "\"\"\"2. Write a Python program that defines a function with default argument values.\"\"\"\n",
    "\n",
    "def print_info(name, age, city):\n",
    "    print(f\"Name: {name}\")\n",
    "    print(f\"Age: {age}\")\n",
    "    print(f\"City: {city}\")\n",
    "\n",
    "print_info(name=\"Alice\", age=30, city=\"New York\")\n",
    "print(\"-----\")\n",
    "print_info(age=25, city=\"Los Angeles\", name=\"Bob\")"
   ]
  },
  {
   "cell_type": "code",
   "execution_count": 118,
   "id": "4d153368",
   "metadata": {},
   "outputs": [
    {
     "name": "stdout",
     "output_type": "stream",
     "text": [
      "Name: Alice\n",
      "Age: 30\n",
      "City: New York\n"
     ]
    }
   ],
   "source": [
    "\"\"\"3. How do you use keyword arguments in Python function calls? Provide an example\"\"\"\n",
    "\n",
    "\"\"\"\n",
    "In Python, you can use keyword arguments in function calls by specifying the argument names along with their values.\n",
    "This allows you to provide arguments out of order and makes your code more readable. \n",
    "\n",
    "Here's an example:\n",
    "\"\"\"\n",
    "\n",
    "def print_info(name, age, city):\n",
    "    print(f\"Name: {name}\")\n",
    "    print(f\"Age: {age}\")\n",
    "    print(f\"City: {city}\")\n",
    "\n",
    "print_info(name=\"Alice\", age=30, city=\"New York\")"
   ]
  },
  {
   "cell_type": "code",
   "execution_count": 120,
   "id": "eea0134c",
   "metadata": {},
   "outputs": [
    {
     "name": "stdout",
     "output_type": "stream",
     "text": [
      "Result 1: 8\n",
      "Result 2: 150\n"
     ]
    }
   ],
   "source": [
    "\"\"\"4. Create a Python function that accepts a variable number of arguments and calculates their sum.\"\"\"\n",
    "\n",
    "def calculate_sum(*args):\n",
    "    total = 0\n",
    "    for i in args:\n",
    "        total += i\n",
    "    return total\n",
    "\n",
    "result1 = calculate_sum(5, 3)\n",
    "result2 = calculate_sum(10, 20, 30, 40, 50)\n",
    "\n",
    "print(\"Result 1:\", result1)\n",
    "print(\"Result 2:\", result2)  "
   ]
  },
  {
   "cell_type": "markdown",
   "id": "1711097c",
   "metadata": {},
   "source": [
    "5. What is the purpose of the `*args` and `**kwargs` syntax in function parameter lists?\n",
    "\n",
    "\"\"\"\n",
    "*args (Arbitrary Positional Arguments):\n",
    "\n",
    "-> *args is used to allow a function to accept a variable number of positional arguments. \n",
    "The * operator is used to collect any number of positional arguments into a tuple within the function.\n",
    "-> It is often used when you don't know in advance how many arguments the function will receive.\n",
    "\n",
    "Example: \n",
    "\n",
    "def print_args(*args):\n",
    "    for arg in args:\n",
    "        print(arg)\n",
    "\n",
    "\"\"\"\n",
    "\n",
    "\"\"\"\n",
    "**kwargs (Arbitrary Keyword Arguments):\n",
    "\n",
    "-> **kwargs is used to allow a function to accept a variable number of keyword arguments. \n",
    "The ** operator is used to collect keyword arguments into a dictionary within the function.\n",
    "-> It is useful when you want to pass named arguments to a function without knowing all the argument names \n",
    "in advance.\n",
    "\n",
    "Example:\n",
    "\n",
    "def print_kwargs(**kwargs):\n",
    "    for key, value in kwargs.items():\n",
    "        print(f\"{key}: {value}\")\n",
    "\n",
    "\"\"\""
   ]
  },
  {
   "cell_type": "markdown",
   "id": "182e5d97",
   "metadata": {},
   "source": [
    "# Return Values and Scoping:"
   ]
  },
  {
   "cell_type": "code",
   "execution_count": 121,
   "id": "04d22539",
   "metadata": {},
   "outputs": [
    {
     "name": "stdout",
     "output_type": "stream",
     "text": [
      "The square of 5 is: 25\n"
     ]
    }
   ],
   "source": [
    "# 1. Describe the role of the `return` statement in Python functions and provide example\n",
    "\n",
    "\"\"\"\n",
    "The return statement in Python functions serves the role of specifying the value that the function should \n",
    "produce as its result. It is used to exit the function and pass a value back to the caller. \n",
    "When a return statement is encountered in a function, the function's execution is terminated, and the specified \n",
    "value is returned to the caller.\n",
    "\n",
    "\"\"\"\n",
    "def square(x):\n",
    "    result = x * x\n",
    "    return result \n",
    "\n",
    "squared_value = square(5)\n",
    "print(f\"The square of 5 is: {squared_value}\")"
   ]
  },
  {
   "cell_type": "markdown",
   "id": "cf232c2a",
   "metadata": {},
   "source": [
    "2. Explain the concept of variable scope in Python, including local and global variables.\n",
    "\n",
    "\n",
    "\"\"\"\n",
    "Local Variables:\n",
    "\n",
    "-> Local variables are defined inside a function or block and are accessible only within that specific function or\n",
    "block.\n",
    "-> They have local scope, which means they are only visible and usable within the context of the function or block \n",
    "in which they are defined.\n",
    "-> Local variables are created when the function is called and destroyed when the function exits, making them t\n",
    "emporary.\n",
    "-> Attempting to access a local variable outside of its scope will result in a NameError.\n",
    "\n",
    "\n",
    "Global Variables:\n",
    "\n",
    "-> Global variables are defined outside of any function or block, at the top level of a script or module.\n",
    "-> They have global scope, which means they are accessible from anywhere in the program, including within functions.\n",
    "-> Global variables persist throughout the program's execution, and changes made to them within functions affect \n",
    "their value globally.\n",
    "-> When you want to use a global variable inside a function, you can either reference it directly or use the global keyword to explicitly indicate that you intend to modify the global variable.\n",
    "\"\"\""
   ]
  },
  {
   "cell_type": "code",
   "execution_count": 122,
   "id": "b7ea8e59",
   "metadata": {},
   "outputs": [
    {
     "name": "stdout",
     "output_type": "stream",
     "text": [
      "Inside access_global:\n",
      "global_var: 20\n",
      "\n",
      "Outside the functions:\n",
      "global_var: 20\n"
     ]
    }
   ],
   "source": [
    "\"\"\"3. Write a Python program that demonstrates the use of global variables within functions.\"\"\"\n",
    "\n",
    "# Global variable\n",
    "global_var = 10\n",
    "\n",
    "# Function to modify the global variable\n",
    "def modify_global():\n",
    "    # Using the 'global' keyword to indicate that we want to modify the global variable\n",
    "    global global_var\n",
    "    global_var = 20\n",
    "\n",
    "# Function to access the global variable\n",
    "def access_global():\n",
    "    print(\"Inside access_global:\")\n",
    "    print(\"global_var:\", global_var)  # Accessing the global variable\n",
    "\n",
    "modify_global()\n",
    "\n",
    "access_global()\n",
    "\n",
    "print(\"\\nOutside the functions:\")\n",
    "print(\"global_var:\", global_var)"
   ]
  },
  {
   "cell_type": "code",
   "execution_count": 123,
   "id": "756d8eb4",
   "metadata": {},
   "outputs": [
    {
     "name": "stdout",
     "output_type": "stream",
     "text": [
      "The factorial of 5 is: 120\n"
     ]
    }
   ],
   "source": [
    "\"\"\"4. Create a Python function that calculates the factorial of a number and returns it.\"\"\"\n",
    "\n",
    "def factorial(n):\n",
    "    if n == 0:\n",
    "        return 1  # Base case: 0! = 1\n",
    "    else:\n",
    "        return n * factorial(n - 1)\n",
    "\n",
    "result = factorial(5)\n",
    "\n",
    "print(\"The factorial of 5 is:\", result)"
   ]
  },
  {
   "cell_type": "code",
   "execution_count": 124,
   "id": "0dde2f9f",
   "metadata": {},
   "outputs": [
    {
     "name": "stdout",
     "output_type": "stream",
     "text": [
      "Inside the function:\n",
      "global_var: 10\n",
      "\n",
      "Outside the function:\n",
      "global_var: 10\n"
     ]
    }
   ],
   "source": [
    "\"\"\"5. How can you access variables defined outside a function from within the function?\"\"\"\n",
    "\n",
    "global_var = 10\n",
    "def access_global():\n",
    "    print(\"Inside the function:\")\n",
    "    print(\"global_var:\", global_var)  # Accessing the global variable\n",
    "\n",
    "access_global()\n",
    "\n",
    "# Access global_var outside the function\n",
    "print(\"\\nOutside the function:\")\n",
    "print(\"global_var:\", global_var)"
   ]
  },
  {
   "cell_type": "markdown",
   "id": "700fc9e5",
   "metadata": {},
   "source": [
    "# Lambda Functions and Higher-Order Functions:\n"
   ]
  },
  {
   "cell_type": "markdown",
   "id": "bd350e74",
   "metadata": {},
   "source": [
    "1. What are lambda functions in Python, and when are they typically used?\n",
    "\n",
    "\"\"\"\n",
    "Lambda functions in Python, also known as anonymous functions or lambda expressions, are small, unnamed functions \n",
    "that can have any number of arguments but can only have one expression. They are typically used for simple, \n",
    "single-line operations and are defined using the lambda keyword. Lambda functions are often used in situations \n",
    "where a short, throwaway function is needed, and there's no need to define a full-fledged function using def. \n",
    "\n",
    "Here's the general syntax of a lambda function:\n",
    "\n",
    "lambda arguments: expression\n",
    "\n",
    "\"\"\""
   ]
  },
  {
   "cell_type": "code",
   "execution_count": 125,
   "id": "94dcfb49",
   "metadata": {},
   "outputs": [
    {
     "name": "stdout",
     "output_type": "stream",
     "text": [
      "[(4, 1), (3, 2), (1, 5), (2, 8)]\n"
     ]
    }
   ],
   "source": [
    "\"\"\"2. Write a Python program that uses lambda functions to sort a list of tuples based on the second element.\"\"\"\n",
    "\n",
    "tuples_list = [(1, 5), (3, 2), (2, 8), (4, 1)]\n",
    "sorted_list = sorted(tuples_list, key=lambda x: x[1])\n",
    "\n",
    "print(sorted_list)"
   ]
  },
  {
   "cell_type": "code",
   "execution_count": 126,
   "id": "38ee3fdc",
   "metadata": {},
   "outputs": [
    {
     "name": "stdout",
     "output_type": "stream",
     "text": [
      "Result 1: 8\n",
      "Result 2: 6\n",
      "Result 3: 12\n"
     ]
    }
   ],
   "source": [
    "\"\"\"3. Explain the concept of higher-order functions in Python, and provide an example.\"\"\"\n",
    "\n",
    "\"\"\"\n",
    "Higher-order functions in Python are functions that can accept other functions as arguments, return functions as \n",
    "results, or both. This concept is a fundamental part of functional programming and provides flexibility in how you \n",
    "work with functions and data. Higher-order functions allow you to abstract and manipulate behavior, making your \n",
    "code more modular and expressive.\n",
    "\n",
    "Here's an example of a higher-order function in Python:\n",
    "\"\"\"\n",
    "\n",
    "def apply_operation(operation, x, y):\n",
    "    return operation(x, y)\n",
    "\n",
    "def add(a, b):\n",
    "    return a + b\n",
    "\n",
    "def subtract(a, b):\n",
    "    return a - b\n",
    "\n",
    "def multiply(a, b):\n",
    "    return a * b\n",
    "\n",
    "result1 = apply_operation(add, 5, 3)\n",
    "result2 = apply_operation(subtract, 10, 4)\n",
    "result3 = apply_operation(multiply, 6, 2)\n",
    "\n",
    "print(\"Result 1:\", result1)  # 5 + 3 = 8\n",
    "print(\"Result 2:\", result2)  # 10 - 4 = 6\n",
    "print(\"Result 3:\", result3)  # 6 * 2 = 12"
   ]
  },
  {
   "cell_type": "code",
   "execution_count": 127,
   "id": "fecae309",
   "metadata": {},
   "outputs": [
    {
     "name": "stdout",
     "output_type": "stream",
     "text": [
      "Original List: [1, 2, 3, 4, 5]\n",
      "Squared List: [1, 4, 9, 16, 25]\n"
     ]
    }
   ],
   "source": [
    "\"\"\"4. Create a Python function that takes a list of numbers and a function as arguments, applying the function to \n",
    "each element in the list.\"\"\"\n",
    "\n",
    "def apply_function_to_list(numbers, func):\n",
    "    result = []\n",
    "    for num in numbers:\n",
    "        result.append(func(num))\n",
    "    return result\n",
    "\n",
    "def square(x):\n",
    "    return x * x\n",
    "\n",
    "numbers = [1, 2, 3, 4, 5]\n",
    "squared_numbers = apply_function_to_list(numbers, square)\n",
    "\n",
    "print(\"Original List:\", numbers)\n",
    "print(\"Squared List:\", squared_numbers)"
   ]
  },
  {
   "cell_type": "markdown",
   "id": "dbf85440",
   "metadata": {},
   "source": [
    "# Built-in Functions:\n"
   ]
  },
  {
   "cell_type": "markdown",
   "id": "429a1d72",
   "metadata": {},
   "source": [
    "1. Describe the role of built-in functions like `len()`, `max()`, and `min()` in Python.\n",
    "\n",
    "\"\"\"\n",
    "len():\n",
    "\n",
    "-> The len() function is used to determine the length or the number of elements in an iterable or the number \n",
    "of characters in a string.\n",
    "-> It takes a single argument, which can be an iterable (e.g., a list or a string), and returns an integer \n",
    "representing the length of that iterable.\n",
    "\"\"\"\n",
    "\n",
    "\"\"\"\n",
    "max():\n",
    "\n",
    "-> The max() function is used to find the maximum (largest) value among a set of values.\n",
    "-> It can take multiple arguments or an iterable and returns the maximum value.\n",
    "\"\"\"\n",
    "\n",
    "\"\"\"\n",
    "min():\n",
    "\n",
    "-> The min() function is used to find the minimum (smallest) value among a set of values.\n",
    "-> Like max(), it can take multiple arguments or an iterable and returns the minimum value.\n",
    "\"\"\""
   ]
  },
  {
   "cell_type": "code",
   "execution_count": 128,
   "id": "787a800d",
   "metadata": {},
   "outputs": [
    {
     "name": "stdout",
     "output_type": "stream",
     "text": [
      "Original List: [1, 2, 3, 4, 5]\n",
      "Doubled List: [2, 4, 6, 8, 10]\n"
     ]
    }
   ],
   "source": [
    "\"\"\"2. Write a Python program that uses the `map()` function to apply a function to each element of a list.\"\"\"\n",
    "\n",
    "def double(x):\n",
    "    return x * 2\n",
    "\n",
    "numbers = [1, 2, 3, 4, 5]\n",
    "\n",
    "doubled_numbers = list(map(double, numbers))\n",
    "\n",
    "print(\"Original List:\", numbers)\n",
    "print(\"Doubled List:\", doubled_numbers)"
   ]
  },
  {
   "cell_type": "markdown",
   "id": "3246e1f7",
   "metadata": {},
   "source": [
    "3. How does the `filter()` function work in Python, and when would you use it?\n",
    "\n",
    "\"\"\"\n",
    "The filter() function in Python is used to filter elements from an iterable (e.g., a list, tuple, or string) \n",
    "based on a specified condition or a filtering function. It returns an iterable containing only the elements that \n",
    "meet the condition.\n",
    "\n",
    "The general syntax of the filter() function is as follows:\n",
    "\n",
    "filter(function, iterable)\n",
    "\"\"\"\n",
    "\n",
    "\"\"\"\n",
    "Common use cases for the filter() function include:\n",
    "\n",
    "-> Filtering a list of values to include only those that satisfy a specific condition.\n",
    "-> Removing elements from a list that do not meet certain criteria.\n",
    "-> Selecting elements from a dataset that match a particular pattern or condition.\n",
    "\"\"\""
   ]
  },
  {
   "cell_type": "code",
   "execution_count": 129,
   "id": "75da3ed7",
   "metadata": {},
   "outputs": [
    {
     "name": "stdout",
     "output_type": "stream",
     "text": [
      "List: [2, 3, 4, 5]\n",
      "Product: 120\n"
     ]
    }
   ],
   "source": [
    "\"\"\"4. Create a Python program that uses the `reduce()` function to find the product of all elements in a list.\"\"\"\n",
    "\n",
    "from functools import reduce\n",
    "\n",
    "def multiply(x, y):\n",
    "    return x * y\n",
    "\n",
    "numbers = [2, 3, 4, 5]\n",
    "product = reduce(multiply, numbers)\n",
    "\n",
    "print(\"List:\", numbers)\n",
    "print(\"Product:\", product)"
   ]
  },
  {
   "cell_type": "markdown",
   "id": "05372da4",
   "metadata": {},
   "source": [
    "# Function Documentation and Best Practices:\n"
   ]
  },
  {
   "cell_type": "code",
   "execution_count": 130,
   "id": "e346ed19",
   "metadata": {},
   "outputs": [],
   "source": [
    "# 1. Explain the purpose of docstrings in Python functions and how to write them.\n",
    "\n",
    "\"\"\"\n",
    "Docstrings in Python are used to provide documentation or descriptions for functions, classes, modules, or methods.\n",
    "They serve as a way to explain what the code does, describe the purpose of the function, list its parameters, and \n",
    "provide information about its return values. Docstrings are invaluable for code maintainability, readability, and \n",
    "for helping others understand and use your code. They can also be accessed programmatically through tools like \n",
    "help() or documentation generators.\n",
    "\n",
    "To write docstrings for Python functions, follow these conventions:\n",
    "\n",
    "-> Place the docstring immediately below the function definition inside triple quotes (single or double) at the beginning of the function body.\n",
    "\n",
    "-> Use a triple-quoted string (multi-line string) to allow for more extensive documentation.\n",
    "\n",
    "-> Start the docstring with a one-line summary describing the function's purpose.\n",
    "\n",
    "-> Optionally, provide more detailed explanations, list parameters, describe return values, and include any \n",
    "necessary information that helps users understand the function's behavior.\n",
    "\n",
    "Here's an example of a function with a docstring:\n",
    "\n",
    "\"\"\"\n",
    "\n",
    "def calculate_sum(a, b):\n",
    "    \"\"\"\n",
    "    Calculate the sum of two numbers.\n",
    "\n",
    "    Args:\n",
    "    a (int): The first number.\n",
    "    b (int): The second number.\n",
    "\n",
    "    Returns:\n",
    "    int: The sum of the two numbers.\n",
    "    \"\"\"\n",
    "    result = a + b\n",
    "    return result"
   ]
  },
  {
   "cell_type": "markdown",
   "id": "520197fc",
   "metadata": {},
   "source": [
    "2. Describe some best practices for naming functions and variables in Python, including naming conventions and \n",
    "guidelines.\n",
    "\n",
    "\"\"\"\n",
    "In Python, adhering to naming conventions and best practices for functions and variables is crucial for writing \n",
    "clean and maintainable code. Descriptive and meaningful names should be chosen, avoiding cryptic or single-letter \n",
    "names. Variables and functions should use snake_case, while class names should use PascalCase. It's important to \n",
    "avoid using reserved words, maintain naming consistency, and use verbs for function names and nouns for variable \n",
    "names. Abbreviations should be used judiciously and be well-understood in the code's context. \n",
    "\n",
    "Constants are typically represented in UPPERCASE_WITH_UNDERSCORES. Adhering to PEP 8, Python's official style guide,\n",
    "is recommended for comprehensive naming conventions. Additionally, documentation, in the form of docstrings, \n",
    "helps provide clear explanations for functions and classes, making your code more understandable and collaborative. \n",
    "Considering the context and adhering to these guidelines will enhance the readability and maintainability of your \n",
    "Python code.\n",
    "\"\"\""
   ]
  }
 ],
 "metadata": {
  "kernelspec": {
   "display_name": "Python 3 (ipykernel)",
   "language": "python",
   "name": "python3"
  },
  "language_info": {
   "codemirror_mode": {
    "name": "ipython",
    "version": 3
   },
   "file_extension": ".py",
   "mimetype": "text/x-python",
   "name": "python",
   "nbconvert_exporter": "python",
   "pygments_lexer": "ipython3",
   "version": "3.11.5"
  }
 },
 "nbformat": 4,
 "nbformat_minor": 5
}
